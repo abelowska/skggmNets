{
 "cells": [
  {
   "cell_type": "markdown",
   "id": "ebfcb23b-5fe8-44c7-af08-e9c827454040",
   "metadata": {},
   "source": [
    "# Perform bootstrap to estimate stability of networks and network measures"
   ]
  },
  {
   "cell_type": "code",
   "execution_count": 1,
   "id": "7bc637e3-f121-45d5-898f-ad7de817ae5e",
   "metadata": {},
   "outputs": [],
   "source": [
    "from inverse_covariance import (\n",
    "    QuicGraphicalLasso,\n",
    "    QuicGraphicalLassoCV,\n",
    "    QuicGraphicalLassoEBIC,\n",
    "    AdaptiveGraphicalLasso,\n",
    "    ModelAverage,\n",
    ")\n",
    "\n",
    "import sys\n",
    "import numpy as np\n",
    "import tabulate\n",
    "import time\n",
    "\n",
    "import logging\n",
    "import copy\n",
    "\n",
    "from sklearn.model_selection import GridSearchCV\n",
    "from sklearn.datasets import make_sparse_spd_matrix\n",
    "from sklearn.covariance import GraphicalLassoCV, ledoit_wolf\n",
    "import matplotlib.pyplot as plt\n",
    "import os\n",
    "import sys\n",
    "import re\n",
    "import glob\n",
    "import ast\n",
    "import os.path as op\n",
    "import pickle\n",
    "import scipy\n",
    "import numpy as np\n",
    "import pandas as pd \n",
    "import seaborn as sns\n",
    "import matplotlib.pyplot as plt\n",
    "import scipy as sp\n",
    "\n",
    "from collections import defaultdict\n",
    "\n",
    "from copy import deepcopy\n",
    "import copy\n",
    "\n",
    "from sklearn.model_selection import train_test_split\n",
    "from sklearn.pipeline import Pipeline\n",
    "from sklearn.model_selection import KFold\n",
    "from sklearn.pipeline import Pipeline\n",
    "from sklearn.preprocessing import StandardScaler\n",
    "from sklearn.decomposition import PCA, FastICA\n",
    "from sklearn.utils import resample\n",
    "from sklearn.covariance import GraphicalLassoCV\n",
    "from sklearn.metrics.pairwise import cosine_similarity\n",
    "from sklearn.linear_model import LinearRegression\n",
    "\n",
    "from itertools import combinations\n",
    "from scipy.stats import ttest_ind\n",
    "\n",
    "from scipy.stats import pearsonr\n",
    "from scipy.spatial import distance\n",
    "import scipy.stats as stats\n",
    "\n",
    "import networkx as nx\n",
    "import glob, os\n",
    "from functools import partial\n",
    "\n",
    "from scipy.stats import pearsonr\n",
    "\n",
    "import pickle\n",
    "\n",
    "import warnings\n",
    "warnings.filterwarnings(\"ignore\")"
   ]
  },
  {
   "cell_type": "code",
   "execution_count": 2,
   "id": "a82e8855-6fd1-481c-98db-47996b0469ea",
   "metadata": {},
   "outputs": [],
   "source": [
    "def adaptive_model_average_sklearn(\n",
    "    X, \n",
    "    method, penalization='random', \n",
    "    n_trials=100, \n",
    "    metric='log_likelihood', \n",
    "    support_thresh=0.5, \n",
    "    cv=10, \n",
    "    lam=None, \n",
    "    alphas=np.logspace(-5, 1, num=20)\n",
    "):\n",
    "    \"\"\"Run ModelAverage in default mode (QuicGraphicalLassoCV) to obtain proportion\n",
    "    matrix.\n",
    "\n",
    "    NOTE:  Only method = 'binary' really makes sense in this case.\n",
    "    \"\"\"\n",
    "    n_trials = n_trials\n",
    "\n",
    "    if lam is None:\n",
    "        cv_model = GraphicalLassoCV(\n",
    "            alphas=alphas,\n",
    "            cv=cv\n",
    "        )\n",
    "        cv_model.fit(X)\n",
    "        lam = cv_model.alpha_\n",
    "    else:\n",
    "        lam = lam\n",
    "\n",
    "    model = AdaptiveGraphicalLasso(\n",
    "        estimator=ModelAverage(\n",
    "            n_trials=n_trials, \n",
    "            penalization=penalization, \n",
    "            lam=lam, \n",
    "            n_jobs=10, \n",
    "            support_thresh=support_thresh,\n",
    "            # subsample = 0.6,\n",
    "        ),\n",
    "        method=method,\n",
    "    )\n",
    "    model.fit(X)\n",
    "    lam_norm_ = np.linalg.norm(model.estimator_.lam_)\n",
    "    return model.estimator_.precision_"
   ]
  },
  {
   "cell_type": "code",
   "execution_count": 3,
   "id": "65a7eb06-4e57-48c0-8510-a0ea575717b0",
   "metadata": {},
   "outputs": [],
   "source": [
    "def learn_graph_structure_adaptive_average_sklearn(\n",
    "    df, \n",
    "    n_trials=100, \n",
    "    penalization='random',\n",
    "    score_metric=\"log_likelihood\", \n",
    "    cv=10, \n",
    "    lam=None,\n",
    "    threshold=0.5, \n",
    "    alphas=np.logspace(-5, 1, num=20)\n",
    "):\n",
    "    \n",
    "    # standardize the time series: using correlations rather than covariance\n",
    "    # former is more efficient for structure recovery\n",
    "    X = df.to_numpy()\n",
    "    X -= X.mean(axis=0)\n",
    "    X /= X.std(axis=0)\n",
    "\n",
    "    prec_adaptive = adaptive_model_average_sklearn(\n",
    "        X, \n",
    "        penalization='random',\n",
    "        method='binary', \n",
    "        n_trials=n_trials, \n",
    "        metric=score_metric,\n",
    "        support_thresh=threshold,\n",
    "        cv=cv,\n",
    "        lam=lam,\n",
    "        alphas=alphas,\n",
    "    )\n",
    "    \n",
    "    precision_matrix_df = pd.DataFrame(prec_adaptive, columns = df.columns, index = df.columns)\n",
    "            \n",
    "    return precision_matrix_df"
   ]
  },
  {
   "cell_type": "code",
   "execution_count": 4,
   "id": "f13b2244-c779-4931-aa0b-74d652ee360e",
   "metadata": {},
   "outputs": [],
   "source": [
    "def estimate_graph(\n",
    "    X, \n",
    "    n_trials=1000, \n",
    "    score_metric=\"log_likelihood\", \n",
    "    cv=3, \n",
    "    threshold=0.65, \n",
    "    alphas=np.linspace(0.01, 0.1, 20)\n",
    "):\n",
    "    precision_matrix_df = learn_graph_structure_adaptive_average_sklearn(\n",
    "            X, \n",
    "            penalization='random',\n",
    "            n_trials=n_trials,\n",
    "            score_metric=score_metric,\n",
    "            cv=cv,\n",
    "            lam=None,\n",
    "            alphas=alphas,\n",
    "            threshold=threshold,\n",
    "    )\n",
    "\n",
    "    this_links = get_links(precision_matrix_df)\n",
    "    this_links['weight'] = this_links['weight'].abs()\n",
    "    G_ = nx.from_pandas_edgelist(this_links,'var1','var2', edge_attr='weight', create_using=nx.Graph())\n",
    "    \n",
    "    return G_, precision_matrix_df"
   ]
  },
  {
   "cell_type": "markdown",
   "id": "afa9ca5f-7a56-46e8-b565-5ed81a6174d3",
   "metadata": {},
   "source": [
    "## Read data"
   ]
  },
  {
   "cell_type": "markdown",
   "id": "1e4a494c-1f5c-4230-ba45-90cbca6409e2",
   "metadata": {},
   "source": [
    "Define dataset"
   ]
  },
  {
   "cell_type": "code",
   "execution_count": 5,
   "id": "6645fbba-7011-4a9f-b4b3-5c70be7e57f9",
   "metadata": {},
   "outputs": [
    {
     "data": {
      "text/plain": [
       "'train'"
      ]
     },
     "execution_count": 5,
     "metadata": {},
     "output_type": "execute_result"
    }
   ],
   "source": [
    "test = False\n",
    "dataset = 'test' if test else 'train'\n",
    "dataset"
   ]
  },
  {
   "cell_type": "code",
   "execution_count": 6,
   "id": "d42c416a-064b-47cc-ba8e-d5c716dd10aa",
   "metadata": {},
   "outputs": [],
   "source": [
    "ern_data_df = pd.read_pickle(f\"data/models_pickles_new/ern_models_{dataset}.pkl\")\n",
    "ern_cov_fal_data_df = pd.read_pickle(f\"data/models_pickles_new/ern_cov_fal_models_{dataset}.pkl\")\n",
    "\n",
    "crn_data_df = pd.read_pickle(f\"data/models_pickles_new/crn_models_{dataset}.pkl\")\n",
    "crn_cov_fal2_data_df = pd.read_pickle(f\"data/models_pickles_new/crn_cov_fal2_models_{dataset}.pkl\")"
   ]
  },
  {
   "cell_type": "code",
   "execution_count": 7,
   "id": "c6be185f-50d6-42db-9624-779b26e64a1a",
   "metadata": {},
   "outputs": [],
   "source": [
    "if test:\n",
    "    display(crn_cov_fal2_data_df[crn_cov_fal2_data_df.isna().any(axis=1)])\n",
    "    crn_cov_fal2_data_df['e_LT_F2_C'] = crn_cov_fal2_data_df['e_LT_F2_C'].fillna(crn_cov_fal2_data_df['e_LT_F2_C'].mean())\n",
    "    display(crn_cov_fal2_data_df[crn_cov_fal2_data_df.isna().any(axis=1)])"
   ]
  },
  {
   "cell_type": "code",
   "execution_count": 8,
   "id": "633a88bd-7962-4aa4-bbbe-c9d42bd34d64",
   "metadata": {},
   "outputs": [],
   "source": [
    "datasets = [\n",
    "    ern_data_df, \n",
    "    ern_cov_fal_data_df, \n",
    "    crn_data_df,\n",
    "    crn_cov_fal2_data_df,\n",
    "]"
   ]
  },
  {
   "cell_type": "markdown",
   "id": "ff10a89a-c31d-40ee-9116-887659812061",
   "metadata": {},
   "source": [
    "Read test data"
   ]
  },
  {
   "cell_type": "code",
   "execution_count": 9,
   "id": "59d65e9f-bf9c-40e8-a0e6-fc9d799bb0ab",
   "metadata": {},
   "outputs": [
    {
     "data": {
      "text/html": [
       "<div>\n",
       "<style scoped>\n",
       "    .dataframe tbody tr th:only-of-type {\n",
       "        vertical-align: middle;\n",
       "    }\n",
       "\n",
       "    .dataframe tbody tr th {\n",
       "        vertical-align: top;\n",
       "    }\n",
       "\n",
       "    .dataframe thead th {\n",
       "        text-align: right;\n",
       "    }\n",
       "</style>\n",
       "<table border=\"1\" class=\"dataframe\">\n",
       "  <thead>\n",
       "    <tr style=\"text-align: right;\">\n",
       "      <th></th>\n",
       "      <th>e_CRN</th>\n",
       "      <th>e_LT_F2_C</th>\n",
       "      <th>Age</th>\n",
       "      <th>Sex</th>\n",
       "      <th>Handness</th>\n",
       "      <th>RRQ</th>\n",
       "      <th>DASS-21 Stress</th>\n",
       "      <th>DASS-21 Dep</th>\n",
       "      <th>STAI-T</th>\n",
       "      <th>STAI-S Diff</th>\n",
       "      <th>...</th>\n",
       "      <th>T-CTR</th>\n",
       "      <th>OB_PERF</th>\n",
       "      <th>PS</th>\n",
       "      <th>AMB</th>\n",
       "      <th>PRED</th>\n",
       "      <th>STAND</th>\n",
       "      <th>IUS-P</th>\n",
       "      <th>IUS-I</th>\n",
       "      <th>SES</th>\n",
       "      <th>performance</th>\n",
       "    </tr>\n",
       "  </thead>\n",
       "  <tbody>\n",
       "    <tr>\n",
       "      <th>98</th>\n",
       "      <td>0.000004</td>\n",
       "      <td>None</td>\n",
       "      <td>0.394473</td>\n",
       "      <td>0.0</td>\n",
       "      <td>1.0</td>\n",
       "      <td>4.17</td>\n",
       "      <td>3.0</td>\n",
       "      <td>2.14</td>\n",
       "      <td>2.65</td>\n",
       "      <td>-4.0</td>\n",
       "      <td>...</td>\n",
       "      <td>3.2</td>\n",
       "      <td>5.8</td>\n",
       "      <td>3.57</td>\n",
       "      <td>4.67</td>\n",
       "      <td>4.63</td>\n",
       "      <td>6.0</td>\n",
       "      <td>4.0</td>\n",
       "      <td>3.8</td>\n",
       "      <td>2.5</td>\n",
       "      <td>0.38665</td>\n",
       "    </tr>\n",
       "  </tbody>\n",
       "</table>\n",
       "<p>1 rows × 37 columns</p>\n",
       "</div>"
      ],
      "text/plain": [
       "       e_CRN e_LT_F2_C       Age  Sex  Handness   RRQ  DASS-21 Stress  \\\n",
       "98  0.000004      None  0.394473  0.0       1.0  4.17             3.0   \n",
       "\n",
       "    DASS-21 Dep  STAI-T  STAI-S Diff  ...  T-CTR  OB_PERF    PS   AMB  PRED  \\\n",
       "98         2.14    2.65         -4.0  ...    3.2      5.8  3.57  4.67  4.63   \n",
       "\n",
       "    STAND  IUS-P  IUS-I  SES  performance  \n",
       "98    6.0    4.0    3.8  2.5      0.38665  \n",
       "\n",
       "[1 rows x 37 columns]"
      ]
     },
     "metadata": {},
     "output_type": "display_data"
    },
    {
     "data": {
      "text/html": [
       "<div>\n",
       "<style scoped>\n",
       "    .dataframe tbody tr th:only-of-type {\n",
       "        vertical-align: middle;\n",
       "    }\n",
       "\n",
       "    .dataframe tbody tr th {\n",
       "        vertical-align: top;\n",
       "    }\n",
       "\n",
       "    .dataframe thead th {\n",
       "        text-align: right;\n",
       "    }\n",
       "</style>\n",
       "<table border=\"1\" class=\"dataframe\">\n",
       "  <thead>\n",
       "    <tr style=\"text-align: right;\">\n",
       "      <th></th>\n",
       "      <th>e_CRN</th>\n",
       "      <th>e_LT_F2_C</th>\n",
       "      <th>Age</th>\n",
       "      <th>Sex</th>\n",
       "      <th>Handness</th>\n",
       "      <th>RRQ</th>\n",
       "      <th>DASS-21 Stress</th>\n",
       "      <th>DASS-21 Dep</th>\n",
       "      <th>STAI-T</th>\n",
       "      <th>STAI-S Diff</th>\n",
       "      <th>...</th>\n",
       "      <th>T-CTR</th>\n",
       "      <th>OB_PERF</th>\n",
       "      <th>PS</th>\n",
       "      <th>AMB</th>\n",
       "      <th>PRED</th>\n",
       "      <th>STAND</th>\n",
       "      <th>IUS-P</th>\n",
       "      <th>IUS-I</th>\n",
       "      <th>SES</th>\n",
       "      <th>performance</th>\n",
       "    </tr>\n",
       "  </thead>\n",
       "  <tbody>\n",
       "  </tbody>\n",
       "</table>\n",
       "<p>0 rows × 37 columns</p>\n",
       "</div>"
      ],
      "text/plain": [
       "Empty DataFrame\n",
       "Columns: [e_CRN, e_LT_F2_C, Age, Sex, Handness, RRQ, DASS-21 Stress, DASS-21 Dep, STAI-T, STAI-S Diff, BIS, BAS_D, BAS_PRZY, BAS_NAG, WASH, OBSESS, HOARD, ORD, CHECK, NEU, OT, WBSI, INDEC_F, PUN, REW, HARM, G_SE, T-CTR, OB_PERF, PS, AMB, PRED, STAND, IUS-P, IUS-I, SES, performance]\n",
       "Index: []\n",
       "\n",
       "[0 rows x 37 columns]"
      ]
     },
     "metadata": {},
     "output_type": "display_data"
    }
   ],
   "source": [
    "ern_data_df_test = pd.read_pickle(f\"data/models_pickles_new/ern_models_test.pkl\")\n",
    "ern_cov_fal_data_df_test = pd.read_pickle(f\"data/models_pickles_new/ern_cov_fal_models_test.pkl\")\n",
    "\n",
    "crn_data_df_test = pd.read_pickle(f\"data/models_pickles_new/crn_models_test.pkl\")\n",
    "crn_cov_fal2_data_df_test = pd.read_pickle(f\"data/models_pickles_new/crn_cov_fal2_models_test.pkl\")\n",
    "\n",
    "display(crn_cov_fal2_data_df_test[crn_cov_fal2_data_df_test.isna().any(axis=1)])\n",
    "crn_cov_fal2_data_df_test['e_LT_F2_C'] = crn_cov_fal2_data_df_test['e_LT_F2_C'].fillna(crn_cov_fal2_data_df_test['e_LT_F2_C'].mean())\n",
    "display(crn_cov_fal2_data_df_test[crn_cov_fal2_data_df_test.isna().any(axis=1)])"
   ]
  },
  {
   "cell_type": "code",
   "execution_count": 10,
   "id": "83435e52-5558-4850-9a04-fa3cf67e8349",
   "metadata": {},
   "outputs": [],
   "source": [
    "test_datasets = [\n",
    "    ern_data_df_test, \n",
    "    ern_cov_fal_data_df_test, \n",
    "    crn_data_df_test,\n",
    "    crn_cov_fal2_data_df_test,\n",
    "]"
   ]
  },
  {
   "cell_type": "markdown",
   "id": "1db63dd7-69fc-461b-946a-c027f2b7bc17",
   "metadata": {},
   "source": [
    "## Perform full bootstrap"
   ]
  },
  {
   "cell_type": "code",
   "execution_count": 11,
   "id": "f828b80c-3d6f-433b-a2a5-4383fe11e1fc",
   "metadata": {},
   "outputs": [],
   "source": [
    "def bootstrap_network(\n",
    "    X, \n",
    "    model='adaptive_sklearn', \n",
    "    N=100, \n",
    "):\n",
    "    bootstrapped_matrices = []\n",
    "    n = len(X)\n",
    "    for i in range(N):\n",
    "        \n",
    "        # Generate a bootstrap sample\n",
    "        bootstrap_X = resample(X, n_samples=n, replace=True)\n",
    "        print(f'{i} iteration')\n",
    "        _, precision_matrix = estimate_graph(bootstrap_X)\n",
    "        bootstrapped_matrices.append(precision_matrix)\n",
    "            \n",
    "    return bootstrapped_matrices"
   ]
  },
  {
   "cell_type": "markdown",
   "id": "3c6f023e-6037-40b9-b2fe-b568f0f1b8e7",
   "metadata": {},
   "source": [
    "Perform bootstrapping"
   ]
  },
  {
   "cell_type": "code",
   "execution_count": null,
   "id": "31480903-4da2-40c3-9bb3-eacf8295c8d4",
   "metadata": {},
   "outputs": [],
   "source": [
    "logging.getLogger().setLevel(logging.INFO)\n",
    "\n",
    "for index, dataset in enumerate(datasets):\n",
    "    print(f'Estimating {index} dataset ######################')\n",
    "\n",
    "    bootstraped_precision_matrices = bootstrap_network(\n",
    "        X = dataset,\n",
    "        N=1000,\n",
    "    )\n",
    "\n",
    "    with open(f'data/bootstrap_results/bootstrap_precision_matrices_{index}.pkl', 'wb') as f:\n",
    "        pickle.dump(bootstraped_precision_matrices, f)"
   ]
  },
  {
   "cell_type": "markdown",
   "id": "63c74453-bb8b-41ef-98df-367133a9dcfa",
   "metadata": {},
   "source": [
    "## Estimate the stability of network measures using bootstrapping"
   ]
  },
  {
   "cell_type": "code",
   "execution_count": 16,
   "id": "28d5f866-cb35-45ad-975b-90afe3b494de",
   "metadata": {},
   "outputs": [],
   "source": [
    "def calculate_nodes_predictability(X, G):\n",
    "    explained_variance = dict()\n",
    "        \n",
    "    for node in G.nodes():\n",
    "        y_ = X[[node]]\n",
    "\n",
    "        neighbors = list(G.neighbors(node))\n",
    "\n",
    "        X_ = X.loc[:, neighbors]\n",
    "\n",
    "        lm = LinearRegression()\n",
    "        lm.fit(X_, y_)\n",
    "\n",
    "        score = lm.score(X_,y_)\n",
    "        explained_variance[node] = score\n",
    "\n",
    "    return explained_variance"
   ]
  },
  {
   "cell_type": "code",
   "execution_count": 17,
   "id": "6768afa7-c9d4-456a-86f1-80f684b07049",
   "metadata": {},
   "outputs": [],
   "source": [
    "def get_links(precision_matrix_df, threshold=0.02):\n",
    "    precision_matrix_df = precision_matrix_df.where(np.triu(np.ones(precision_matrix_df.shape)).astype(bool))\n",
    "    \n",
    "    links = precision_matrix_df.stack().reset_index()\n",
    "    links.columns = ['var1', 'var2','weight']\n",
    "    links=links.loc[ (abs(links['weight']) > threshold) &  (links['var1'] != links['var2']) ]\n",
    "        \n",
    "    links = links.round(3)\n",
    "    \n",
    "    return links"
   ]
  },
  {
   "cell_type": "code",
   "execution_count": 18,
   "id": "3325abcc-f591-4e50-a827-d18b47edd952",
   "metadata": {},
   "outputs": [],
   "source": [
    "def get_ranked_dict(dict_):\n",
    "    items = [(key, value) for key, value in dict_.items()]\n",
    "    sorted_items = sorted(items, key=lambda x: x[1], reverse=True)\n",
    "\n",
    "    ranked_dict = {}\n",
    "    rank = 1\n",
    "\n",
    "    for key, value in sorted_items:\n",
    "        ranked_dict[key] = rank\n",
    "        rank += 1\n",
    "\n",
    "    return ranked_dict"
   ]
  },
  {
   "cell_type": "code",
   "execution_count": 26,
   "id": "07d33686-a34f-4243-8d34-c76671504ced",
   "metadata": {},
   "outputs": [],
   "source": [
    "def bootstrap_network_measures(\n",
    "    X, \n",
    "    model='adaptive_sklearn', \n",
    "    measures=None, \n",
    "    N=1000, \n",
    "    levels=np.arange(.95, 0.25, -0.05)\n",
    "):\n",
    "    results_df = pd.DataFrame()\n",
    "    network_measures_baseline = []\n",
    "    \n",
    "    G_, _ = estimate_graph(X)\n",
    "    \n",
    "    for measure, measure_parameters in measures: \n",
    "        network_measure = measure(G = G_, **measure_parameters)\n",
    "        ranked_network_measure = get_ranked_dict(network_measure)\n",
    "        ranked_network_measure = {k: v for k, v in sorted(ranked_network_measure.items(), key=lambda item: item[0], reverse=True)}\n",
    "        logging.info(ranked_network_measure)\n",
    "        baseline_measure = list(ranked_network_measure.values())\n",
    "        \n",
    "        network_measures_baseline.append(baseline_measure)\n",
    "        logging.info('Baseline measures appended')\n",
    "    \n",
    "    for level in levels:\n",
    "        n = int(level * len(X))\n",
    "        print(f'X len before samples: {n}')\n",
    "\n",
    "        for i in range(N):\n",
    "            # Generate a bootstrap sample with replacements\n",
    "            bootstrap_X = resample(X, n_samples=n, replace=True)\n",
    "            print(f'X len inside samples: {len(bootstrap_X)}')\n",
    "            G_, _ = estimate_graph(bootstrap_X)\n",
    "            \n",
    "            for index, network_measure in enumerate(measures): \n",
    "                measure, measure_parameters = network_measure\n",
    "                \n",
    "                current_baseline = network_measures_baseline[index]\n",
    "                \n",
    "                try:\n",
    "                    network_measure = measure(G = G_, **measure_parameters)\n",
    "                    ranked_network_measure = get_ranked_dict(network_measure)\n",
    "                    ranked_network_measure = {k: v for k, v in sorted(ranked_network_measure.items(), key=lambda item: item[0], reverse=True)}\n",
    "                    logging.info(ranked_network_measure)\n",
    "                    ranked_network_measure = list(ranked_network_measure.values())\n",
    "\n",
    "                    try:\n",
    "                        similarity_corr_coef, p_value = scipy.stats.pearsonr(current_baseline, ranked_network_measure)\n",
    "                        print(f\"Measure: {measure.__name__}  Level: {level}   sample: {i}   : similarity: {similarity_corr_coef}\")\n",
    "                        this_results = pd.DataFrame({\n",
    "                            'measure': [measure.__name__],\n",
    "                            'level': [level],\n",
    "                            'similatity': [similarity_corr_coef],\n",
    "                        })\n",
    "\n",
    "                        results_df = pd.concat([results_df, this_results], ignore_index = True)\n",
    "                    except:\n",
    "                        logging.info('DIFFERENT LENGTHS OF BASELINE AND CURRENT')\n",
    "                except:\n",
    "                    logging.info('NETWORK MEASURE ERROR')\n",
    "                    \n",
    "            \n",
    "    return results_df"
   ]
  },
  {
   "cell_type": "markdown",
   "id": "4c188e21-de92-4f75-a3d4-fbe1eccf3cbb",
   "metadata": {},
   "source": [
    "Estimate the stability of network measures"
   ]
  },
  {
   "cell_type": "code",
   "execution_count": 27,
   "id": "fa051369-907f-4fa0-9059-39652fad4650",
   "metadata": {},
   "outputs": [
    {
     "name": "stderr",
     "output_type": "stream",
     "text": [
      "[Parallel(n_jobs=10)]: Using backend ThreadingBackend with 10 concurrent workers.\n",
      "[Parallel(n_jobs=10)]: Done  30 tasks      | elapsed:    0.4s\n",
      "[Parallel(n_jobs=10)]: Done 180 tasks      | elapsed:    2.0s\n",
      "[Parallel(n_jobs=10)]: Done 430 tasks      | elapsed:    5.3s\n",
      "[Parallel(n_jobs=10)]: Done 780 tasks      | elapsed:   10.4s\n",
      "[Parallel(n_jobs=10)]: Done 1000 out of 1000 | elapsed:   13.1s finished\n",
      "INFO:root:{'e_ERN': 32, 'WBSI': 19, 'WASH': 27, 'T-CTR': 16, 'STAND': 26, 'STAI-T': 1, 'STAI-S Diff': 31, 'SES': 3, 'RRQ': 11, 'REW': 17, 'PUN': 4, 'PS': 22, 'PRED': 21, 'OT': 10, 'ORD': 23, 'OB_PERF': 15, 'OBSESS': 13, 'NEU': 25, 'IUS-P': 12, 'IUS-I': 8, 'INDEC_F': 7, 'HOARD': 28, 'HARM': 30, 'G_SE': 24, 'DASS-21 Stress': 6, 'DASS-21 Dep': 5, 'CHECK': 29, 'BIS': 2, 'BAS_PRZY': 20, 'BAS_NAG': 18, 'BAS_D': 14, 'AMB': 9}\n",
      "INFO:root:Baseline measures appended\n",
      "INFO:root:{'e_ERN': 31, 'WBSI': 27, 'WASH': 13, 'T-CTR': 18, 'STAND': 26, 'STAI-T': 24, 'STAI-S Diff': 28, 'SES': 3, 'RRQ': 23, 'REW': 21, 'PUN': 17, 'PS': 2, 'PRED': 20, 'OT': 6, 'ORD': 5, 'OB_PERF': 12, 'OBSESS': 15, 'NEU': 29, 'IUS-P': 7, 'IUS-I': 25, 'INDEC_F': 9, 'HOARD': 14, 'HARM': 32, 'G_SE': 19, 'DASS-21 Stress': 22, 'DASS-21 Dep': 10, 'CHECK': 30, 'BIS': 1, 'BAS_PRZY': 8, 'BAS_NAG': 11, 'BAS_D': 4, 'AMB': 16}\n",
      "INFO:root:Baseline measures appended\n",
      "INFO:root:{'e_ERN': 32, 'WBSI': 28, 'WASH': 9, 'T-CTR': 19, 'STAND': 22, 'STAI-T': 29, 'STAI-S Diff': 26, 'SES': 3, 'RRQ': 24, 'REW': 21, 'PUN': 18, 'PS': 2, 'PRED': 20, 'OT': 6, 'ORD': 5, 'OB_PERF': 13, 'OBSESS': 15, 'NEU': 27, 'IUS-P': 7, 'IUS-I': 23, 'INDEC_F': 10, 'HOARD': 14, 'HARM': 31, 'G_SE': 16, 'DASS-21 Stress': 25, 'DASS-21 Dep': 17, 'CHECK': 30, 'BIS': 1, 'BAS_PRZY': 8, 'BAS_NAG': 12, 'BAS_D': 4, 'AMB': 11}\n",
      "INFO:root:Baseline measures appended\n",
      "INFO:root:{'e_ERN': 32, 'WBSI': 21, 'WASH': 25, 'T-CTR': 24, 'STAND': 22, 'STAI-T': 2, 'STAI-S Diff': 31, 'SES': 3, 'RRQ': 14, 'REW': 27, 'PUN': 9, 'PS': 5, 'PRED': 10, 'OT': 7, 'ORD': 18, 'OB_PERF': 12, 'OBSESS': 6, 'NEU': 29, 'IUS-P': 19, 'IUS-I': 20, 'INDEC_F': 11, 'HOARD': 23, 'HARM': 30, 'G_SE': 28, 'DASS-21 Stress': 16, 'DASS-21 Dep': 4, 'CHECK': 26, 'BIS': 1, 'BAS_PRZY': 8, 'BAS_NAG': 15, 'BAS_D': 13, 'AMB': 17}\n",
      "INFO:root:Baseline measures appended\n",
      "INFO:root:{'e_ERN': 11, 'WBSI': 23, 'WASH': 2, 'T-CTR': 7, 'STAND': 30, 'STAI-T': 29, 'STAI-S Diff': 4, 'SES': 1, 'RRQ': 27, 'REW': 8, 'PUN': 12, 'PS': 3, 'PRED': 20, 'OT': 10, 'ORD': 9, 'OB_PERF': 16, 'OBSESS': 28, 'NEU': 22, 'IUS-P': 5, 'IUS-I': 25, 'INDEC_F': 24, 'HOARD': 19, 'HARM': 31, 'G_SE': 14, 'DASS-21 Stress': 17, 'DASS-21 Dep': 18, 'CHECK': 32, 'BIS': 15, 'BAS_PRZY': 26, 'BAS_NAG': 21, 'BAS_D': 6, 'AMB': 13}\n",
      "INFO:root:Baseline measures appended\n",
      "INFO:root:{'e_ERN': 32, 'WBSI': 22, 'WASH': 23, 'T-CTR': 19, 'STAND': 26, 'STAI-T': 7, 'STAI-S Diff': 30, 'SES': 6, 'RRQ': 9, 'REW': 28, 'PUN': 20, 'PS': 3, 'PRED': 11, 'OT': 2, 'ORD': 10, 'OB_PERF': 5, 'OBSESS': 4, 'NEU': 29, 'IUS-P': 17, 'IUS-I': 16, 'INDEC_F': 13, 'HOARD': 21, 'HARM': 31, 'G_SE': 27, 'DASS-21 Stress': 25, 'DASS-21 Dep': 14, 'CHECK': 24, 'BIS': 1, 'BAS_PRZY': 8, 'BAS_NAG': 12, 'BAS_D': 15, 'AMB': 18}\n",
      "INFO:root:Baseline measures appended\n",
      "INFO:root:{'e_ERN': 31, 'WBSI': 24, 'WASH': 8, 'T-CTR': 12, 'STAND': 29, 'STAI-T': 26, 'STAI-S Diff': 27, 'SES': 3, 'RRQ': 20, 'REW': 17, 'PUN': 19, 'PS': 2, 'PRED': 16, 'OT': 4, 'ORD': 7, 'OB_PERF': 5, 'OBSESS': 9, 'NEU': 25, 'IUS-P': 6, 'IUS-I': 23, 'INDEC_F': 21, 'HOARD': 13, 'HARM': 32, 'G_SE': 10, 'DASS-21 Stress': 30, 'DASS-21 Dep': 22, 'CHECK': 28, 'BIS': 1, 'BAS_PRZY': 14, 'BAS_NAG': 11, 'BAS_D': 15, 'AMB': 18}\n",
      "INFO:root:Baseline measures appended\n"
     ]
    },
    {
     "name": "stdout",
     "output_type": "stream",
     "text": [
      "X len before samples: 247\n",
      "X len inside samples: 247\n"
     ]
    },
    {
     "name": "stderr",
     "output_type": "stream",
     "text": [
      "[Parallel(n_jobs=10)]: Using backend ThreadingBackend with 10 concurrent workers.\n",
      "[Parallel(n_jobs=10)]: Done  30 tasks      | elapsed:    1.0s\n",
      "[Parallel(n_jobs=10)]: Done 180 tasks      | elapsed:    5.4s\n",
      "[Parallel(n_jobs=10)]: Done 430 tasks      | elapsed:   12.5s\n",
      "[Parallel(n_jobs=10)]: Done 780 tasks      | elapsed:   22.6s\n",
      "[Parallel(n_jobs=10)]: Done 1000 out of 1000 | elapsed:   28.8s finished\n",
      "INFO:root:{'e_ERN': 31, 'WBSI': 19, 'WASH': 29, 'T-CTR': 20, 'STAND': 26, 'STAI-T': 1, 'STAI-S Diff': 28, 'SES': 3, 'RRQ': 13, 'REW': 18, 'PUN': 4, 'PS': 27, 'PRED': 23, 'OT': 7, 'ORD': 10, 'OB_PERF': 14, 'OBSESS': 11, 'NEU': 24, 'IUS-P': 17, 'IUS-I': 5, 'INDEC_F': 12, 'HOARD': 25, 'HARM': 30, 'G_SE': 22, 'DASS-21 Stress': 8, 'DASS-21 Dep': 6, 'CHECK': 32, 'BIS': 2, 'BAS_PRZY': 21, 'BAS_NAG': 15, 'BAS_D': 16, 'AMB': 9}\n",
      "INFO:root:{'e_ERN': 3, 'WBSI': 22, 'WASH': 8, 'T-CTR': 23, 'STAND': 5, 'STAI-T': 31, 'STAI-S Diff': 2, 'SES': 29, 'RRQ': 18, 'REW': 16, 'PUN': 28, 'PS': 11, 'PRED': 12, 'OT': 21, 'ORD': 4, 'OB_PERF': 17, 'OBSESS': 20, 'NEU': 1, 'IUS-P': 24, 'IUS-I': 13, 'INDEC_F': 25, 'HOARD': 9, 'HARM': 27, 'G_SE': 10, 'DASS-21 Stress': 30, 'DASS-21 Dep': 32, 'CHECK': 26, 'BIS': 15, 'BAS_PRZY': 19, 'BAS_NAG': 7, 'BAS_D': 6, 'AMB': 14}\n",
      "INFO:root:{'e_ERN': 3, 'WBSI': 22, 'WASH': 8, 'T-CTR': 23, 'STAND': 5, 'STAI-T': 31, 'STAI-S Diff': 2, 'SES': 29, 'RRQ': 18, 'REW': 16, 'PUN': 28, 'PS': 11, 'PRED': 12, 'OT': 21, 'ORD': 4, 'OB_PERF': 17, 'OBSESS': 20, 'NEU': 1, 'IUS-P': 24, 'IUS-I': 13, 'INDEC_F': 25, 'HOARD': 9, 'HARM': 27, 'G_SE': 10, 'DASS-21 Stress': 30, 'DASS-21 Dep': 32, 'CHECK': 26, 'BIS': 15, 'BAS_PRZY': 19, 'BAS_NAG': 7, 'BAS_D': 6, 'AMB': 14}\n",
      "INFO:root:{'e_ERN': 27, 'WBSI': 24, 'WASH': 29, 'T-CTR': 25, 'STAND': 15, 'STAI-T': 1, 'STAI-S Diff': 21, 'SES': 2, 'RRQ': 6, 'REW': 28, 'PUN': 13, 'PS': 23, 'PRED': 8, 'OT': 20, 'ORD': 5, 'OB_PERF': 9, 'OBSESS': 22, 'NEU': 4, 'IUS-P': 31, 'IUS-I': 16, 'INDEC_F': 14, 'HOARD': 19, 'HARM': 32, 'G_SE': 26, 'DASS-21 Stress': 7, 'DASS-21 Dep': 17, 'CHECK': 30, 'BIS': 3, 'BAS_PRZY': 11, 'BAS_NAG': 10, 'BAS_D': 18, 'AMB': 12}\n",
      "INFO:root:{'e_ERN': 4, 'WBSI': 22, 'WASH': 5, 'T-CTR': 9, 'STAND': 16, 'STAI-T': 29, 'STAI-S Diff': 15, 'SES': 32, 'RRQ': 27, 'REW': 1, 'PUN': 18, 'PS': 11, 'PRED': 26, 'OT': 8, 'ORD': 25, 'OB_PERF': 31, 'OBSESS': 6, 'NEU': 17, 'IUS-P': 7, 'IUS-I': 13, 'INDEC_F': 23, 'HOARD': 20, 'HARM': 2, 'G_SE': 3, 'DASS-21 Stress': 28, 'DASS-21 Dep': 19, 'CHECK': 14, 'BIS': 30, 'BAS_PRZY': 21, 'BAS_NAG': 24, 'BAS_D': 10, 'AMB': 12}\n",
      "INFO:root:{'e_ERN': 27, 'WBSI': 23, 'WASH': 30, 'T-CTR': 25, 'STAND': 18, 'STAI-T': 1, 'STAI-S Diff': 22, 'SES': 2, 'RRQ': 6, 'REW': 28, 'PUN': 13, 'PS': 24, 'PRED': 8, 'OT': 19, 'ORD': 9, 'OB_PERF': 5, 'OBSESS': 21, 'NEU': 4, 'IUS-P': 31, 'IUS-I': 15, 'INDEC_F': 17, 'HOARD': 16, 'HARM': 32, 'G_SE': 26, 'DASS-21 Stress': 3, 'DASS-21 Dep': 14, 'CHECK': 29, 'BIS': 7, 'BAS_PRZY': 10, 'BAS_NAG': 12, 'BAS_D': 20, 'AMB': 11}\n",
      "INFO:root:{'e_ERN': 3, 'WBSI': 18, 'WASH': 15, 'T-CTR': 29, 'STAND': 9, 'STAI-T': 27, 'STAI-S Diff': 2, 'SES': 24, 'RRQ': 21, 'REW': 25, 'PUN': 16, 'PS': 7, 'PRED': 13, 'OT': 23, 'ORD': 12, 'OB_PERF': 17, 'OBSESS': 26, 'NEU': 1, 'IUS-P': 11, 'IUS-I': 4, 'INDEC_F': 20, 'HOARD': 14, 'HARM': 31, 'G_SE': 8, 'DASS-21 Stress': 28, 'DASS-21 Dep': 32, 'CHECK': 22, 'BIS': 10, 'BAS_PRZY': 30, 'BAS_NAG': 19, 'BAS_D': 6, 'AMB': 5}\n"
     ]
    },
    {
     "name": "stdout",
     "output_type": "stream",
     "text": [
      "Measure: calculate_nodes_predictability  Level: 0.95   sample: 0   : similarity: 0.9362170087976538\n",
      "Measure: degree_centrality  Level: 0.95   sample: 0   : similarity: -0.06341642228739003\n",
      "Measure: closeness_centrality  Level: 0.95   sample: 0   : similarity: 0.0835777126099707\n",
      "Measure: current_flow_closeness_centrality  Level: 0.95   sample: 0   : similarity: 0.5626832844574781\n",
      "Measure: betweenness_centrality  Level: 0.95   sample: 0   : similarity: 0.20197947214076245\n",
      "Measure: current_flow_betweenness_centrality  Level: 0.95   sample: 0   : similarity: 0.47470674486803516\n",
      "Measure: newman_betweenness_centrality  Level: 0.95   sample: 0   : similarity: 0.02639296187683285\n",
      "X len inside samples: 247\n"
     ]
    },
    {
     "name": "stderr",
     "output_type": "stream",
     "text": [
      "[Parallel(n_jobs=10)]: Using backend ThreadingBackend with 10 concurrent workers.\n",
      "[Parallel(n_jobs=10)]: Done  30 tasks      | elapsed:    0.5s\n",
      "[Parallel(n_jobs=10)]: Done 180 tasks      | elapsed:    2.5s\n",
      "[Parallel(n_jobs=10)]: Done 430 tasks      | elapsed:    5.8s\n",
      "[Parallel(n_jobs=10)]: Done 780 tasks      | elapsed:   10.7s\n",
      "[Parallel(n_jobs=10)]: Done 1000 out of 1000 | elapsed:   13.6s finished\n",
      "INFO:root:{'e_ERN': 32, 'WBSI': 14, 'WASH': 26, 'T-CTR': 16, 'STAND': 23, 'STAI-T': 1, 'STAI-S Diff': 31, 'SES': 4, 'RRQ': 13, 'REW': 18, 'PUN': 3, 'PS': 25, 'PRED': 21, 'OT': 8, 'ORD': 22, 'OB_PERF': 12, 'OBSESS': 11, 'NEU': 24, 'IUS-P': 19, 'IUS-I': 7, 'INDEC_F': 6, 'HOARD': 28, 'HARM': 29, 'G_SE': 27, 'DASS-21 Stress': 9, 'DASS-21 Dep': 5, 'CHECK': 30, 'BIS': 2, 'BAS_PRZY': 20, 'BAS_NAG': 15, 'BAS_D': 17, 'AMB': 10}\n",
      "INFO:root:{'e_ERN': 32, 'WBSI': 13, 'WASH': 23, 'T-CTR': 3, 'STAND': 28, 'STAI-T': 26, 'STAI-S Diff': 12, 'SES': 21, 'RRQ': 25, 'REW': 27, 'PUN': 19, 'PS': 24, 'PRED': 7, 'OT': 17, 'ORD': 4, 'OB_PERF': 6, 'OBSESS': 16, 'NEU': 22, 'IUS-P': 30, 'IUS-I': 18, 'INDEC_F': 2, 'HOARD': 8, 'HARM': 31, 'G_SE': 10, 'DASS-21 Stress': 29, 'DASS-21 Dep': 11, 'CHECK': 9, 'BIS': 5, 'BAS_PRZY': 20, 'BAS_NAG': 1, 'BAS_D': 15, 'AMB': 14}\n",
      "INFO:root:{'e_ERN': 32, 'WBSI': 13, 'WASH': 23, 'T-CTR': 3, 'STAND': 28, 'STAI-T': 26, 'STAI-S Diff': 12, 'SES': 21, 'RRQ': 25, 'REW': 27, 'PUN': 19, 'PS': 24, 'PRED': 7, 'OT': 17, 'ORD': 4, 'OB_PERF': 6, 'OBSESS': 16, 'NEU': 22, 'IUS-P': 30, 'IUS-I': 18, 'INDEC_F': 2, 'HOARD': 8, 'HARM': 31, 'G_SE': 10, 'DASS-21 Stress': 29, 'DASS-21 Dep': 11, 'CHECK': 9, 'BIS': 5, 'BAS_PRZY': 20, 'BAS_NAG': 1, 'BAS_D': 15, 'AMB': 14}\n",
      "INFO:root:{'e_ERN': 32, 'WBSI': 25, 'WASH': 30, 'T-CTR': 17, 'STAND': 28, 'STAI-T': 6, 'STAI-S Diff': 29, 'SES': 5, 'RRQ': 20, 'REW': 26, 'PUN': 4, 'PS': 22, 'PRED': 7, 'OT': 12, 'ORD': 9, 'OB_PERF': 3, 'OBSESS': 16, 'NEU': 24, 'IUS-P': 27, 'IUS-I': 11, 'INDEC_F': 8, 'HOARD': 14, 'HARM': 31, 'G_SE': 18, 'DASS-21 Stress': 13, 'DASS-21 Dep': 2, 'CHECK': 23, 'BIS': 1, 'BAS_PRZY': 10, 'BAS_NAG': 15, 'BAS_D': 21, 'AMB': 19}\n",
      "INFO:root:{'e_ERN': 14, 'WBSI': 2, 'WASH': 13, 'T-CTR': 1, 'STAND': 12, 'STAI-T': 26, 'STAI-S Diff': 4, 'SES': 21, 'RRQ': 23, 'REW': 28, 'PUN': 6, 'PS': 32, 'PRED': 15, 'OT': 7, 'ORD': 8, 'OB_PERF': 16, 'OBSESS': 18, 'NEU': 29, 'IUS-P': 27, 'IUS-I': 30, 'INDEC_F': 10, 'HOARD': 3, 'HARM': 11, 'G_SE': 17, 'DASS-21 Stress': 24, 'DASS-21 Dep': 22, 'CHECK': 19, 'BIS': 31, 'BAS_PRZY': 9, 'BAS_NAG': 5, 'BAS_D': 25, 'AMB': 20}\n",
      "INFO:root:{'e_ERN': 32, 'WBSI': 20, 'WASH': 29, 'T-CTR': 11, 'STAND': 27, 'STAI-T': 8, 'STAI-S Diff': 30, 'SES': 6, 'RRQ': 13, 'REW': 28, 'PUN': 4, 'PS': 22, 'PRED': 7, 'OT': 15, 'ORD': 5, 'OB_PERF': 2, 'OBSESS': 12, 'NEU': 24, 'IUS-P': 26, 'IUS-I': 10, 'INDEC_F': 9, 'HOARD': 14, 'HARM': 31, 'G_SE': 23, 'DASS-21 Stress': 19, 'DASS-21 Dep': 3, 'CHECK': 21, 'BIS': 1, 'BAS_PRZY': 17, 'BAS_NAG': 16, 'BAS_D': 25, 'AMB': 18}\n",
      "INFO:root:{'e_ERN': 32, 'WBSI': 5, 'WASH': 23, 'T-CTR': 2, 'STAND': 31, 'STAI-T': 24, 'STAI-S Diff': 19, 'SES': 18, 'RRQ': 27, 'REW': 29, 'PUN': 16, 'PS': 25, 'PRED': 8, 'OT': 14, 'ORD': 3, 'OB_PERF': 6, 'OBSESS': 17, 'NEU': 21, 'IUS-P': 26, 'IUS-I': 11, 'INDEC_F': 4, 'HOARD': 15, 'HARM': 30, 'G_SE': 13, 'DASS-21 Stress': 28, 'DASS-21 Dep': 12, 'CHECK': 10, 'BIS': 7, 'BAS_PRZY': 22, 'BAS_NAG': 1, 'BAS_D': 20, 'AMB': 9}\n"
     ]
    },
    {
     "name": "stdout",
     "output_type": "stream",
     "text": [
      "Measure: calculate_nodes_predictability  Level: 0.95   sample: 1   : similarity: 0.970674486803519\n",
      "Measure: degree_centrality  Level: 0.95   sample: 1   : similarity: 0.3335777126099706\n",
      "Measure: closeness_centrality  Level: 0.95   sample: 1   : similarity: 0.3174486803519061\n",
      "Measure: current_flow_closeness_centrality  Level: 0.95   sample: 1   : similarity: 0.7705278592375365\n",
      "Measure: betweenness_centrality  Level: 0.95   sample: 1   : similarity: -0.03225806451612904\n",
      "Measure: current_flow_betweenness_centrality  Level: 0.95   sample: 1   : similarity: 0.7052785923753665\n",
      "Measure: newman_betweenness_centrality  Level: 0.95   sample: 1   : similarity: 0.3475073313782991\n",
      "X len before samples: 233\n",
      "X len inside samples: 233\n"
     ]
    },
    {
     "name": "stderr",
     "output_type": "stream",
     "text": [
      "[Parallel(n_jobs=10)]: Using backend ThreadingBackend with 10 concurrent workers.\n",
      "[Parallel(n_jobs=10)]: Done  30 tasks      | elapsed:    0.6s\n",
      "[Parallel(n_jobs=10)]: Done 180 tasks      | elapsed:    2.9s\n",
      "[Parallel(n_jobs=10)]: Done 430 tasks      | elapsed:    6.9s\n",
      "[Parallel(n_jobs=10)]: Done 780 tasks      | elapsed:   12.5s\n",
      "[Parallel(n_jobs=10)]: Done 1000 out of 1000 | elapsed:   15.9s finished\n",
      "INFO:root:{'e_ERN': 32, 'WBSI': 18, 'WASH': 25, 'T-CTR': 21, 'STAND': 26, 'STAI-T': 1, 'STAI-S Diff': 27, 'SES': 3, 'RRQ': 10, 'REW': 19, 'PUN': 4, 'PS': 23, 'PRED': 20, 'OT': 11, 'ORD': 12, 'OB_PERF': 17, 'OBSESS': 13, 'NEU': 28, 'IUS-P': 15, 'IUS-I': 8, 'INDEC_F': 7, 'HOARD': 30, 'HARM': 29, 'G_SE': 22, 'DASS-21 Stress': 6, 'DASS-21 Dep': 5, 'CHECK': 31, 'BIS': 2, 'BAS_PRZY': 24, 'BAS_NAG': 14, 'BAS_D': 16, 'AMB': 9}\n",
      "INFO:root:{'e_ERN': 15, 'WBSI': 28, 'WASH': 20, 'T-CTR': 26, 'STAND': 6, 'STAI-T': 24, 'STAI-S Diff': 1, 'SES': 13, 'RRQ': 9, 'REW': 17, 'PUN': 27, 'PS': 21, 'PRED': 11, 'OT': 7, 'ORD': 2, 'OB_PERF': 22, 'OBSESS': 23, 'NEU': 25, 'IUS-P': 30, 'IUS-I': 31, 'INDEC_F': 4, 'HOARD': 16, 'HARM': 29, 'G_SE': 5, 'DASS-21 Stress': 3, 'DASS-21 Dep': 32, 'CHECK': 18, 'BIS': 19, 'BAS_PRZY': 12, 'BAS_NAG': 14, 'BAS_D': 8, 'AMB': 10}\n",
      "INFO:root:{'e_ERN': 15, 'WBSI': 28, 'WASH': 20, 'T-CTR': 26, 'STAND': 6, 'STAI-T': 24, 'STAI-S Diff': 1, 'SES': 13, 'RRQ': 9, 'REW': 17, 'PUN': 27, 'PS': 21, 'PRED': 11, 'OT': 7, 'ORD': 2, 'OB_PERF': 22, 'OBSESS': 23, 'NEU': 25, 'IUS-P': 30, 'IUS-I': 31, 'INDEC_F': 4, 'HOARD': 16, 'HARM': 29, 'G_SE': 5, 'DASS-21 Stress': 3, 'DASS-21 Dep': 32, 'CHECK': 18, 'BIS': 19, 'BAS_PRZY': 12, 'BAS_NAG': 14, 'BAS_D': 8, 'AMB': 10}\n",
      "INFO:root:{'e_ERN': 27, 'WBSI': 25, 'WASH': 19, 'T-CTR': 28, 'STAND': 18, 'STAI-T': 3, 'STAI-S Diff': 17, 'SES': 1, 'RRQ': 6, 'REW': 23, 'PUN': 10, 'PS': 11, 'PRED': 16, 'OT': 2, 'ORD': 4, 'OB_PERF': 21, 'OBSESS': 5, 'NEU': 31, 'IUS-P': 30, 'IUS-I': 24, 'INDEC_F': 14, 'HOARD': 26, 'HARM': 32, 'G_SE': 15, 'DASS-21 Stress': 9, 'DASS-21 Dep': 12, 'CHECK': 29, 'BIS': 8, 'BAS_PRZY': 7, 'BAS_NAG': 13, 'BAS_D': 20, 'AMB': 22}\n",
      "INFO:root:{'e_ERN': 9, 'WBSI': 17, 'WASH': 22, 'T-CTR': 13, 'STAND': 12, 'STAI-T': 25, 'STAI-S Diff': 3, 'SES': 32, 'RRQ': 21, 'REW': 16, 'PUN': 19, 'PS': 31, 'PRED': 11, 'OT': 23, 'ORD': 6, 'OB_PERF': 10, 'OBSESS': 26, 'NEU': 8, 'IUS-P': 24, 'IUS-I': 28, 'INDEC_F': 1, 'HOARD': 15, 'HARM': 27, 'G_SE': 14, 'DASS-21 Stress': 2, 'DASS-21 Dep': 29, 'CHECK': 5, 'BIS': 18, 'BAS_PRZY': 30, 'BAS_NAG': 20, 'BAS_D': 7, 'AMB': 4}\n",
      "INFO:root:{'e_ERN': 28, 'WBSI': 26, 'WASH': 19, 'T-CTR': 29, 'STAND': 15, 'STAI-T': 4, 'STAI-S Diff': 20, 'SES': 2, 'RRQ': 6, 'REW': 25, 'PUN': 12, 'PS': 7, 'PRED': 11, 'OT': 1, 'ORD': 3, 'OB_PERF': 18, 'OBSESS': 5, 'NEU': 32, 'IUS-P': 27, 'IUS-I': 22, 'INDEC_F': 16, 'HOARD': 24, 'HARM': 31, 'G_SE': 13, 'DASS-21 Stress': 10, 'DASS-21 Dep': 17, 'CHECK': 30, 'BIS': 9, 'BAS_PRZY': 8, 'BAS_NAG': 14, 'BAS_D': 23, 'AMB': 21}\n",
      "INFO:root:{'e_ERN': 16, 'WBSI': 26, 'WASH': 22, 'T-CTR': 20, 'STAND': 8, 'STAI-T': 18, 'STAI-S Diff': 2, 'SES': 11, 'RRQ': 4, 'REW': 28, 'PUN': 23, 'PS': 10, 'PRED': 9, 'OT': 5, 'ORD': 1, 'OB_PERF': 25, 'OBSESS': 19, 'NEU': 30, 'IUS-P': 27, 'IUS-I': 29, 'INDEC_F': 7, 'HOARD': 24, 'HARM': 32, 'G_SE': 6, 'DASS-21 Stress': 3, 'DASS-21 Dep': 31, 'CHECK': 14, 'BIS': 21, 'BAS_PRZY': 17, 'BAS_NAG': 15, 'BAS_D': 12, 'AMB': 13}\n"
     ]
    },
    {
     "name": "stdout",
     "output_type": "stream",
     "text": [
      "Measure: calculate_nodes_predictability  Level: 0.8999999999999999   sample: 0   : similarity: 0.9549120234604105\n",
      "Measure: degree_centrality  Level: 0.8999999999999999   sample: 0   : similarity: 0.13269794721407624\n",
      "Measure: closeness_centrality  Level: 0.8999999999999999   sample: 0   : similarity: 0.20087976539589442\n",
      "Measure: current_flow_closeness_centrality  Level: 0.8999999999999999   sample: 0   : similarity: 0.7529325513196481\n",
      "Measure: betweenness_centrality  Level: 0.8999999999999999   sample: 0   : similarity: 0.024926686217008817\n",
      "Measure: current_flow_betweenness_centrality  Level: 0.8999999999999999   sample: 0   : similarity: 0.7283724340175952\n",
      "Measure: newman_betweenness_centrality  Level: 0.8999999999999999   sample: 0   : similarity: 0.07881231671554252\n",
      "X len inside samples: 233\n"
     ]
    },
    {
     "name": "stderr",
     "output_type": "stream",
     "text": [
      "[Parallel(n_jobs=10)]: Using backend ThreadingBackend with 10 concurrent workers.\n",
      "[Parallel(n_jobs=10)]: Done  30 tasks      | elapsed:    0.6s\n",
      "[Parallel(n_jobs=10)]: Done 180 tasks      | elapsed:    3.0s\n",
      "[Parallel(n_jobs=10)]: Done 430 tasks      | elapsed:    7.0s\n",
      "[Parallel(n_jobs=10)]: Done 780 tasks      | elapsed:   12.8s\n",
      "[Parallel(n_jobs=10)]: Done 1000 out of 1000 | elapsed:   16.4s finished\n",
      "INFO:root:{'e_ERN': 31, 'WBSI': 16, 'WASH': 26, 'T-CTR': 14, 'STAND': 27, 'STAI-T': 1, 'STAI-S Diff': 32, 'SES': 3, 'RRQ': 13, 'REW': 21, 'PUN': 5, 'PS': 24, 'PRED': 23, 'OT': 8, 'ORD': 19, 'OB_PERF': 18, 'OBSESS': 11, 'NEU': 25, 'IUS-P': 12, 'IUS-I': 6, 'INDEC_F': 10, 'HOARD': 28, 'HARM': 29, 'G_SE': 22, 'DASS-21 Stress': 9, 'DASS-21 Dep': 4, 'CHECK': 30, 'BIS': 2, 'BAS_PRZY': 17, 'BAS_NAG': 20, 'BAS_D': 15, 'AMB': 7}\n",
      "INFO:root:{'e_ERN': 8, 'WBSI': 17, 'WASH': 20, 'T-CTR': 9, 'STAND': 5, 'STAI-T': 22, 'STAI-S Diff': 14, 'SES': 21, 'RRQ': 13, 'REW': 30, 'PUN': 28, 'PS': 12, 'PRED': 27, 'OT': 3, 'ORD': 1, 'OB_PERF': 29, 'OBSESS': 16, 'NEU': 32, 'IUS-P': 11, 'IUS-I': 6, 'INDEC_F': 18, 'HOARD': 19, 'HARM': 31, 'G_SE': 4, 'DASS-21 Stress': 26, 'DASS-21 Dep': 24, 'CHECK': 25, 'BIS': 7, 'BAS_PRZY': 2, 'BAS_NAG': 15, 'BAS_D': 23, 'AMB': 10}\n",
      "INFO:root:{'e_ERN': 8, 'WBSI': 17, 'WASH': 20, 'T-CTR': 9, 'STAND': 5, 'STAI-T': 22, 'STAI-S Diff': 14, 'SES': 21, 'RRQ': 13, 'REW': 30, 'PUN': 28, 'PS': 12, 'PRED': 27, 'OT': 3, 'ORD': 1, 'OB_PERF': 29, 'OBSESS': 16, 'NEU': 32, 'IUS-P': 11, 'IUS-I': 6, 'INDEC_F': 18, 'HOARD': 19, 'HARM': 31, 'G_SE': 4, 'DASS-21 Stress': 26, 'DASS-21 Dep': 24, 'CHECK': 25, 'BIS': 7, 'BAS_PRZY': 2, 'BAS_NAG': 15, 'BAS_D': 23, 'AMB': 10}\n",
      "INFO:root:{'e_ERN': 27, 'WBSI': 26, 'WASH': 24, 'T-CTR': 28, 'STAND': 8, 'STAI-T': 1, 'STAI-S Diff': 19, 'SES': 3, 'RRQ': 17, 'REW': 31, 'PUN': 5, 'PS': 16, 'PRED': 13, 'OT': 7, 'ORD': 12, 'OB_PERF': 18, 'OBSESS': 10, 'NEU': 32, 'IUS-P': 21, 'IUS-I': 23, 'INDEC_F': 11, 'HOARD': 22, 'HARM': 30, 'G_SE': 20, 'DASS-21 Stress': 9, 'DASS-21 Dep': 4, 'CHECK': 29, 'BIS': 2, 'BAS_PRZY': 6, 'BAS_NAG': 14, 'BAS_D': 25, 'AMB': 15}\n",
      "INFO:root:{'e_ERN': 9, 'WBSI': 8, 'WASH': 15, 'T-CTR': 3, 'STAND': 12, 'STAI-T': 26, 'STAI-S Diff': 24, 'SES': 7, 'RRQ': 11, 'REW': 21, 'PUN': 31, 'PS': 5, 'PRED': 23, 'OT': 22, 'ORD': 13, 'OB_PERF': 32, 'OBSESS': 16, 'NEU': 30, 'IUS-P': 10, 'IUS-I': 1, 'INDEC_F': 4, 'HOARD': 20, 'HARM': 28, 'G_SE': 17, 'DASS-21 Stress': 29, 'DASS-21 Dep': 18, 'CHECK': 6, 'BIS': 27, 'BAS_PRZY': 2, 'BAS_NAG': 25, 'BAS_D': 19, 'AMB': 14}\n",
      "INFO:root:{'e_ERN': 24, 'WBSI': 26, 'WASH': 21, 'T-CTR': 27, 'STAND': 8, 'STAI-T': 1, 'STAI-S Diff': 19, 'SES': 3, 'RRQ': 18, 'REW': 31, 'PUN': 15, 'PS': 13, 'PRED': 10, 'OT': 5, 'ORD': 6, 'OB_PERF': 14, 'OBSESS': 9, 'NEU': 32, 'IUS-P': 23, 'IUS-I': 28, 'INDEC_F': 12, 'HOARD': 22, 'HARM': 29, 'G_SE': 20, 'DASS-21 Stress': 17, 'DASS-21 Dep': 7, 'CHECK': 30, 'BIS': 2, 'BAS_PRZY': 4, 'BAS_NAG': 11, 'BAS_D': 25, 'AMB': 16}\n",
      "INFO:root:{'e_ERN': 13, 'WBSI': 20, 'WASH': 17, 'T-CTR': 6, 'STAND': 9, 'STAI-T': 21, 'STAI-S Diff': 7, 'SES': 11, 'RRQ': 22, 'REW': 30, 'PUN': 32, 'PS': 4, 'PRED': 27, 'OT': 3, 'ORD': 2, 'OB_PERF': 28, 'OBSESS': 12, 'NEU': 31, 'IUS-P': 15, 'IUS-I': 16, 'INDEC_F': 24, 'HOARD': 18, 'HARM': 29, 'G_SE': 8, 'DASS-21 Stress': 26, 'DASS-21 Dep': 14, 'CHECK': 25, 'BIS': 5, 'BAS_PRZY': 1, 'BAS_NAG': 19, 'BAS_D': 23, 'AMB': 10}\n"
     ]
    },
    {
     "name": "stdout",
     "output_type": "stream",
     "text": [
      "Measure: calculate_nodes_predictability  Level: 0.8999999999999999   sample: 1   : similarity: 0.9769061583577711\n",
      "Measure: degree_centrality  Level: 0.8999999999999999   sample: 1   : similarity: 0.2796920821114369\n",
      "Measure: closeness_centrality  Level: 0.8999999999999999   sample: 1   : similarity: 0.35153958944281516\n",
      "Measure: current_flow_closeness_centrality  Level: 0.8999999999999999   sample: 1   : similarity: 0.8229472140762463\n",
      "Measure: betweenness_centrality  Level: 0.8999999999999999   sample: 1   : similarity: 0.01906158357771262\n",
      "Measure: current_flow_betweenness_centrality  Level: 0.8999999999999999   sample: 1   : similarity: 0.7250733137829911\n",
      "Measure: newman_betweenness_centrality  Level: 0.8999999999999999   sample: 1   : similarity: 0.439882697947214\n",
      "X len before samples: 220\n",
      "X len inside samples: 220\n"
     ]
    },
    {
     "name": "stderr",
     "output_type": "stream",
     "text": [
      "[Parallel(n_jobs=10)]: Using backend ThreadingBackend with 10 concurrent workers.\n",
      "[Parallel(n_jobs=10)]: Done  30 tasks      | elapsed:    0.4s\n",
      "[Parallel(n_jobs=10)]: Done 180 tasks      | elapsed:    2.3s\n",
      "[Parallel(n_jobs=10)]: Done 430 tasks      | elapsed:    5.5s\n",
      "[Parallel(n_jobs=10)]: Done 780 tasks      | elapsed:   10.0s\n",
      "[Parallel(n_jobs=10)]: Done 1000 out of 1000 | elapsed:   12.8s finished\n",
      "INFO:root:{'e_ERN': 31, 'WBSI': 21, 'WASH': 27, 'T-CTR': 15, 'STAND': 26, 'STAI-T': 1, 'STAI-S Diff': 32, 'SES': 4, 'RRQ': 11, 'REW': 17, 'PUN': 3, 'PS': 24, 'PRED': 22, 'OT': 8, 'ORD': 19, 'OB_PERF': 14, 'OBSESS': 9, 'NEU': 25, 'IUS-P': 10, 'IUS-I': 7, 'INDEC_F': 13, 'HOARD': 28, 'HARM': 29, 'G_SE': 23, 'DASS-21 Stress': 6, 'DASS-21 Dep': 5, 'CHECK': 30, 'BIS': 2, 'BAS_PRZY': 20, 'BAS_NAG': 18, 'BAS_D': 12, 'AMB': 16}\n",
      "INFO:root:{'e_ERN': 20, 'WBSI': 23, 'WASH': 25, 'T-CTR': 8, 'STAND': 24, 'STAI-T': 12, 'STAI-S Diff': 32, 'SES': 21, 'RRQ': 22, 'REW': 16, 'PUN': 5, 'PS': 15, 'PRED': 27, 'OT': 4, 'ORD': 2, 'OB_PERF': 28, 'OBSESS': 11, 'NEU': 29, 'IUS-P': 14, 'IUS-I': 26, 'INDEC_F': 30, 'HOARD': 3, 'HARM': 31, 'G_SE': 7, 'DASS-21 Stress': 18, 'DASS-21 Dep': 13, 'CHECK': 19, 'BIS': 1, 'BAS_PRZY': 10, 'BAS_NAG': 6, 'BAS_D': 9, 'AMB': 17}\n",
      "INFO:root:{'e_ERN': 20, 'WBSI': 23, 'WASH': 25, 'T-CTR': 8, 'STAND': 24, 'STAI-T': 12, 'STAI-S Diff': 32, 'SES': 21, 'RRQ': 22, 'REW': 16, 'PUN': 5, 'PS': 15, 'PRED': 27, 'OT': 4, 'ORD': 2, 'OB_PERF': 28, 'OBSESS': 11, 'NEU': 30, 'IUS-P': 14, 'IUS-I': 26, 'INDEC_F': 29, 'HOARD': 3, 'HARM': 31, 'G_SE': 7, 'DASS-21 Stress': 18, 'DASS-21 Dep': 13, 'CHECK': 19, 'BIS': 1, 'BAS_PRZY': 10, 'BAS_NAG': 6, 'BAS_D': 9, 'AMB': 17}\n",
      "INFO:root:{'e_ERN': 26, 'WBSI': 21, 'WASH': 27, 'T-CTR': 17, 'STAND': 25, 'STAI-T': 3, 'STAI-S Diff': 31, 'SES': 8, 'RRQ': 20, 'REW': 28, 'PUN': 5, 'PS': 16, 'PRED': 7, 'OT': 4, 'ORD': 6, 'OB_PERF': 13, 'OBSESS': 9, 'NEU': 32, 'IUS-P': 15, 'IUS-I': 14, 'INDEC_F': 24, 'HOARD': 22, 'HARM': 30, 'G_SE': 23, 'DASS-21 Stress': 10, 'DASS-21 Dep': 2, 'CHECK': 29, 'BIS': 1, 'BAS_PRZY': 11, 'BAS_NAG': 18, 'BAS_D': 19, 'AMB': 12}\n",
      "INFO:root:{'e_ERN': 23, 'WBSI': 26, 'WASH': 18, 'T-CTR': 9, 'STAND': 16, 'STAI-T': 22, 'STAI-S Diff': 29, 'SES': 30, 'RRQ': 21, 'REW': 12, 'PUN': 1, 'PS': 7, 'PRED': 31, 'OT': 14, 'ORD': 5, 'OB_PERF': 32, 'OBSESS': 24, 'NEU': 19, 'IUS-P': 8, 'IUS-I': 28, 'INDEC_F': 27, 'HOARD': 6, 'HARM': 13, 'G_SE': 3, 'DASS-21 Stress': 4, 'DASS-21 Dep': 20, 'CHECK': 2, 'BIS': 15, 'BAS_PRZY': 17, 'BAS_NAG': 10, 'BAS_D': 11, 'AMB': 25}\n",
      "INFO:root:{'e_ERN': 24, 'WBSI': 23, 'WASH': 27, 'T-CTR': 14, 'STAND': 26, 'STAI-T': 7, 'STAI-S Diff': 32, 'SES': 15, 'RRQ': 22, 'REW': 28, 'PUN': 5, 'PS': 12, 'PRED': 9, 'OT': 2, 'ORD': 4, 'OB_PERF': 8, 'OBSESS': 6, 'NEU': 30, 'IUS-P': 11, 'IUS-I': 16, 'INDEC_F': 25, 'HOARD': 21, 'HARM': 31, 'G_SE': 20, 'DASS-21 Stress': 17, 'DASS-21 Dep': 3, 'CHECK': 29, 'BIS': 1, 'BAS_PRZY': 13, 'BAS_NAG': 18, 'BAS_D': 19, 'AMB': 10}\n",
      "INFO:root:{'e_ERN': 21, 'WBSI': 25, 'WASH': 28, 'T-CTR': 7, 'STAND': 23, 'STAI-T': 9, 'STAI-S Diff': 31, 'SES': 26, 'RRQ': 20, 'REW': 19, 'PUN': 3, 'PS': 13, 'PRED': 29, 'OT': 4, 'ORD': 2, 'OB_PERF': 24, 'OBSESS': 8, 'NEU': 32, 'IUS-P': 11, 'IUS-I': 22, 'INDEC_F': 27, 'HOARD': 5, 'HARM': 30, 'G_SE': 6, 'DASS-21 Stress': 18, 'DASS-21 Dep': 15, 'CHECK': 17, 'BIS': 1, 'BAS_PRZY': 14, 'BAS_NAG': 12, 'BAS_D': 10, 'AMB': 16}\n"
     ]
    },
    {
     "name": "stdout",
     "output_type": "stream",
     "text": [
      "Measure: calculate_nodes_predictability  Level: 0.8499999999999999   sample: 0   : similarity: 0.972873900293255\n",
      "Measure: degree_centrality  Level: 0.8499999999999999   sample: 0   : similarity: 0.5417888563049853\n",
      "Measure: closeness_centrality  Level: 0.8499999999999999   sample: 0   : similarity: 0.4893695014662756\n",
      "Measure: current_flow_closeness_centrality  Level: 0.8499999999999999   sample: 0   : similarity: 0.8434750733137828\n",
      "Measure: betweenness_centrality  Level: 0.8499999999999999   sample: 0   : similarity: 0.11436950146627566\n",
      "Measure: current_flow_betweenness_centrality  Level: 0.8499999999999999   sample: 0   : similarity: 0.7617302052785924\n",
      "Measure: newman_betweenness_centrality  Level: 0.8499999999999999   sample: 0   : similarity: 0.4736070381231671\n",
      "X len inside samples: 220\n"
     ]
    },
    {
     "name": "stderr",
     "output_type": "stream",
     "text": [
      "[Parallel(n_jobs=10)]: Using backend ThreadingBackend with 10 concurrent workers.\n",
      "[Parallel(n_jobs=10)]: Done  30 tasks      | elapsed:    0.6s\n",
      "[Parallel(n_jobs=10)]: Done 180 tasks      | elapsed:    2.7s\n",
      "[Parallel(n_jobs=10)]: Done 430 tasks      | elapsed:    6.4s\n",
      "[Parallel(n_jobs=10)]: Done 780 tasks      | elapsed:   11.4s\n",
      "[Parallel(n_jobs=10)]: Done 1000 out of 1000 | elapsed:   14.9s finished\n",
      "INFO:root:{'e_ERN': 32, 'WBSI': 18, 'WASH': 27, 'T-CTR': 19, 'STAND': 26, 'STAI-T': 1, 'STAI-S Diff': 31, 'SES': 3, 'RRQ': 11, 'REW': 13, 'PUN': 5, 'PS': 25, 'PRED': 20, 'OT': 9, 'ORD': 22, 'OB_PERF': 10, 'OBSESS': 12, 'NEU': 21, 'IUS-P': 16, 'IUS-I': 4, 'INDEC_F': 8, 'HOARD': 28, 'HARM': 29, 'G_SE': 24, 'DASS-21 Stress': 7, 'DASS-21 Dep': 6, 'CHECK': 30, 'BIS': 2, 'BAS_PRZY': 17, 'BAS_NAG': 23, 'BAS_D': 15, 'AMB': 14}\n",
      "INFO:root:{'e_ERN': 31, 'WBSI': 26, 'WASH': 23, 'T-CTR': 21, 'STAND': 8, 'STAI-T': 30, 'STAI-S Diff': 9, 'SES': 16, 'RRQ': 13, 'REW': 17, 'PUN': 28, 'PS': 22, 'PRED': 3, 'OT': 14, 'ORD': 7, 'OB_PERF': 6, 'OBSESS': 29, 'NEU': 4, 'IUS-P': 11, 'IUS-I': 1, 'INDEC_F': 10, 'HOARD': 2, 'HARM': 20, 'G_SE': 18, 'DASS-21 Stress': 27, 'DASS-21 Dep': 25, 'CHECK': 15, 'BIS': 5, 'BAS_PRZY': 12, 'BAS_NAG': 24, 'BAS_D': 19, 'AMB': 32}\n",
      "INFO:root:{'e_ERN': 31, 'WBSI': 26, 'WASH': 23, 'T-CTR': 21, 'STAND': 8, 'STAI-T': 30, 'STAI-S Diff': 9, 'SES': 16, 'RRQ': 13, 'REW': 17, 'PUN': 28, 'PS': 22, 'PRED': 3, 'OT': 14, 'ORD': 7, 'OB_PERF': 6, 'OBSESS': 29, 'NEU': 4, 'IUS-P': 11, 'IUS-I': 1, 'INDEC_F': 10, 'HOARD': 2, 'HARM': 20, 'G_SE': 18, 'DASS-21 Stress': 27, 'DASS-21 Dep': 25, 'CHECK': 15, 'BIS': 5, 'BAS_PRZY': 12, 'BAS_NAG': 24, 'BAS_D': 19, 'AMB': 32}\n",
      "INFO:root:{'e_ERN': 32, 'WBSI': 20, 'WASH': 22, 'T-CTR': 28, 'STAND': 11, 'STAI-T': 3, 'STAI-S Diff': 23, 'SES': 1, 'RRQ': 12, 'REW': 26, 'PUN': 15, 'PS': 16, 'PRED': 2, 'OT': 9, 'ORD': 6, 'OB_PERF': 13, 'OBSESS': 10, 'NEU': 24, 'IUS-P': 17, 'IUS-I': 4, 'INDEC_F': 7, 'HOARD': 19, 'HARM': 30, 'G_SE': 31, 'DASS-21 Stress': 18, 'DASS-21 Dep': 8, 'CHECK': 27, 'BIS': 5, 'BAS_PRZY': 14, 'BAS_NAG': 21, 'BAS_D': 25, 'AMB': 29}\n",
      "INFO:root:{'e_ERN': 13, 'WBSI': 16, 'WASH': 24, 'T-CTR': 8, 'STAND': 21, 'STAI-T': 30, 'STAI-S Diff': 26, 'SES': 17, 'RRQ': 14, 'REW': 2, 'PUN': 22, 'PS': 32, 'PRED': 20, 'OT': 15, 'ORD': 28, 'OB_PERF': 1, 'OBSESS': 27, 'NEU': 6, 'IUS-P': 10, 'IUS-I': 25, 'INDEC_F': 9, 'HOARD': 3, 'HARM': 18, 'G_SE': 7, 'DASS-21 Stress': 29, 'DASS-21 Dep': 23, 'CHECK': 4, 'BIS': 11, 'BAS_PRZY': 5, 'BAS_NAG': 12, 'BAS_D': 19, 'AMB': 31}\n",
      "INFO:root:{'e_ERN': 32, 'WBSI': 17, 'WASH': 18, 'T-CTR': 28, 'STAND': 11, 'STAI-T': 5, 'STAI-S Diff': 21, 'SES': 3, 'RRQ': 8, 'REW': 25, 'PUN': 19, 'PS': 13, 'PRED': 1, 'OT': 6, 'ORD': 7, 'OB_PERF': 12, 'OBSESS': 10, 'NEU': 24, 'IUS-P': 22, 'IUS-I': 4, 'INDEC_F': 9, 'HOARD': 16, 'HARM': 29, 'G_SE': 31, 'DASS-21 Stress': 23, 'DASS-21 Dep': 15, 'CHECK': 27, 'BIS': 2, 'BAS_PRZY': 14, 'BAS_NAG': 20, 'BAS_D': 26, 'AMB': 30}\n",
      "INFO:root:{'e_ERN': 31, 'WBSI': 17, 'WASH': 20, 'T-CTR': 24, 'STAND': 7, 'STAI-T': 29, 'STAI-S Diff': 14, 'SES': 13, 'RRQ': 9, 'REW': 21, 'PUN': 25, 'PS': 19, 'PRED': 4, 'OT': 8, 'ORD': 6, 'OB_PERF': 11, 'OBSESS': 27, 'NEU': 5, 'IUS-P': 10, 'IUS-I': 1, 'INDEC_F': 15, 'HOARD': 3, 'HARM': 23, 'G_SE': 18, 'DASS-21 Stress': 26, 'DASS-21 Dep': 22, 'CHECK': 16, 'BIS': 2, 'BAS_PRZY': 12, 'BAS_NAG': 28, 'BAS_D': 30, 'AMB': 32}\n"
     ]
    },
    {
     "name": "stdout",
     "output_type": "stream",
     "text": [
      "Measure: calculate_nodes_predictability  Level: 0.8499999999999999   sample: 1   : similarity: 0.9673753665689149\n",
      "Measure: degree_centrality  Level: 0.8499999999999999   sample: 1   : similarity: 0.10373900293255131\n",
      "Measure: closeness_centrality  Level: 0.8499999999999999   sample: 1   : similarity: 0.16935483870967744\n",
      "Measure: current_flow_closeness_centrality  Level: 0.8499999999999999   sample: 1   : similarity: 0.7562316715542521\n",
      "Measure: betweenness_centrality  Level: 0.8499999999999999   sample: 1   : similarity: -0.11473607038123164\n",
      "Measure: current_flow_betweenness_centrality  Level: 0.8499999999999999   sample: 1   : similarity: 0.7423020527859236\n",
      "Measure: newman_betweenness_centrality  Level: 0.8499999999999999   sample: 1   : similarity: 0.24156891495601174\n",
      "X len before samples: 207\n",
      "X len inside samples: 207\n"
     ]
    },
    {
     "name": "stderr",
     "output_type": "stream",
     "text": [
      "[Parallel(n_jobs=10)]: Using backend ThreadingBackend with 10 concurrent workers.\n",
      "[Parallel(n_jobs=10)]: Done  30 tasks      | elapsed:    0.5s\n",
      "[Parallel(n_jobs=10)]: Done 180 tasks      | elapsed:    2.4s\n",
      "[Parallel(n_jobs=10)]: Done 430 tasks      | elapsed:    5.7s\n",
      "[Parallel(n_jobs=10)]: Done 780 tasks      | elapsed:   10.2s\n",
      "[Parallel(n_jobs=10)]: Done 1000 out of 1000 | elapsed:   13.2s finished\n",
      "INFO:root:{'e_ERN': 31, 'WBSI': 16, 'WASH': 26, 'T-CTR': 18, 'STAND': 27, 'STAI-T': 1, 'STAI-S Diff': 32, 'SES': 2, 'RRQ': 10, 'REW': 14, 'PUN': 4, 'PS': 24, 'PRED': 23, 'OT': 8, 'ORD': 20, 'OB_PERF': 15, 'OBSESS': 11, 'NEU': 25, 'IUS-P': 12, 'IUS-I': 6, 'INDEC_F': 13, 'HOARD': 30, 'HARM': 28, 'G_SE': 19, 'DASS-21 Stress': 5, 'DASS-21 Dep': 7, 'CHECK': 29, 'BIS': 3, 'BAS_PRZY': 21, 'BAS_NAG': 17, 'BAS_D': 22, 'AMB': 9}\n",
      "INFO:root:{'e_ERN': 19, 'WBSI': 23, 'WASH': 5, 'T-CTR': 24, 'STAND': 20, 'STAI-T': 26, 'STAI-S Diff': 30, 'SES': 7, 'RRQ': 1, 'REW': 11, 'PUN': 28, 'PS': 12, 'PRED': 16, 'OT': 17, 'ORD': 8, 'OB_PERF': 27, 'OBSESS': 14, 'NEU': 10, 'IUS-P': 29, 'IUS-I': 13, 'INDEC_F': 6, 'HOARD': 31, 'HARM': 18, 'G_SE': 3, 'DASS-21 Stress': 2, 'DASS-21 Dep': 32, 'CHECK': 22, 'BIS': 4, 'BAS_PRZY': 9, 'BAS_NAG': 21, 'BAS_D': 15, 'AMB': 25}\n",
      "INFO:root:{'e_ERN': 19, 'WBSI': 23, 'WASH': 5, 'T-CTR': 24, 'STAND': 20, 'STAI-T': 26, 'STAI-S Diff': 30, 'SES': 7, 'RRQ': 1, 'REW': 11, 'PUN': 28, 'PS': 12, 'PRED': 16, 'OT': 17, 'ORD': 8, 'OB_PERF': 27, 'OBSESS': 14, 'NEU': 10, 'IUS-P': 29, 'IUS-I': 13, 'INDEC_F': 6, 'HOARD': 31, 'HARM': 18, 'G_SE': 3, 'DASS-21 Stress': 2, 'DASS-21 Dep': 32, 'CHECK': 22, 'BIS': 4, 'BAS_PRZY': 9, 'BAS_NAG': 21, 'BAS_D': 15, 'AMB': 25}\n",
      "INFO:root:{'e_ERN': 32, 'WBSI': 28, 'WASH': 16, 'T-CTR': 25, 'STAND': 19, 'STAI-T': 2, 'STAI-S Diff': 30, 'SES': 5, 'RRQ': 11, 'REW': 22, 'PUN': 10, 'PS': 4, 'PRED': 3, 'OT': 7, 'ORD': 8, 'OB_PERF': 15, 'OBSESS': 13, 'NEU': 23, 'IUS-P': 24, 'IUS-I': 17, 'INDEC_F': 14, 'HOARD': 29, 'HARM': 26, 'G_SE': 27, 'DASS-21 Stress': 12, 'DASS-21 Dep': 9, 'CHECK': 31, 'BIS': 1, 'BAS_PRZY': 6, 'BAS_NAG': 18, 'BAS_D': 21, 'AMB': 20}\n",
      "INFO:root:{'e_ERN': 1, 'WBSI': 9, 'WASH': 13, 'T-CTR': 29, 'STAND': 18, 'STAI-T': 23, 'STAI-S Diff': 6, 'SES': 7, 'RRQ': 21, 'REW': 8, 'PUN': 30, 'PS': 25, 'PRED': 31, 'OT': 11, 'ORD': 28, 'OB_PERF': 32, 'OBSESS': 14, 'NEU': 12, 'IUS-P': 16, 'IUS-I': 15, 'INDEC_F': 3, 'HOARD': 24, 'HARM': 20, 'G_SE': 2, 'DASS-21 Stress': 5, 'DASS-21 Dep': 26, 'CHECK': 4, 'BIS': 27, 'BAS_PRZY': 19, 'BAS_NAG': 10, 'BAS_D': 22, 'AMB': 17}\n",
      "INFO:root:{'e_ERN': 32, 'WBSI': 28, 'WASH': 15, 'T-CTR': 22, 'STAND': 25, 'STAI-T': 7, 'STAI-S Diff': 30, 'SES': 5, 'RRQ': 8, 'REW': 23, 'PUN': 11, 'PS': 3, 'PRED': 2, 'OT': 6, 'ORD': 10, 'OB_PERF': 12, 'OBSESS': 9, 'NEU': 21, 'IUS-P': 27, 'IUS-I': 16, 'INDEC_F': 17, 'HOARD': 29, 'HARM': 26, 'G_SE': 20, 'DASS-21 Stress': 14, 'DASS-21 Dep': 13, 'CHECK': 31, 'BIS': 1, 'BAS_PRZY': 4, 'BAS_NAG': 19, 'BAS_D': 18, 'AMB': 24}\n",
      "INFO:root:{'e_ERN': 25, 'WBSI': 30, 'WASH': 5, 'T-CTR': 23, 'STAND': 20, 'STAI-T': 29, 'STAI-S Diff': 22, 'SES': 3, 'RRQ': 6, 'REW': 12, 'PUN': 28, 'PS': 11, 'PRED': 13, 'OT': 17, 'ORD': 9, 'OB_PERF': 24, 'OBSESS': 10, 'NEU': 14, 'IUS-P': 31, 'IUS-I': 7, 'INDEC_F': 15, 'HOARD': 26, 'HARM': 18, 'G_SE': 2, 'DASS-21 Stress': 4, 'DASS-21 Dep': 32, 'CHECK': 27, 'BIS': 1, 'BAS_PRZY': 8, 'BAS_NAG': 21, 'BAS_D': 16, 'AMB': 19}\n"
     ]
    },
    {
     "name": "stdout",
     "output_type": "stream",
     "text": [
      "Measure: calculate_nodes_predictability  Level: 0.7999999999999998   sample: 0   : similarity: 0.9637096774193548\n",
      "Measure: degree_centrality  Level: 0.7999999999999998   sample: 0   : similarity: 0.17595307917888559\n",
      "Measure: closeness_centrality  Level: 0.7999999999999998   sample: 0   : similarity: 0.2313049853372434\n",
      "Measure: current_flow_closeness_centrality  Level: 0.7999999999999998   sample: 0   : similarity: 0.87683284457478\n",
      "Measure: betweenness_centrality  Level: 0.7999999999999998   sample: 0   : similarity: -0.013563049853372408\n",
      "Measure: current_flow_betweenness_centrality  Level: 0.7999999999999998   sample: 0   : similarity: 0.8189149560117301\n",
      "Measure: newman_betweenness_centrality  Level: 0.7999999999999998   sample: 0   : similarity: 0.3354105571847507\n",
      "X len inside samples: 207\n"
     ]
    },
    {
     "name": "stderr",
     "output_type": "stream",
     "text": [
      "[Parallel(n_jobs=10)]: Using backend ThreadingBackend with 10 concurrent workers.\n",
      "[Parallel(n_jobs=10)]: Done  30 tasks      | elapsed:    0.6s\n",
      "[Parallel(n_jobs=10)]: Done 180 tasks      | elapsed:    3.2s\n",
      "[Parallel(n_jobs=10)]: Done 430 tasks      | elapsed:    7.8s\n",
      "[Parallel(n_jobs=10)]: Done 780 tasks      | elapsed:   14.0s\n",
      "[Parallel(n_jobs=10)]: Done 1000 out of 1000 | elapsed:   18.0s finished\n",
      "INFO:root:{'e_ERN': 32, 'WBSI': 16, 'WASH': 22, 'T-CTR': 15, 'STAND': 26, 'STAI-T': 1, 'STAI-S Diff': 31, 'SES': 3, 'RRQ': 11, 'REW': 14, 'PUN': 2, 'PS': 24, 'PRED': 21, 'OT': 10, 'ORD': 18, 'OB_PERF': 17, 'OBSESS': 12, 'NEU': 29, 'IUS-P': 13, 'IUS-I': 8, 'INDEC_F': 6, 'HOARD': 25, 'HARM': 27, 'G_SE': 20, 'DASS-21 Stress': 4, 'DASS-21 Dep': 7, 'CHECK': 30, 'BIS': 5, 'BAS_PRZY': 23, 'BAS_NAG': 28, 'BAS_D': 19, 'AMB': 9}\n",
      "INFO:root:{'e_ERN': 19, 'WBSI': 31, 'WASH': 2, 'T-CTR': 15, 'STAND': 7, 'STAI-T': 11, 'STAI-S Diff': 1, 'SES': 18, 'RRQ': 27, 'REW': 4, 'PUN': 9, 'PS': 17, 'PRED': 25, 'OT': 16, 'ORD': 13, 'OB_PERF': 30, 'OBSESS': 22, 'NEU': 23, 'IUS-P': 21, 'IUS-I': 26, 'INDEC_F': 10, 'HOARD': 3, 'HARM': 12, 'G_SE': 5, 'DASS-21 Stress': 6, 'DASS-21 Dep': 28, 'CHECK': 8, 'BIS': 14, 'BAS_PRZY': 29, 'BAS_NAG': 20, 'BAS_D': 32, 'AMB': 24}\n",
      "INFO:root:{'e_ERN': 26, 'WBSI': 30, 'WASH': 2, 'T-CTR': 15, 'STAND': 7, 'STAI-T': 11, 'STAI-S Diff': 1, 'SES': 18, 'RRQ': 27, 'REW': 4, 'PUN': 9, 'PS': 17, 'PRED': 24, 'OT': 16, 'ORD': 13, 'OB_PERF': 29, 'OBSESS': 21, 'NEU': 22, 'IUS-P': 20, 'IUS-I': 25, 'INDEC_F': 10, 'HOARD': 3, 'HARM': 12, 'G_SE': 5, 'DASS-21 Stress': 6, 'DASS-21 Dep': 31, 'CHECK': 8, 'BIS': 14, 'BAS_PRZY': 28, 'BAS_NAG': 19, 'BAS_D': 32, 'AMB': 23}\n",
      "INFO:root:{'e_ERN': 32, 'WBSI': 22, 'WASH': 24, 'T-CTR': 19, 'STAND': 7, 'STAI-T': 1, 'STAI-S Diff': 18, 'SES': 2, 'RRQ': 21, 'REW': 11, 'PUN': 3, 'PS': 20, 'PRED': 10, 'OT': 8, 'ORD': 16, 'OB_PERF': 12, 'OBSESS': 13, 'NEU': 31, 'IUS-P': 25, 'IUS-I': 29, 'INDEC_F': 6, 'HOARD': 14, 'HARM': 27, 'G_SE': 17, 'DASS-21 Stress': 9, 'DASS-21 Dep': 5, 'CHECK': 26, 'BIS': 4, 'BAS_PRZY': 23, 'BAS_NAG': 15, 'BAS_D': 30, 'AMB': 28}\n",
      "INFO:root:{'e_ERN': 14, 'WBSI': 30, 'WASH': 13, 'T-CTR': 7, 'STAND': 31, 'STAI-T': 16, 'STAI-S Diff': 3, 'SES': 11, 'RRQ': 4, 'REW': 8, 'PUN': 23, 'PS': 6, 'PRED': 22, 'OT': 9, 'ORD': 25, 'OB_PERF': 27, 'OBSESS': 21, 'NEU': 2, 'IUS-P': 29, 'IUS-I': 18, 'INDEC_F': 10, 'HOARD': 12, 'HARM': 5, 'G_SE': 19, 'DASS-21 Stress': 1, 'DASS-21 Dep': 32, 'CHECK': 15, 'BIS': 24, 'BAS_PRZY': 26, 'BAS_NAG': 28, 'BAS_D': 20, 'AMB': 17}\n",
      "INFO:root:{'e_ERN': 32, 'WBSI': 20, 'WASH': 23, 'T-CTR': 19, 'STAND': 6, 'STAI-T': 1, 'STAI-S Diff': 24, 'SES': 3, 'RRQ': 25, 'REW': 10, 'PUN': 2, 'PS': 15, 'PRED': 5, 'OT': 8, 'ORD': 16, 'OB_PERF': 12, 'OBSESS': 14, 'NEU': 31, 'IUS-P': 18, 'IUS-I': 30, 'INDEC_F': 7, 'HOARD': 9, 'HARM': 28, 'G_SE': 21, 'DASS-21 Stress': 22, 'DASS-21 Dep': 11, 'CHECK': 26, 'BIS': 4, 'BAS_PRZY': 17, 'BAS_NAG': 13, 'BAS_D': 27, 'AMB': 29}\n",
      "INFO:root:{'e_ERN': 26, 'WBSI': 29, 'WASH': 6, 'T-CTR': 16, 'STAND': 4, 'STAI-T': 10, 'STAI-S Diff': 3, 'SES': 19, 'RRQ': 27, 'REW': 2, 'PUN': 11, 'PS': 18, 'PRED': 25, 'OT': 13, 'ORD': 9, 'OB_PERF': 28, 'OBSESS': 20, 'NEU': 24, 'IUS-P': 14, 'IUS-I': 23, 'INDEC_F': 8, 'HOARD': 1, 'HARM': 17, 'G_SE': 7, 'DASS-21 Stress': 5, 'DASS-21 Dep': 30, 'CHECK': 12, 'BIS': 15, 'BAS_PRZY': 31, 'BAS_NAG': 21, 'BAS_D': 32, 'AMB': 22}\n"
     ]
    },
    {
     "name": "stdout",
     "output_type": "stream",
     "text": [
      "Measure: calculate_nodes_predictability  Level: 0.7999999999999998   sample: 1   : similarity: 0.9475806451612901\n",
      "Measure: degree_centrality  Level: 0.7999999999999998   sample: 1   : similarity: -0.18841642228738997\n",
      "Measure: closeness_centrality  Level: 0.7999999999999998   sample: 1   : similarity: -0.093841642228739\n",
      "Measure: current_flow_closeness_centrality  Level: 0.7999999999999998   sample: 1   : similarity: 0.6162023460410555\n",
      "Measure: betweenness_centrality  Level: 0.7999999999999998   sample: 1   : similarity: 0.15799120234604105\n",
      "Measure: current_flow_betweenness_centrality  Level: 0.7999999999999998   sample: 1   : similarity: 0.5245601173020527\n",
      "Measure: newman_betweenness_centrality  Level: 0.7999999999999998   sample: 1   : similarity: -0.03372434017595309\n",
      "X len before samples: 194\n",
      "X len inside samples: 194\n"
     ]
    },
    {
     "name": "stderr",
     "output_type": "stream",
     "text": [
      "[Parallel(n_jobs=10)]: Using backend ThreadingBackend with 10 concurrent workers.\n",
      "[Parallel(n_jobs=10)]: Done  30 tasks      | elapsed:    0.6s\n",
      "[Parallel(n_jobs=10)]: Done 180 tasks      | elapsed:    2.7s\n",
      "[Parallel(n_jobs=10)]: Done 430 tasks      | elapsed:    6.3s\n",
      "[Parallel(n_jobs=10)]: Done 780 tasks      | elapsed:   11.1s\n",
      "[Parallel(n_jobs=10)]: Done 1000 out of 1000 | elapsed:   14.0s finished\n",
      "INFO:root:{'e_ERN': 31, 'WBSI': 17, 'WASH': 27, 'T-CTR': 15, 'STAND': 26, 'STAI-T': 1, 'STAI-S Diff': 32, 'SES': 2, 'RRQ': 13, 'REW': 16, 'PUN': 3, 'PS': 24, 'PRED': 18, 'OT': 9, 'ORD': 19, 'OB_PERF': 12, 'OBSESS': 11, 'NEU': 25, 'IUS-P': 14, 'IUS-I': 6, 'INDEC_F': 8, 'HOARD': 29, 'HARM': 28, 'G_SE': 23, 'DASS-21 Stress': 7, 'DASS-21 Dep': 5, 'CHECK': 30, 'BIS': 4, 'BAS_PRZY': 22, 'BAS_NAG': 21, 'BAS_D': 20, 'AMB': 10}\n",
      "INFO:root:{'e_ERN': 24, 'WBSI': 10, 'WASH': 14, 'T-CTR': 23, 'STAND': 13, 'STAI-T': 27, 'STAI-S Diff': 5, 'SES': 9, 'RRQ': 20, 'REW': 29, 'PUN': 21, 'PS': 6, 'PRED': 19, 'OT': 28, 'ORD': 8, 'OB_PERF': 4, 'OBSESS': 15, 'NEU': 17, 'IUS-P': 31, 'IUS-I': 2, 'INDEC_F': 11, 'HOARD': 25, 'HARM': 26, 'G_SE': 1, 'DASS-21 Stress': 3, 'DASS-21 Dep': 22, 'CHECK': 16, 'BIS': 7, 'BAS_PRZY': 12, 'BAS_NAG': 30, 'BAS_D': 18, 'AMB': 32}\n",
      "INFO:root:{'e_ERN': 24, 'WBSI': 10, 'WASH': 14, 'T-CTR': 23, 'STAND': 13, 'STAI-T': 29, 'STAI-S Diff': 5, 'SES': 9, 'RRQ': 20, 'REW': 28, 'PUN': 21, 'PS': 6, 'PRED': 19, 'OT': 27, 'ORD': 8, 'OB_PERF': 4, 'OBSESS': 15, 'NEU': 17, 'IUS-P': 31, 'IUS-I': 2, 'INDEC_F': 11, 'HOARD': 25, 'HARM': 26, 'G_SE': 1, 'DASS-21 Stress': 3, 'DASS-21 Dep': 22, 'CHECK': 16, 'BIS': 7, 'BAS_PRZY': 12, 'BAS_NAG': 30, 'BAS_D': 18, 'AMB': 32}\n",
      "INFO:root:{'e_ERN': 32, 'WBSI': 22, 'WASH': 28, 'T-CTR': 30, 'STAND': 8, 'STAI-T': 6, 'STAI-S Diff': 14, 'SES': 1, 'RRQ': 17, 'REW': 23, 'PUN': 15, 'PS': 5, 'PRED': 18, 'OT': 13, 'ORD': 4, 'OB_PERF': 9, 'OBSESS': 12, 'NEU': 20, 'IUS-P': 29, 'IUS-I': 16, 'INDEC_F': 10, 'HOARD': 31, 'HARM': 27, 'G_SE': 24, 'DASS-21 Stress': 3, 'DASS-21 Dep': 11, 'CHECK': 26, 'BIS': 2, 'BAS_PRZY': 7, 'BAS_NAG': 21, 'BAS_D': 19, 'AMB': 25}\n",
      "INFO:root:{'e_ERN': 6, 'WBSI': 5, 'WASH': 1, 'T-CTR': 12, 'STAND': 25, 'STAI-T': 30, 'STAI-S Diff': 21, 'SES': 22, 'RRQ': 29, 'REW': 24, 'PUN': 23, 'PS': 26, 'PRED': 16, 'OT': 31, 'ORD': 27, 'OB_PERF': 17, 'OBSESS': 18, 'NEU': 9, 'IUS-P': 11, 'IUS-I': 7, 'INDEC_F': 32, 'HOARD': 3, 'HARM': 20, 'G_SE': 2, 'DASS-21 Stress': 10, 'DASS-21 Dep': 4, 'CHECK': 8, 'BIS': 28, 'BAS_PRZY': 15, 'BAS_NAG': 14, 'BAS_D': 13, 'AMB': 19}\n",
      "INFO:root:{'e_ERN': 32, 'WBSI': 21, 'WASH': 29, 'T-CTR': 30, 'STAND': 12, 'STAI-T': 8, 'STAI-S Diff': 15, 'SES': 1, 'RRQ': 16, 'REW': 22, 'PUN': 18, 'PS': 5, 'PRED': 11, 'OT': 13, 'ORD': 2, 'OB_PERF': 10, 'OBSESS': 7, 'NEU': 17, 'IUS-P': 27, 'IUS-I': 14, 'INDEC_F': 9, 'HOARD': 31, 'HARM': 28, 'G_SE': 25, 'DASS-21 Stress': 4, 'DASS-21 Dep': 24, 'CHECK': 26, 'BIS': 3, 'BAS_PRZY': 6, 'BAS_NAG': 23, 'BAS_D': 19, 'AMB': 20}\n",
      "INFO:root:{'e_ERN': 26, 'WBSI': 14, 'WASH': 16, 'T-CTR': 22, 'STAND': 18, 'STAI-T': 28, 'STAI-S Diff': 10, 'SES': 4, 'RRQ': 20, 'REW': 24, 'PUN': 23, 'PS': 7, 'PRED': 13, 'OT': 29, 'ORD': 11, 'OB_PERF': 8, 'OBSESS': 9, 'NEU': 17, 'IUS-P': 32, 'IUS-I': 2, 'INDEC_F': 12, 'HOARD': 21, 'HARM': 25, 'G_SE': 1, 'DASS-21 Stress': 3, 'DASS-21 Dep': 27, 'CHECK': 15, 'BIS': 6, 'BAS_PRZY': 5, 'BAS_NAG': 30, 'BAS_D': 19, 'AMB': 31}\n"
     ]
    },
    {
     "name": "stdout",
     "output_type": "stream",
     "text": [
      "Measure: calculate_nodes_predictability  Level: 0.7499999999999998   sample: 0   : similarity: 0.9765395894428152\n",
      "Measure: degree_centrality  Level: 0.7499999999999998   sample: 0   : similarity: 0.07074780058651023\n",
      "Measure: closeness_centrality  Level: 0.7499999999999998   sample: 0   : similarity: 0.11730205278592373\n",
      "Measure: current_flow_closeness_centrality  Level: 0.7499999999999998   sample: 0   : similarity: 0.7074780058651026\n",
      "Measure: betweenness_centrality  Level: 0.7499999999999998   sample: 0   : similarity: 0.03189149560117302\n",
      "Measure: current_flow_betweenness_centrality  Level: 0.7499999999999998   sample: 0   : similarity: 0.6356304985337242\n",
      "Measure: newman_betweenness_centrality  Level: 0.7499999999999998   sample: 0   : similarity: 0.1781524926686217\n",
      "X len inside samples: 194\n"
     ]
    },
    {
     "name": "stderr",
     "output_type": "stream",
     "text": [
      "[Parallel(n_jobs=10)]: Using backend ThreadingBackend with 10 concurrent workers.\n",
      "[Parallel(n_jobs=10)]: Done  30 tasks      | elapsed:    0.7s\n",
      "[Parallel(n_jobs=10)]: Done 180 tasks      | elapsed:    3.9s\n",
      "[Parallel(n_jobs=10)]: Done 430 tasks      | elapsed:    9.2s\n",
      "[Parallel(n_jobs=10)]: Done 780 tasks      | elapsed:   17.0s\n",
      "[Parallel(n_jobs=10)]: Done 1000 out of 1000 | elapsed:   23.1s finished\n",
      "INFO:root:{'e_ERN': 31, 'WBSI': 18, 'WASH': 26, 'T-CTR': 15, 'STAND': 27, 'STAI-T': 1, 'STAI-S Diff': 32, 'SES': 4, 'RRQ': 12, 'REW': 25, 'PUN': 3, 'PS': 24, 'PRED': 20, 'OT': 9, 'ORD': 17, 'OB_PERF': 13, 'OBSESS': 11, 'NEU': 23, 'IUS-P': 14, 'IUS-I': 8, 'INDEC_F': 6, 'HOARD': 28, 'HARM': 29, 'G_SE': 19, 'DASS-21 Stress': 7, 'DASS-21 Dep': 5, 'CHECK': 30, 'BIS': 2, 'BAS_PRZY': 16, 'BAS_NAG': 21, 'BAS_D': 22, 'AMB': 10}\n",
      "INFO:root:{'e_ERN': 14, 'WBSI': 29, 'WASH': 6, 'T-CTR': 15, 'STAND': 13, 'STAI-T': 31, 'STAI-S Diff': 28, 'SES': 32, 'RRQ': 26, 'REW': 7, 'PUN': 25, 'PS': 4, 'PRED': 12, 'OT': 3, 'ORD': 1, 'OB_PERF': 11, 'OBSESS': 18, 'NEU': 2, 'IUS-P': 16, 'IUS-I': 22, 'INDEC_F': 9, 'HOARD': 10, 'HARM': 30, 'G_SE': 8, 'DASS-21 Stress': 27, 'DASS-21 Dep': 24, 'CHECK': 19, 'BIS': 20, 'BAS_PRZY': 5, 'BAS_NAG': 17, 'BAS_D': 21, 'AMB': 23}\n",
      "INFO:root:{'e_ERN': 14, 'WBSI': 29, 'WASH': 6, 'T-CTR': 15, 'STAND': 13, 'STAI-T': 31, 'STAI-S Diff': 28, 'SES': 32, 'RRQ': 26, 'REW': 7, 'PUN': 25, 'PS': 4, 'PRED': 12, 'OT': 3, 'ORD': 1, 'OB_PERF': 11, 'OBSESS': 18, 'NEU': 2, 'IUS-P': 16, 'IUS-I': 22, 'INDEC_F': 9, 'HOARD': 10, 'HARM': 30, 'G_SE': 8, 'DASS-21 Stress': 27, 'DASS-21 Dep': 24, 'CHECK': 19, 'BIS': 20, 'BAS_PRZY': 5, 'BAS_NAG': 17, 'BAS_D': 21, 'AMB': 23}\n",
      "INFO:root:{'e_ERN': 28, 'WBSI': 26, 'WASH': 25, 'T-CTR': 13, 'STAND': 20, 'STAI-T': 5, 'STAI-S Diff': 32, 'SES': 2, 'RRQ': 27, 'REW': 24, 'PUN': 10, 'PS': 21, 'PRED': 6, 'OT': 3, 'ORD': 1, 'OB_PERF': 18, 'OBSESS': 9, 'NEU': 12, 'IUS-P': 15, 'IUS-I': 16, 'INDEC_F': 8, 'HOARD': 30, 'HARM': 31, 'G_SE': 22, 'DASS-21 Stress': 19, 'DASS-21 Dep': 7, 'CHECK': 29, 'BIS': 4, 'BAS_PRZY': 11, 'BAS_NAG': 14, 'BAS_D': 17, 'AMB': 23}\n",
      "INFO:root:{'e_ERN': 18, 'WBSI': 25, 'WASH': 2, 'T-CTR': 3, 'STAND': 32, 'STAI-T': 19, 'STAI-S Diff': 8, 'SES': 31, 'RRQ': 20, 'REW': 7, 'PUN': 12, 'PS': 11, 'PRED': 28, 'OT': 10, 'ORD': 6, 'OB_PERF': 26, 'OBSESS': 17, 'NEU': 14, 'IUS-P': 29, 'IUS-I': 16, 'INDEC_F': 4, 'HOARD': 13, 'HARM': 23, 'G_SE': 21, 'DASS-21 Stress': 27, 'DASS-21 Dep': 22, 'CHECK': 5, 'BIS': 30, 'BAS_PRZY': 15, 'BAS_NAG': 24, 'BAS_D': 9, 'AMB': 1}\n",
      "INFO:root:{'e_ERN': 26, 'WBSI': 20, 'WASH': 28, 'T-CTR': 11, 'STAND': 22, 'STAI-T': 6, 'STAI-S Diff': 32, 'SES': 1, 'RRQ': 25, 'REW': 27, 'PUN': 10, 'PS': 15, 'PRED': 2, 'OT': 3, 'ORD': 5, 'OB_PERF': 17, 'OBSESS': 7, 'NEU': 13, 'IUS-P': 21, 'IUS-I': 19, 'INDEC_F': 9, 'HOARD': 31, 'HARM': 30, 'G_SE': 18, 'DASS-21 Stress': 16, 'DASS-21 Dep': 8, 'CHECK': 29, 'BIS': 4, 'BAS_PRZY': 12, 'BAS_NAG': 14, 'BAS_D': 23, 'AMB': 24}\n",
      "INFO:root:{'e_ERN': 14, 'WBSI': 29, 'WASH': 10, 'T-CTR': 22, 'STAND': 15, 'STAI-T': 25, 'STAI-S Diff': 31, 'SES': 32, 'RRQ': 23, 'REW': 5, 'PUN': 28, 'PS': 3, 'PRED': 19, 'OT': 7, 'ORD': 1, 'OB_PERF': 11, 'OBSESS': 18, 'NEU': 2, 'IUS-P': 26, 'IUS-I': 16, 'INDEC_F': 6, 'HOARD': 13, 'HARM': 30, 'G_SE': 12, 'DASS-21 Stress': 27, 'DASS-21 Dep': 21, 'CHECK': 20, 'BIS': 9, 'BAS_PRZY': 4, 'BAS_NAG': 8, 'BAS_D': 17, 'AMB': 24}\n"
     ]
    },
    {
     "name": "stdout",
     "output_type": "stream",
     "text": [
      "Measure: calculate_nodes_predictability  Level: 0.7499999999999998   sample: 1   : similarity: 0.9541788856304984\n",
      "Measure: degree_centrality  Level: 0.7499999999999998   sample: 1   : similarity: 0.2983870967741935\n",
      "Measure: closeness_centrality  Level: 0.7499999999999998   sample: 1   : similarity: 0.37206744868035185\n",
      "Measure: current_flow_closeness_centrality  Level: 0.7499999999999998   sample: 1   : similarity: 0.726539589442815\n",
      "Measure: betweenness_centrality  Level: 0.7499999999999998   sample: 1   : similarity: 0.24486803519061587\n",
      "Measure: current_flow_betweenness_centrality  Level: 0.7499999999999998   sample: 1   : similarity: 0.690982404692082\n",
      "Measure: newman_betweenness_centrality  Level: 0.7499999999999998   sample: 1   : similarity: 0.38123167155425214\n",
      "X len before samples: 181\n",
      "X len inside samples: 181\n"
     ]
    },
    {
     "name": "stderr",
     "output_type": "stream",
     "text": [
      "[Parallel(n_jobs=10)]: Using backend ThreadingBackend with 10 concurrent workers.\n",
      "[Parallel(n_jobs=10)]: Done  30 tasks      | elapsed:    0.5s\n",
      "[Parallel(n_jobs=10)]: Done 180 tasks      | elapsed:    3.0s\n",
      "[Parallel(n_jobs=10)]: Done 430 tasks      | elapsed:    8.0s\n",
      "[Parallel(n_jobs=10)]: Done 780 tasks      | elapsed:   14.0s\n",
      "[Parallel(n_jobs=10)]: Done 1000 out of 1000 | elapsed:   17.6s finished\n",
      "INFO:root:{'e_ERN': 32, 'WBSI': 18, 'WASH': 26, 'T-CTR': 16, 'STAND': 25, 'STAI-T': 1, 'STAI-S Diff': 31, 'SES': 3, 'RRQ': 10, 'REW': 17, 'PUN': 2, 'PS': 22, 'PRED': 21, 'OT': 9, 'ORD': 23, 'OB_PERF': 14, 'OBSESS': 12, 'NEU': 24, 'IUS-P': 13, 'IUS-I': 8, 'INDEC_F': 11, 'HOARD': 27, 'HARM': 30, 'G_SE': 28, 'DASS-21 Stress': 7, 'DASS-21 Dep': 6, 'CHECK': 29, 'BIS': 4, 'BAS_PRZY': 19, 'BAS_NAG': 20, 'BAS_D': 15, 'AMB': 5}\n",
      "INFO:root:{'e_ERN': 27, 'WBSI': 23, 'WASH': 29, 'T-CTR': 26, 'STAND': 2, 'STAI-T': 5, 'STAI-S Diff': 24, 'SES': 16, 'RRQ': 9, 'REW': 3, 'PUN': 15, 'PS': 11, 'PRED': 20, 'OT': 17, 'ORD': 31, 'OB_PERF': 30, 'OBSESS': 22, 'NEU': 14, 'IUS-P': 12, 'IUS-I': 6, 'INDEC_F': 19, 'HOARD': 8, 'HARM': 32, 'G_SE': 21, 'DASS-21 Stress': 10, 'DASS-21 Dep': 18, 'CHECK': 28, 'BIS': 13, 'BAS_PRZY': 1, 'BAS_NAG': 25, 'BAS_D': 7, 'AMB': 4}\n",
      "INFO:root:{'e_ERN': 25, 'WBSI': 22, 'WASH': 28, 'T-CTR': 30, 'STAND': 2, 'STAI-T': 5, 'STAI-S Diff': 27, 'SES': 15, 'RRQ': 9, 'REW': 3, 'PUN': 19, 'PS': 11, 'PRED': 18, 'OT': 16, 'ORD': 31, 'OB_PERF': 29, 'OBSESS': 21, 'NEU': 14, 'IUS-P': 12, 'IUS-I': 6, 'INDEC_F': 17, 'HOARD': 8, 'HARM': 32, 'G_SE': 20, 'DASS-21 Stress': 10, 'DASS-21 Dep': 23, 'CHECK': 26, 'BIS': 13, 'BAS_PRZY': 1, 'BAS_NAG': 24, 'BAS_D': 7, 'AMB': 4}\n",
      "INFO:root:{'e_ERN': 28, 'WBSI': 21, 'WASH': 27, 'T-CTR': 29, 'STAND': 6, 'STAI-T': 1, 'STAI-S Diff': 31, 'SES': 2, 'RRQ': 11, 'REW': 22, 'PUN': 3, 'PS': 12, 'PRED': 14, 'OT': 7, 'ORD': 23, 'OB_PERF': 16, 'OBSESS': 15, 'NEU': 30, 'IUS-P': 19, 'IUS-I': 13, 'INDEC_F': 18, 'HOARD': 25, 'HARM': 32, 'G_SE': 24, 'DASS-21 Stress': 17, 'DASS-21 Dep': 4, 'CHECK': 26, 'BIS': 5, 'BAS_PRZY': 10, 'BAS_NAG': 20, 'BAS_D': 8, 'AMB': 9}\n",
      "INFO:root:{'e_ERN': 29, 'WBSI': 10, 'WASH': 24, 'T-CTR': 11, 'STAND': 21, 'STAI-T': 27, 'STAI-S Diff': 13, 'SES': 25, 'RRQ': 7, 'REW': 6, 'PUN': 2, 'PS': 16, 'PRED': 26, 'OT': 17, 'ORD': 18, 'OB_PERF': 32, 'OBSESS': 19, 'NEU': 1, 'IUS-P': 5, 'IUS-I': 4, 'INDEC_F': 28, 'HOARD': 3, 'HARM': 23, 'G_SE': 15, 'DASS-21 Stress': 14, 'DASS-21 Dep': 20, 'CHECK': 12, 'BIS': 31, 'BAS_PRZY': 8, 'BAS_NAG': 9, 'BAS_D': 22, 'AMB': 30}\n",
      "INFO:root:{'e_ERN': 31, 'WBSI': 25, 'WASH': 20, 'T-CTR': 28, 'STAND': 3, 'STAI-T': 1, 'STAI-S Diff': 30, 'SES': 6, 'RRQ': 9, 'REW': 23, 'PUN': 13, 'PS': 10, 'PRED': 14, 'OT': 2, 'ORD': 19, 'OB_PERF': 4, 'OBSESS': 11, 'NEU': 27, 'IUS-P': 21, 'IUS-I': 16, 'INDEC_F': 17, 'HOARD': 29, 'HARM': 32, 'G_SE': 26, 'DASS-21 Stress': 18, 'DASS-21 Dep': 7, 'CHECK': 24, 'BIS': 15, 'BAS_PRZY': 5, 'BAS_NAG': 22, 'BAS_D': 12, 'AMB': 8}\n",
      "INFO:root:{'e_ERN': 32, 'WBSI': 27, 'WASH': 29, 'T-CTR': 24, 'STAND': 2, 'STAI-T': 10, 'STAI-S Diff': 23, 'SES': 19, 'RRQ': 6, 'REW': 3, 'PUN': 14, 'PS': 12, 'PRED': 18, 'OT': 16, 'ORD': 30, 'OB_PERF': 20, 'OBSESS': 13, 'NEU': 5, 'IUS-P': 17, 'IUS-I': 9, 'INDEC_F': 25, 'HOARD': 8, 'HARM': 31, 'G_SE': 15, 'DASS-21 Stress': 7, 'DASS-21 Dep': 28, 'CHECK': 26, 'BIS': 21, 'BAS_PRZY': 1, 'BAS_NAG': 22, 'BAS_D': 11, 'AMB': 4}\n"
     ]
    },
    {
     "name": "stdout",
     "output_type": "stream",
     "text": [
      "Measure: calculate_nodes_predictability  Level: 0.6999999999999997   sample: 0   : similarity: 0.9864369501466274\n",
      "Measure: degree_centrality  Level: 0.6999999999999997   sample: 0   : similarity: 0.1286656891495601\n",
      "Measure: closeness_centrality  Level: 0.6999999999999997   sample: 0   : similarity: 0.14809384164222875\n",
      "Measure: current_flow_closeness_centrality  Level: 0.6999999999999997   sample: 0   : similarity: 0.850073313782991\n",
      "Measure: betweenness_centrality  Level: 0.6999999999999997   sample: 0   : similarity: -0.06524926686217006\n",
      "Measure: current_flow_betweenness_centrality  Level: 0.6999999999999997   sample: 0   : similarity: 0.7173753665689149\n",
      "Measure: newman_betweenness_centrality  Level: 0.6999999999999997   sample: 0   : similarity: -0.015762463343108497\n",
      "X len inside samples: 181\n"
     ]
    },
    {
     "name": "stderr",
     "output_type": "stream",
     "text": [
      "[Parallel(n_jobs=10)]: Using backend ThreadingBackend with 10 concurrent workers.\n",
      "[Parallel(n_jobs=10)]: Done  30 tasks      | elapsed:    0.6s\n",
      "[Parallel(n_jobs=10)]: Done 180 tasks      | elapsed:    2.6s\n",
      "[Parallel(n_jobs=10)]: Done 430 tasks      | elapsed:    6.2s\n",
      "[Parallel(n_jobs=10)]: Done 780 tasks      | elapsed:   11.2s\n",
      "[Parallel(n_jobs=10)]: Done 1000 out of 1000 | elapsed:   14.1s finished\n",
      "INFO:root:{'e_ERN': 32, 'WBSI': 14, 'WASH': 27, 'T-CTR': 18, 'STAND': 26, 'STAI-T': 1, 'STAI-S Diff': 31, 'SES': 2, 'RRQ': 8, 'REW': 16, 'PUN': 4, 'PS': 25, 'PRED': 19, 'OT': 10, 'ORD': 21, 'OB_PERF': 15, 'OBSESS': 12, 'NEU': 23, 'IUS-P': 13, 'IUS-I': 5, 'INDEC_F': 11, 'HOARD': 28, 'HARM': 30, 'G_SE': 24, 'DASS-21 Stress': 7, 'DASS-21 Dep': 6, 'CHECK': 29, 'BIS': 3, 'BAS_PRZY': 22, 'BAS_NAG': 20, 'BAS_D': 17, 'AMB': 9}\n",
      "INFO:root:{'e_ERN': 32, 'WBSI': 9, 'WASH': 3, 'T-CTR': 13, 'STAND': 7, 'STAI-T': 24, 'STAI-S Diff': 25, 'SES': 11, 'RRQ': 14, 'REW': 4, 'PUN': 16, 'PS': 26, 'PRED': 5, 'OT': 30, 'ORD': 10, 'OB_PERF': 17, 'OBSESS': 8, 'NEU': 22, 'IUS-P': 12, 'IUS-I': 19, 'INDEC_F': 21, 'HOARD': 6, 'HARM': 31, 'G_SE': 2, 'DASS-21 Stress': 15, 'DASS-21 Dep': 23, 'CHECK': 28, 'BIS': 1, 'BAS_PRZY': 27, 'BAS_NAG': 29, 'BAS_D': 20, 'AMB': 18}\n",
      "INFO:root:{'e_ERN': 32, 'WBSI': 9, 'WASH': 3, 'T-CTR': 17, 'STAND': 7, 'STAI-T': 25, 'STAI-S Diff': 23, 'SES': 11, 'RRQ': 18, 'REW': 4, 'PUN': 13, 'PS': 26, 'PRED': 5, 'OT': 28, 'ORD': 10, 'OB_PERF': 20, 'OBSESS': 8, 'NEU': 22, 'IUS-P': 16, 'IUS-I': 15, 'INDEC_F': 19, 'HOARD': 6, 'HARM': 30, 'G_SE': 2, 'DASS-21 Stress': 12, 'DASS-21 Dep': 24, 'CHECK': 29, 'BIS': 1, 'BAS_PRZY': 27, 'BAS_NAG': 31, 'BAS_D': 21, 'AMB': 14}\n",
      "INFO:root:{'e_ERN': 32, 'WBSI': 21, 'WASH': 25, 'T-CTR': 12, 'STAND': 8, 'STAI-T': 3, 'STAI-S Diff': 31, 'SES': 1, 'RRQ': 24, 'REW': 7, 'PUN': 6, 'PS': 27, 'PRED': 16, 'OT': 5, 'ORD': 15, 'OB_PERF': 14, 'OBSESS': 9, 'NEU': 28, 'IUS-P': 20, 'IUS-I': 23, 'INDEC_F': 11, 'HOARD': 26, 'HARM': 29, 'G_SE': 13, 'DASS-21 Stress': 22, 'DASS-21 Dep': 17, 'CHECK': 30, 'BIS': 2, 'BAS_PRZY': 18, 'BAS_NAG': 10, 'BAS_D': 19, 'AMB': 4}\n",
      "INFO:root:{'e_ERN': 7, 'WBSI': 20, 'WASH': 13, 'T-CTR': 3, 'STAND': 11, 'STAI-T': 23, 'STAI-S Diff': 12, 'SES': 24, 'RRQ': 2, 'REW': 22, 'PUN': 9, 'PS': 30, 'PRED': 15, 'OT': 32, 'ORD': 17, 'OB_PERF': 28, 'OBSESS': 14, 'NEU': 16, 'IUS-P': 18, 'IUS-I': 8, 'INDEC_F': 27, 'HOARD': 5, 'HARM': 19, 'G_SE': 4, 'DASS-21 Stress': 21, 'DASS-21 Dep': 6, 'CHECK': 26, 'BIS': 1, 'BAS_PRZY': 31, 'BAS_NAG': 29, 'BAS_D': 25, 'AMB': 10}\n",
      "INFO:root:{'e_ERN': 32, 'WBSI': 21, 'WASH': 15, 'T-CTR': 9, 'STAND': 10, 'STAI-T': 7, 'STAI-S Diff': 30, 'SES': 1, 'RRQ': 17, 'REW': 14, 'PUN': 12, 'PS': 27, 'PRED': 13, 'OT': 4, 'ORD': 5, 'OB_PERF': 6, 'OBSESS': 2, 'NEU': 29, 'IUS-P': 20, 'IUS-I': 26, 'INDEC_F': 11, 'HOARD': 25, 'HARM': 31, 'G_SE': 16, 'DASS-21 Stress': 24, 'DASS-21 Dep': 23, 'CHECK': 28, 'BIS': 8, 'BAS_PRZY': 18, 'BAS_NAG': 19, 'BAS_D': 22, 'AMB': 3}\n",
      "INFO:root:{'e_ERN': 32, 'WBSI': 12, 'WASH': 2, 'T-CTR': 9, 'STAND': 8, 'STAI-T': 24, 'STAI-S Diff': 23, 'SES': 11, 'RRQ': 13, 'REW': 10, 'PUN': 16, 'PS': 28, 'PRED': 5, 'OT': 29, 'ORD': 4, 'OB_PERF': 17, 'OBSESS': 7, 'NEU': 26, 'IUS-P': 15, 'IUS-I': 20, 'INDEC_F': 19, 'HOARD': 6, 'HARM': 31, 'G_SE': 3, 'DASS-21 Stress': 21, 'DASS-21 Dep': 27, 'CHECK': 22, 'BIS': 1, 'BAS_PRZY': 25, 'BAS_NAG': 30, 'BAS_D': 18, 'AMB': 14}\n"
     ]
    },
    {
     "name": "stdout",
     "output_type": "stream",
     "text": [
      "Measure: calculate_nodes_predictability  Level: 0.6999999999999997   sample: 1   : similarity: 0.9802052785923753\n",
      "Measure: degree_centrality  Level: 0.6999999999999997   sample: 1   : similarity: 0.17412023460410556\n",
      "Measure: closeness_centrality  Level: 0.6999999999999997   sample: 1   : similarity: 0.2258064516129032\n",
      "Measure: current_flow_closeness_centrality  Level: 0.6999999999999997   sample: 1   : similarity: 0.5971407624633431\n",
      "Measure: betweenness_centrality  Level: 0.6999999999999997   sample: 1   : similarity: 0.0069648093841642306\n",
      "Measure: current_flow_betweenness_centrality  Level: 0.6999999999999997   sample: 1   : similarity: 0.596041055718475\n",
      "Measure: newman_betweenness_centrality  Level: 0.6999999999999997   sample: 1   : similarity: 0.40542521994134895\n",
      "X len before samples: 168\n",
      "X len inside samples: 168\n"
     ]
    },
    {
     "name": "stderr",
     "output_type": "stream",
     "text": [
      "[Parallel(n_jobs=10)]: Using backend ThreadingBackend with 10 concurrent workers.\n",
      "[Parallel(n_jobs=10)]: Done  30 tasks      | elapsed:    0.7s\n",
      "[Parallel(n_jobs=10)]: Done 180 tasks      | elapsed:    3.0s\n",
      "[Parallel(n_jobs=10)]: Done 430 tasks      | elapsed:    6.9s\n",
      "[Parallel(n_jobs=10)]: Done 780 tasks      | elapsed:   12.1s\n",
      "[Parallel(n_jobs=10)]: Done 1000 out of 1000 | elapsed:   15.5s finished\n",
      "INFO:root:{'e_ERN': 32, 'WBSI': 12, 'WASH': 25, 'T-CTR': 17, 'STAND': 27, 'STAI-T': 1, 'STAI-S Diff': 31, 'SES': 5, 'RRQ': 9, 'REW': 19, 'PUN': 2, 'PS': 23, 'PRED': 22, 'OT': 11, 'ORD': 15, 'OB_PERF': 16, 'OBSESS': 13, 'NEU': 24, 'IUS-P': 14, 'IUS-I': 6, 'INDEC_F': 10, 'HOARD': 28, 'HARM': 29, 'G_SE': 26, 'DASS-21 Stress': 8, 'DASS-21 Dep': 4, 'CHECK': 30, 'BIS': 3, 'BAS_PRZY': 20, 'BAS_NAG': 21, 'BAS_D': 18, 'AMB': 7}\n",
      "INFO:root:{'e_ERN': 30, 'WBSI': 15, 'WASH': 6, 'T-CTR': 7, 'STAND': 28, 'STAI-T': 27, 'STAI-S Diff': 5, 'SES': 32, 'RRQ': 14, 'REW': 16, 'PUN': 20, 'PS': 8, 'PRED': 22, 'OT': 17, 'ORD': 1, 'OB_PERF': 13, 'OBSESS': 9, 'NEU': 18, 'IUS-P': 25, 'IUS-I': 21, 'INDEC_F': 26, 'HOARD': 10, 'HARM': 23, 'G_SE': 11, 'DASS-21 Stress': 31, 'DASS-21 Dep': 4, 'CHECK': 19, 'BIS': 2, 'BAS_PRZY': 3, 'BAS_NAG': 12, 'BAS_D': 29, 'AMB': 24}\n",
      "INFO:root:{'e_ERN': 30, 'WBSI': 15, 'WASH': 6, 'T-CTR': 7, 'STAND': 28, 'STAI-T': 27, 'STAI-S Diff': 5, 'SES': 32, 'RRQ': 14, 'REW': 16, 'PUN': 20, 'PS': 8, 'PRED': 22, 'OT': 17, 'ORD': 1, 'OB_PERF': 13, 'OBSESS': 9, 'NEU': 18, 'IUS-P': 25, 'IUS-I': 21, 'INDEC_F': 26, 'HOARD': 10, 'HARM': 23, 'G_SE': 11, 'DASS-21 Stress': 31, 'DASS-21 Dep': 4, 'CHECK': 19, 'BIS': 2, 'BAS_PRZY': 3, 'BAS_NAG': 12, 'BAS_D': 29, 'AMB': 24}\n",
      "INFO:root:{'e_ERN': 32, 'WBSI': 8, 'WASH': 19, 'T-CTR': 16, 'STAND': 30, 'STAI-T': 1, 'STAI-S Diff': 29, 'SES': 5, 'RRQ': 12, 'REW': 28, 'PUN': 7, 'PS': 21, 'PRED': 9, 'OT': 15, 'ORD': 3, 'OB_PERF': 11, 'OBSESS': 20, 'NEU': 23, 'IUS-P': 18, 'IUS-I': 10, 'INDEC_F': 22, 'HOARD': 24, 'HARM': 26, 'G_SE': 27, 'DASS-21 Stress': 17, 'DASS-21 Dep': 6, 'CHECK': 25, 'BIS': 2, 'BAS_PRZY': 13, 'BAS_NAG': 4, 'BAS_D': 31, 'AMB': 14}\n",
      "INFO:root:{'e_ERN': 17, 'WBSI': 27, 'WASH': 6, 'T-CTR': 10, 'STAND': 5, 'STAI-T': 31, 'STAI-S Diff': 12, 'SES': 24, 'RRQ': 15, 'REW': 19, 'PUN': 9, 'PS': 14, 'PRED': 25, 'OT': 16, 'ORD': 13, 'OB_PERF': 22, 'OBSESS': 8, 'NEU': 23, 'IUS-P': 7, 'IUS-I': 18, 'INDEC_F': 21, 'HOARD': 20, 'HARM': 28, 'G_SE': 3, 'DASS-21 Stress': 30, 'DASS-21 Dep': 11, 'CHECK': 1, 'BIS': 26, 'BAS_PRZY': 2, 'BAS_NAG': 32, 'BAS_D': 4, 'AMB': 29}\n",
      "INFO:root:{'e_ERN': 32, 'WBSI': 7, 'WASH': 18, 'T-CTR': 17, 'STAND': 30, 'STAI-T': 1, 'STAI-S Diff': 28, 'SES': 8, 'RRQ': 13, 'REW': 27, 'PUN': 9, 'PS': 12, 'PRED': 6, 'OT': 14, 'ORD': 4, 'OB_PERF': 11, 'OBSESS': 21, 'NEU': 23, 'IUS-P': 19, 'IUS-I': 16, 'INDEC_F': 20, 'HOARD': 22, 'HARM': 26, 'G_SE': 29, 'DASS-21 Stress': 24, 'DASS-21 Dep': 5, 'CHECK': 25, 'BIS': 2, 'BAS_PRZY': 10, 'BAS_NAG': 3, 'BAS_D': 31, 'AMB': 15}\n",
      "INFO:root:{'e_ERN': 31, 'WBSI': 13, 'WASH': 10, 'T-CTR': 9, 'STAND': 28, 'STAI-T': 27, 'STAI-S Diff': 6, 'SES': 29, 'RRQ': 14, 'REW': 21, 'PUN': 18, 'PS': 5, 'PRED': 22, 'OT': 11, 'ORD': 1, 'OB_PERF': 15, 'OBSESS': 8, 'NEU': 12, 'IUS-P': 24, 'IUS-I': 20, 'INDEC_F': 25, 'HOARD': 17, 'HARM': 19, 'G_SE': 16, 'DASS-21 Stress': 32, 'DASS-21 Dep': 3, 'CHECK': 23, 'BIS': 2, 'BAS_PRZY': 4, 'BAS_NAG': 7, 'BAS_D': 30, 'AMB': 26}\n"
     ]
    },
    {
     "name": "stdout",
     "output_type": "stream",
     "text": [
      "Measure: calculate_nodes_predictability  Level: 0.6499999999999997   sample: 0   : similarity: 0.9637096774193546\n",
      "Measure: degree_centrality  Level: 0.6499999999999997   sample: 0   : similarity: 0.28665689149560114\n",
      "Measure: closeness_centrality  Level: 0.6499999999999997   sample: 0   : similarity: 0.28409090909090906\n",
      "Measure: current_flow_closeness_centrality  Level: 0.6499999999999997   sample: 0   : similarity: 0.659824046920821\n",
      "Measure: betweenness_centrality  Level: 0.6499999999999997   sample: 0   : similarity: 0.14626099706744866\n",
      "Measure: current_flow_betweenness_centrality  Level: 0.6499999999999997   sample: 0   : similarity: 0.7038123167155425\n",
      "Measure: newman_betweenness_centrality  Level: 0.6499999999999997   sample: 0   : similarity: 0.4369501466275659\n",
      "X len inside samples: 168\n"
     ]
    },
    {
     "name": "stderr",
     "output_type": "stream",
     "text": [
      "[Parallel(n_jobs=10)]: Using backend ThreadingBackend with 10 concurrent workers.\n",
      "[Parallel(n_jobs=10)]: Done  30 tasks      | elapsed:    0.5s\n",
      "[Parallel(n_jobs=10)]: Done 180 tasks      | elapsed:    3.0s\n",
      "[Parallel(n_jobs=10)]: Done 430 tasks      | elapsed:    6.8s\n",
      "[Parallel(n_jobs=10)]: Done 780 tasks      | elapsed:   12.0s\n",
      "[Parallel(n_jobs=10)]: Done 1000 out of 1000 | elapsed:   15.2s finished\n",
      "INFO:root:{'e_ERN': 31, 'WBSI': 18, 'WASH': 27, 'T-CTR': 15, 'STAND': 26, 'STAI-T': 1, 'STAI-S Diff': 32, 'SES': 4, 'RRQ': 14, 'REW': 20, 'PUN': 3, 'PS': 25, 'PRED': 19, 'OT': 10, 'ORD': 24, 'OB_PERF': 12, 'OBSESS': 11, 'NEU': 23, 'IUS-P': 13, 'IUS-I': 7, 'INDEC_F': 8, 'HOARD': 29, 'HARM': 30, 'G_SE': 21, 'DASS-21 Stress': 6, 'DASS-21 Dep': 5, 'CHECK': 28, 'BIS': 2, 'BAS_PRZY': 17, 'BAS_NAG': 16, 'BAS_D': 22, 'AMB': 9}\n",
      "INFO:root:{'e_ERN': 7, 'WBSI': 28, 'WASH': 16, 'T-CTR': 10, 'STAND': 21, 'STAI-T': 32, 'STAI-S Diff': 26, 'SES': 19, 'RRQ': 14, 'REW': 9, 'PUN': 2, 'PS': 11, 'PRED': 5, 'OT': 20, 'ORD': 13, 'OB_PERF': 30, 'OBSESS': 27, 'NEU': 23, 'IUS-P': 3, 'IUS-I': 22, 'INDEC_F': 17, 'HOARD': 25, 'HARM': 31, 'G_SE': 1, 'DASS-21 Stress': 8, 'DASS-21 Dep': 6, 'CHECK': 15, 'BIS': 18, 'BAS_PRZY': 12, 'BAS_NAG': 29, 'BAS_D': 24, 'AMB': 4}\n",
      "INFO:root:{'e_ERN': 7, 'WBSI': 28, 'WASH': 16, 'T-CTR': 10, 'STAND': 21, 'STAI-T': 32, 'STAI-S Diff': 26, 'SES': 19, 'RRQ': 14, 'REW': 9, 'PUN': 2, 'PS': 11, 'PRED': 5, 'OT': 20, 'ORD': 13, 'OB_PERF': 30, 'OBSESS': 27, 'NEU': 23, 'IUS-P': 3, 'IUS-I': 22, 'INDEC_F': 17, 'HOARD': 25, 'HARM': 31, 'G_SE': 1, 'DASS-21 Stress': 8, 'DASS-21 Dep': 6, 'CHECK': 15, 'BIS': 18, 'BAS_PRZY': 12, 'BAS_NAG': 29, 'BAS_D': 24, 'AMB': 4}\n",
      "INFO:root:{'e_ERN': 28, 'WBSI': 26, 'WASH': 27, 'T-CTR': 19, 'STAND': 11, 'STAI-T': 7, 'STAI-S Diff': 32, 'SES': 2, 'RRQ': 13, 'REW': 29, 'PUN': 1, 'PS': 15, 'PRED': 6, 'OT': 9, 'ORD': 22, 'OB_PERF': 16, 'OBSESS': 12, 'NEU': 31, 'IUS-P': 20, 'IUS-I': 14, 'INDEC_F': 8, 'HOARD': 24, 'HARM': 30, 'G_SE': 17, 'DASS-21 Stress': 4, 'DASS-21 Dep': 3, 'CHECK': 23, 'BIS': 10, 'BAS_PRZY': 18, 'BAS_NAG': 25, 'BAS_D': 21, 'AMB': 5}\n",
      "INFO:root:{'e_ERN': 2, 'WBSI': 9, 'WASH': 23, 'T-CTR': 19, 'STAND': 30, 'STAI-T': 15, 'STAI-S Diff': 18, 'SES': 21, 'RRQ': 8, 'REW': 5, 'PUN': 13, 'PS': 14, 'PRED': 25, 'OT': 4, 'ORD': 3, 'OB_PERF': 32, 'OBSESS': 29, 'NEU': 7, 'IUS-P': 1, 'IUS-I': 24, 'INDEC_F': 10, 'HOARD': 28, 'HARM': 12, 'G_SE': 16, 'DASS-21 Stress': 26, 'DASS-21 Dep': 6, 'CHECK': 22, 'BIS': 17, 'BAS_PRZY': 27, 'BAS_NAG': 20, 'BAS_D': 31, 'AMB': 11}\n",
      "INFO:root:{'e_ERN': 29, 'WBSI': 25, 'WASH': 24, 'T-CTR': 18, 'STAND': 13, 'STAI-T': 19, 'STAI-S Diff': 32, 'SES': 1, 'RRQ': 11, 'REW': 27, 'PUN': 2, 'PS': 12, 'PRED': 6, 'OT': 9, 'ORD': 20, 'OB_PERF': 8, 'OBSESS': 10, 'NEU': 30, 'IUS-P': 23, 'IUS-I': 16, 'INDEC_F': 7, 'HOARD': 28, 'HARM': 31, 'G_SE': 15, 'DASS-21 Stress': 3, 'DASS-21 Dep': 4, 'CHECK': 21, 'BIS': 14, 'BAS_PRZY': 17, 'BAS_NAG': 26, 'BAS_D': 22, 'AMB': 5}\n",
      "INFO:root:{'e_ERN': 8, 'WBSI': 27, 'WASH': 17, 'T-CTR': 16, 'STAND': 23, 'STAI-T': 32, 'STAI-S Diff': 26, 'SES': 18, 'RRQ': 12, 'REW': 9, 'PUN': 4, 'PS': 14, 'PRED': 15, 'OT': 19, 'ORD': 7, 'OB_PERF': 28, 'OBSESS': 29, 'NEU': 10, 'IUS-P': 1, 'IUS-I': 21, 'INDEC_F': 25, 'HOARD': 24, 'HARM': 30, 'G_SE': 3, 'DASS-21 Stress': 11, 'DASS-21 Dep': 2, 'CHECK': 13, 'BIS': 20, 'BAS_PRZY': 6, 'BAS_NAG': 31, 'BAS_D': 22, 'AMB': 5}\n"
     ]
    },
    {
     "name": "stdout",
     "output_type": "stream",
     "text": [
      "Measure: calculate_nodes_predictability  Level: 0.6499999999999997   sample: 1   : similarity: 0.973240469208211\n",
      "Measure: degree_centrality  Level: 0.6499999999999997   sample: 1   : similarity: 0.14516129032258063\n",
      "Measure: closeness_centrality  Level: 0.6499999999999997   sample: 1   : similarity: 0.15212609970674484\n",
      "Measure: current_flow_closeness_centrality  Level: 0.6499999999999997   sample: 1   : similarity: 0.7635630498533723\n",
      "Measure: betweenness_centrality  Level: 0.6499999999999997   sample: 1   : similarity: 0.20381231671554248\n",
      "Measure: current_flow_betweenness_centrality  Level: 0.6499999999999997   sample: 1   : similarity: 0.5392228739002932\n",
      "Measure: newman_betweenness_centrality  Level: 0.6499999999999997   sample: 1   : similarity: 0.0729472140762463\n",
      "X len before samples: 155\n",
      "X len inside samples: 155\n"
     ]
    },
    {
     "name": "stderr",
     "output_type": "stream",
     "text": [
      "[Parallel(n_jobs=10)]: Using backend ThreadingBackend with 10 concurrent workers.\n",
      "[Parallel(n_jobs=10)]: Done  30 tasks      | elapsed:    0.6s\n",
      "[Parallel(n_jobs=10)]: Done 180 tasks      | elapsed:    2.9s\n",
      "[Parallel(n_jobs=10)]: Done 430 tasks      | elapsed:    6.5s\n",
      "[Parallel(n_jobs=10)]: Done 780 tasks      | elapsed:   12.0s\n",
      "[Parallel(n_jobs=10)]: Done 1000 out of 1000 | elapsed:   15.5s finished\n",
      "INFO:root:{'e_ERN': 32, 'WBSI': 14, 'WASH': 23, 'T-CTR': 16, 'STAND': 25, 'STAI-T': 1, 'STAI-S Diff': 31, 'SES': 2, 'RRQ': 13, 'REW': 17, 'PUN': 3, 'PS': 24, 'PRED': 20, 'OT': 8, 'ORD': 21, 'OB_PERF': 15, 'OBSESS': 10, 'NEU': 22, 'IUS-P': 12, 'IUS-I': 4, 'INDEC_F': 9, 'HOARD': 28, 'HARM': 29, 'G_SE': 27, 'DASS-21 Stress': 7, 'DASS-21 Dep': 5, 'CHECK': 30, 'BIS': 6, 'BAS_PRZY': 19, 'BAS_NAG': 26, 'BAS_D': 18, 'AMB': 11}\n",
      "INFO:root:{'e_ERN': 8, 'WBSI': 9, 'WASH': 12, 'T-CTR': 5, 'STAND': 16, 'STAI-T': 26, 'STAI-S Diff': 28, 'SES': 11, 'RRQ': 30, 'REW': 4, 'PUN': 23, 'PS': 17, 'PRED': 6, 'OT': 7, 'ORD': 10, 'OB_PERF': 15, 'OBSESS': 2, 'NEU': 29, 'IUS-P': 3, 'IUS-I': 22, 'INDEC_F': 14, 'HOARD': 13, 'HARM': 31, 'G_SE': 24, 'DASS-21 Stress': 21, 'DASS-21 Dep': 27, 'CHECK': 32, 'BIS': 1, 'BAS_PRZY': 18, 'BAS_NAG': 25, 'BAS_D': 20, 'AMB': 19}\n",
      "INFO:root:{'e_ERN': 8, 'WBSI': 9, 'WASH': 12, 'T-CTR': 5, 'STAND': 16, 'STAI-T': 24, 'STAI-S Diff': 28, 'SES': 11, 'RRQ': 30, 'REW': 4, 'PUN': 21, 'PS': 17, 'PRED': 6, 'OT': 7, 'ORD': 10, 'OB_PERF': 15, 'OBSESS': 2, 'NEU': 29, 'IUS-P': 3, 'IUS-I': 25, 'INDEC_F': 14, 'HOARD': 13, 'HARM': 31, 'G_SE': 23, 'DASS-21 Stress': 20, 'DASS-21 Dep': 27, 'CHECK': 32, 'BIS': 1, 'BAS_PRZY': 22, 'BAS_NAG': 26, 'BAS_D': 19, 'AMB': 18}\n",
      "INFO:root:{'e_ERN': 30, 'WBSI': 23, 'WASH': 26, 'T-CTR': 19, 'STAND': 8, 'STAI-T': 4, 'STAI-S Diff': 32, 'SES': 2, 'RRQ': 15, 'REW': 22, 'PUN': 7, 'PS': 25, 'PRED': 5, 'OT': 6, 'ORD': 20, 'OB_PERF': 13, 'OBSESS': 1, 'NEU': 28, 'IUS-P': 10, 'IUS-I': 17, 'INDEC_F': 9, 'HOARD': 16, 'HARM': 29, 'G_SE': 27, 'DASS-21 Stress': 18, 'DASS-21 Dep': 12, 'CHECK': 31, 'BIS': 3, 'BAS_PRZY': 14, 'BAS_NAG': 21, 'BAS_D': 24, 'AMB': 11}\n",
      "INFO:root:{'e_ERN': 4, 'WBSI': 2, 'WASH': 3, 'T-CTR': 1, 'STAND': 27, 'STAI-T': 25, 'STAI-S Diff': 9, 'SES': 29, 'RRQ': 22, 'REW': 14, 'PUN': 21, 'PS': 6, 'PRED': 18, 'OT': 15, 'ORD': 7, 'OB_PERF': 16, 'OBSESS': 12, 'NEU': 31, 'IUS-P': 5, 'IUS-I': 8, 'INDEC_F': 24, 'HOARD': 13, 'HARM': 20, 'G_SE': 19, 'DASS-21 Stress': 10, 'DASS-21 Dep': 28, 'CHECK': 23, 'BIS': 17, 'BAS_PRZY': 30, 'BAS_NAG': 11, 'BAS_D': 26, 'AMB': 32}\n",
      "INFO:root:{'e_ERN': 31, 'WBSI': 28, 'WASH': 27, 'T-CTR': 21, 'STAND': 4, 'STAI-T': 6, 'STAI-S Diff': 32, 'SES': 3, 'RRQ': 17, 'REW': 18, 'PUN': 14, 'PS': 24, 'PRED': 8, 'OT': 7, 'ORD': 15, 'OB_PERF': 12, 'OBSESS': 1, 'NEU': 25, 'IUS-P': 9, 'IUS-I': 19, 'INDEC_F': 10, 'HOARD': 5, 'HARM': 29, 'G_SE': 26, 'DASS-21 Stress': 23, 'DASS-21 Dep': 16, 'CHECK': 30, 'BIS': 2, 'BAS_PRZY': 11, 'BAS_NAG': 20, 'BAS_D': 22, 'AMB': 13}\n",
      "INFO:root:{'e_ERN': 12, 'WBSI': 9, 'WASH': 10, 'T-CTR': 5, 'STAND': 16, 'STAI-T': 28, 'STAI-S Diff': 26, 'SES': 4, 'RRQ': 29, 'REW': 13, 'PUN': 22, 'PS': 15, 'PRED': 3, 'OT': 6, 'ORD': 7, 'OB_PERF': 19, 'OBSESS': 2, 'NEU': 23, 'IUS-P': 8, 'IUS-I': 21, 'INDEC_F': 14, 'HOARD': 11, 'HARM': 31, 'G_SE': 18, 'DASS-21 Stress': 20, 'DASS-21 Dep': 30, 'CHECK': 32, 'BIS': 1, 'BAS_PRZY': 17, 'BAS_NAG': 24, 'BAS_D': 27, 'AMB': 25}\n"
     ]
    },
    {
     "name": "stdout",
     "output_type": "stream",
     "text": [
      "Measure: calculate_nodes_predictability  Level: 0.5999999999999996   sample: 0   : similarity: 0.9611436950146626\n",
      "Measure: degree_centrality  Level: 0.5999999999999996   sample: 0   : similarity: 0.42778592375366564\n",
      "Measure: closeness_centrality  Level: 0.5999999999999996   sample: 0   : similarity: 0.42998533724340166\n",
      "Measure: current_flow_closeness_centrality  Level: 0.5999999999999996   sample: 0   : similarity: 0.781158357771261\n",
      "Measure: betweenness_centrality  Level: 0.5999999999999996   sample: 0   : similarity: 0.36510263929618764\n",
      "Measure: current_flow_betweenness_centrality  Level: 0.5999999999999996   sample: 0   : similarity: 0.6583577712609969\n",
      "Measure: newman_betweenness_centrality  Level: 0.5999999999999996   sample: 0   : similarity: 0.5989736070381231\n",
      "X len inside samples: 155\n"
     ]
    },
    {
     "name": "stderr",
     "output_type": "stream",
     "text": [
      "[Parallel(n_jobs=10)]: Using backend ThreadingBackend with 10 concurrent workers.\n",
      "[Parallel(n_jobs=10)]: Done  30 tasks      | elapsed:    0.6s\n",
      "[Parallel(n_jobs=10)]: Done 180 tasks      | elapsed:    3.0s\n",
      "[Parallel(n_jobs=10)]: Done 430 tasks      | elapsed:    6.6s\n",
      "[Parallel(n_jobs=10)]: Done 780 tasks      | elapsed:   11.7s\n",
      "[Parallel(n_jobs=10)]: Done 1000 out of 1000 | elapsed:   15.1s finished\n",
      "INFO:root:{'e_ERN': 32, 'WBSI': 15, 'WASH': 25, 'T-CTR': 19, 'STAND': 27, 'STAI-T': 1, 'STAI-S Diff': 31, 'SES': 4, 'RRQ': 9, 'REW': 18, 'PUN': 3, 'PS': 23, 'PRED': 21, 'OT': 11, 'ORD': 20, 'OB_PERF': 14, 'OBSESS': 12, 'NEU': 24, 'IUS-P': 13, 'IUS-I': 6, 'INDEC_F': 8, 'HOARD': 29, 'HARM': 26, 'G_SE': 28, 'DASS-21 Stress': 7, 'DASS-21 Dep': 5, 'CHECK': 30, 'BIS': 2, 'BAS_PRZY': 16, 'BAS_NAG': 22, 'BAS_D': 17, 'AMB': 10}\n",
      "INFO:root:{'e_ERN': 30, 'WBSI': 6, 'WASH': 24, 'T-CTR': 27, 'STAND': 29, 'STAI-T': 15, 'STAI-S Diff': 21, 'SES': 26, 'RRQ': 3, 'REW': 18, 'PUN': 20, 'PS': 16, 'PRED': 17, 'OT': 7, 'ORD': 1, 'OB_PERF': 13, 'OBSESS': 10, 'NEU': 8, 'IUS-P': 14, 'IUS-I': 9, 'INDEC_F': 12, 'HOARD': 11, 'HARM': 23, 'G_SE': 22, 'DASS-21 Stress': 28, 'DASS-21 Dep': 31, 'CHECK': 25, 'BIS': 4, 'BAS_PRZY': 2, 'BAS_NAG': 19, 'BAS_D': 32, 'AMB': 5}\n",
      "INFO:root:{'e_ERN': 30, 'WBSI': 6, 'WASH': 24, 'T-CTR': 27, 'STAND': 29, 'STAI-T': 15, 'STAI-S Diff': 21, 'SES': 26, 'RRQ': 3, 'REW': 18, 'PUN': 20, 'PS': 16, 'PRED': 17, 'OT': 7, 'ORD': 1, 'OB_PERF': 13, 'OBSESS': 10, 'NEU': 8, 'IUS-P': 14, 'IUS-I': 9, 'INDEC_F': 12, 'HOARD': 11, 'HARM': 23, 'G_SE': 22, 'DASS-21 Stress': 28, 'DASS-21 Dep': 31, 'CHECK': 25, 'BIS': 4, 'BAS_PRZY': 2, 'BAS_NAG': 19, 'BAS_D': 32, 'AMB': 5}\n",
      "INFO:root:{'e_ERN': 32, 'WBSI': 20, 'WASH': 27, 'T-CTR': 24, 'STAND': 30, 'STAI-T': 1, 'STAI-S Diff': 28, 'SES': 3, 'RRQ': 7, 'REW': 13, 'PUN': 6, 'PS': 14, 'PRED': 16, 'OT': 9, 'ORD': 12, 'OB_PERF': 19, 'OBSESS': 11, 'NEU': 22, 'IUS-P': 23, 'IUS-I': 21, 'INDEC_F': 8, 'HOARD': 17, 'HARM': 29, 'G_SE': 26, 'DASS-21 Stress': 10, 'DASS-21 Dep': 18, 'CHECK': 31, 'BIS': 5, 'BAS_PRZY': 2, 'BAS_NAG': 4, 'BAS_D': 25, 'AMB': 15}\n",
      "INFO:root:{'e_ERN': 2, 'WBSI': 5, 'WASH': 19, 'T-CTR': 32, 'STAND': 11, 'STAI-T': 31, 'STAI-S Diff': 12, 'SES': 22, 'RRQ': 14, 'REW': 29, 'PUN': 17, 'PS': 24, 'PRED': 3, 'OT': 20, 'ORD': 13, 'OB_PERF': 26, 'OBSESS': 10, 'NEU': 15, 'IUS-P': 8, 'IUS-I': 4, 'INDEC_F': 30, 'HOARD': 28, 'HARM': 9, 'G_SE': 18, 'DASS-21 Stress': 27, 'DASS-21 Dep': 6, 'CHECK': 7, 'BIS': 1, 'BAS_PRZY': 16, 'BAS_NAG': 25, 'BAS_D': 21, 'AMB': 23}\n",
      "INFO:root:{'e_ERN': 32, 'WBSI': 22, 'WASH': 28, 'T-CTR': 24, 'STAND': 27, 'STAI-T': 1, 'STAI-S Diff': 26, 'SES': 6, 'RRQ': 5, 'REW': 7, 'PUN': 12, 'PS': 10, 'PRED': 17, 'OT': 4, 'ORD': 8, 'OB_PERF': 18, 'OBSESS': 11, 'NEU': 16, 'IUS-P': 23, 'IUS-I': 21, 'INDEC_F': 15, 'HOARD': 19, 'HARM': 29, 'G_SE': 20, 'DASS-21 Stress': 9, 'DASS-21 Dep': 25, 'CHECK': 31, 'BIS': 13, 'BAS_PRZY': 2, 'BAS_NAG': 3, 'BAS_D': 30, 'AMB': 14}\n",
      "INFO:root:{'e_ERN': 30, 'WBSI': 7, 'WASH': 26, 'T-CTR': 28, 'STAND': 27, 'STAI-T': 10, 'STAI-S Diff': 24, 'SES': 20, 'RRQ': 5, 'REW': 23, 'PUN': 19, 'PS': 11, 'PRED': 17, 'OT': 8, 'ORD': 4, 'OB_PERF': 14, 'OBSESS': 12, 'NEU': 6, 'IUS-P': 21, 'IUS-I': 9, 'INDEC_F': 13, 'HOARD': 16, 'HARM': 25, 'G_SE': 22, 'DASS-21 Stress': 29, 'DASS-21 Dep': 31, 'CHECK': 18, 'BIS': 2, 'BAS_PRZY': 3, 'BAS_NAG': 15, 'BAS_D': 32, 'AMB': 1}\n"
     ]
    },
    {
     "name": "stdout",
     "output_type": "stream",
     "text": [
      "Measure: calculate_nodes_predictability  Level: 0.5999999999999996   sample: 1   : similarity: 0.975439882697947\n",
      "Measure: degree_centrality  Level: 0.5999999999999996   sample: 1   : similarity: 0.20307917888563043\n",
      "Measure: closeness_centrality  Level: 0.5999999999999996   sample: 1   : similarity: 0.2412023460410557\n",
      "Measure: current_flow_closeness_centrality  Level: 0.5999999999999996   sample: 1   : similarity: 0.7694281524926685\n",
      "Measure: betweenness_centrality  Level: 0.5999999999999996   sample: 1   : similarity: -0.23093841642228735\n",
      "Measure: current_flow_betweenness_centrality  Level: 0.5999999999999996   sample: 1   : similarity: 0.6052052785923753\n",
      "Measure: newman_betweenness_centrality  Level: 0.5999999999999996   sample: 1   : similarity: 0.2976539589442815\n",
      "X len before samples: 142\n",
      "X len inside samples: 142\n"
     ]
    },
    {
     "name": "stderr",
     "output_type": "stream",
     "text": [
      "[Parallel(n_jobs=10)]: Using backend ThreadingBackend with 10 concurrent workers.\n",
      "[Parallel(n_jobs=10)]: Done  30 tasks      | elapsed:    0.5s\n",
      "[Parallel(n_jobs=10)]: Done 180 tasks      | elapsed:    2.4s\n",
      "[Parallel(n_jobs=10)]: Done 430 tasks      | elapsed:    5.5s\n",
      "[Parallel(n_jobs=10)]: Done 780 tasks      | elapsed:    9.6s\n",
      "[Parallel(n_jobs=10)]: Done 1000 out of 1000 | elapsed:   12.3s finished\n",
      "INFO:root:{'e_ERN': 32, 'WBSI': 16, 'WASH': 24, 'T-CTR': 21, 'STAND': 25, 'STAI-T': 1, 'STAI-S Diff': 31, 'SES': 3, 'RRQ': 11, 'REW': 19, 'PUN': 4, 'PS': 23, 'PRED': 20, 'OT': 7, 'ORD': 22, 'OB_PERF': 12, 'OBSESS': 9, 'NEU': 26, 'IUS-P': 18, 'IUS-I': 6, 'INDEC_F': 8, 'HOARD': 30, 'HARM': 28, 'G_SE': 27, 'DASS-21 Stress': 13, 'DASS-21 Dep': 5, 'CHECK': 29, 'BIS': 2, 'BAS_PRZY': 17, 'BAS_NAG': 15, 'BAS_D': 14, 'AMB': 10}\n",
      "INFO:root:{'e_ERN': 14, 'WBSI': 19, 'WASH': 16, 'T-CTR': 31, 'STAND': 13, 'STAI-T': 27, 'STAI-S Diff': 8, 'SES': 11, 'RRQ': 26, 'REW': 22, 'PUN': 28, 'PS': 1, 'PRED': 5, 'OT': 30, 'ORD': 29, 'OB_PERF': 7, 'OBSESS': 3, 'NEU': 23, 'IUS-P': 10, 'IUS-I': 12, 'INDEC_F': 24, 'HOARD': 17, 'HARM': 15, 'G_SE': 25, 'DASS-21 Stress': 32, 'DASS-21 Dep': 20, 'CHECK': 18, 'BIS': 9, 'BAS_PRZY': 2, 'BAS_NAG': 4, 'BAS_D': 6, 'AMB': 21}\n",
      "INFO:root:{'e_ERN': 14, 'WBSI': 19, 'WASH': 16, 'T-CTR': 30, 'STAND': 13, 'STAI-T': 28, 'STAI-S Diff': 8, 'SES': 11, 'RRQ': 27, 'REW': 22, 'PUN': 26, 'PS': 1, 'PRED': 5, 'OT': 29, 'ORD': 31, 'OB_PERF': 7, 'OBSESS': 3, 'NEU': 23, 'IUS-P': 10, 'IUS-I': 12, 'INDEC_F': 24, 'HOARD': 17, 'HARM': 15, 'G_SE': 25, 'DASS-21 Stress': 32, 'DASS-21 Dep': 20, 'CHECK': 18, 'BIS': 9, 'BAS_PRZY': 2, 'BAS_NAG': 4, 'BAS_D': 6, 'AMB': 21}\n",
      "INFO:root:{'e_ERN': 17, 'WBSI': 15, 'WASH': 13, 'T-CTR': 30, 'STAND': 27, 'STAI-T': 4, 'STAI-S Diff': 23, 'SES': 3, 'RRQ': 16, 'REW': 31, 'PUN': 20, 'PS': 2, 'PRED': 21, 'OT': 12, 'ORD': 14, 'OB_PERF': 5, 'OBSESS': 9, 'NEU': 32, 'IUS-P': 19, 'IUS-I': 7, 'INDEC_F': 22, 'HOARD': 26, 'HARM': 28, 'G_SE': 29, 'DASS-21 Stress': 24, 'DASS-21 Dep': 11, 'CHECK': 25, 'BIS': 1, 'BAS_PRZY': 6, 'BAS_NAG': 10, 'BAS_D': 8, 'AMB': 18}\n",
      "INFO:root:{'e_ERN': 24, 'WBSI': 26, 'WASH': 30, 'T-CTR': 22, 'STAND': 4, 'STAI-T': 25, 'STAI-S Diff': 17, 'SES': 2, 'RRQ': 21, 'REW': 5, 'PUN': 9, 'PS': 14, 'PRED': 1, 'OT': 29, 'ORD': 32, 'OB_PERF': 19, 'OBSESS': 7, 'NEU': 10, 'IUS-P': 15, 'IUS-I': 12, 'INDEC_F': 11, 'HOARD': 31, 'HARM': 3, 'G_SE': 8, 'DASS-21 Stress': 27, 'DASS-21 Dep': 28, 'CHECK': 20, 'BIS': 23, 'BAS_PRZY': 18, 'BAS_NAG': 6, 'BAS_D': 16, 'AMB': 13}\n",
      "INFO:root:{'e_ERN': 16, 'WBSI': 14, 'WASH': 13, 'T-CTR': 30, 'STAND': 23, 'STAI-T': 4, 'STAI-S Diff': 27, 'SES': 6, 'RRQ': 20, 'REW': 32, 'PUN': 21, 'PS': 3, 'PRED': 19, 'OT': 12, 'ORD': 15, 'OB_PERF': 5, 'OBSESS': 8, 'NEU': 31, 'IUS-P': 18, 'IUS-I': 7, 'INDEC_F': 24, 'HOARD': 28, 'HARM': 25, 'G_SE': 29, 'DASS-21 Stress': 26, 'DASS-21 Dep': 11, 'CHECK': 22, 'BIS': 1, 'BAS_PRZY': 2, 'BAS_NAG': 10, 'BAS_D': 9, 'AMB': 17}\n",
      "INFO:root:{'e_ERN': 13, 'WBSI': 16, 'WASH': 21, 'T-CTR': 30, 'STAND': 12, 'STAI-T': 25, 'STAI-S Diff': 18, 'SES': 9, 'RRQ': 27, 'REW': 23, 'PUN': 24, 'PS': 1, 'PRED': 6, 'OT': 28, 'ORD': 31, 'OB_PERF': 8, 'OBSESS': 2, 'NEU': 29, 'IUS-P': 14, 'IUS-I': 7, 'INDEC_F': 22, 'HOARD': 26, 'HARM': 15, 'G_SE': 17, 'DASS-21 Stress': 32, 'DASS-21 Dep': 11, 'CHECK': 19, 'BIS': 3, 'BAS_PRZY': 5, 'BAS_NAG': 4, 'BAS_D': 10, 'AMB': 20}\n"
     ]
    },
    {
     "name": "stdout",
     "output_type": "stream",
     "text": [
      "Measure: calculate_nodes_predictability  Level: 0.5499999999999996   sample: 0   : similarity: 0.9611436950146627\n",
      "Measure: degree_centrality  Level: 0.5499999999999996   sample: 0   : similarity: 0.2401026392961877\n",
      "Measure: closeness_centrality  Level: 0.5499999999999996   sample: 0   : similarity: 0.28739002932551316\n",
      "Measure: current_flow_closeness_centrality  Level: 0.5499999999999996   sample: 0   : similarity: 0.7459677419354838\n",
      "Measure: betweenness_centrality  Level: 0.5499999999999996   sample: 0   : similarity: -0.14882697947214074\n",
      "Measure: current_flow_betweenness_centrality  Level: 0.5499999999999996   sample: 0   : similarity: 0.7620967741935483\n",
      "Measure: newman_betweenness_centrality  Level: 0.5499999999999996   sample: 0   : similarity: 0.28115835777126097\n",
      "X len inside samples: 142\n"
     ]
    },
    {
     "name": "stderr",
     "output_type": "stream",
     "text": [
      "[Parallel(n_jobs=10)]: Using backend ThreadingBackend with 10 concurrent workers.\n",
      "[Parallel(n_jobs=10)]: Done  30 tasks      | elapsed:    0.4s\n",
      "[Parallel(n_jobs=10)]: Done 180 tasks      | elapsed:    2.4s\n",
      "[Parallel(n_jobs=10)]: Done 430 tasks      | elapsed:    5.6s\n",
      "[Parallel(n_jobs=10)]: Done 780 tasks      | elapsed:    9.8s\n",
      "[Parallel(n_jobs=10)]: Done 1000 out of 1000 | elapsed:   12.6s finished\n",
      "INFO:root:{'e_ERN': 29, 'WBSI': 15, 'WASH': 26, 'T-CTR': 18, 'STAND': 25, 'STAI-T': 1, 'STAI-S Diff': 32, 'SES': 5, 'RRQ': 11, 'REW': 16, 'PUN': 4, 'PS': 24, 'PRED': 20, 'OT': 9, 'ORD': 21, 'OB_PERF': 17, 'OBSESS': 12, 'NEU': 27, 'IUS-P': 14, 'IUS-I': 6, 'INDEC_F': 7, 'HOARD': 30, 'HARM': 28, 'G_SE': 23, 'DASS-21 Stress': 8, 'DASS-21 Dep': 3, 'CHECK': 31, 'BIS': 2, 'BAS_PRZY': 19, 'BAS_NAG': 22, 'BAS_D': 13, 'AMB': 10}\n",
      "INFO:root:{'e_ERN': 1, 'WBSI': 5, 'WASH': 2, 'T-CTR': 16, 'STAND': 18, 'STAI-T': 9, 'STAI-S Diff': 14, 'SES': 32, 'RRQ': 30, 'REW': 6, 'PUN': 28, 'PS': 24, 'PRED': 17, 'OT': 27, 'ORD': 7, 'OB_PERF': 25, 'OBSESS': 10, 'NEU': 26, 'IUS-P': 20, 'IUS-I': 19, 'INDEC_F': 22, 'HOARD': 31, 'HARM': 29, 'G_SE': 11, 'DASS-21 Stress': 13, 'DASS-21 Dep': 8, 'CHECK': 15, 'BIS': 21, 'BAS_PRZY': 4, 'BAS_NAG': 23, 'BAS_D': 3, 'AMB': 12}\n",
      "INFO:root:{'e_ERN': 1, 'WBSI': 5, 'WASH': 2, 'T-CTR': 15, 'STAND': 16, 'STAI-T': 8, 'STAI-S Diff': 18, 'SES': 32, 'RRQ': 29, 'REW': 6, 'PUN': 25, 'PS': 27, 'PRED': 19, 'OT': 30, 'ORD': 7, 'OB_PERF': 28, 'OBSESS': 9, 'NEU': 23, 'IUS-P': 21, 'IUS-I': 17, 'INDEC_F': 20, 'HOARD': 31, 'HARM': 26, 'G_SE': 10, 'DASS-21 Stress': 12, 'DASS-21 Dep': 13, 'CHECK': 14, 'BIS': 24, 'BAS_PRZY': 4, 'BAS_NAG': 22, 'BAS_D': 3, 'AMB': 11}\n",
      "INFO:root:{'e_ERN': 28, 'WBSI': 13, 'WASH': 16, 'T-CTR': 29, 'STAND': 25, 'STAI-T': 1, 'STAI-S Diff': 27, 'SES': 2, 'RRQ': 15, 'REW': 24, 'PUN': 19, 'PS': 14, 'PRED': 23, 'OT': 11, 'ORD': 9, 'OB_PERF': 20, 'OBSESS': 18, 'NEU': 32, 'IUS-P': 17, 'IUS-I': 10, 'INDEC_F': 21, 'HOARD': 31, 'HARM': 26, 'G_SE': 22, 'DASS-21 Stress': 7, 'DASS-21 Dep': 4, 'CHECK': 30, 'BIS': 3, 'BAS_PRZY': 6, 'BAS_NAG': 12, 'BAS_D': 5, 'AMB': 8}\n",
      "INFO:root:{'e_ERN': 1, 'WBSI': 2, 'WASH': 3, 'T-CTR': 4, 'STAND': 9, 'STAI-T': 10, 'STAI-S Diff': 8, 'SES': 30, 'RRQ': 25, 'REW': 7, 'PUN': 22, 'PS': 19, 'PRED': 5, 'OT': 28, 'ORD': 17, 'OB_PERF': 21, 'OBSESS': 12, 'NEU': 11, 'IUS-P': 24, 'IUS-I': 23, 'INDEC_F': 18, 'HOARD': 27, 'HARM': 31, 'G_SE': 16, 'DASS-21 Stress': 13, 'DASS-21 Dep': 26, 'CHECK': 6, 'BIS': 29, 'BAS_PRZY': 14, 'BAS_NAG': 32, 'BAS_D': 15, 'AMB': 20}\n",
      "INFO:root:{'e_ERN': 28, 'WBSI': 11, 'WASH': 14, 'T-CTR': 31, 'STAND': 20, 'STAI-T': 1, 'STAI-S Diff': 25, 'SES': 5, 'RRQ': 21, 'REW': 26, 'PUN': 27, 'PS': 13, 'PRED': 24, 'OT': 2, 'ORD': 7, 'OB_PERF': 15, 'OBSESS': 19, 'NEU': 32, 'IUS-P': 23, 'IUS-I': 9, 'INDEC_F': 18, 'HOARD': 29, 'HARM': 22, 'G_SE': 17, 'DASS-21 Stress': 12, 'DASS-21 Dep': 10, 'CHECK': 30, 'BIS': 6, 'BAS_PRZY': 3, 'BAS_NAG': 16, 'BAS_D': 8, 'AMB': 4}\n",
      "INFO:root:{'e_ERN': 3, 'WBSI': 2, 'WASH': 1, 'T-CTR': 21, 'STAND': 10, 'STAI-T': 6, 'STAI-S Diff': 13, 'SES': 30, 'RRQ': 32, 'REW': 11, 'PUN': 25, 'PS': 17, 'PRED': 26, 'OT': 27, 'ORD': 7, 'OB_PERF': 23, 'OBSESS': 9, 'NEU': 29, 'IUS-P': 20, 'IUS-I': 15, 'INDEC_F': 14, 'HOARD': 31, 'HARM': 22, 'G_SE': 16, 'DASS-21 Stress': 18, 'DASS-21 Dep': 12, 'CHECK': 19, 'BIS': 24, 'BAS_PRZY': 4, 'BAS_NAG': 28, 'BAS_D': 5, 'AMB': 8}\n"
     ]
    },
    {
     "name": "stdout",
     "output_type": "stream",
     "text": [
      "Measure: calculate_nodes_predictability  Level: 0.5499999999999996   sample: 1   : similarity: 0.9809384164222873\n",
      "Measure: degree_centrality  Level: 0.5499999999999996   sample: 1   : similarity: -0.09860703812316712\n",
      "Measure: closeness_centrality  Level: 0.5499999999999996   sample: 1   : similarity: -0.189149560117302\n",
      "Measure: current_flow_closeness_centrality  Level: 0.5499999999999996   sample: 1   : similarity: 0.7313049853372433\n",
      "Measure: betweenness_centrality  Level: 0.5499999999999996   sample: 1   : similarity: 0.009897360703812322\n",
      "Measure: current_flow_betweenness_centrality  Level: 0.5499999999999996   sample: 1   : similarity: 0.6048387096774193\n",
      "Measure: newman_betweenness_centrality  Level: 0.5499999999999996   sample: 1   : similarity: -0.2291055718475073\n",
      "X len before samples: 129\n",
      "X len inside samples: 129\n"
     ]
    },
    {
     "name": "stderr",
     "output_type": "stream",
     "text": [
      "[Parallel(n_jobs=10)]: Using backend ThreadingBackend with 10 concurrent workers.\n",
      "[Parallel(n_jobs=10)]: Done  30 tasks      | elapsed:    0.5s\n",
      "[Parallel(n_jobs=10)]: Done 180 tasks      | elapsed:    2.6s\n",
      "[Parallel(n_jobs=10)]: Done 430 tasks      | elapsed:    5.9s\n",
      "[Parallel(n_jobs=10)]: Done 780 tasks      | elapsed:   10.7s\n",
      "[Parallel(n_jobs=10)]: Done 1000 out of 1000 | elapsed:   13.5s finished\n",
      "INFO:root:{'e_ERN': 32, 'WBSI': 22, 'WASH': 25, 'T-CTR': 16, 'STAND': 24, 'STAI-T': 1, 'STAI-S Diff': 31, 'SES': 2, 'RRQ': 13, 'REW': 17, 'PUN': 3, 'PS': 26, 'PRED': 15, 'OT': 10, 'ORD': 23, 'OB_PERF': 14, 'OBSESS': 9, 'NEU': 21, 'IUS-P': 11, 'IUS-I': 7, 'INDEC_F': 12, 'HOARD': 30, 'HARM': 28, 'G_SE': 27, 'DASS-21 Stress': 5, 'DASS-21 Dep': 6, 'CHECK': 29, 'BIS': 4, 'BAS_PRZY': 20, 'BAS_NAG': 19, 'BAS_D': 18, 'AMB': 8}\n",
      "INFO:root:{'e_ERN': 30, 'WBSI': 32, 'WASH': 2, 'T-CTR': 22, 'STAND': 3, 'STAI-T': 14, 'STAI-S Diff': 28, 'SES': 16, 'RRQ': 25, 'REW': 18, 'PUN': 27, 'PS': 17, 'PRED': 5, 'OT': 11, 'ORD': 20, 'OB_PERF': 7, 'OBSESS': 1, 'NEU': 9, 'IUS-P': 6, 'IUS-I': 23, 'INDEC_F': 21, 'HOARD': 29, 'HARM': 12, 'G_SE': 26, 'DASS-21 Stress': 31, 'DASS-21 Dep': 13, 'CHECK': 15, 'BIS': 24, 'BAS_PRZY': 10, 'BAS_NAG': 8, 'BAS_D': 4, 'AMB': 19}\n",
      "INFO:root:{'e_ERN': 31, 'WBSI': 32, 'WASH': 3, 'T-CTR': 12, 'STAND': 1, 'STAI-T': 15, 'STAI-S Diff': 29, 'SES': 9, 'RRQ': 24, 'REW': 19, 'PUN': 28, 'PS': 10, 'PRED': 6, 'OT': 13, 'ORD': 21, 'OB_PERF': 5, 'OBSESS': 2, 'NEU': 18, 'IUS-P': 7, 'IUS-I': 23, 'INDEC_F': 22, 'HOARD': 26, 'HARM': 14, 'G_SE': 27, 'DASS-21 Stress': 30, 'DASS-21 Dep': 8, 'CHECK': 17, 'BIS': 20, 'BAS_PRZY': 11, 'BAS_NAG': 16, 'BAS_D': 4, 'AMB': 25}\n",
      "INFO:root:{'e_ERN': 32, 'WBSI': 21, 'WASH': 9, 'T-CTR': 26, 'STAND': 16, 'STAI-T': 1, 'STAI-S Diff': 31, 'SES': 4, 'RRQ': 8, 'REW': 17, 'PUN': 7, 'PS': 18, 'PRED': 3, 'OT': 22, 'ORD': 23, 'OB_PERF': 6, 'OBSESS': 2, 'NEU': 30, 'IUS-P': 12, 'IUS-I': 19, 'INDEC_F': 13, 'HOARD': 29, 'HARM': 25, 'G_SE': 27, 'DASS-21 Stress': 20, 'DASS-21 Dep': 5, 'CHECK': 28, 'BIS': 10, 'BAS_PRZY': 14, 'BAS_NAG': 15, 'BAS_D': 11, 'AMB': 24}\n",
      "INFO:root:{'e_ERN': 1, 'WBSI': 27, 'WASH': 9, 'T-CTR': 12, 'STAND': 4, 'STAI-T': 29, 'STAI-S Diff': 7, 'SES': 23, 'RRQ': 26, 'REW': 30, 'PUN': 21, 'PS': 10, 'PRED': 19, 'OT': 11, 'ORD': 24, 'OB_PERF': 5, 'OBSESS': 2, 'NEU': 8, 'IUS-P': 31, 'IUS-I': 16, 'INDEC_F': 14, 'HOARD': 32, 'HARM': 15, 'G_SE': 17, 'DASS-21 Stress': 28, 'DASS-21 Dep': 22, 'CHECK': 6, 'BIS': 18, 'BAS_PRZY': 20, 'BAS_NAG': 25, 'BAS_D': 3, 'AMB': 13}\n",
      "INFO:root:{'e_ERN': 32, 'WBSI': 22, 'WASH': 11, 'T-CTR': 24, 'STAND': 13, 'STAI-T': 1, 'STAI-S Diff': 31, 'SES': 12, 'RRQ': 5, 'REW': 10, 'PUN': 6, 'PS': 17, 'PRED': 2, 'OT': 20, 'ORD': 21, 'OB_PERF': 3, 'OBSESS': 4, 'NEU': 30, 'IUS-P': 9, 'IUS-I': 18, 'INDEC_F': 7, 'HOARD': 29, 'HARM': 26, 'G_SE': 27, 'DASS-21 Stress': 28, 'DASS-21 Dep': 8, 'CHECK': 25, 'BIS': 16, 'BAS_PRZY': 15, 'BAS_NAG': 19, 'BAS_D': 14, 'AMB': 23}\n",
      "INFO:root:{'e_ERN': 31, 'WBSI': 32, 'WASH': 3, 'T-CTR': 16, 'STAND': 2, 'STAI-T': 5, 'STAI-S Diff': 29, 'SES': 17, 'RRQ': 18, 'REW': 26, 'PUN': 27, 'PS': 6, 'PRED': 14, 'OT': 22, 'ORD': 24, 'OB_PERF': 10, 'OBSESS': 1, 'NEU': 8, 'IUS-P': 9, 'IUS-I': 11, 'INDEC_F': 7, 'HOARD': 28, 'HARM': 12, 'G_SE': 23, 'DASS-21 Stress': 30, 'DASS-21 Dep': 13, 'CHECK': 21, 'BIS': 25, 'BAS_PRZY': 15, 'BAS_NAG': 20, 'BAS_D': 4, 'AMB': 19}\n"
     ]
    },
    {
     "name": "stdout",
     "output_type": "stream",
     "text": [
      "Measure: calculate_nodes_predictability  Level: 0.49999999999999956   sample: 0   : similarity: 0.9677419354838708\n",
      "Measure: degree_centrality  Level: 0.49999999999999956   sample: 0   : similarity: 0.25146627565982405\n",
      "Measure: closeness_centrality  Level: 0.49999999999999956   sample: 0   : similarity: 0.3911290322580645\n",
      "Measure: current_flow_closeness_centrality  Level: 0.49999999999999956   sample: 0   : similarity: 0.7679618768328444\n",
      "Measure: betweenness_centrality  Level: 0.49999999999999956   sample: 0   : similarity: 0.016129032258064516\n",
      "Measure: current_flow_betweenness_centrality  Level: 0.49999999999999956   sample: 0   : similarity: 0.5854105571847507\n",
      "Measure: newman_betweenness_centrality  Level: 0.49999999999999956   sample: 0   : similarity: 0.1407624633431085\n",
      "X len inside samples: 129\n"
     ]
    },
    {
     "name": "stderr",
     "output_type": "stream",
     "text": [
      "[Parallel(n_jobs=10)]: Using backend ThreadingBackend with 10 concurrent workers.\n",
      "[Parallel(n_jobs=10)]: Done  30 tasks      | elapsed:    0.6s\n",
      "[Parallel(n_jobs=10)]: Done 180 tasks      | elapsed:    3.0s\n",
      "[Parallel(n_jobs=10)]: Done 430 tasks      | elapsed:    6.9s\n",
      "[Parallel(n_jobs=10)]: Done 780 tasks      | elapsed:   12.2s\n",
      "[Parallel(n_jobs=10)]: Done 1000 out of 1000 | elapsed:   15.6s finished\n",
      "INFO:root:{'e_ERN': 31, 'WBSI': 19, 'WASH': 24, 'T-CTR': 17, 'STAND': 26, 'STAI-T': 1, 'STAI-S Diff': 32, 'SES': 3, 'RRQ': 12, 'REW': 15, 'PUN': 4, 'PS': 21, 'PRED': 20, 'OT': 6, 'ORD': 22, 'OB_PERF': 16, 'OBSESS': 11, 'NEU': 25, 'IUS-P': 10, 'IUS-I': 9, 'INDEC_F': 8, 'HOARD': 28, 'HARM': 30, 'G_SE': 27, 'DASS-21 Stress': 7, 'DASS-21 Dep': 5, 'CHECK': 29, 'BIS': 2, 'BAS_PRZY': 23, 'BAS_NAG': 18, 'BAS_D': 14, 'AMB': 13}\n",
      "INFO:root:{'e_ERN': 19, 'WBSI': 27, 'WASH': 7, 'T-CTR': 28, 'STAND': 26, 'STAI-T': 30, 'STAI-S Diff': 16, 'SES': 23, 'RRQ': 13, 'REW': 20, 'PUN': 18, 'PS': 1, 'PRED': 24, 'OT': 3, 'ORD': 12, 'OB_PERF': 8, 'OBSESS': 25, 'NEU': 21, 'IUS-P': 17, 'IUS-I': 22, 'INDEC_F': 15, 'HOARD': 10, 'HARM': 31, 'G_SE': 32, 'DASS-21 Stress': 11, 'DASS-21 Dep': 4, 'CHECK': 6, 'BIS': 5, 'BAS_PRZY': 14, 'BAS_NAG': 9, 'BAS_D': 2, 'AMB': 29}\n",
      "INFO:root:{'e_ERN': 19, 'WBSI': 27, 'WASH': 7, 'T-CTR': 28, 'STAND': 26, 'STAI-T': 29, 'STAI-S Diff': 16, 'SES': 22, 'RRQ': 12, 'REW': 20, 'PUN': 18, 'PS': 1, 'PRED': 23, 'OT': 3, 'ORD': 11, 'OB_PERF': 8, 'OBSESS': 24, 'NEU': 25, 'IUS-P': 17, 'IUS-I': 21, 'INDEC_F': 15, 'HOARD': 14, 'HARM': 30, 'G_SE': 32, 'DASS-21 Stress': 10, 'DASS-21 Dep': 4, 'CHECK': 6, 'BIS': 5, 'BAS_PRZY': 13, 'BAS_NAG': 9, 'BAS_D': 2, 'AMB': 31}\n",
      "INFO:root:{'e_ERN': 32, 'WBSI': 26, 'WASH': 17, 'T-CTR': 25, 'STAND': 20, 'STAI-T': 1, 'STAI-S Diff': 23, 'SES': 5, 'RRQ': 16, 'REW': 27, 'PUN': 7, 'PS': 6, 'PRED': 22, 'OT': 3, 'ORD': 18, 'OB_PERF': 11, 'OBSESS': 14, 'NEU': 29, 'IUS-P': 28, 'IUS-I': 13, 'INDEC_F': 10, 'HOARD': 21, 'HARM': 31, 'G_SE': 30, 'DASS-21 Stress': 9, 'DASS-21 Dep': 4, 'CHECK': 24, 'BIS': 2, 'BAS_PRZY': 15, 'BAS_NAG': 12, 'BAS_D': 8, 'AMB': 19}\n",
      "INFO:root:{'e_ERN': 4, 'WBSI': 26, 'WASH': 10, 'T-CTR': 15, 'STAND': 30, 'STAI-T': 31, 'STAI-S Diff': 17, 'SES': 32, 'RRQ': 6, 'REW': 12, 'PUN': 18, 'PS': 8, 'PRED': 13, 'OT': 7, 'ORD': 22, 'OB_PERF': 2, 'OBSESS': 19, 'NEU': 23, 'IUS-P': 9, 'IUS-I': 16, 'INDEC_F': 25, 'HOARD': 14, 'HARM': 21, 'G_SE': 24, 'DASS-21 Stress': 29, 'DASS-21 Dep': 27, 'CHECK': 3, 'BIS': 28, 'BAS_PRZY': 20, 'BAS_NAG': 5, 'BAS_D': 1, 'AMB': 11}\n",
      "INFO:root:{'e_ERN': 32, 'WBSI': 30, 'WASH': 15, 'T-CTR': 24, 'STAND': 21, 'STAI-T': 2, 'STAI-S Diff': 26, 'SES': 6, 'RRQ': 20, 'REW': 23, 'PUN': 9, 'PS': 4, 'PRED': 17, 'OT': 1, 'ORD': 19, 'OB_PERF': 7, 'OBSESS': 18, 'NEU': 29, 'IUS-P': 25, 'IUS-I': 16, 'INDEC_F': 14, 'HOARD': 22, 'HARM': 31, 'G_SE': 28, 'DASS-21 Stress': 13, 'DASS-21 Dep': 5, 'CHECK': 27, 'BIS': 3, 'BAS_PRZY': 10, 'BAS_NAG': 12, 'BAS_D': 8, 'AMB': 11}\n",
      "INFO:root:{'e_ERN': 12, 'WBSI': 31, 'WASH': 7, 'T-CTR': 30, 'STAND': 27, 'STAI-T': 25, 'STAI-S Diff': 19, 'SES': 20, 'RRQ': 23, 'REW': 24, 'PUN': 10, 'PS': 1, 'PRED': 22, 'OT': 2, 'ORD': 14, 'OB_PERF': 8, 'OBSESS': 26, 'NEU': 15, 'IUS-P': 11, 'IUS-I': 28, 'INDEC_F': 21, 'HOARD': 13, 'HARM': 29, 'G_SE': 32, 'DASS-21 Stress': 9, 'DASS-21 Dep': 6, 'CHECK': 5, 'BIS': 4, 'BAS_PRZY': 18, 'BAS_NAG': 17, 'BAS_D': 3, 'AMB': 16}\n"
     ]
    },
    {
     "name": "stdout",
     "output_type": "stream",
     "text": [
      "Measure: calculate_nodes_predictability  Level: 0.49999999999999956   sample: 1   : similarity: 0.9849706744868033\n",
      "Measure: degree_centrality  Level: 0.49999999999999956   sample: 1   : similarity: 0.5399560117302052\n",
      "Measure: closeness_centrality  Level: 0.49999999999999956   sample: 1   : similarity: 0.47727272727272724\n",
      "Measure: current_flow_closeness_centrality  Level: 0.49999999999999956   sample: 1   : similarity: 0.8757331378299119\n",
      "Measure: betweenness_centrality  Level: 0.49999999999999956   sample: 1   : similarity: 0.22617302052785923\n",
      "Measure: current_flow_betweenness_centrality  Level: 0.49999999999999956   sample: 1   : similarity: 0.7778592375366568\n",
      "Measure: newman_betweenness_centrality  Level: 0.49999999999999956   sample: 1   : similarity: 0.3222140762463343\n",
      "X len before samples: 116\n",
      "X len inside samples: 116\n"
     ]
    },
    {
     "name": "stderr",
     "output_type": "stream",
     "text": [
      "[Parallel(n_jobs=10)]: Using backend ThreadingBackend with 10 concurrent workers.\n",
      "[Parallel(n_jobs=10)]: Done  30 tasks      | elapsed:    0.4s\n",
      "[Parallel(n_jobs=10)]: Done 180 tasks      | elapsed:    2.0s\n",
      "[Parallel(n_jobs=10)]: Done 430 tasks      | elapsed:    4.8s\n",
      "[Parallel(n_jobs=10)]: Done 780 tasks      | elapsed:    8.6s\n",
      "[Parallel(n_jobs=10)]: Done 1000 out of 1000 | elapsed:   10.9s finished\n",
      "INFO:root:{'e_ERN': 31, 'WBSI': 14, 'WASH': 21, 'T-CTR': 19, 'STAND': 20, 'STAI-T': 1, 'STAI-S Diff': 32, 'SES': 2, 'RRQ': 12, 'REW': 24, 'PUN': 3, 'PS': 17, 'PRED': 16, 'OT': 7, 'ORD': 25, 'OB_PERF': 15, 'OBSESS': 10, 'NEU': 28, 'IUS-P': 11, 'IUS-I': 6, 'INDEC_F': 13, 'HOARD': 23, 'HARM': 29, 'G_SE': 30, 'DASS-21 Stress': 8, 'DASS-21 Dep': 4, 'CHECK': 26, 'BIS': 5, 'BAS_PRZY': 18, 'BAS_NAG': 27, 'BAS_D': 22, 'AMB': 9}\n",
      "INFO:root:{'e_ERN': 25, 'WBSI': 22, 'WASH': 17, 'T-CTR': 31, 'STAND': 10, 'STAI-T': 21, 'STAI-S Diff': 32, 'SES': 15, 'RRQ': 14, 'REW': 29, 'PUN': 26, 'PS': 1, 'PRED': 5, 'OT': 2, 'ORD': 13, 'OB_PERF': 12, 'OBSESS': 6, 'NEU': 30, 'IUS-P': 3, 'IUS-I': 20, 'INDEC_F': 19, 'HOARD': 7, 'HARM': 28, 'G_SE': 27, 'DASS-21 Stress': 4, 'DASS-21 Dep': 23, 'CHECK': 18, 'BIS': 11, 'BAS_PRZY': 9, 'BAS_NAG': 16, 'BAS_D': 24, 'AMB': 8}\n",
      "INFO:root:{'e_ERN': 29, 'WBSI': 23, 'WASH': 17, 'T-CTR': 26, 'STAND': 12, 'STAI-T': 22, 'STAI-S Diff': 32, 'SES': 18, 'RRQ': 14, 'REW': 30, 'PUN': 28, 'PS': 2, 'PRED': 7, 'OT': 1, 'ORD': 21, 'OB_PERF': 9, 'OBSESS': 5, 'NEU': 31, 'IUS-P': 4, 'IUS-I': 13, 'INDEC_F': 11, 'HOARD': 8, 'HARM': 27, 'G_SE': 25, 'DASS-21 Stress': 3, 'DASS-21 Dep': 16, 'CHECK': 24, 'BIS': 15, 'BAS_PRZY': 10, 'BAS_NAG': 20, 'BAS_D': 19, 'AMB': 6}\n",
      "INFO:root:{'e_ERN': 32, 'WBSI': 8, 'WASH': 20, 'T-CTR': 29, 'STAND': 28, 'STAI-T': 1, 'STAI-S Diff': 30, 'SES': 3, 'RRQ': 16, 'REW': 31, 'PUN': 6, 'PS': 21, 'PRED': 12, 'OT': 4, 'ORD': 19, 'OB_PERF': 18, 'OBSESS': 15, 'NEU': 27, 'IUS-P': 2, 'IUS-I': 13, 'INDEC_F': 22, 'HOARD': 17, 'HARM': 26, 'G_SE': 25, 'DASS-21 Stress': 9, 'DASS-21 Dep': 7, 'CHECK': 10, 'BIS': 5, 'BAS_PRZY': 14, 'BAS_NAG': 23, 'BAS_D': 11, 'AMB': 24}\n",
      "INFO:root:{'e_ERN': 9, 'WBSI': 23, 'WASH': 30, 'T-CTR': 5, 'STAND': 3, 'STAI-T': 24, 'STAI-S Diff': 28, 'SES': 21, 'RRQ': 15, 'REW': 31, 'PUN': 13, 'PS': 1, 'PRED': 14, 'OT': 10, 'ORD': 20, 'OB_PERF': 12, 'OBSESS': 17, 'NEU': 22, 'IUS-P': 19, 'IUS-I': 16, 'INDEC_F': 8, 'HOARD': 4, 'HARM': 25, 'G_SE': 32, 'DASS-21 Stress': 6, 'DASS-21 Dep': 27, 'CHECK': 26, 'BIS': 7, 'BAS_PRZY': 11, 'BAS_NAG': 18, 'BAS_D': 29, 'AMB': 2}\n",
      "INFO:root:{'e_ERN': 31, 'WBSI': 16, 'WASH': 7, 'T-CTR': 30, 'STAND': 26, 'STAI-T': 2, 'STAI-S Diff': 29, 'SES': 4, 'RRQ': 17, 'REW': 32, 'PUN': 20, 'PS': 14, 'PRED': 8, 'OT': 1, 'ORD': 15, 'OB_PERF': 11, 'OBSESS': 12, 'NEU': 28, 'IUS-P': 3, 'IUS-I': 23, 'INDEC_F': 22, 'HOARD': 13, 'HARM': 27, 'G_SE': 24, 'DASS-21 Stress': 21, 'DASS-21 Dep': 18, 'CHECK': 6, 'BIS': 5, 'BAS_PRZY': 10, 'BAS_NAG': 19, 'BAS_D': 9, 'AMB': 25}\n",
      "INFO:root:{'e_ERN': 26, 'WBSI': 25, 'WASH': 16, 'T-CTR': 29, 'STAND': 8, 'STAI-T': 17, 'STAI-S Diff': 31, 'SES': 13, 'RRQ': 18, 'REW': 32, 'PUN': 21, 'PS': 2, 'PRED': 3, 'OT': 1, 'ORD': 15, 'OB_PERF': 12, 'OBSESS': 11, 'NEU': 28, 'IUS-P': 4, 'IUS-I': 20, 'INDEC_F': 19, 'HOARD': 7, 'HARM': 30, 'G_SE': 23, 'DASS-21 Stress': 5, 'DASS-21 Dep': 24, 'CHECK': 14, 'BIS': 6, 'BAS_PRZY': 10, 'BAS_NAG': 22, 'BAS_D': 27, 'AMB': 9}\n"
     ]
    },
    {
     "name": "stdout",
     "output_type": "stream",
     "text": [
      "Measure: calculate_nodes_predictability  Level: 0.4499999999999995   sample: 0   : similarity: 0.9054252199413488\n",
      "Measure: degree_centrality  Level: 0.4499999999999995   sample: 0   : similarity: 0.49010263929618764\n",
      "Measure: closeness_centrality  Level: 0.4499999999999995   sample: 0   : similarity: 0.5054985337243401\n",
      "Measure: current_flow_closeness_centrality  Level: 0.4499999999999995   sample: 0   : similarity: 0.6920821114369501\n",
      "Measure: betweenness_centrality  Level: 0.4499999999999995   sample: 0   : similarity: -0.06268328445747795\n",
      "Measure: current_flow_betweenness_centrality  Level: 0.4499999999999995   sample: 0   : similarity: 0.6873167155425219\n",
      "Measure: newman_betweenness_centrality  Level: 0.4499999999999995   sample: 0   : similarity: 0.4516129032258064\n",
      "X len inside samples: 116\n"
     ]
    },
    {
     "name": "stderr",
     "output_type": "stream",
     "text": [
      "[Parallel(n_jobs=10)]: Using backend ThreadingBackend with 10 concurrent workers.\n",
      "[Parallel(n_jobs=10)]: Done  30 tasks      | elapsed:    0.6s\n",
      "[Parallel(n_jobs=10)]: Done 180 tasks      | elapsed:    2.9s\n",
      "[Parallel(n_jobs=10)]: Done 430 tasks      | elapsed:    6.5s\n",
      "[Parallel(n_jobs=10)]: Done 780 tasks      | elapsed:   11.9s\n",
      "[Parallel(n_jobs=10)]: Done 1000 out of 1000 | elapsed:   15.3s finished\n",
      "INFO:root:{'e_ERN': 32, 'WBSI': 18, 'WASH': 22, 'T-CTR': 15, 'STAND': 24, 'STAI-T': 1, 'STAI-S Diff': 31, 'SES': 3, 'RRQ': 11, 'REW': 26, 'PUN': 2, 'PS': 19, 'PRED': 16, 'OT': 10, 'ORD': 17, 'OB_PERF': 14, 'OBSESS': 8, 'NEU': 25, 'IUS-P': 13, 'IUS-I': 7, 'INDEC_F': 9, 'HOARD': 21, 'HARM': 30, 'G_SE': 27, 'DASS-21 Stress': 4, 'DASS-21 Dep': 6, 'CHECK': 29, 'BIS': 5, 'BAS_PRZY': 20, 'BAS_NAG': 28, 'BAS_D': 23, 'AMB': 12}\n",
      "INFO:root:{'e_ERN': 27, 'WBSI': 30, 'WASH': 26, 'T-CTR': 15, 'STAND': 13, 'STAI-T': 23, 'STAI-S Diff': 21, 'SES': 12, 'RRQ': 18, 'REW': 28, 'PUN': 20, 'PS': 2, 'PRED': 14, 'OT': 3, 'ORD': 16, 'OB_PERF': 11, 'OBSESS': 8, 'NEU': 9, 'IUS-P': 10, 'IUS-I': 17, 'INDEC_F': 6, 'HOARD': 1, 'HARM': 32, 'G_SE': 25, 'DASS-21 Stress': 24, 'DASS-21 Dep': 29, 'CHECK': 4, 'BIS': 5, 'BAS_PRZY': 7, 'BAS_NAG': 22, 'BAS_D': 19, 'AMB': 31}\n",
      "INFO:root:{'e_ERN': 26, 'WBSI': 28, 'WASH': 25, 'T-CTR': 22, 'STAND': 16, 'STAI-T': 29, 'STAI-S Diff': 17, 'SES': 15, 'RRQ': 13, 'REW': 27, 'PUN': 21, 'PS': 2, 'PRED': 9, 'OT': 3, 'ORD': 10, 'OB_PERF': 14, 'OBSESS': 11, 'NEU': 12, 'IUS-P': 7, 'IUS-I': 19, 'INDEC_F': 4, 'HOARD': 1, 'HARM': 32, 'G_SE': 24, 'DASS-21 Stress': 23, 'DASS-21 Dep': 31, 'CHECK': 6, 'BIS': 8, 'BAS_PRZY': 5, 'BAS_NAG': 18, 'BAS_D': 20, 'AMB': 30}\n",
      "INFO:root:{'e_ERN': 32, 'WBSI': 20, 'WASH': 29, 'T-CTR': 25, 'STAND': 18, 'STAI-T': 3, 'STAI-S Diff': 31, 'SES': 2, 'RRQ': 11, 'REW': 30, 'PUN': 1, 'PS': 7, 'PRED': 16, 'OT': 5, 'ORD': 13, 'OB_PERF': 12, 'OBSESS': 4, 'NEU': 26, 'IUS-P': 22, 'IUS-I': 15, 'INDEC_F': 8, 'HOARD': 17, 'HARM': 28, 'G_SE': 27, 'DASS-21 Stress': 10, 'DASS-21 Dep': 6, 'CHECK': 19, 'BIS': 9, 'BAS_PRZY': 14, 'BAS_NAG': 21, 'BAS_D': 23, 'AMB': 24}\n",
      "INFO:root:{'e_ERN': 4, 'WBSI': 27, 'WASH': 8, 'T-CTR': 1, 'STAND': 31, 'STAI-T': 21, 'STAI-S Diff': 7, 'SES': 19, 'RRQ': 25, 'REW': 18, 'PUN': 20, 'PS': 12, 'PRED': 13, 'OT': 6, 'ORD': 29, 'OB_PERF': 17, 'OBSESS': 14, 'NEU': 2, 'IUS-P': 3, 'IUS-I': 24, 'INDEC_F': 5, 'HOARD': 9, 'HARM': 23, 'G_SE': 32, 'DASS-21 Stress': 22, 'DASS-21 Dep': 30, 'CHECK': 10, 'BIS': 15, 'BAS_PRZY': 16, 'BAS_NAG': 26, 'BAS_D': 11, 'AMB': 28}\n",
      "INFO:root:{'e_ERN': 32, 'WBSI': 21, 'WASH': 28, 'T-CTR': 27, 'STAND': 22, 'STAI-T': 9, 'STAI-S Diff': 31, 'SES': 4, 'RRQ': 14, 'REW': 26, 'PUN': 1, 'PS': 3, 'PRED': 6, 'OT': 7, 'ORD': 11, 'OB_PERF': 5, 'OBSESS': 2, 'NEU': 24, 'IUS-P': 19, 'IUS-I': 10, 'INDEC_F': 16, 'HOARD': 15, 'HARM': 30, 'G_SE': 29, 'DASS-21 Stress': 17, 'DASS-21 Dep': 12, 'CHECK': 18, 'BIS': 13, 'BAS_PRZY': 8, 'BAS_NAG': 20, 'BAS_D': 23, 'AMB': 25}\n",
      "INFO:root:{'e_ERN': 30, 'WBSI': 27, 'WASH': 24, 'T-CTR': 19, 'STAND': 18, 'STAI-T': 23, 'STAI-S Diff': 26, 'SES': 8, 'RRQ': 12, 'REW': 25, 'PUN': 22, 'PS': 1, 'PRED': 6, 'OT': 3, 'ORD': 14, 'OB_PERF': 15, 'OBSESS': 11, 'NEU': 13, 'IUS-P': 4, 'IUS-I': 16, 'INDEC_F': 7, 'HOARD': 2, 'HARM': 31, 'G_SE': 32, 'DASS-21 Stress': 21, 'DASS-21 Dep': 28, 'CHECK': 9, 'BIS': 5, 'BAS_PRZY': 10, 'BAS_NAG': 17, 'BAS_D': 20, 'AMB': 29}\n"
     ]
    },
    {
     "name": "stdout",
     "output_type": "stream",
     "text": [
      "Measure: calculate_nodes_predictability  Level: 0.4499999999999995   sample: 1   : similarity: 0.912023460410557\n",
      "Measure: degree_centrality  Level: 0.4499999999999995   sample: 1   : similarity: 0.4285190615835777\n",
      "Measure: closeness_centrality  Level: 0.4499999999999995   sample: 1   : similarity: 0.46884164222873903\n",
      "Measure: current_flow_closeness_centrality  Level: 0.4499999999999995   sample: 1   : similarity: 0.879398826979472\n",
      "Measure: betweenness_centrality  Level: 0.4499999999999995   sample: 1   : similarity: 0.31671554252199413\n",
      "Measure: current_flow_betweenness_centrality  Level: 0.4499999999999995   sample: 1   : similarity: 0.7983870967741934\n",
      "Measure: newman_betweenness_centrality  Level: 0.4499999999999995   sample: 1   : similarity: 0.5318914956011729\n",
      "X len before samples: 103\n",
      "X len inside samples: 103\n"
     ]
    },
    {
     "name": "stderr",
     "output_type": "stream",
     "text": [
      "[Parallel(n_jobs=10)]: Using backend ThreadingBackend with 10 concurrent workers.\n",
      "[Parallel(n_jobs=10)]: Done  30 tasks      | elapsed:    0.4s\n",
      "[Parallel(n_jobs=10)]: Done 180 tasks      | elapsed:    2.3s\n",
      "[Parallel(n_jobs=10)]: Done 430 tasks      | elapsed:    5.4s\n",
      "[Parallel(n_jobs=10)]: Done 780 tasks      | elapsed:    9.8s\n",
      "[Parallel(n_jobs=10)]: Done 1000 out of 1000 | elapsed:   12.5s finished\n",
      "INFO:root:{'e_ERN': 31, 'WBSI': 18, 'WASH': 24, 'T-CTR': 21, 'STAND': 25, 'STAI-T': 1, 'STAI-S Diff': 32, 'SES': 3, 'RRQ': 10, 'REW': 14, 'PUN': 2, 'PS': 20, 'PRED': 16, 'OT': 8, 'ORD': 23, 'OB_PERF': 15, 'OBSESS': 11, 'NEU': 27, 'IUS-P': 13, 'IUS-I': 7, 'INDEC_F': 9, 'HOARD': 29, 'HARM': 28, 'G_SE': 26, 'DASS-21 Stress': 6, 'DASS-21 Dep': 5, 'CHECK': 30, 'BIS': 4, 'BAS_PRZY': 19, 'BAS_NAG': 22, 'BAS_D': 12, 'AMB': 17}\n",
      "INFO:root:{'e_ERN': 5, 'WBSI': 30, 'WASH': 14, 'T-CTR': 32, 'STAND': 15, 'STAI-T': 26, 'STAI-S Diff': 7, 'SES': 22, 'RRQ': 11, 'REW': 20, 'PUN': 28, 'PS': 3, 'PRED': 2, 'OT': 4, 'ORD': 8, 'OB_PERF': 6, 'OBSESS': 27, 'NEU': 17, 'IUS-P': 23, 'IUS-I': 21, 'INDEC_F': 18, 'HOARD': 16, 'HARM': 10, 'G_SE': 31, 'DASS-21 Stress': 19, 'DASS-21 Dep': 12, 'CHECK': 24, 'BIS': 29, 'BAS_PRZY': 9, 'BAS_NAG': 13, 'BAS_D': 1, 'AMB': 25}\n",
      "INFO:root:{'e_ERN': 5, 'WBSI': 27, 'WASH': 15, 'T-CTR': 32, 'STAND': 13, 'STAI-T': 22, 'STAI-S Diff': 7, 'SES': 26, 'RRQ': 10, 'REW': 25, 'PUN': 23, 'PS': 3, 'PRED': 2, 'OT': 4, 'ORD': 8, 'OB_PERF': 6, 'OBSESS': 29, 'NEU': 17, 'IUS-P': 21, 'IUS-I': 20, 'INDEC_F': 18, 'HOARD': 16, 'HARM': 9, 'G_SE': 31, 'DASS-21 Stress': 19, 'DASS-21 Dep': 11, 'CHECK': 30, 'BIS': 24, 'BAS_PRZY': 14, 'BAS_NAG': 12, 'BAS_D': 1, 'AMB': 28}\n",
      "INFO:root:{'e_ERN': 31, 'WBSI': 24, 'WASH': 17, 'T-CTR': 29, 'STAND': 26, 'STAI-T': 3, 'STAI-S Diff': 18, 'SES': 1, 'RRQ': 8, 'REW': 27, 'PUN': 12, 'PS': 23, 'PRED': 4, 'OT': 5, 'ORD': 9, 'OB_PERF': 10, 'OBSESS': 19, 'NEU': 28, 'IUS-P': 15, 'IUS-I': 7, 'INDEC_F': 16, 'HOARD': 32, 'HARM': 22, 'G_SE': 30, 'DASS-21 Stress': 14, 'DASS-21 Dep': 11, 'CHECK': 25, 'BIS': 6, 'BAS_PRZY': 13, 'BAS_NAG': 20, 'BAS_D': 2, 'AMB': 21}\n",
      "INFO:root:{'e_ERN': 1, 'WBSI': 29, 'WASH': 25, 'T-CTR': 15, 'STAND': 8, 'STAI-T': 19, 'STAI-S Diff': 9, 'SES': 27, 'RRQ': 6, 'REW': 17, 'PUN': 23, 'PS': 18, 'PRED': 5, 'OT': 21, 'ORD': 24, 'OB_PERF': 12, 'OBSESS': 14, 'NEU': 3, 'IUS-P': 32, 'IUS-I': 28, 'INDEC_F': 30, 'HOARD': 2, 'HARM': 26, 'G_SE': 7, 'DASS-21 Stress': 10, 'DASS-21 Dep': 11, 'CHECK': 4, 'BIS': 31, 'BAS_PRZY': 20, 'BAS_NAG': 16, 'BAS_D': 22, 'AMB': 13}\n",
      "INFO:root:{'e_ERN': 31, 'WBSI': 26, 'WASH': 11, 'T-CTR': 29, 'STAND': 27, 'STAI-T': 6, 'STAI-S Diff': 20, 'SES': 1, 'RRQ': 5, 'REW': 25, 'PUN': 16, 'PS': 22, 'PRED': 3, 'OT': 2, 'ORD': 7, 'OB_PERF': 9, 'OBSESS': 18, 'NEU': 30, 'IUS-P': 15, 'IUS-I': 8, 'INDEC_F': 14, 'HOARD': 32, 'HARM': 19, 'G_SE': 28, 'DASS-21 Stress': 13, 'DASS-21 Dep': 17, 'CHECK': 23, 'BIS': 10, 'BAS_PRZY': 12, 'BAS_NAG': 24, 'BAS_D': 4, 'AMB': 21}\n",
      "INFO:root:{'e_ERN': 7, 'WBSI': 20, 'WASH': 18, 'T-CTR': 32, 'STAND': 12, 'STAI-T': 23, 'STAI-S Diff': 13, 'SES': 28, 'RRQ': 5, 'REW': 17, 'PUN': 22, 'PS': 1, 'PRED': 4, 'OT': 3, 'ORD': 8, 'OB_PERF': 21, 'OBSESS': 31, 'NEU': 27, 'IUS-P': 24, 'IUS-I': 9, 'INDEC_F': 14, 'HOARD': 15, 'HARM': 6, 'G_SE': 25, 'DASS-21 Stress': 11, 'DASS-21 Dep': 16, 'CHECK': 30, 'BIS': 19, 'BAS_PRZY': 10, 'BAS_NAG': 26, 'BAS_D': 2, 'AMB': 29}\n"
     ]
    },
    {
     "name": "stdout",
     "output_type": "stream",
     "text": [
      "Measure: calculate_nodes_predictability  Level: 0.39999999999999947   sample: 0   : similarity: 0.9637096774193548\n",
      "Measure: degree_centrality  Level: 0.39999999999999947   sample: 0   : similarity: 0.1477272727272727\n",
      "Measure: closeness_centrality  Level: 0.39999999999999947   sample: 0   : similarity: 0.1217008797653959\n",
      "Measure: current_flow_closeness_centrality  Level: 0.39999999999999947   sample: 0   : similarity: 0.7107771260997067\n",
      "Measure: betweenness_centrality  Level: 0.39999999999999947   sample: 0   : similarity: -0.21297653958944274\n",
      "Measure: current_flow_betweenness_centrality  Level: 0.39999999999999947   sample: 0   : similarity: 0.6451612903225806\n",
      "Measure: newman_betweenness_centrality  Level: 0.39999999999999947   sample: 0   : similarity: -0.11180351906158353\n",
      "X len inside samples: 103\n"
     ]
    },
    {
     "name": "stderr",
     "output_type": "stream",
     "text": [
      "[Parallel(n_jobs=10)]: Using backend ThreadingBackend with 10 concurrent workers.\n",
      "[Parallel(n_jobs=10)]: Done  30 tasks      | elapsed:    0.5s\n",
      "[Parallel(n_jobs=10)]: Done 180 tasks      | elapsed:    2.9s\n",
      "[Parallel(n_jobs=10)]: Done 430 tasks      | elapsed:    6.4s\n",
      "[Parallel(n_jobs=10)]: Done 780 tasks      | elapsed:   11.6s\n",
      "[Parallel(n_jobs=10)]: Done 1000 out of 1000 | elapsed:   14.9s finished\n",
      "INFO:root:{'e_ERN': 32, 'WBSI': 19, 'WASH': 24, 'T-CTR': 15, 'STAND': 23, 'STAI-T': 1, 'STAI-S Diff': 31, 'SES': 2, 'RRQ': 13, 'REW': 17, 'PUN': 3, 'PS': 25, 'PRED': 20, 'OT': 7, 'ORD': 16, 'OB_PERF': 18, 'OBSESS': 9, 'NEU': 22, 'IUS-P': 8, 'IUS-I': 6, 'INDEC_F': 12, 'HOARD': 26, 'HARM': 27, 'G_SE': 28, 'DASS-21 Stress': 10, 'DASS-21 Dep': 4, 'CHECK': 30, 'BIS': 5, 'BAS_PRZY': 21, 'BAS_NAG': 29, 'BAS_D': 14, 'AMB': 11}\n",
      "INFO:root:{'e_ERN': 32, 'WBSI': 23, 'WASH': 10, 'T-CTR': 19, 'STAND': 17, 'STAI-T': 30, 'STAI-S Diff': 31, 'SES': 8, 'RRQ': 13, 'REW': 12, 'PUN': 24, 'PS': 21, 'PRED': 25, 'OT': 4, 'ORD': 1, 'OB_PERF': 14, 'OBSESS': 3, 'NEU': 11, 'IUS-P': 2, 'IUS-I': 6, 'INDEC_F': 22, 'HOARD': 5, 'HARM': 7, 'G_SE': 20, 'DASS-21 Stress': 26, 'DASS-21 Dep': 29, 'CHECK': 28, 'BIS': 15, 'BAS_PRZY': 18, 'BAS_NAG': 27, 'BAS_D': 16, 'AMB': 9}\n",
      "INFO:root:{'e_ERN': 32, 'WBSI': 21, 'WASH': 11, 'T-CTR': 12, 'STAND': 18, 'STAI-T': 31, 'STAI-S Diff': 28, 'SES': 7, 'RRQ': 15, 'REW': 14, 'PUN': 27, 'PS': 23, 'PRED': 24, 'OT': 3, 'ORD': 1, 'OB_PERF': 19, 'OBSESS': 4, 'NEU': 20, 'IUS-P': 2, 'IUS-I': 6, 'INDEC_F': 25, 'HOARD': 5, 'HARM': 9, 'G_SE': 13, 'DASS-21 Stress': 22, 'DASS-21 Dep': 30, 'CHECK': 29, 'BIS': 16, 'BAS_PRZY': 10, 'BAS_NAG': 26, 'BAS_D': 17, 'AMB': 8}\n",
      "INFO:root:{'e_ERN': 31, 'WBSI': 24, 'WASH': 16, 'T-CTR': 12, 'STAND': 20, 'STAI-T': 2, 'STAI-S Diff': 32, 'SES': 9, 'RRQ': 14, 'REW': 27, 'PUN': 1, 'PS': 11, 'PRED': 15, 'OT': 4, 'ORD': 3, 'OB_PERF': 6, 'OBSESS': 10, 'NEU': 22, 'IUS-P': 8, 'IUS-I': 23, 'INDEC_F': 17, 'HOARD': 26, 'HARM': 25, 'G_SE': 30, 'DASS-21 Stress': 28, 'DASS-21 Dep': 21, 'CHECK': 29, 'BIS': 7, 'BAS_PRZY': 13, 'BAS_NAG': 18, 'BAS_D': 19, 'AMB': 5}\n",
      "INFO:root:{'e_ERN': 27, 'WBSI': 25, 'WASH': 4, 'T-CTR': 24, 'STAND': 17, 'STAI-T': 31, 'STAI-S Diff': 9, 'SES': 6, 'RRQ': 10, 'REW': 3, 'PUN': 30, 'PS': 21, 'PRED': 12, 'OT': 8, 'ORD': 16, 'OB_PERF': 15, 'OBSESS': 7, 'NEU': 29, 'IUS-P': 1, 'IUS-I': 11, 'INDEC_F': 13, 'HOARD': 5, 'HARM': 26, 'G_SE': 20, 'DASS-21 Stress': 2, 'DASS-21 Dep': 23, 'CHECK': 28, 'BIS': 22, 'BAS_PRZY': 18, 'BAS_NAG': 32, 'BAS_D': 14, 'AMB': 19}\n",
      "INFO:root:{'e_ERN': 31, 'WBSI': 25, 'WASH': 16, 'T-CTR': 18, 'STAND': 23, 'STAI-T': 2, 'STAI-S Diff': 32, 'SES': 8, 'RRQ': 19, 'REW': 28, 'PUN': 1, 'PS': 11, 'PRED': 20, 'OT': 4, 'ORD': 3, 'OB_PERF': 13, 'OBSESS': 7, 'NEU': 12, 'IUS-P': 6, 'IUS-I': 24, 'INDEC_F': 27, 'HOARD': 21, 'HARM': 22, 'G_SE': 30, 'DASS-21 Stress': 29, 'DASS-21 Dep': 14, 'CHECK': 26, 'BIS': 9, 'BAS_PRZY': 10, 'BAS_NAG': 15, 'BAS_D': 17, 'AMB': 5}\n",
      "INFO:root:{'e_ERN': 32, 'WBSI': 27, 'WASH': 16, 'T-CTR': 24, 'STAND': 20, 'STAI-T': 29, 'STAI-S Diff': 31, 'SES': 5, 'RRQ': 14, 'REW': 7, 'PUN': 23, 'PS': 22, 'PRED': 26, 'OT': 4, 'ORD': 2, 'OB_PERF': 17, 'OBSESS': 3, 'NEU': 13, 'IUS-P': 1, 'IUS-I': 8, 'INDEC_F': 18, 'HOARD': 6, 'HARM': 9, 'G_SE': 21, 'DASS-21 Stress': 15, 'DASS-21 Dep': 30, 'CHECK': 28, 'BIS': 10, 'BAS_PRZY': 19, 'BAS_NAG': 25, 'BAS_D': 12, 'AMB': 11}\n"
     ]
    },
    {
     "name": "stdout",
     "output_type": "stream",
     "text": [
      "Measure: calculate_nodes_predictability  Level: 0.39999999999999947   sample: 1   : similarity: 0.9351173020527859\n",
      "Measure: degree_centrality  Level: 0.39999999999999947   sample: 1   : similarity: 0.3266129032258064\n",
      "Measure: closeness_centrality  Level: 0.39999999999999947   sample: 1   : similarity: 0.4618768328445747\n",
      "Measure: current_flow_closeness_centrality  Level: 0.39999999999999947   sample: 1   : similarity: 0.7008797653958945\n",
      "Measure: betweenness_centrality  Level: 0.39999999999999947   sample: 1   : similarity: 0.35190615835777117\n",
      "Measure: current_flow_betweenness_centrality  Level: 0.39999999999999947   sample: 1   : similarity: 0.658357771260997\n",
      "Measure: newman_betweenness_centrality  Level: 0.39999999999999947   sample: 1   : similarity: 0.46187683284457476\n",
      "X len before samples: 90\n",
      "X len inside samples: 90\n"
     ]
    },
    {
     "name": "stderr",
     "output_type": "stream",
     "text": [
      "[Parallel(n_jobs=10)]: Using backend ThreadingBackend with 10 concurrent workers.\n",
      "[Parallel(n_jobs=10)]: Done  30 tasks      | elapsed:    0.5s\n",
      "[Parallel(n_jobs=10)]: Done 180 tasks      | elapsed:    2.4s\n",
      "[Parallel(n_jobs=10)]: Done 430 tasks      | elapsed:    5.5s\n",
      "[Parallel(n_jobs=10)]: Done 780 tasks      | elapsed:   10.0s\n",
      "[Parallel(n_jobs=10)]: Done 1000 out of 1000 | elapsed:   13.0s finished\n",
      "INFO:root:{'e_ERN': 31, 'WBSI': 15, 'WASH': 27, 'T-CTR': 19, 'STAND': 26, 'STAI-T': 1, 'STAI-S Diff': 32, 'SES': 3, 'RRQ': 5, 'REW': 17, 'PUN': 2, 'PS': 22, 'PRED': 18, 'OT': 6, 'ORD': 23, 'OB_PERF': 14, 'OBSESS': 12, 'NEU': 30, 'IUS-P': 13, 'IUS-I': 10, 'INDEC_F': 7, 'HOARD': 25, 'HARM': 28, 'G_SE': 21, 'DASS-21 Stress': 11, 'DASS-21 Dep': 4, 'CHECK': 29, 'BIS': 8, 'BAS_PRZY': 20, 'BAS_NAG': 24, 'BAS_D': 16, 'AMB': 9}\n",
      "INFO:root:{'e_ERN': 19, 'WBSI': 11, 'WASH': 17, 'T-CTR': 20, 'STAND': 32, 'STAI-T': 15, 'STAI-S Diff': 29, 'SES': 13, 'RRQ': 7, 'REW': 22, 'PUN': 18, 'PS': 25, 'PRED': 26, 'OT': 5, 'ORD': 12, 'OB_PERF': 14, 'OBSESS': 3, 'NEU': 30, 'IUS-P': 6, 'IUS-I': 31, 'INDEC_F': 21, 'HOARD': 1, 'HARM': 28, 'G_SE': 4, 'DASS-21 Stress': 16, 'DASS-21 Dep': 23, 'CHECK': 27, 'BIS': 24, 'BAS_PRZY': 10, 'BAS_NAG': 8, 'BAS_D': 9, 'AMB': 2}\n",
      "INFO:root:{'e_ERN': 21, 'WBSI': 12, 'WASH': 16, 'T-CTR': 26, 'STAND': 31, 'STAI-T': 15, 'STAI-S Diff': 32, 'SES': 13, 'RRQ': 5, 'REW': 27, 'PUN': 19, 'PS': 18, 'PRED': 20, 'OT': 8, 'ORD': 7, 'OB_PERF': 11, 'OBSESS': 3, 'NEU': 30, 'IUS-P': 6, 'IUS-I': 29, 'INDEC_F': 22, 'HOARD': 1, 'HARM': 28, 'G_SE': 4, 'DASS-21 Stress': 17, 'DASS-21 Dep': 23, 'CHECK': 25, 'BIS': 24, 'BAS_PRZY': 14, 'BAS_NAG': 9, 'BAS_D': 10, 'AMB': 2}\n",
      "INFO:root:{'e_ERN': 30, 'WBSI': 24, 'WASH': 26, 'T-CTR': 22, 'STAND': 20, 'STAI-T': 3, 'STAI-S Diff': 32, 'SES': 6, 'RRQ': 16, 'REW': 21, 'PUN': 4, 'PS': 13, 'PRED': 1, 'OT': 19, 'ORD': 8, 'OB_PERF': 18, 'OBSESS': 17, 'NEU': 31, 'IUS-P': 14, 'IUS-I': 28, 'INDEC_F': 25, 'HOARD': 7, 'HARM': 29, 'G_SE': 23, 'DASS-21 Stress': 15, 'DASS-21 Dep': 10, 'CHECK': 27, 'BIS': 12, 'BAS_PRZY': 9, 'BAS_NAG': 5, 'BAS_D': 11, 'AMB': 2}\n",
      "INFO:root:{'e_ERN': 14, 'WBSI': 8, 'WASH': 21, 'T-CTR': 15, 'STAND': 32, 'STAI-T': 28, 'STAI-S Diff': 16, 'SES': 6, 'RRQ': 19, 'REW': 18, 'PUN': 24, 'PS': 26, 'PRED': 30, 'OT': 23, 'ORD': 20, 'OB_PERF': 31, 'OBSESS': 1, 'NEU': 7, 'IUS-P': 12, 'IUS-I': 17, 'INDEC_F': 13, 'HOARD': 3, 'HARM': 9, 'G_SE': 5, 'DASS-21 Stress': 10, 'DASS-21 Dep': 27, 'CHECK': 25, 'BIS': 29, 'BAS_PRZY': 22, 'BAS_NAG': 2, 'BAS_D': 11, 'AMB': 4}\n",
      "INFO:root:{'e_ERN': 28, 'WBSI': 25, 'WASH': 20, 'T-CTR': 21, 'STAND': 24, 'STAI-T': 3, 'STAI-S Diff': 32, 'SES': 11, 'RRQ': 9, 'REW': 22, 'PUN': 1, 'PS': 12, 'PRED': 4, 'OT': 8, 'ORD': 6, 'OB_PERF': 7, 'OBSESS': 16, 'NEU': 31, 'IUS-P': 18, 'IUS-I': 30, 'INDEC_F': 26, 'HOARD': 10, 'HARM': 29, 'G_SE': 23, 'DASS-21 Stress': 19, 'DASS-21 Dep': 15, 'CHECK': 27, 'BIS': 17, 'BAS_PRZY': 14, 'BAS_NAG': 5, 'BAS_D': 13, 'AMB': 2}\n",
      "INFO:root:{'e_ERN': 18, 'WBSI': 15, 'WASH': 11, 'T-CTR': 21, 'STAND': 32, 'STAI-T': 19, 'STAI-S Diff': 30, 'SES': 14, 'RRQ': 9, 'REW': 24, 'PUN': 17, 'PS': 16, 'PRED': 26, 'OT': 6, 'ORD': 7, 'OB_PERF': 8, 'OBSESS': 3, 'NEU': 29, 'IUS-P': 4, 'IUS-I': 31, 'INDEC_F': 28, 'HOARD': 1, 'HARM': 23, 'G_SE': 5, 'DASS-21 Stress': 20, 'DASS-21 Dep': 25, 'CHECK': 22, 'BIS': 27, 'BAS_PRZY': 12, 'BAS_NAG': 10, 'BAS_D': 13, 'AMB': 2}\n"
     ]
    },
    {
     "name": "stdout",
     "output_type": "stream",
     "text": [
      "Measure: calculate_nodes_predictability  Level: 0.3499999999999994   sample: 0   : similarity: 0.9545454545454545\n",
      "Measure: degree_centrality  Level: 0.3499999999999994   sample: 0   : similarity: 0.408357771260997\n",
      "Measure: closeness_centrality  Level: 0.3499999999999994   sample: 0   : similarity: 0.4453812316715542\n",
      "Measure: current_flow_closeness_centrality  Level: 0.3499999999999994   sample: 0   : similarity: 0.687683284457478\n",
      "Measure: betweenness_centrality  Level: 0.3499999999999994   sample: 0   : similarity: 0.05571847507331376\n",
      "Measure: current_flow_betweenness_centrality  Level: 0.3499999999999994   sample: 0   : similarity: 0.6385630498533723\n",
      "Measure: newman_betweenness_centrality  Level: 0.3499999999999994   sample: 0   : similarity: 0.5388563049853372\n",
      "X len inside samples: 90\n"
     ]
    },
    {
     "name": "stderr",
     "output_type": "stream",
     "text": [
      "[Parallel(n_jobs=10)]: Using backend ThreadingBackend with 10 concurrent workers.\n",
      "[Parallel(n_jobs=10)]: Done  30 tasks      | elapsed:    0.5s\n",
      "[Parallel(n_jobs=10)]: Done 180 tasks      | elapsed:    2.1s\n",
      "[Parallel(n_jobs=10)]: Done 430 tasks      | elapsed:    4.2s\n",
      "[Parallel(n_jobs=10)]: Done 780 tasks      | elapsed:    7.4s\n",
      "[Parallel(n_jobs=10)]: Done 1000 out of 1000 | elapsed:    9.4s finished\n",
      "INFO:root:{'e_ERN': 30, 'WBSI': 13, 'WASH': 22, 'T-CTR': 21, 'STAND': 26, 'STAI-T': 1, 'STAI-S Diff': 31, 'SES': 2, 'RRQ': 11, 'REW': 14, 'PUN': 4, 'PS': 19, 'PRED': 17, 'OT': 10, 'ORD': 18, 'OB_PERF': 20, 'OBSESS': 9, 'NEU': 25, 'IUS-P': 12, 'IUS-I': 6, 'INDEC_F': 15, 'HOARD': 28, 'HARM': 32, 'G_SE': 23, 'DASS-21 Stress': 3, 'DASS-21 Dep': 7, 'CHECK': 29, 'BIS': 5, 'BAS_PRZY': 24, 'BAS_NAG': 27, 'BAS_D': 16, 'AMB': 8}\n",
      "INFO:root:{'e_ERN': 23, 'WBSI': 13, 'WASH': 3, 'T-CTR': 30, 'STAND': 29, 'STAI-T': 12, 'STAI-S Diff': 8, 'SES': 1, 'RRQ': 27, 'REW': 16, 'PUN': 18, 'PS': 2, 'PRED': 20, 'OT': 22, 'ORD': 6, 'OB_PERF': 25, 'OBSESS': 5, 'NEU': 11, 'IUS-P': 21, 'IUS-I': 26, 'INDEC_F': 24, 'HOARD': 9, 'HARM': 32, 'G_SE': 10, 'DASS-21 Stress': 4, 'DASS-21 Dep': 31, 'CHECK': 7, 'BIS': 17, 'BAS_PRZY': 14, 'BAS_NAG': 28, 'BAS_D': 15, 'AMB': 19}\n",
      "INFO:root:{'e_ERN': 14, 'WBSI': 11, 'WASH': 6, 'T-CTR': 31, 'STAND': 28, 'STAI-T': 16, 'STAI-S Diff': 9, 'SES': 1, 'RRQ': 29, 'REW': 13, 'PUN': 15, 'PS': 2, 'PRED': 17, 'OT': 22, 'ORD': 4, 'OB_PERF': 24, 'OBSESS': 3, 'NEU': 8, 'IUS-P': 18, 'IUS-I': 26, 'INDEC_F': 27, 'HOARD': 5, 'HARM': 32, 'G_SE': 20, 'DASS-21 Stress': 7, 'DASS-21 Dep': 30, 'CHECK': 10, 'BIS': 19, 'BAS_PRZY': 21, 'BAS_NAG': 25, 'BAS_D': 12, 'AMB': 23}\n",
      "INFO:root:{'e_ERN': 32, 'WBSI': 25, 'WASH': 18, 'T-CTR': 27, 'STAND': 20, 'STAI-T': 1, 'STAI-S Diff': 26, 'SES': 2, 'RRQ': 13, 'REW': 23, 'PUN': 7, 'PS': 16, 'PRED': 4, 'OT': 3, 'ORD': 10, 'OB_PERF': 12, 'OBSESS': 8, 'NEU': 28, 'IUS-P': 5, 'IUS-I': 15, 'INDEC_F': 19, 'HOARD': 29, 'HARM': 30, 'G_SE': 31, 'DASS-21 Stress': 6, 'DASS-21 Dep': 11, 'CHECK': 22, 'BIS': 9, 'BAS_PRZY': 17, 'BAS_NAG': 24, 'BAS_D': 21, 'AMB': 14}\n",
      "INFO:root:{'e_ERN': 10, 'WBSI': 22, 'WASH': 18, 'T-CTR': 14, 'STAND': 30, 'STAI-T': 29, 'STAI-S Diff': 12, 'SES': 7, 'RRQ': 27, 'REW': 4, 'PUN': 15, 'PS': 1, 'PRED': 21, 'OT': 32, 'ORD': 25, 'OB_PERF': 16, 'OBSESS': 11, 'NEU': 2, 'IUS-P': 31, 'IUS-I': 3, 'INDEC_F': 28, 'HOARD': 13, 'HARM': 23, 'G_SE': 5, 'DASS-21 Stress': 9, 'DASS-21 Dep': 26, 'CHECK': 6, 'BIS': 24, 'BAS_PRZY': 8, 'BAS_NAG': 17, 'BAS_D': 19, 'AMB': 20}\n",
      "INFO:root:{'e_ERN': 32, 'WBSI': 26, 'WASH': 13, 'T-CTR': 25, 'STAND': 15, 'STAI-T': 2, 'STAI-S Diff': 24, 'SES': 3, 'RRQ': 14, 'REW': 20, 'PUN': 12, 'PS': 11, 'PRED': 4, 'OT': 1, 'ORD': 7, 'OB_PERF': 10, 'OBSESS': 5, 'NEU': 29, 'IUS-P': 6, 'IUS-I': 23, 'INDEC_F': 22, 'HOARD': 27, 'HARM': 31, 'G_SE': 28, 'DASS-21 Stress': 8, 'DASS-21 Dep': 30, 'CHECK': 19, 'BIS': 9, 'BAS_PRZY': 18, 'BAS_NAG': 21, 'BAS_D': 17, 'AMB': 16}\n",
      "INFO:root:{'e_ERN': 22, 'WBSI': 24, 'WASH': 4, 'T-CTR': 28, 'STAND': 30, 'STAI-T': 14, 'STAI-S Diff': 13, 'SES': 1, 'RRQ': 29, 'REW': 8, 'PUN': 17, 'PS': 2, 'PRED': 16, 'OT': 11, 'ORD': 3, 'OB_PERF': 26, 'OBSESS': 5, 'NEU': 10, 'IUS-P': 21, 'IUS-I': 20, 'INDEC_F': 25, 'HOARD': 12, 'HARM': 32, 'G_SE': 9, 'DASS-21 Stress': 7, 'DASS-21 Dep': 31, 'CHECK': 6, 'BIS': 19, 'BAS_PRZY': 18, 'BAS_NAG': 27, 'BAS_D': 23, 'AMB': 15}\n"
     ]
    },
    {
     "name": "stdout",
     "output_type": "stream",
     "text": [
      "Measure: calculate_nodes_predictability  Level: 0.3499999999999994   sample: 1   : similarity: 0.9288856304985336\n",
      "Measure: degree_centrality  Level: 0.3499999999999994   sample: 1   : similarity: 0.1777859237536657\n",
      "Measure: closeness_centrality  Level: 0.3499999999999994   sample: 1   : similarity: 0.16898826979472137\n",
      "Measure: current_flow_closeness_centrality  Level: 0.3499999999999994   sample: 1   : similarity: 0.7870234604105572\n",
      "Measure: betweenness_centrality  Level: 0.3499999999999994   sample: 1   : similarity: 0.14479472140762462\n",
      "Measure: current_flow_betweenness_centrality  Level: 0.3499999999999994   sample: 1   : similarity: 0.6781524926686215\n",
      "Measure: newman_betweenness_centrality  Level: 0.3499999999999994   sample: 1   : similarity: 0.33541055718475066\n",
      "X len before samples: 77\n",
      "X len inside samples: 77\n"
     ]
    },
    {
     "name": "stderr",
     "output_type": "stream",
     "text": [
      "[Parallel(n_jobs=10)]: Using backend ThreadingBackend with 10 concurrent workers.\n",
      "[Parallel(n_jobs=10)]: Done  30 tasks      | elapsed:    0.4s\n",
      "[Parallel(n_jobs=10)]: Done 180 tasks      | elapsed:    2.2s\n",
      "[Parallel(n_jobs=10)]: Done 430 tasks      | elapsed:    5.2s\n",
      "[Parallel(n_jobs=10)]: Done 780 tasks      | elapsed:    9.4s\n",
      "[Parallel(n_jobs=10)]: Done 1000 out of 1000 | elapsed:   12.1s finished\n",
      "INFO:root:{'e_ERN': 32, 'WBSI': 12, 'WASH': 24, 'T-CTR': 18, 'STAND': 20, 'STAI-T': 1, 'STAI-S Diff': 31, 'SES': 2, 'RRQ': 9, 'REW': 21, 'PUN': 3, 'PS': 19, 'PRED': 16, 'OT': 7, 'ORD': 17, 'OB_PERF': 14, 'OBSESS': 11, 'NEU': 22, 'IUS-P': 15, 'IUS-I': 5, 'INDEC_F': 10, 'HOARD': 26, 'HARM': 28, 'G_SE': 29, 'DASS-21 Stress': 13, 'DASS-21 Dep': 6, 'CHECK': 27, 'BIS': 4, 'BAS_PRZY': 25, 'BAS_NAG': 30, 'BAS_D': 23, 'AMB': 8}\n",
      "INFO:root:{'e_ERN': 32, 'WBSI': 3, 'WASH': 27, 'T-CTR': 14, 'STAND': 23, 'STAI-T': 15, 'STAI-S Diff': 10, 'SES': 16, 'RRQ': 13, 'REW': 21, 'PUN': 9, 'PS': 12, 'PRED': 17, 'OT': 19, 'ORD': 2, 'OB_PERF': 5, 'OBSESS': 20, 'NEU': 31, 'IUS-P': 24, 'IUS-I': 6, 'INDEC_F': 26, 'HOARD': 18, 'HARM': 11, 'G_SE': 22, 'DASS-21 Stress': 25, 'DASS-21 Dep': 30, 'CHECK': 1, 'BIS': 7, 'BAS_PRZY': 8, 'BAS_NAG': 29, 'BAS_D': 28, 'AMB': 4}\n",
      "INFO:root:{'e_ERN': 32, 'WBSI': 4, 'WASH': 29, 'T-CTR': 13, 'STAND': 21, 'STAI-T': 14, 'STAI-S Diff': 10, 'SES': 18, 'RRQ': 11, 'REW': 19, 'PUN': 8, 'PS': 15, 'PRED': 23, 'OT': 26, 'ORD': 3, 'OB_PERF': 2, 'OBSESS': 16, 'NEU': 31, 'IUS-P': 22, 'IUS-I': 6, 'INDEC_F': 17, 'HOARD': 9, 'HARM': 24, 'G_SE': 20, 'DASS-21 Stress': 27, 'DASS-21 Dep': 30, 'CHECK': 1, 'BIS': 12, 'BAS_PRZY': 7, 'BAS_NAG': 28, 'BAS_D': 25, 'AMB': 5}\n",
      "INFO:root:{'e_ERN': 32, 'WBSI': 20, 'WASH': 27, 'T-CTR': 9, 'STAND': 25, 'STAI-T': 2, 'STAI-S Diff': 31, 'SES': 1, 'RRQ': 17, 'REW': 29, 'PUN': 13, 'PS': 22, 'PRED': 6, 'OT': 5, 'ORD': 4, 'OB_PERF': 3, 'OBSESS': 16, 'NEU': 23, 'IUS-P': 15, 'IUS-I': 18, 'INDEC_F': 24, 'HOARD': 21, 'HARM': 30, 'G_SE': 8, 'DASS-21 Stress': 10, 'DASS-21 Dep': 7, 'CHECK': 26, 'BIS': 12, 'BAS_PRZY': 19, 'BAS_NAG': 28, 'BAS_D': 14, 'AMB': 11}\n",
      "INFO:root:{'e_ERN': 29, 'WBSI': 4, 'WASH': 19, 'T-CTR': 9, 'STAND': 6, 'STAI-T': 25, 'STAI-S Diff': 1, 'SES': 17, 'RRQ': 22, 'REW': 7, 'PUN': 12, 'PS': 11, 'PRED': 31, 'OT': 14, 'ORD': 20, 'OB_PERF': 13, 'OBSESS': 10, 'NEU': 30, 'IUS-P': 15, 'IUS-I': 5, 'INDEC_F': 16, 'HOARD': 32, 'HARM': 18, 'G_SE': 26, 'DASS-21 Stress': 27, 'DASS-21 Dep': 23, 'CHECK': 2, 'BIS': 28, 'BAS_PRZY': 8, 'BAS_NAG': 21, 'BAS_D': 24, 'AMB': 3}\n",
      "INFO:root:{'e_ERN': 32, 'WBSI': 24, 'WASH': 31, 'T-CTR': 18, 'STAND': 27, 'STAI-T': 4, 'STAI-S Diff': 23, 'SES': 1, 'RRQ': 12, 'REW': 29, 'PUN': 22, 'PS': 11, 'PRED': 5, 'OT': 6, 'ORD': 2, 'OB_PERF': 3, 'OBSESS': 21, 'NEU': 25, 'IUS-P': 13, 'IUS-I': 14, 'INDEC_F': 26, 'HOARD': 17, 'HARM': 28, 'G_SE': 7, 'DASS-21 Stress': 8, 'DASS-21 Dep': 16, 'CHECK': 20, 'BIS': 15, 'BAS_PRZY': 19, 'BAS_NAG': 30, 'BAS_D': 10, 'AMB': 9}\n",
      "INFO:root:{'e_ERN': 32, 'WBSI': 7, 'WASH': 29, 'T-CTR': 14, 'STAND': 24, 'STAI-T': 13, 'STAI-S Diff': 5, 'SES': 11, 'RRQ': 12, 'REW': 27, 'PUN': 16, 'PS': 6, 'PRED': 18, 'OT': 21, 'ORD': 2, 'OB_PERF': 3, 'OBSESS': 28, 'NEU': 30, 'IUS-P': 23, 'IUS-I': 9, 'INDEC_F': 20, 'HOARD': 19, 'HARM': 10, 'G_SE': 25, 'DASS-21 Stress': 15, 'DASS-21 Dep': 31, 'CHECK': 1, 'BIS': 17, 'BAS_PRZY': 8, 'BAS_NAG': 26, 'BAS_D': 22, 'AMB': 4}\n"
     ]
    },
    {
     "name": "stdout",
     "output_type": "stream",
     "text": [
      "Measure: calculate_nodes_predictability  Level: 0.2999999999999994   sample: 0   : similarity: 0.8933284457478005\n",
      "Measure: degree_centrality  Level: 0.2999999999999994   sample: 0   : similarity: -0.03299120234604104\n",
      "Measure: closeness_centrality  Level: 0.2999999999999994   sample: 0   : similarity: 0.040689149560117314\n",
      "Measure: current_flow_closeness_centrality  Level: 0.2999999999999994   sample: 0   : similarity: 0.6187683284457478\n",
      "Measure: betweenness_centrality  Level: 0.2999999999999994   sample: 0   : similarity: -0.020527859237536666\n",
      "Measure: current_flow_betweenness_centrality  Level: 0.2999999999999994   sample: 0   : similarity: 0.5736803519061583\n",
      "Measure: newman_betweenness_centrality  Level: 0.2999999999999994   sample: 0   : similarity: 0.009897360703812336\n",
      "X len inside samples: 77\n"
     ]
    },
    {
     "name": "stderr",
     "output_type": "stream",
     "text": [
      "[Parallel(n_jobs=10)]: Using backend ThreadingBackend with 10 concurrent workers.\n",
      "[Parallel(n_jobs=10)]: Done  30 tasks      | elapsed:    0.5s\n",
      "[Parallel(n_jobs=10)]: Done 180 tasks      | elapsed:    2.4s\n",
      "[Parallel(n_jobs=10)]: Done 430 tasks      | elapsed:    5.6s\n",
      "[Parallel(n_jobs=10)]: Done 780 tasks      | elapsed:   10.0s\n",
      "[Parallel(n_jobs=10)]: Done 1000 out of 1000 | elapsed:   12.7s finished\n",
      "INFO:root:{'e_ERN': 31, 'WBSI': 14, 'WASH': 28, 'T-CTR': 13, 'STAND': 25, 'STAI-T': 1, 'STAI-S Diff': 32, 'SES': 2, 'RRQ': 8, 'REW': 24, 'PUN': 4, 'PS': 20, 'PRED': 18, 'OT': 10, 'ORD': 16, 'OB_PERF': 15, 'OBSESS': 17, 'NEU': 22, 'IUS-P': 12, 'IUS-I': 6, 'INDEC_F': 9, 'HOARD': 30, 'HARM': 27, 'G_SE': 26, 'DASS-21 Stress': 11, 'DASS-21 Dep': 5, 'CHECK': 29, 'BIS': 3, 'BAS_PRZY': 19, 'BAS_NAG': 21, 'BAS_D': 23, 'AMB': 7}\n",
      "INFO:root:{'e_ERN': 11, 'WBSI': 6, 'WASH': 25, 'T-CTR': 7, 'STAND': 32, 'STAI-T': 21, 'STAI-S Diff': 23, 'SES': 10, 'RRQ': 12, 'REW': 26, 'PUN': 30, 'PS': 2, 'PRED': 4, 'OT': 13, 'ORD': 1, 'OB_PERF': 15, 'OBSESS': 29, 'NEU': 24, 'IUS-P': 5, 'IUS-I': 17, 'INDEC_F': 14, 'HOARD': 16, 'HARM': 19, 'G_SE': 31, 'DASS-21 Stress': 20, 'DASS-21 Dep': 27, 'CHECK': 28, 'BIS': 3, 'BAS_PRZY': 9, 'BAS_NAG': 8, 'BAS_D': 18, 'AMB': 22}\n",
      "INFO:root:{'e_ERN': 22, 'WBSI': 7, 'WASH': 26, 'T-CTR': 6, 'STAND': 32, 'STAI-T': 27, 'STAI-S Diff': 18, 'SES': 10, 'RRQ': 14, 'REW': 25, 'PUN': 28, 'PS': 2, 'PRED': 5, 'OT': 16, 'ORD': 1, 'OB_PERF': 24, 'OBSESS': 23, 'NEU': 19, 'IUS-P': 4, 'IUS-I': 11, 'INDEC_F': 9, 'HOARD': 17, 'HARM': 20, 'G_SE': 31, 'DASS-21 Stress': 15, 'DASS-21 Dep': 29, 'CHECK': 30, 'BIS': 3, 'BAS_PRZY': 8, 'BAS_NAG': 12, 'BAS_D': 13, 'AMB': 21}\n",
      "INFO:root:{'e_ERN': 24, 'WBSI': 19, 'WASH': 25, 'T-CTR': 11, 'STAND': 29, 'STAI-T': 1, 'STAI-S Diff': 30, 'SES': 2, 'RRQ': 12, 'REW': 27, 'PUN': 16, 'PS': 3, 'PRED': 9, 'OT': 5, 'ORD': 10, 'OB_PERF': 15, 'OBSESS': 28, 'NEU': 21, 'IUS-P': 7, 'IUS-I': 8, 'INDEC_F': 22, 'HOARD': 26, 'HARM': 20, 'G_SE': 32, 'DASS-21 Stress': 14, 'DASS-21 Dep': 4, 'CHECK': 31, 'BIS': 13, 'BAS_PRZY': 6, 'BAS_NAG': 23, 'BAS_D': 17, 'AMB': 18}\n",
      "INFO:root:{'e_ERN': 4, 'WBSI': 6, 'WASH': 17, 'T-CTR': 23, 'STAND': 18, 'STAI-T': 31, 'STAI-S Diff': 20, 'SES': 32, 'RRQ': 14, 'REW': 3, 'PUN': 29, 'PS': 7, 'PRED': 2, 'OT': 26, 'ORD': 10, 'OB_PERF': 13, 'OBSESS': 27, 'NEU': 24, 'IUS-P': 12, 'IUS-I': 25, 'INDEC_F': 15, 'HOARD': 19, 'HARM': 8, 'G_SE': 16, 'DASS-21 Stress': 9, 'DASS-21 Dep': 21, 'CHECK': 11, 'BIS': 5, 'BAS_PRZY': 30, 'BAS_NAG': 1, 'BAS_D': 22, 'AMB': 28}\n",
      "INFO:root:{'e_ERN': 21, 'WBSI': 19, 'WASH': 27, 'T-CTR': 8, 'STAND': 32, 'STAI-T': 1, 'STAI-S Diff': 30, 'SES': 4, 'RRQ': 10, 'REW': 28, 'PUN': 23, 'PS': 2, 'PRED': 6, 'OT': 3, 'ORD': 5, 'OB_PERF': 18, 'OBSESS': 26, 'NEU': 16, 'IUS-P': 9, 'IUS-I': 11, 'INDEC_F': 25, 'HOARD': 24, 'HARM': 22, 'G_SE': 31, 'DASS-21 Stress': 15, 'DASS-21 Dep': 12, 'CHECK': 29, 'BIS': 13, 'BAS_PRZY': 7, 'BAS_NAG': 17, 'BAS_D': 14, 'AMB': 20}\n",
      "INFO:root:{'e_ERN': 15, 'WBSI': 5, 'WASH': 23, 'T-CTR': 7, 'STAND': 32, 'STAI-T': 19, 'STAI-S Diff': 22, 'SES': 10, 'RRQ': 12, 'REW': 27, 'PUN': 28, 'PS': 2, 'PRED': 4, 'OT': 14, 'ORD': 1, 'OB_PERF': 16, 'OBSESS': 18, 'NEU': 24, 'IUS-P': 11, 'IUS-I': 13, 'INDEC_F': 17, 'HOARD': 8, 'HARM': 25, 'G_SE': 31, 'DASS-21 Stress': 21, 'DASS-21 Dep': 26, 'CHECK': 30, 'BIS': 3, 'BAS_PRZY': 9, 'BAS_NAG': 6, 'BAS_D': 20, 'AMB': 29}\n"
     ]
    },
    {
     "name": "stdout",
     "output_type": "stream",
     "text": [
      "Measure: calculate_nodes_predictability  Level: 0.2999999999999994   sample: 1   : similarity: 0.939516129032258\n",
      "Measure: degree_centrality  Level: 0.2999999999999994   sample: 1   : similarity: 0.4420821114369501\n",
      "Measure: closeness_centrality  Level: 0.2999999999999994   sample: 1   : similarity: 0.45747800586510257\n",
      "Measure: current_flow_closeness_centrality  Level: 0.2999999999999994   sample: 1   : similarity: 0.6766862170087975\n",
      "Measure: betweenness_centrality  Level: 0.2999999999999994   sample: 1   : similarity: 0.0007331378299120367\n",
      "Measure: current_flow_betweenness_centrality  Level: 0.2999999999999994   sample: 1   : similarity: 0.657258064516129\n",
      "Measure: newman_betweenness_centrality  Level: 0.2999999999999994   sample: 1   : similarity: 0.5080645161290323\n"
     ]
    },
    {
     "name": "stderr",
     "output_type": "stream",
     "text": [
      "[Parallel(n_jobs=10)]: Using backend ThreadingBackend with 10 concurrent workers.\n",
      "[Parallel(n_jobs=10)]: Done  30 tasks      | elapsed:    0.5s\n",
      "[Parallel(n_jobs=10)]: Done 180 tasks      | elapsed:    2.8s\n",
      "[Parallel(n_jobs=10)]: Done 430 tasks      | elapsed:    6.5s\n",
      "[Parallel(n_jobs=10)]: Done 780 tasks      | elapsed:   11.8s\n",
      "[Parallel(n_jobs=10)]: Done 1000 out of 1000 | elapsed:   15.1s finished\n",
      "INFO:root:{'performance': 37, 'e_LT_F': 32, 'e_ERN': 29, 'WBSI': 17, 'WASH': 26, 'T-CTR': 15, 'Sex': 28, 'STAND': 25, 'STAI-T': 1, 'STAI-S Diff': 34, 'SES': 2, 'RRQ': 11, 'REW': 19, 'PUN': 4, 'PS': 21, 'PRED': 20, 'OT': 10, 'ORD': 22, 'OB_PERF': 16, 'OBSESS': 13, 'NEU': 24, 'IUS-P': 12, 'IUS-I': 8, 'INDEC_F': 7, 'Handness': 35, 'HOARD': 30, 'HARM': 33, 'G_SE': 27, 'DASS-21 Stress': 6, 'DASS-21 Dep': 5, 'CHECK': 31, 'BIS': 3, 'BAS_PRZY': 23, 'BAS_NAG': 18, 'BAS_D': 14, 'Age': 36, 'AMB': 9}\n",
      "INFO:root:Baseline measures appended\n",
      "INFO:root:{'performance': 36, 'e_LT_F': 35, 'e_ERN': 25, 'WBSI': 22, 'WASH': 10, 'T-CTR': 18, 'Sex': 1, 'STAND': 24, 'STAI-T': 29, 'STAI-S Diff': 32, 'SES': 6, 'RRQ': 26, 'REW': 27, 'PUN': 23, 'PS': 3, 'PRED': 16, 'OT': 14, 'ORD': 5, 'OB_PERF': 15, 'OBSESS': 7, 'NEU': 28, 'IUS-P': 9, 'IUS-I': 30, 'INDEC_F': 8, 'Handness': 34, 'HOARD': 12, 'HARM': 37, 'G_SE': 21, 'DASS-21 Stress': 19, 'DASS-21 Dep': 20, 'CHECK': 33, 'BIS': 2, 'BAS_PRZY': 13, 'BAS_NAG': 11, 'BAS_D': 4, 'Age': 31, 'AMB': 17}\n",
      "INFO:root:Baseline measures appended\n",
      "INFO:root:{'performance': 36, 'e_LT_F': 34, 'e_ERN': 25, 'WBSI': 18, 'WASH': 8, 'T-CTR': 27, 'Sex': 1, 'STAND': 22, 'STAI-T': 33, 'STAI-S Diff': 28, 'SES': 7, 'RRQ': 26, 'REW': 31, 'PUN': 21, 'PS': 3, 'PRED': 15, 'OT': 10, 'ORD': 6, 'OB_PERF': 17, 'OBSESS': 9, 'NEU': 19, 'IUS-P': 5, 'IUS-I': 30, 'INDEC_F': 13, 'Handness': 32, 'HOARD': 11, 'HARM': 37, 'G_SE': 23, 'DASS-21 Stress': 20, 'DASS-21 Dep': 24, 'CHECK': 35, 'BIS': 2, 'BAS_PRZY': 16, 'BAS_NAG': 14, 'BAS_D': 4, 'Age': 29, 'AMB': 12}\n",
      "INFO:root:Baseline measures appended\n",
      "INFO:root:{'performance': 37, 'e_LT_F': 32, 'e_ERN': 31, 'WBSI': 22, 'WASH': 25, 'T-CTR': 26, 'Sex': 4, 'STAND': 23, 'STAI-T': 2, 'STAI-S Diff': 35, 'SES': 3, 'RRQ': 16, 'REW': 24, 'PUN': 11, 'PS': 15, 'PRED': 17, 'OT': 5, 'ORD': 18, 'OB_PERF': 7, 'OBSESS': 6, 'NEU': 29, 'IUS-P': 13, 'IUS-I': 21, 'INDEC_F': 12, 'Handness': 36, 'HOARD': 27, 'HARM': 33, 'G_SE': 28, 'DASS-21 Stress': 20, 'DASS-21 Dep': 8, 'CHECK': 30, 'BIS': 1, 'BAS_PRZY': 9, 'BAS_NAG': 10, 'BAS_D': 14, 'Age': 34, 'AMB': 19}\n",
      "INFO:root:Baseline measures appended\n",
      "INFO:root:{'performance': 11, 'e_LT_F': 28, 'e_ERN': 4, 'WBSI': 14, 'WASH': 1, 'T-CTR': 13, 'Sex': 19, 'STAND': 18, 'STAI-T': 34, 'STAI-S Diff': 9, 'SES': 5, 'RRQ': 29, 'REW': 33, 'PUN': 23, 'PS': 8, 'PRED': 7, 'OT': 27, 'ORD': 10, 'OB_PERF': 22, 'OBSESS': 3, 'NEU': 26, 'IUS-P': 12, 'IUS-I': 35, 'INDEC_F': 32, 'Handness': 16, 'HOARD': 2, 'HARM': 37, 'G_SE': 30, 'DASS-21 Stress': 20, 'DASS-21 Dep': 25, 'CHECK': 36, 'BIS': 31, 'BAS_PRZY': 24, 'BAS_NAG': 21, 'BAS_D': 6, 'Age': 15, 'AMB': 17}\n",
      "INFO:root:Baseline measures appended\n",
      "INFO:root:{'performance': 37, 'e_LT_F': 32, 'e_ERN': 31, 'WBSI': 26, 'WASH': 20, 'T-CTR': 22, 'Sex': 1, 'STAND': 15, 'STAI-T': 6, 'STAI-S Diff': 34, 'SES': 7, 'RRQ': 14, 'REW': 21, 'PUN': 25, 'PS': 9, 'PRED': 17, 'OT': 3, 'ORD': 10, 'OB_PERF': 4, 'OBSESS': 5, 'NEU': 29, 'IUS-P': 13, 'IUS-I': 19, 'INDEC_F': 12, 'Handness': 36, 'HOARD': 24, 'HARM': 35, 'G_SE': 27, 'DASS-21 Stress': 28, 'DASS-21 Dep': 23, 'CHECK': 30, 'BIS': 2, 'BAS_PRZY': 8, 'BAS_NAG': 11, 'BAS_D': 16, 'Age': 33, 'AMB': 18}\n",
      "INFO:root:Baseline measures appended\n",
      "INFO:root:{'performance': 27, 'e_LT_F': 36, 'e_ERN': 22, 'WBSI': 14, 'WASH': 11, 'T-CTR': 8, 'Sex': 1, 'STAND': 18, 'STAI-T': 31, 'STAI-S Diff': 24, 'SES': 9, 'RRQ': 30, 'REW': 32, 'PUN': 23, 'PS': 4, 'PRED': 15, 'OT': 13, 'ORD': 7, 'OB_PERF': 5, 'OBSESS': 3, 'NEU': 26, 'IUS-P': 12, 'IUS-I': 28, 'INDEC_F': 10, 'Handness': 37, 'HOARD': 6, 'HARM': 35, 'G_SE': 20, 'DASS-21 Stress': 29, 'DASS-21 Dep': 25, 'CHECK': 34, 'BIS': 2, 'BAS_PRZY': 21, 'BAS_NAG': 19, 'BAS_D': 16, 'Age': 33, 'AMB': 17}\n",
      "INFO:root:Baseline measures appended\n"
     ]
    },
    {
     "name": "stdout",
     "output_type": "stream",
     "text": [
      "X len before samples: 247\n",
      "X len inside samples: 247\n"
     ]
    },
    {
     "name": "stderr",
     "output_type": "stream",
     "text": [
      "[Parallel(n_jobs=10)]: Using backend ThreadingBackend with 10 concurrent workers.\n",
      "[Parallel(n_jobs=10)]: Done  30 tasks      | elapsed:    0.9s\n",
      "[Parallel(n_jobs=10)]: Done 180 tasks      | elapsed:    5.0s\n",
      "[Parallel(n_jobs=10)]: Done 430 tasks      | elapsed:   11.6s\n",
      "[Parallel(n_jobs=10)]: Done 780 tasks      | elapsed:   20.7s\n",
      "[Parallel(n_jobs=10)]: Done 1000 out of 1000 | elapsed:   26.7s finished\n",
      "INFO:root:{'performance': 34, 'e_LT_F': 33, 'e_ERN': 29, 'WBSI': 18, 'WASH': 24, 'T-CTR': 20, 'Sex': 27, 'STAND': 26, 'STAI-T': 1, 'STAI-S Diff': 30, 'SES': 3, 'RRQ': 11, 'REW': 17, 'PUN': 4, 'PS': 23, 'PRED': 21, 'OT': 10, 'ORD': 22, 'OB_PERF': 15, 'OBSESS': 12, 'NEU': 25, 'IUS-P': 14, 'IUS-I': 7, 'INDEC_F': 8, 'Handness': 35, 'HOARD': 36, 'HARM': 31, 'G_SE': 28, 'DASS-21 Stress': 5, 'DASS-21 Dep': 6, 'CHECK': 32, 'BIS': 2, 'BAS_PRZY': 19, 'BAS_NAG': 16, 'BAS_D': 13, 'Age': 37, 'AMB': 9}\n",
      "INFO:root:{'performance': 4, 'e_LT_F': 7, 'e_ERN': 27, 'WBSI': 35, 'WASH': 2, 'T-CTR': 17, 'Sex': 3, 'STAND': 11, 'STAI-T': 37, 'STAI-S Diff': 1, 'SES': 33, 'RRQ': 9, 'REW': 13, 'PUN': 36, 'PS': 15, 'PRED': 23, 'OT': 31, 'ORD': 12, 'OB_PERF': 29, 'OBSESS': 34, 'NEU': 21, 'IUS-P': 18, 'IUS-I': 24, 'INDEC_F': 6, 'Handness': 25, 'HOARD': 30, 'HARM': 16, 'G_SE': 22, 'DASS-21 Stress': 26, 'DASS-21 Dep': 32, 'CHECK': 14, 'BIS': 19, 'BAS_PRZY': 20, 'BAS_NAG': 10, 'BAS_D': 5, 'Age': 28, 'AMB': 8}\n",
      "INFO:root:{'performance': 4, 'e_LT_F': 7, 'e_ERN': 27, 'WBSI': 35, 'WASH': 2, 'T-CTR': 17, 'Sex': 3, 'STAND': 11, 'STAI-T': 37, 'STAI-S Diff': 1, 'SES': 33, 'RRQ': 9, 'REW': 13, 'PUN': 36, 'PS': 15, 'PRED': 23, 'OT': 31, 'ORD': 12, 'OB_PERF': 29, 'OBSESS': 34, 'NEU': 21, 'IUS-P': 18, 'IUS-I': 24, 'INDEC_F': 6, 'Handness': 25, 'HOARD': 30, 'HARM': 16, 'G_SE': 22, 'DASS-21 Stress': 26, 'DASS-21 Dep': 32, 'CHECK': 14, 'BIS': 19, 'BAS_PRZY': 20, 'BAS_NAG': 10, 'BAS_D': 5, 'Age': 28, 'AMB': 8}\n",
      "INFO:root:{'performance': 31, 'e_LT_F': 28, 'e_ERN': 27, 'WBSI': 25, 'WASH': 7, 'T-CTR': 24, 'Sex': 20, 'STAND': 33, 'STAI-T': 3, 'STAI-S Diff': 19, 'SES': 4, 'RRQ': 5, 'REW': 26, 'PUN': 16, 'PS': 18, 'PRED': 21, 'OT': 12, 'ORD': 15, 'OB_PERF': 10, 'OBSESS': 14, 'NEU': 32, 'IUS-P': 13, 'IUS-I': 9, 'INDEC_F': 2, 'Handness': 36, 'HOARD': 35, 'HARM': 30, 'G_SE': 34, 'DASS-21 Stress': 29, 'DASS-21 Dep': 23, 'CHECK': 17, 'BIS': 1, 'BAS_PRZY': 8, 'BAS_NAG': 11, 'BAS_D': 6, 'Age': 37, 'AMB': 22}\n",
      "INFO:root:{'performance': 23, 'e_LT_F': 11, 'e_ERN': 22, 'WBSI': 37, 'WASH': 7, 'T-CTR': 18, 'Sex': 14, 'STAND': 20, 'STAI-T': 17, 'STAI-S Diff': 12, 'SES': 33, 'RRQ': 4, 'REW': 5, 'PUN': 25, 'PS': 27, 'PRED': 24, 'OT': 31, 'ORD': 1, 'OB_PERF': 32, 'OBSESS': 34, 'NEU': 29, 'IUS-P': 15, 'IUS-I': 13, 'INDEC_F': 16, 'Handness': 19, 'HOARD': 3, 'HARM': 26, 'G_SE': 6, 'DASS-21 Stress': 8, 'DASS-21 Dep': 9, 'CHECK': 21, 'BIS': 30, 'BAS_PRZY': 36, 'BAS_NAG': 28, 'BAS_D': 10, 'Age': 35, 'AMB': 2}\n",
      "INFO:root:{'performance': 31, 'e_LT_F': 27, 'e_ERN': 24, 'WBSI': 28, 'WASH': 12, 'T-CTR': 21, 'Sex': 23, 'STAND': 33, 'STAI-T': 3, 'STAI-S Diff': 22, 'SES': 6, 'RRQ': 7, 'REW': 29, 'PUN': 18, 'PS': 16, 'PRED': 20, 'OT': 11, 'ORD': 17, 'OB_PERF': 8, 'OBSESS': 5, 'NEU': 32, 'IUS-P': 14, 'IUS-I': 4, 'INDEC_F': 2, 'Handness': 35, 'HOARD': 36, 'HARM': 30, 'G_SE': 34, 'DASS-21 Stress': 26, 'DASS-21 Dep': 25, 'CHECK': 15, 'BIS': 1, 'BAS_PRZY': 9, 'BAS_NAG': 13, 'BAS_D': 10, 'Age': 37, 'AMB': 19}\n",
      "INFO:root:{'performance': 4, 'e_LT_F': 7, 'e_ERN': 33, 'WBSI': 36, 'WASH': 1, 'T-CTR': 25, 'Sex': 3, 'STAND': 24, 'STAI-T': 37, 'STAI-S Diff': 2, 'SES': 31, 'RRQ': 9, 'REW': 19, 'PUN': 35, 'PS': 8, 'PRED': 26, 'OT': 29, 'ORD': 18, 'OB_PERF': 30, 'OBSESS': 32, 'NEU': 21, 'IUS-P': 15, 'IUS-I': 14, 'INDEC_F': 5, 'Handness': 13, 'HOARD': 27, 'HARM': 11, 'G_SE': 16, 'DASS-21 Stress': 23, 'DASS-21 Dep': 28, 'CHECK': 20, 'BIS': 12, 'BAS_PRZY': 17, 'BAS_NAG': 22, 'BAS_D': 6, 'Age': 34, 'AMB': 10}\n"
     ]
    },
    {
     "name": "stdout",
     "output_type": "stream",
     "text": [
      "Measure: calculate_nodes_predictability  Level: 0.95   sample: 0   : similarity: 0.9829302987197724\n",
      "Measure: degree_centrality  Level: 0.95   sample: 0   : similarity: 0.04172593646277857\n",
      "Measure: closeness_centrality  Level: 0.95   sample: 0   : similarity: 0.05049786628733996\n",
      "Measure: current_flow_closeness_centrality  Level: 0.95   sample: 0   : similarity: 0.7337600758653391\n",
      "Measure: betweenness_centrality  Level: 0.95   sample: 0   : similarity: -0.01991465149359886\n",
      "Measure: current_flow_betweenness_centrality  Level: 0.95   sample: 0   : similarity: 0.7230915125651969\n",
      "Measure: newman_betweenness_centrality  Level: 0.95   sample: 0   : similarity: -0.01019440493124699\n",
      "X len inside samples: 247\n"
     ]
    },
    {
     "name": "stderr",
     "output_type": "stream",
     "text": [
      "[Parallel(n_jobs=10)]: Using backend ThreadingBackend with 10 concurrent workers.\n",
      "[Parallel(n_jobs=10)]: Done  30 tasks      | elapsed:    0.5s\n",
      "[Parallel(n_jobs=10)]: Done 180 tasks      | elapsed:    2.9s\n",
      "[Parallel(n_jobs=10)]: Done 430 tasks      | elapsed:    7.1s\n",
      "[Parallel(n_jobs=10)]: Done 780 tasks      | elapsed:   12.9s\n",
      "[Parallel(n_jobs=10)]: Done 1000 out of 1000 | elapsed:   16.4s finished\n",
      "INFO:root:{'performance': 37, 'e_LT_F': 32, 'e_ERN': 31, 'WBSI': 17, 'WASH': 27, 'T-CTR': 16, 'Sex': 25, 'STAND': 28, 'STAI-T': 1, 'STAI-S Diff': 35, 'SES': 3, 'RRQ': 12, 'REW': 20, 'PUN': 4, 'PS': 23, 'PRED': 18, 'OT': 6, 'ORD': 21, 'OB_PERF': 13, 'OBSESS': 11, 'NEU': 24, 'IUS-P': 15, 'IUS-I': 9, 'INDEC_F': 8, 'Handness': 36, 'HOARD': 29, 'HARM': 33, 'G_SE': 26, 'DASS-21 Stress': 10, 'DASS-21 Dep': 5, 'CHECK': 30, 'BIS': 2, 'BAS_PRZY': 19, 'BAS_NAG': 22, 'BAS_D': 14, 'Age': 34, 'AMB': 7}\n",
      "INFO:root:{'performance': 15, 'e_LT_F': 22, 'e_ERN': 35, 'WBSI': 21, 'WASH': 23, 'T-CTR': 11, 'Sex': 1, 'STAND': 32, 'STAI-T': 30, 'STAI-S Diff': 5, 'SES': 26, 'RRQ': 31, 'REW': 29, 'PUN': 33, 'PS': 20, 'PRED': 14, 'OT': 6, 'ORD': 3, 'OB_PERF': 16, 'OBSESS': 4, 'NEU': 9, 'IUS-P': 19, 'IUS-I': 28, 'INDEC_F': 13, 'Handness': 36, 'HOARD': 7, 'HARM': 37, 'G_SE': 18, 'DASS-21 Stress': 34, 'DASS-21 Dep': 27, 'CHECK': 24, 'BIS': 2, 'BAS_PRZY': 12, 'BAS_NAG': 25, 'BAS_D': 8, 'Age': 10, 'AMB': 17}\n",
      "INFO:root:{'performance': 15, 'e_LT_F': 22, 'e_ERN': 35, 'WBSI': 21, 'WASH': 23, 'T-CTR': 11, 'Sex': 1, 'STAND': 31, 'STAI-T': 29, 'STAI-S Diff': 5, 'SES': 25, 'RRQ': 30, 'REW': 32, 'PUN': 33, 'PS': 20, 'PRED': 14, 'OT': 6, 'ORD': 3, 'OB_PERF': 16, 'OBSESS': 4, 'NEU': 9, 'IUS-P': 19, 'IUS-I': 28, 'INDEC_F': 13, 'Handness': 36, 'HOARD': 7, 'HARM': 37, 'G_SE': 18, 'DASS-21 Stress': 34, 'DASS-21 Dep': 27, 'CHECK': 26, 'BIS': 2, 'BAS_PRZY': 12, 'BAS_NAG': 24, 'BAS_D': 8, 'Age': 10, 'AMB': 17}\n",
      "INFO:root:{'performance': 34, 'e_LT_F': 23, 'e_ERN': 30, 'WBSI': 20, 'WASH': 26, 'T-CTR': 15, 'Sex': 4, 'STAND': 29, 'STAI-T': 1, 'STAI-S Diff': 32, 'SES': 5, 'RRQ': 31, 'REW': 33, 'PUN': 25, 'PS': 14, 'PRED': 6, 'OT': 3, 'ORD': 8, 'OB_PERF': 10, 'OBSESS': 2, 'NEU': 21, 'IUS-P': 17, 'IUS-I': 28, 'INDEC_F': 13, 'Handness': 37, 'HOARD': 18, 'HARM': 36, 'G_SE': 19, 'DASS-21 Stress': 24, 'DASS-21 Dep': 7, 'CHECK': 35, 'BIS': 9, 'BAS_PRZY': 12, 'BAS_NAG': 16, 'BAS_D': 11, 'Age': 27, 'AMB': 22}\n",
      "INFO:root:{'performance': 10, 'e_LT_F': 13, 'e_ERN': 34, 'WBSI': 24, 'WASH': 32, 'T-CTR': 2, 'Sex': 17, 'STAND': 29, 'STAI-T': 31, 'STAI-S Diff': 1, 'SES': 25, 'RRQ': 28, 'REW': 5, 'PUN': 6, 'PS': 11, 'PRED': 4, 'OT': 8, 'ORD': 16, 'OB_PERF': 27, 'OBSESS': 30, 'NEU': 23, 'IUS-P': 15, 'IUS-I': 21, 'INDEC_F': 7, 'Handness': 12, 'HOARD': 18, 'HARM': 26, 'G_SE': 19, 'DASS-21 Stress': 33, 'DASS-21 Dep': 35, 'CHECK': 14, 'BIS': 20, 'BAS_PRZY': 3, 'BAS_NAG': 36, 'BAS_D': 37, 'Age': 22, 'AMB': 9}\n",
      "INFO:root:{'performance': 32, 'e_LT_F': 18, 'e_ERN': 24, 'WBSI': 19, 'WASH': 25, 'T-CTR': 15, 'Sex': 8, 'STAND': 31, 'STAI-T': 1, 'STAI-S Diff': 28, 'SES': 6, 'RRQ': 33, 'REW': 34, 'PUN': 29, 'PS': 12, 'PRED': 5, 'OT': 4, 'ORD': 9, 'OB_PERF': 3, 'OBSESS': 2, 'NEU': 20, 'IUS-P': 17, 'IUS-I': 30, 'INDEC_F': 16, 'Handness': 37, 'HOARD': 21, 'HARM': 36, 'G_SE': 22, 'DASS-21 Stress': 26, 'DASS-21 Dep': 7, 'CHECK': 35, 'BIS': 10, 'BAS_PRZY': 13, 'BAS_NAG': 11, 'BAS_D': 14, 'Age': 27, 'AMB': 23}\n",
      "INFO:root:{'performance': 11, 'e_LT_F': 19, 'e_ERN': 35, 'WBSI': 17, 'WASH': 23, 'T-CTR': 7, 'Sex': 1, 'STAND': 34, 'STAI-T': 20, 'STAI-S Diff': 9, 'SES': 21, 'RRQ': 31, 'REW': 28, 'PUN': 32, 'PS': 24, 'PRED': 26, 'OT': 6, 'ORD': 3, 'OB_PERF': 8, 'OBSESS': 5, 'NEU': 4, 'IUS-P': 10, 'IUS-I': 30, 'INDEC_F': 12, 'Handness': 36, 'HOARD': 18, 'HARM': 37, 'G_SE': 22, 'DASS-21 Stress': 33, 'DASS-21 Dep': 29, 'CHECK': 27, 'BIS': 2, 'BAS_PRZY': 13, 'BAS_NAG': 25, 'BAS_D': 14, 'Age': 16, 'AMB': 15}\n"
     ]
    },
    {
     "name": "stdout",
     "output_type": "stream",
     "text": [
      "Measure: calculate_nodes_predictability  Level: 0.95   sample: 1   : similarity: 0.9836415362731155\n",
      "Measure: degree_centrality  Level: 0.95   sample: 1   : similarity: 0.5068752963489807\n",
      "Measure: closeness_centrality  Level: 0.95   sample: 1   : similarity: 0.5509720246562352\n",
      "Measure: current_flow_closeness_centrality  Level: 0.95   sample: 1   : similarity: 0.8174490279753438\n",
      "Measure: betweenness_centrality  Level: 0.95   sample: 1   : similarity: -0.0806069227121859\n",
      "Measure: current_flow_betweenness_centrality  Level: 0.95   sample: 1   : similarity: 0.7415836889521101\n",
      "Measure: newman_betweenness_centrality  Level: 0.95   sample: 1   : similarity: 0.5924608819345664\n",
      "X len before samples: 233\n",
      "X len inside samples: 233\n"
     ]
    },
    {
     "name": "stderr",
     "output_type": "stream",
     "text": [
      "[Parallel(n_jobs=10)]: Using backend ThreadingBackend with 10 concurrent workers.\n",
      "[Parallel(n_jobs=10)]: Done  30 tasks      | elapsed:    0.7s\n",
      "[Parallel(n_jobs=10)]: Done 180 tasks      | elapsed:    4.3s\n",
      "[Parallel(n_jobs=10)]: Done 430 tasks      | elapsed:   10.4s\n",
      "[Parallel(n_jobs=10)]: Done 780 tasks      | elapsed:   19.2s\n",
      "[Parallel(n_jobs=10)]: Done 1000 out of 1000 | elapsed:   24.4s finished\n",
      "INFO:root:{'performance': 32, 'e_LT_F': 34, 'e_ERN': 33, 'WBSI': 17, 'WASH': 26, 'T-CTR': 12, 'Sex': 30, 'STAND': 25, 'STAI-T': 1, 'STAI-S Diff': 31, 'SES': 4, 'RRQ': 11, 'REW': 21, 'PUN': 3, 'PS': 23, 'PRED': 18, 'OT': 9, 'ORD': 19, 'OB_PERF': 16, 'OBSESS': 15, 'NEU': 24, 'IUS-P': 13, 'IUS-I': 5, 'INDEC_F': 7, 'Handness': 36, 'HOARD': 27, 'HARM': 29, 'G_SE': 28, 'DASS-21 Stress': 8, 'DASS-21 Dep': 6, 'CHECK': 35, 'BIS': 2, 'BAS_PRZY': 22, 'BAS_NAG': 20, 'BAS_D': 14, 'Age': 37, 'AMB': 10}\n",
      "INFO:root:{'performance': 11, 'e_LT_F': 22, 'e_ERN': 21, 'WBSI': 30, 'WASH': 31, 'T-CTR': 6, 'Sex': 2, 'STAND': 8, 'STAI-T': 36, 'STAI-S Diff': 3, 'SES': 20, 'RRQ': 18, 'REW': 24, 'PUN': 13, 'PS': 33, 'PRED': 17, 'OT': 26, 'ORD': 9, 'OB_PERF': 10, 'OBSESS': 25, 'NEU': 23, 'IUS-P': 12, 'IUS-I': 19, 'INDEC_F': 4, 'Handness': 27, 'HOARD': 5, 'HARM': 28, 'G_SE': 16, 'DASS-21 Stress': 15, 'DASS-21 Dep': 35, 'CHECK': 32, 'BIS': 7, 'BAS_PRZY': 34, 'BAS_NAG': 29, 'BAS_D': 1, 'Age': 37, 'AMB': 14}\n",
      "INFO:root:{'performance': 11, 'e_LT_F': 22, 'e_ERN': 21, 'WBSI': 30, 'WASH': 31, 'T-CTR': 6, 'Sex': 2, 'STAND': 8, 'STAI-T': 36, 'STAI-S Diff': 3, 'SES': 20, 'RRQ': 18, 'REW': 24, 'PUN': 13, 'PS': 33, 'PRED': 17, 'OT': 26, 'ORD': 9, 'OB_PERF': 10, 'OBSESS': 25, 'NEU': 23, 'IUS-P': 12, 'IUS-I': 19, 'INDEC_F': 4, 'Handness': 27, 'HOARD': 5, 'HARM': 28, 'G_SE': 16, 'DASS-21 Stress': 15, 'DASS-21 Dep': 35, 'CHECK': 32, 'BIS': 7, 'BAS_PRZY': 34, 'BAS_NAG': 29, 'BAS_D': 1, 'Age': 37, 'AMB': 14}\n",
      "INFO:root:{'performance': 28, 'e_LT_F': 30, 'e_ERN': 24, 'WBSI': 22, 'WASH': 33, 'T-CTR': 26, 'Sex': 3, 'STAND': 19, 'STAI-T': 4, 'STAI-S Diff': 25, 'SES': 6, 'RRQ': 20, 'REW': 29, 'PUN': 2, 'PS': 32, 'PRED': 10, 'OT': 12, 'ORD': 21, 'OB_PERF': 7, 'OBSESS': 13, 'NEU': 31, 'IUS-P': 14, 'IUS-I': 8, 'INDEC_F': 11, 'Handness': 35, 'HOARD': 17, 'HARM': 34, 'G_SE': 23, 'DASS-21 Stress': 9, 'DASS-21 Dep': 16, 'CHECK': 36, 'BIS': 1, 'BAS_PRZY': 27, 'BAS_NAG': 15, 'BAS_D': 5, 'Age': 37, 'AMB': 18}\n",
      "INFO:root:{'performance': 18, 'e_LT_F': 1, 'e_ERN': 26, 'WBSI': 32, 'WASH': 4, 'T-CTR': 2, 'Sex': 6, 'STAND': 33, 'STAI-T': 8, 'STAI-S Diff': 19, 'SES': 30, 'RRQ': 9, 'REW': 29, 'PUN': 28, 'PS': 10, 'PRED': 34, 'OT': 24, 'ORD': 31, 'OB_PERF': 13, 'OBSESS': 11, 'NEU': 35, 'IUS-P': 17, 'IUS-I': 25, 'INDEC_F': 14, 'Handness': 15, 'HOARD': 7, 'HARM': 12, 'G_SE': 37, 'DASS-21 Stress': 22, 'DASS-21 Dep': 21, 'CHECK': 16, 'BIS': 36, 'BAS_PRZY': 5, 'BAS_NAG': 20, 'BAS_D': 27, 'Age': 23, 'AMB': 3}\n",
      "INFO:root:{'performance': 27, 'e_LT_F': 31, 'e_ERN': 18, 'WBSI': 23, 'WASH': 32, 'T-CTR': 22, 'Sex': 3, 'STAND': 16, 'STAI-T': 6, 'STAI-S Diff': 25, 'SES': 7, 'RRQ': 20, 'REW': 29, 'PUN': 1, 'PS': 33, 'PRED': 5, 'OT': 11, 'ORD': 17, 'OB_PERF': 4, 'OBSESS': 9, 'NEU': 30, 'IUS-P': 15, 'IUS-I': 13, 'INDEC_F': 12, 'Handness': 36, 'HOARD': 19, 'HARM': 34, 'G_SE': 26, 'DASS-21 Stress': 10, 'DASS-21 Dep': 24, 'CHECK': 35, 'BIS': 2, 'BAS_PRZY': 28, 'BAS_NAG': 14, 'BAS_D': 8, 'Age': 37, 'AMB': 21}\n",
      "INFO:root:{'performance': 10, 'e_LT_F': 30, 'e_ERN': 29, 'WBSI': 31, 'WASH': 23, 'T-CTR': 4, 'Sex': 2, 'STAND': 12, 'STAI-T': 32, 'STAI-S Diff': 3, 'SES': 16, 'RRQ': 19, 'REW': 24, 'PUN': 13, 'PS': 34, 'PRED': 15, 'OT': 26, 'ORD': 8, 'OB_PERF': 5, 'OBSESS': 21, 'NEU': 22, 'IUS-P': 9, 'IUS-I': 25, 'INDEC_F': 7, 'Handness': 28, 'HOARD': 14, 'HARM': 27, 'G_SE': 18, 'DASS-21 Stress': 11, 'DASS-21 Dep': 36, 'CHECK': 33, 'BIS': 6, 'BAS_PRZY': 35, 'BAS_NAG': 20, 'BAS_D': 1, 'Age': 37, 'AMB': 17}\n"
     ]
    },
    {
     "name": "stdout",
     "output_type": "stream",
     "text": [
      "Measure: calculate_nodes_predictability  Level: 0.8999999999999999   sample: 0   : similarity: 0.9805595068752967\n",
      "Measure: degree_centrality  Level: 0.8999999999999999   sample: 0   : similarity: 0.30701754385964913\n",
      "Measure: closeness_centrality  Level: 0.8999999999999999   sample: 0   : similarity: 0.31081081081081086\n",
      "Measure: current_flow_closeness_centrality  Level: 0.8999999999999999   sample: 0   : similarity: 0.7797534376481746\n",
      "Measure: betweenness_centrality  Level: 0.8999999999999999   sample: 0   : similarity: 0.04954954954954955\n",
      "Measure: current_flow_betweenness_centrality  Level: 0.8999999999999999   sample: 0   : similarity: 0.6503082029397821\n",
      "Measure: newman_betweenness_centrality  Level: 0.8999999999999999   sample: 0   : similarity: 0.5037932669511618\n",
      "X len inside samples: 233\n"
     ]
    },
    {
     "name": "stderr",
     "output_type": "stream",
     "text": [
      "[Parallel(n_jobs=10)]: Using backend ThreadingBackend with 10 concurrent workers.\n",
      "[Parallel(n_jobs=10)]: Done  30 tasks      | elapsed:    0.7s\n",
      "[Parallel(n_jobs=10)]: Done 180 tasks      | elapsed:    3.7s\n",
      "[Parallel(n_jobs=10)]: Done 430 tasks      | elapsed:    8.3s\n",
      "[Parallel(n_jobs=10)]: Done 780 tasks      | elapsed:   15.1s\n",
      "[Parallel(n_jobs=10)]: Done 1000 out of 1000 | elapsed:   19.2s finished\n",
      "INFO:root:{'performance': 34, 'e_LT_F': 33, 'e_ERN': 30, 'WBSI': 15, 'WASH': 23, 'T-CTR': 17, 'Sex': 29, 'STAND': 26, 'STAI-T': 1, 'STAI-S Diff': 36, 'SES': 2, 'RRQ': 14, 'REW': 16, 'PUN': 3, 'PS': 22, 'PRED': 20, 'OT': 6, 'ORD': 21, 'OB_PERF': 13, 'OBSESS': 11, 'NEU': 27, 'IUS-P': 12, 'IUS-I': 8, 'INDEC_F': 7, 'Handness': 35, 'HOARD': 28, 'HARM': 31, 'G_SE': 25, 'DASS-21 Stress': 9, 'DASS-21 Dep': 5, 'CHECK': 32, 'BIS': 4, 'BAS_PRZY': 18, 'BAS_NAG': 24, 'BAS_D': 19, 'Age': 37, 'AMB': 10}\n",
      "INFO:root:{'performance': 24, 'e_LT_F': 35, 'e_ERN': 13, 'WBSI': 9, 'WASH': 10, 'T-CTR': 30, 'Sex': 4, 'STAND': 11, 'STAI-T': 29, 'STAI-S Diff': 18, 'SES': 23, 'RRQ': 32, 'REW': 15, 'PUN': 26, 'PS': 3, 'PRED': 25, 'OT': 5, 'ORD': 6, 'OB_PERF': 22, 'OBSESS': 7, 'NEU': 34, 'IUS-P': 16, 'IUS-I': 27, 'INDEC_F': 1, 'Handness': 36, 'HOARD': 8, 'HARM': 37, 'G_SE': 33, 'DASS-21 Stress': 17, 'DASS-21 Dep': 12, 'CHECK': 14, 'BIS': 19, 'BAS_PRZY': 2, 'BAS_NAG': 21, 'BAS_D': 20, 'Age': 31, 'AMB': 28}\n",
      "INFO:root:{'performance': 26, 'e_LT_F': 34, 'e_ERN': 13, 'WBSI': 9, 'WASH': 10, 'T-CTR': 30, 'Sex': 4, 'STAND': 11, 'STAI-T': 29, 'STAI-S Diff': 18, 'SES': 24, 'RRQ': 32, 'REW': 15, 'PUN': 23, 'PS': 3, 'PRED': 28, 'OT': 5, 'ORD': 6, 'OB_PERF': 22, 'OBSESS': 7, 'NEU': 33, 'IUS-P': 16, 'IUS-I': 25, 'INDEC_F': 1, 'Handness': 35, 'HOARD': 8, 'HARM': 37, 'G_SE': 36, 'DASS-21 Stress': 17, 'DASS-21 Dep': 12, 'CHECK': 14, 'BIS': 19, 'BAS_PRZY': 2, 'BAS_NAG': 21, 'BAS_D': 20, 'Age': 31, 'AMB': 27}\n",
      "INFO:root:{'performance': 35, 'e_LT_F': 36, 'e_ERN': 31, 'WBSI': 15, 'WASH': 17, 'T-CTR': 28, 'Sex': 9, 'STAND': 24, 'STAI-T': 1, 'STAI-S Diff': 25, 'SES': 3, 'RRQ': 18, 'REW': 23, 'PUN': 4, 'PS': 12, 'PRED': 22, 'OT': 2, 'ORD': 8, 'OB_PERF': 20, 'OBSESS': 5, 'NEU': 33, 'IUS-P': 14, 'IUS-I': 26, 'INDEC_F': 11, 'Handness': 34, 'HOARD': 27, 'HARM': 30, 'G_SE': 32, 'DASS-21 Stress': 13, 'DASS-21 Dep': 10, 'CHECK': 29, 'BIS': 7, 'BAS_PRZY': 6, 'BAS_NAG': 16, 'BAS_D': 19, 'Age': 37, 'AMB': 21}\n",
      "INFO:root:{'performance': 12, 'e_LT_F': 26, 'e_ERN': 3, 'WBSI': 6, 'WASH': 23, 'T-CTR': 21, 'Sex': 33, 'STAND': 7, 'STAI-T': 30, 'STAI-S Diff': 4, 'SES': 16, 'RRQ': 20, 'REW': 13, 'PUN': 37, 'PS': 1, 'PRED': 14, 'OT': 9, 'ORD': 28, 'OB_PERF': 24, 'OBSESS': 34, 'NEU': 15, 'IUS-P': 29, 'IUS-I': 19, 'INDEC_F': 11, 'Handness': 31, 'HOARD': 5, 'HARM': 10, 'G_SE': 25, 'DASS-21 Stress': 17, 'DASS-21 Dep': 8, 'CHECK': 22, 'BIS': 35, 'BAS_PRZY': 2, 'BAS_NAG': 27, 'BAS_D': 32, 'Age': 18, 'AMB': 36}\n",
      "INFO:root:{'performance': 34, 'e_LT_F': 33, 'e_ERN': 23, 'WBSI': 14, 'WASH': 17, 'T-CTR': 30, 'Sex': 9, 'STAND': 24, 'STAI-T': 2, 'STAI-S Diff': 25, 'SES': 4, 'RRQ': 18, 'REW': 22, 'PUN': 3, 'PS': 13, 'PRED': 20, 'OT': 1, 'ORD': 6, 'OB_PERF': 19, 'OBSESS': 5, 'NEU': 35, 'IUS-P': 11, 'IUS-I': 28, 'INDEC_F': 10, 'Handness': 36, 'HOARD': 27, 'HARM': 32, 'G_SE': 31, 'DASS-21 Stress': 15, 'DASS-21 Dep': 12, 'CHECK': 29, 'BIS': 7, 'BAS_PRZY': 8, 'BAS_NAG': 21, 'BAS_D': 26, 'Age': 37, 'AMB': 16}\n",
      "INFO:root:{'performance': 21, 'e_LT_F': 36, 'e_ERN': 14, 'WBSI': 12, 'WASH': 15, 'T-CTR': 28, 'Sex': 5, 'STAND': 16, 'STAI-T': 30, 'STAI-S Diff': 17, 'SES': 23, 'RRQ': 31, 'REW': 11, 'PUN': 19, 'PS': 2, 'PRED': 24, 'OT': 4, 'ORD': 13, 'OB_PERF': 25, 'OBSESS': 6, 'NEU': 37, 'IUS-P': 8, 'IUS-I': 27, 'INDEC_F': 1, 'Handness': 35, 'HOARD': 7, 'HARM': 32, 'G_SE': 26, 'DASS-21 Stress': 18, 'DASS-21 Dep': 9, 'CHECK': 22, 'BIS': 10, 'BAS_PRZY': 3, 'BAS_NAG': 29, 'BAS_D': 34, 'Age': 33, 'AMB': 20}\n"
     ]
    },
    {
     "name": "stdout",
     "output_type": "stream",
     "text": [
      "Measure: calculate_nodes_predictability  Level: 0.8999999999999999   sample: 1   : similarity: 0.9758179231863445\n",
      "Measure: degree_centrality  Level: 0.8999999999999999   sample: 1   : similarity: 0.6102418207681368\n",
      "Measure: closeness_centrality  Level: 0.8999999999999999   sample: 1   : similarity: 0.5640113798008537\n",
      "Measure: current_flow_closeness_centrality  Level: 0.8999999999999999   sample: 1   : similarity: 0.896159317211949\n",
      "Measure: betweenness_centrality  Level: 0.8999999999999999   sample: 1   : similarity: 0.09246088193456616\n",
      "Measure: current_flow_betweenness_centrality  Level: 0.8999999999999999   sample: 1   : similarity: 0.7619724988146042\n",
      "Measure: newman_betweenness_centrality  Level: 0.8999999999999999   sample: 1   : similarity: 0.5891417733522999\n",
      "X len before samples: 220\n",
      "X len inside samples: 220\n"
     ]
    },
    {
     "name": "stderr",
     "output_type": "stream",
     "text": [
      "[Parallel(n_jobs=10)]: Using backend ThreadingBackend with 10 concurrent workers.\n",
      "[Parallel(n_jobs=10)]: Done  30 tasks      | elapsed:    0.6s\n",
      "[Parallel(n_jobs=10)]: Done 180 tasks      | elapsed:    3.6s\n",
      "[Parallel(n_jobs=10)]: Done 430 tasks      | elapsed:    8.4s\n",
      "[Parallel(n_jobs=10)]: Done 780 tasks      | elapsed:   15.4s\n",
      "[Parallel(n_jobs=10)]: Done 1000 out of 1000 | elapsed:   19.7s finished\n",
      "INFO:root:{'performance': 36, 'e_LT_F': 31, 'e_ERN': 29, 'WBSI': 16, 'WASH': 24, 'T-CTR': 18, 'Sex': 30, 'STAND': 28, 'STAI-T': 1, 'STAI-S Diff': 37, 'SES': 2, 'RRQ': 14, 'REW': 17, 'PUN': 5, 'PS': 22, 'PRED': 19, 'OT': 8, 'ORD': 21, 'OB_PERF': 15, 'OBSESS': 10, 'NEU': 27, 'IUS-P': 12, 'IUS-I': 4, 'INDEC_F': 7, 'Handness': 35, 'HOARD': 26, 'HARM': 33, 'G_SE': 25, 'DASS-21 Stress': 9, 'DASS-21 Dep': 6, 'CHECK': 32, 'BIS': 3, 'BAS_PRZY': 20, 'BAS_NAG': 23, 'BAS_D': 13, 'Age': 34, 'AMB': 11}\n",
      "INFO:root:{'performance': 23, 'e_LT_F': 28, 'e_ERN': 4, 'WBSI': 20, 'WASH': 2, 'T-CTR': 31, 'Sex': 1, 'STAND': 10, 'STAI-T': 24, 'STAI-S Diff': 14, 'SES': 8, 'RRQ': 36, 'REW': 7, 'PUN': 34, 'PS': 9, 'PRED': 21, 'OT': 13, 'ORD': 30, 'OB_PERF': 27, 'OBSESS': 15, 'NEU': 25, 'IUS-P': 16, 'IUS-I': 11, 'INDEC_F': 6, 'Handness': 29, 'HOARD': 22, 'HARM': 37, 'G_SE': 19, 'DASS-21 Stress': 33, 'DASS-21 Dep': 26, 'CHECK': 35, 'BIS': 3, 'BAS_PRZY': 12, 'BAS_NAG': 18, 'BAS_D': 17, 'Age': 5, 'AMB': 32}\n",
      "INFO:root:{'performance': 23, 'e_LT_F': 28, 'e_ERN': 4, 'WBSI': 20, 'WASH': 2, 'T-CTR': 31, 'Sex': 1, 'STAND': 10, 'STAI-T': 24, 'STAI-S Diff': 13, 'SES': 8, 'RRQ': 36, 'REW': 7, 'PUN': 34, 'PS': 9, 'PRED': 21, 'OT': 12, 'ORD': 30, 'OB_PERF': 27, 'OBSESS': 14, 'NEU': 25, 'IUS-P': 15, 'IUS-I': 16, 'INDEC_F': 6, 'Handness': 29, 'HOARD': 22, 'HARM': 37, 'G_SE': 19, 'DASS-21 Stress': 33, 'DASS-21 Dep': 26, 'CHECK': 35, 'BIS': 3, 'BAS_PRZY': 11, 'BAS_NAG': 18, 'BAS_D': 17, 'Age': 5, 'AMB': 32}\n",
      "INFO:root:{'performance': 37, 'e_LT_F': 27, 'e_ERN': 21, 'WBSI': 11, 'WASH': 7, 'T-CTR': 30, 'Sex': 5, 'STAND': 23, 'STAI-T': 3, 'STAI-S Diff': 31, 'SES': 4, 'RRQ': 28, 'REW': 9, 'PUN': 8, 'PS': 24, 'PRED': 15, 'OT': 2, 'ORD': 14, 'OB_PERF': 20, 'OBSESS': 6, 'NEU': 34, 'IUS-P': 25, 'IUS-I': 10, 'INDEC_F': 19, 'Handness': 36, 'HOARD': 32, 'HARM': 35, 'G_SE': 13, 'DASS-21 Stress': 17, 'DASS-21 Dep': 12, 'CHECK': 33, 'BIS': 1, 'BAS_PRZY': 22, 'BAS_NAG': 18, 'BAS_D': 16, 'Age': 29, 'AMB': 26}\n",
      "INFO:root:{'performance': 12, 'e_LT_F': 32, 'e_ERN': 2, 'WBSI': 13, 'WASH': 22, 'T-CTR': 20, 'Sex': 26, 'STAND': 14, 'STAI-T': 34, 'STAI-S Diff': 5, 'SES': 6, 'RRQ': 35, 'REW': 9, 'PUN': 19, 'PS': 7, 'PRED': 29, 'OT': 31, 'ORD': 10, 'OB_PERF': 21, 'OBSESS': 25, 'NEU': 1, 'IUS-P': 8, 'IUS-I': 16, 'INDEC_F': 15, 'Handness': 24, 'HOARD': 18, 'HARM': 37, 'G_SE': 36, 'DASS-21 Stress': 27, 'DASS-21 Dep': 4, 'CHECK': 17, 'BIS': 30, 'BAS_PRZY': 11, 'BAS_NAG': 33, 'BAS_D': 28, 'Age': 3, 'AMB': 23}\n",
      "INFO:root:{'performance': 36, 'e_LT_F': 24, 'e_ERN': 17, 'WBSI': 10, 'WASH': 4, 'T-CTR': 29, 'Sex': 7, 'STAND': 12, 'STAI-T': 3, 'STAI-S Diff': 32, 'SES': 5, 'RRQ': 31, 'REW': 13, 'PUN': 18, 'PS': 20, 'PRED': 8, 'OT': 1, 'ORD': 9, 'OB_PERF': 14, 'OBSESS': 6, 'NEU': 35, 'IUS-P': 26, 'IUS-I': 16, 'INDEC_F': 15, 'Handness': 37, 'HOARD': 30, 'HARM': 34, 'G_SE': 11, 'DASS-21 Stress': 21, 'DASS-21 Dep': 25, 'CHECK': 33, 'BIS': 2, 'BAS_PRZY': 19, 'BAS_NAG': 22, 'BAS_D': 23, 'Age': 28, 'AMB': 27}\n",
      "INFO:root:{'performance': 25, 'e_LT_F': 18, 'e_ERN': 12, 'WBSI': 17, 'WASH': 2, 'T-CTR': 27, 'Sex': 5, 'STAND': 4, 'STAI-T': 35, 'STAI-S Diff': 21, 'SES': 1, 'RRQ': 36, 'REW': 15, 'PUN': 26, 'PS': 11, 'PRED': 14, 'OT': 8, 'ORD': 31, 'OB_PERF': 19, 'OBSESS': 23, 'NEU': 22, 'IUS-P': 13, 'IUS-I': 10, 'INDEC_F': 7, 'Handness': 32, 'HOARD': 28, 'HARM': 37, 'G_SE': 16, 'DASS-21 Stress': 34, 'DASS-21 Dep': 30, 'CHECK': 33, 'BIS': 3, 'BAS_PRZY': 6, 'BAS_NAG': 24, 'BAS_D': 20, 'Age': 9, 'AMB': 29}\n"
     ]
    },
    {
     "name": "stdout",
     "output_type": "stream",
     "text": [
      "Measure: calculate_nodes_predictability  Level: 0.8499999999999999   sample: 0   : similarity: 0.9800853485064012\n",
      "Measure: degree_centrality  Level: 0.8499999999999999   sample: 0   : similarity: 0.42271218587008064\n",
      "Measure: closeness_centrality  Level: 0.8499999999999999   sample: 0   : similarity: 0.4473684210526317\n",
      "Measure: current_flow_closeness_centrality  Level: 0.8499999999999999   sample: 0   : similarity: 0.739212897107634\n",
      "Measure: betweenness_centrality  Level: 0.8499999999999999   sample: 0   : similarity: 0.3262209577999052\n",
      "Measure: current_flow_betweenness_centrality  Level: 0.8499999999999999   sample: 0   : similarity: 0.6953532479848269\n",
      "Measure: newman_betweenness_centrality  Level: 0.8499999999999999   sample: 0   : similarity: 0.44547178757705086\n",
      "X len inside samples: 220\n"
     ]
    },
    {
     "name": "stderr",
     "output_type": "stream",
     "text": [
      "[Parallel(n_jobs=10)]: Using backend ThreadingBackend with 10 concurrent workers.\n",
      "[Parallel(n_jobs=10)]: Done  30 tasks      | elapsed:    0.9s\n",
      "[Parallel(n_jobs=10)]: Done 180 tasks      | elapsed:    5.0s\n",
      "[Parallel(n_jobs=10)]: Done 430 tasks      | elapsed:   11.8s\n",
      "[Parallel(n_jobs=10)]: Done 780 tasks      | elapsed:   21.7s\n",
      "[Parallel(n_jobs=10)]: Done 1000 out of 1000 | elapsed:   27.2s finished\n",
      "INFO:root:{'performance': 36, 'e_LT_F': 34, 'e_ERN': 30, 'WBSI': 18, 'WASH': 26, 'T-CTR': 16, 'Sex': 27, 'STAND': 25, 'STAI-T': 1, 'STAI-S Diff': 33, 'SES': 3, 'RRQ': 11, 'REW': 20, 'PUN': 4, 'PS': 21, 'PRED': 22, 'OT': 10, 'ORD': 24, 'OB_PERF': 14, 'OBSESS': 12, 'NEU': 23, 'IUS-P': 13, 'IUS-I': 9, 'INDEC_F': 6, 'Handness': 35, 'HOARD': 31, 'HARM': 32, 'G_SE': 28, 'DASS-21 Stress': 7, 'DASS-21 Dep': 5, 'CHECK': 29, 'BIS': 2, 'BAS_PRZY': 15, 'BAS_NAG': 19, 'BAS_D': 17, 'Age': 37, 'AMB': 8}\n",
      "INFO:root:{'performance': 15, 'e_LT_F': 35, 'e_ERN': 23, 'WBSI': 12, 'WASH': 20, 'T-CTR': 18, 'Sex': 1, 'STAND': 26, 'STAI-T': 31, 'STAI-S Diff': 4, 'SES': 22, 'RRQ': 11, 'REW': 13, 'PUN': 37, 'PS': 3, 'PRED': 30, 'OT': 29, 'ORD': 16, 'OB_PERF': 24, 'OBSESS': 5, 'NEU': 6, 'IUS-P': 21, 'IUS-I': 27, 'INDEC_F': 2, 'Handness': 14, 'HOARD': 10, 'HARM': 32, 'G_SE': 19, 'DASS-21 Stress': 28, 'DASS-21 Dep': 17, 'CHECK': 25, 'BIS': 7, 'BAS_PRZY': 9, 'BAS_NAG': 8, 'BAS_D': 34, 'Age': 36, 'AMB': 33}\n",
      "INFO:root:{'performance': 15, 'e_LT_F': 35, 'e_ERN': 23, 'WBSI': 12, 'WASH': 20, 'T-CTR': 18, 'Sex': 1, 'STAND': 26, 'STAI-T': 31, 'STAI-S Diff': 4, 'SES': 22, 'RRQ': 11, 'REW': 13, 'PUN': 37, 'PS': 3, 'PRED': 30, 'OT': 29, 'ORD': 16, 'OB_PERF': 24, 'OBSESS': 5, 'NEU': 6, 'IUS-P': 21, 'IUS-I': 27, 'INDEC_F': 2, 'Handness': 14, 'HOARD': 10, 'HARM': 32, 'G_SE': 19, 'DASS-21 Stress': 28, 'DASS-21 Dep': 17, 'CHECK': 25, 'BIS': 7, 'BAS_PRZY': 9, 'BAS_NAG': 8, 'BAS_D': 34, 'Age': 36, 'AMB': 33}\n",
      "INFO:root:{'performance': 32, 'e_LT_F': 35, 'e_ERN': 28, 'WBSI': 15, 'WASH': 25, 'T-CTR': 23, 'Sex': 8, 'STAND': 20, 'STAI-T': 1, 'STAI-S Diff': 33, 'SES': 2, 'RRQ': 10, 'REW': 24, 'PUN': 14, 'PS': 5, 'PRED': 19, 'OT': 13, 'ORD': 6, 'OB_PERF': 18, 'OBSESS': 7, 'NEU': 26, 'IUS-P': 16, 'IUS-I': 12, 'INDEC_F': 4, 'Handness': 27, 'HOARD': 29, 'HARM': 37, 'G_SE': 30, 'DASS-21 Stress': 17, 'DASS-21 Dep': 3, 'CHECK': 34, 'BIS': 9, 'BAS_PRZY': 11, 'BAS_NAG': 21, 'BAS_D': 22, 'Age': 36, 'AMB': 31}\n",
      "INFO:root:{'performance': 5, 'e_LT_F': 6, 'e_ERN': 15, 'WBSI': 7, 'WASH': 8, 'T-CTR': 25, 'Sex': 13, 'STAND': 31, 'STAI-T': 29, 'STAI-S Diff': 1, 'SES': 30, 'RRQ': 32, 'REW': 33, 'PUN': 34, 'PS': 2, 'PRED': 22, 'OT': 36, 'ORD': 37, 'OB_PERF': 24, 'OBSESS': 12, 'NEU': 20, 'IUS-P': 23, 'IUS-I': 35, 'INDEC_F': 14, 'Handness': 21, 'HOARD': 3, 'HARM': 9, 'G_SE': 17, 'DASS-21 Stress': 16, 'DASS-21 Dep': 28, 'CHECK': 4, 'BIS': 10, 'BAS_PRZY': 19, 'BAS_NAG': 11, 'BAS_D': 27, 'Age': 26, 'AMB': 18}\n",
      "INFO:root:{'performance': 32, 'e_LT_F': 35, 'e_ERN': 23, 'WBSI': 17, 'WASH': 28, 'T-CTR': 19, 'Sex': 4, 'STAND': 21, 'STAI-T': 1, 'STAI-S Diff': 34, 'SES': 2, 'RRQ': 13, 'REW': 20, 'PUN': 18, 'PS': 6, 'PRED': 14, 'OT': 11, 'ORD': 7, 'OB_PERF': 16, 'OBSESS': 8, 'NEU': 24, 'IUS-P': 15, 'IUS-I': 12, 'INDEC_F': 3, 'Handness': 27, 'HOARD': 30, 'HARM': 36, 'G_SE': 31, 'DASS-21 Stress': 26, 'DASS-21 Dep': 5, 'CHECK': 33, 'BIS': 10, 'BAS_PRZY': 9, 'BAS_NAG': 22, 'BAS_D': 25, 'Age': 37, 'AMB': 29}\n",
      "INFO:root:{'performance': 14, 'e_LT_F': 34, 'e_ERN': 30, 'WBSI': 20, 'WASH': 25, 'T-CTR': 15, 'Sex': 1, 'STAND': 23, 'STAI-T': 32, 'STAI-S Diff': 7, 'SES': 18, 'RRQ': 11, 'REW': 16, 'PUN': 35, 'PS': 3, 'PRED': 24, 'OT': 26, 'ORD': 21, 'OB_PERF': 31, 'OBSESS': 4, 'NEU': 9, 'IUS-P': 29, 'IUS-I': 17, 'INDEC_F': 2, 'Handness': 12, 'HOARD': 10, 'HARM': 22, 'G_SE': 19, 'DASS-21 Stress': 33, 'DASS-21 Dep': 13, 'CHECK': 27, 'BIS': 5, 'BAS_PRZY': 8, 'BAS_NAG': 6, 'BAS_D': 36, 'Age': 37, 'AMB': 28}\n"
     ]
    },
    {
     "name": "stdout",
     "output_type": "stream",
     "text": [
      "Measure: calculate_nodes_predictability  Level: 0.8499999999999999   sample: 1   : similarity: 0.9864864864864867\n",
      "Measure: degree_centrality  Level: 0.8499999999999999   sample: 1   : similarity: 0.35656709340919873\n",
      "Measure: closeness_centrality  Level: 0.8499999999999999   sample: 1   : similarity: 0.32219061166429586\n",
      "Measure: current_flow_closeness_centrality  Level: 0.8499999999999999   sample: 1   : similarity: 0.8423423423423425\n",
      "Measure: betweenness_centrality  Level: 0.8499999999999999   sample: 1   : similarity: 0.20270270270270271\n",
      "Measure: current_flow_betweenness_centrality  Level: 0.8499999999999999   sample: 1   : similarity: 0.8013276434329067\n",
      "Measure: newman_betweenness_centrality  Level: 0.8499999999999999   sample: 1   : similarity: 0.3520625889046942\n",
      "X len before samples: 207\n",
      "X len inside samples: 207\n"
     ]
    },
    {
     "name": "stderr",
     "output_type": "stream",
     "text": [
      "[Parallel(n_jobs=10)]: Using backend ThreadingBackend with 10 concurrent workers.\n",
      "[Parallel(n_jobs=10)]: Done  30 tasks      | elapsed:    0.8s\n",
      "[Parallel(n_jobs=10)]: Done 180 tasks      | elapsed:    5.0s\n",
      "[Parallel(n_jobs=10)]: Done 430 tasks      | elapsed:   11.2s\n",
      "[Parallel(n_jobs=10)]: Done 780 tasks      | elapsed:   19.9s\n",
      "[Parallel(n_jobs=10)]: Done 1000 out of 1000 | elapsed:   26.0s finished\n",
      "INFO:root:{'performance': 37, 'e_LT_F': 34, 'e_ERN': 24, 'WBSI': 19, 'WASH': 27, 'T-CTR': 18, 'Sex': 33, 'STAND': 30, 'STAI-T': 1, 'STAI-S Diff': 35, 'SES': 4, 'RRQ': 10, 'REW': 15, 'PUN': 3, 'PS': 23, 'PRED': 22, 'OT': 11, 'ORD': 21, 'OB_PERF': 14, 'OBSESS': 12, 'NEU': 26, 'IUS-P': 13, 'IUS-I': 6, 'INDEC_F': 7, 'Handness': 31, 'HOARD': 29, 'HARM': 28, 'G_SE': 25, 'DASS-21 Stress': 8, 'DASS-21 Dep': 5, 'CHECK': 32, 'BIS': 2, 'BAS_PRZY': 20, 'BAS_NAG': 16, 'BAS_D': 17, 'Age': 36, 'AMB': 9}\n",
      "INFO:root:{'performance': 35, 'e_LT_F': 37, 'e_ERN': 7, 'WBSI': 8, 'WASH': 22, 'T-CTR': 3, 'Sex': 1, 'STAND': 16, 'STAI-T': 29, 'STAI-S Diff': 31, 'SES': 27, 'RRQ': 15, 'REW': 12, 'PUN': 36, 'PS': 20, 'PRED': 30, 'OT': 18, 'ORD': 5, 'OB_PERF': 26, 'OBSESS': 23, 'NEU': 34, 'IUS-P': 24, 'IUS-I': 10, 'INDEC_F': 14, 'Handness': 6, 'HOARD': 2, 'HARM': 9, 'G_SE': 32, 'DASS-21 Stress': 25, 'DASS-21 Dep': 33, 'CHECK': 17, 'BIS': 19, 'BAS_PRZY': 28, 'BAS_NAG': 11, 'BAS_D': 13, 'Age': 21, 'AMB': 4}\n",
      "INFO:root:{'performance': 35, 'e_LT_F': 37, 'e_ERN': 7, 'WBSI': 8, 'WASH': 22, 'T-CTR': 3, 'Sex': 1, 'STAND': 16, 'STAI-T': 29, 'STAI-S Diff': 31, 'SES': 27, 'RRQ': 15, 'REW': 12, 'PUN': 36, 'PS': 20, 'PRED': 30, 'OT': 18, 'ORD': 5, 'OB_PERF': 26, 'OBSESS': 23, 'NEU': 34, 'IUS-P': 24, 'IUS-I': 10, 'INDEC_F': 14, 'Handness': 6, 'HOARD': 2, 'HARM': 9, 'G_SE': 32, 'DASS-21 Stress': 25, 'DASS-21 Dep': 33, 'CHECK': 17, 'BIS': 19, 'BAS_PRZY': 28, 'BAS_NAG': 11, 'BAS_D': 13, 'Age': 21, 'AMB': 4}\n",
      "INFO:root:{'performance': 36, 'e_LT_F': 35, 'e_ERN': 32, 'WBSI': 14, 'WASH': 33, 'T-CTR': 21, 'Sex': 11, 'STAND': 19, 'STAI-T': 2, 'STAI-S Diff': 28, 'SES': 1, 'RRQ': 15, 'REW': 27, 'PUN': 9, 'PS': 13, 'PRED': 26, 'OT': 6, 'ORD': 4, 'OB_PERF': 18, 'OBSESS': 20, 'NEU': 31, 'IUS-P': 17, 'IUS-I': 8, 'INDEC_F': 7, 'Handness': 37, 'HOARD': 24, 'HARM': 23, 'G_SE': 30, 'DASS-21 Stress': 12, 'DASS-21 Dep': 3, 'CHECK': 25, 'BIS': 10, 'BAS_PRZY': 5, 'BAS_NAG': 16, 'BAS_D': 22, 'Age': 34, 'AMB': 29}\n",
      "INFO:root:{'performance': 10, 'e_LT_F': 13, 'e_ERN': 2, 'WBSI': 16, 'WASH': 30, 'T-CTR': 12, 'Sex': 11, 'STAND': 34, 'STAI-T': 4, 'STAI-S Diff': 24, 'SES': 29, 'RRQ': 14, 'REW': 9, 'PUN': 19, 'PS': 36, 'PRED': 32, 'OT': 31, 'ORD': 21, 'OB_PERF': 26, 'OBSESS': 18, 'NEU': 15, 'IUS-P': 5, 'IUS-I': 20, 'INDEC_F': 23, 'Handness': 1, 'HOARD': 8, 'HARM': 25, 'G_SE': 35, 'DASS-21 Stress': 28, 'DASS-21 Dep': 33, 'CHECK': 22, 'BIS': 17, 'BAS_PRZY': 37, 'BAS_NAG': 27, 'BAS_D': 7, 'Age': 6, 'AMB': 3}\n",
      "INFO:root:{'performance': 36, 'e_LT_F': 35, 'e_ERN': 24, 'WBSI': 15, 'WASH': 32, 'T-CTR': 22, 'Sex': 8, 'STAND': 19, 'STAI-T': 4, 'STAI-S Diff': 29, 'SES': 1, 'RRQ': 12, 'REW': 28, 'PUN': 11, 'PS': 14, 'PRED': 25, 'OT': 6, 'ORD': 3, 'OB_PERF': 21, 'OBSESS': 17, 'NEU': 31, 'IUS-P': 20, 'IUS-I': 10, 'INDEC_F': 9, 'Handness': 37, 'HOARD': 23, 'HARM': 18, 'G_SE': 33, 'DASS-21 Stress': 16, 'DASS-21 Dep': 2, 'CHECK': 27, 'BIS': 7, 'BAS_PRZY': 5, 'BAS_NAG': 13, 'BAS_D': 26, 'Age': 34, 'AMB': 30}\n",
      "INFO:root:{'performance': 32, 'e_LT_F': 37, 'e_ERN': 9, 'WBSI': 10, 'WASH': 17, 'T-CTR': 3, 'Sex': 6, 'STAND': 19, 'STAI-T': 29, 'STAI-S Diff': 28, 'SES': 25, 'RRQ': 27, 'REW': 8, 'PUN': 36, 'PS': 21, 'PRED': 31, 'OT': 16, 'ORD': 1, 'OB_PERF': 24, 'OBSESS': 22, 'NEU': 35, 'IUS-P': 26, 'IUS-I': 7, 'INDEC_F': 11, 'Handness': 4, 'HOARD': 2, 'HARM': 14, 'G_SE': 33, 'DASS-21 Stress': 23, 'DASS-21 Dep': 34, 'CHECK': 15, 'BIS': 18, 'BAS_PRZY': 20, 'BAS_NAG': 13, 'BAS_D': 12, 'Age': 30, 'AMB': 5}\n"
     ]
    },
    {
     "name": "stdout",
     "output_type": "stream",
     "text": [
      "Measure: calculate_nodes_predictability  Level: 0.7999999999999998   sample: 0   : similarity: 0.9746325272641063\n",
      "Measure: degree_centrality  Level: 0.7999999999999998   sample: 0   : similarity: 0.21716453295400664\n",
      "Measure: closeness_centrality  Level: 0.7999999999999998   sample: 0   : similarity: 0.17970602181128503\n",
      "Measure: current_flow_closeness_centrality  Level: 0.7999999999999998   sample: 0   : similarity: 0.8063063063063064\n",
      "Measure: betweenness_centrality  Level: 0.7999999999999998   sample: 0   : similarity: 0.09791370317686109\n",
      "Measure: current_flow_betweenness_centrality  Level: 0.7999999999999998   sample: 0   : similarity: 0.6882408724513988\n",
      "Measure: newman_betweenness_centrality  Level: 0.7999999999999998   sample: 0   : similarity: 0.28710289236605036\n",
      "X len inside samples: 207\n"
     ]
    },
    {
     "name": "stderr",
     "output_type": "stream",
     "text": [
      "[Parallel(n_jobs=10)]: Using backend ThreadingBackend with 10 concurrent workers.\n",
      "[Parallel(n_jobs=10)]: Done  30 tasks      | elapsed:    0.6s\n",
      "[Parallel(n_jobs=10)]: Done 180 tasks      | elapsed:    3.6s\n",
      "[Parallel(n_jobs=10)]: Done 430 tasks      | elapsed:    7.8s\n",
      "[Parallel(n_jobs=10)]: Done 780 tasks      | elapsed:   13.6s\n",
      "[Parallel(n_jobs=10)]: Done 1000 out of 1000 | elapsed:   17.2s finished\n",
      "INFO:root:{'performance': 35, 'e_LT_F': 30, 'e_ERN': 31, 'WBSI': 14, 'WASH': 26, 'T-CTR': 19, 'Sex': 32, 'STAND': 23, 'STAI-T': 1, 'STAI-S Diff': 34, 'SES': 4, 'RRQ': 10, 'REW': 24, 'PUN': 3, 'PS': 22, 'PRED': 18, 'OT': 8, 'ORD': 16, 'OB_PERF': 13, 'OBSESS': 11, 'NEU': 27, 'IUS-P': 15, 'IUS-I': 7, 'INDEC_F': 9, 'Handness': 37, 'HOARD': 29, 'HARM': 33, 'G_SE': 25, 'DASS-21 Stress': 6, 'DASS-21 Dep': 5, 'CHECK': 28, 'BIS': 2, 'BAS_PRZY': 17, 'BAS_NAG': 21, 'BAS_D': 20, 'Age': 36, 'AMB': 12}\n",
      "INFO:root:{'performance': 29, 'e_LT_F': 17, 'e_ERN': 36, 'WBSI': 24, 'WASH': 20, 'T-CTR': 19, 'Sex': 2, 'STAND': 5, 'STAI-T': 30, 'STAI-S Diff': 9, 'SES': 21, 'RRQ': 31, 'REW': 18, 'PUN': 32, 'PS': 15, 'PRED': 16, 'OT': 14, 'ORD': 4, 'OB_PERF': 11, 'OBSESS': 6, 'NEU': 25, 'IUS-P': 35, 'IUS-I': 28, 'INDEC_F': 13, 'Handness': 37, 'HOARD': 22, 'HARM': 26, 'G_SE': 3, 'DASS-21 Stress': 34, 'DASS-21 Dep': 8, 'CHECK': 23, 'BIS': 1, 'BAS_PRZY': 12, 'BAS_NAG': 10, 'BAS_D': 7, 'Age': 27, 'AMB': 33}\n",
      "INFO:root:{'performance': 29, 'e_LT_F': 17, 'e_ERN': 35, 'WBSI': 24, 'WASH': 20, 'T-CTR': 19, 'Sex': 2, 'STAND': 5, 'STAI-T': 30, 'STAI-S Diff': 9, 'SES': 21, 'RRQ': 31, 'REW': 18, 'PUN': 32, 'PS': 15, 'PRED': 16, 'OT': 14, 'ORD': 4, 'OB_PERF': 11, 'OBSESS': 6, 'NEU': 25, 'IUS-P': 34, 'IUS-I': 28, 'INDEC_F': 13, 'Handness': 37, 'HOARD': 22, 'HARM': 26, 'G_SE': 3, 'DASS-21 Stress': 36, 'DASS-21 Dep': 8, 'CHECK': 23, 'BIS': 1, 'BAS_PRZY': 12, 'BAS_NAG': 10, 'BAS_D': 7, 'Age': 27, 'AMB': 33}\n",
      "INFO:root:{'performance': 32, 'e_LT_F': 35, 'e_ERN': 36, 'WBSI': 28, 'WASH': 23, 'T-CTR': 24, 'Sex': 25, 'STAND': 20, 'STAI-T': 4, 'STAI-S Diff': 33, 'SES': 2, 'RRQ': 11, 'REW': 22, 'PUN': 13, 'PS': 16, 'PRED': 15, 'OT': 3, 'ORD': 5, 'OB_PERF': 10, 'OBSESS': 7, 'NEU': 31, 'IUS-P': 26, 'IUS-I': 21, 'INDEC_F': 12, 'Handness': 37, 'HOARD': 19, 'HARM': 29, 'G_SE': 14, 'DASS-21 Stress': 18, 'DASS-21 Dep': 6, 'CHECK': 27, 'BIS': 1, 'BAS_PRZY': 8, 'BAS_NAG': 9, 'BAS_D': 17, 'Age': 34, 'AMB': 30}\n",
      "INFO:root:{'performance': 20, 'e_LT_F': 1, 'e_ERN': 24, 'WBSI': 8, 'WASH': 28, 'T-CTR': 27, 'Sex': 3, 'STAND': 11, 'STAI-T': 31, 'STAI-S Diff': 7, 'SES': 35, 'RRQ': 36, 'REW': 2, 'PUN': 29, 'PS': 19, 'PRED': 4, 'OT': 16, 'ORD': 6, 'OB_PERF': 17, 'OBSESS': 9, 'NEU': 22, 'IUS-P': 37, 'IUS-I': 15, 'INDEC_F': 18, 'Handness': 25, 'HOARD': 34, 'HARM': 32, 'G_SE': 23, 'DASS-21 Stress': 33, 'DASS-21 Dep': 5, 'CHECK': 12, 'BIS': 10, 'BAS_PRZY': 26, 'BAS_NAG': 13, 'BAS_D': 21, 'Age': 14, 'AMB': 30}\n",
      "INFO:root:{'performance': 35, 'e_LT_F': 31, 'e_ERN': 36, 'WBSI': 30, 'WASH': 17, 'T-CTR': 26, 'Sex': 16, 'STAND': 19, 'STAI-T': 8, 'STAI-S Diff': 34, 'SES': 3, 'RRQ': 13, 'REW': 28, 'PUN': 20, 'PS': 14, 'PRED': 7, 'OT': 1, 'ORD': 4, 'OB_PERF': 10, 'OBSESS': 5, 'NEU': 29, 'IUS-P': 25, 'IUS-I': 22, 'INDEC_F': 18, 'Handness': 37, 'HOARD': 15, 'HARM': 24, 'G_SE': 12, 'DASS-21 Stress': 21, 'DASS-21 Dep': 9, 'CHECK': 27, 'BIS': 2, 'BAS_PRZY': 6, 'BAS_NAG': 11, 'BAS_D': 23, 'Age': 33, 'AMB': 32}\n",
      "INFO:root:{'performance': 30, 'e_LT_F': 27, 'e_ERN': 37, 'WBSI': 14, 'WASH': 24, 'T-CTR': 25, 'Sex': 3, 'STAND': 5, 'STAI-T': 23, 'STAI-S Diff': 20, 'SES': 16, 'RRQ': 32, 'REW': 17, 'PUN': 29, 'PS': 11, 'PRED': 8, 'OT': 7, 'ORD': 4, 'OB_PERF': 13, 'OBSESS': 6, 'NEU': 21, 'IUS-P': 34, 'IUS-I': 22, 'INDEC_F': 10, 'Handness': 35, 'HOARD': 28, 'HARM': 26, 'G_SE': 2, 'DASS-21 Stress': 36, 'DASS-21 Dep': 9, 'CHECK': 18, 'BIS': 1, 'BAS_PRZY': 12, 'BAS_NAG': 15, 'BAS_D': 19, 'Age': 31, 'AMB': 33}\n"
     ]
    },
    {
     "name": "stdout",
     "output_type": "stream",
     "text": [
      "Measure: calculate_nodes_predictability  Level: 0.7999999999999998   sample: 1   : similarity: 0.967045993361783\n",
      "Measure: degree_centrality  Level: 0.7999999999999998   sample: 1   : similarity: 0.5156472261735421\n",
      "Measure: closeness_centrality  Level: 0.7999999999999998   sample: 1   : similarity: 0.43646277856804183\n",
      "Measure: current_flow_closeness_centrality  Level: 0.7999999999999998   sample: 1   : similarity: 0.8361782835467048\n",
      "Measure: betweenness_centrality  Level: 0.7999999999999998   sample: 1   : similarity: -0.0938833570412518\n",
      "Measure: current_flow_betweenness_centrality  Level: 0.7999999999999998   sample: 1   : similarity: 0.7951635846372691\n",
      "Measure: newman_betweenness_centrality  Level: 0.7999999999999998   sample: 1   : similarity: 0.5350877192982457\n",
      "X len before samples: 194\n",
      "X len inside samples: 194\n"
     ]
    },
    {
     "name": "stderr",
     "output_type": "stream",
     "text": [
      "[Parallel(n_jobs=10)]: Using backend ThreadingBackend with 10 concurrent workers.\n",
      "[Parallel(n_jobs=10)]: Done  30 tasks      | elapsed:    0.6s\n",
      "[Parallel(n_jobs=10)]: Done 180 tasks      | elapsed:    4.0s\n",
      "[Parallel(n_jobs=10)]: Done 430 tasks      | elapsed:    9.0s\n",
      "[Parallel(n_jobs=10)]: Done 780 tasks      | elapsed:   15.4s\n",
      "[Parallel(n_jobs=10)]: Done 1000 out of 1000 | elapsed:   19.4s finished\n",
      "INFO:root:{'performance': 37, 'e_LT_F': 35, 'e_ERN': 25, 'WBSI': 18, 'WASH': 26, 'T-CTR': 16, 'Sex': 32, 'STAND': 28, 'STAI-T': 1, 'STAI-S Diff': 33, 'SES': 4, 'RRQ': 9, 'REW': 21, 'PUN': 3, 'PS': 24, 'PRED': 22, 'OT': 10, 'ORD': 23, 'OB_PERF': 12, 'OBSESS': 13, 'NEU': 20, 'IUS-P': 14, 'IUS-I': 8, 'INDEC_F': 11, 'Handness': 31, 'HOARD': 30, 'HARM': 34, 'G_SE': 27, 'DASS-21 Stress': 7, 'DASS-21 Dep': 5, 'CHECK': 29, 'BIS': 2, 'BAS_PRZY': 19, 'BAS_NAG': 15, 'BAS_D': 17, 'Age': 36, 'AMB': 6}\n",
      "INFO:root:{'performance': 32, 'e_LT_F': 37, 'e_ERN': 2, 'WBSI': 19, 'WASH': 34, 'T-CTR': 28, 'Sex': 24, 'STAND': 31, 'STAI-T': 35, 'STAI-S Diff': 16, 'SES': 22, 'RRQ': 14, 'REW': 18, 'PUN': 17, 'PS': 23, 'PRED': 30, 'OT': 12, 'ORD': 9, 'OB_PERF': 4, 'OBSESS': 26, 'NEU': 7, 'IUS-P': 27, 'IUS-I': 11, 'INDEC_F': 20, 'Handness': 25, 'HOARD': 33, 'HARM': 36, 'G_SE': 21, 'DASS-21 Stress': 15, 'DASS-21 Dep': 5, 'CHECK': 10, 'BIS': 6, 'BAS_PRZY': 3, 'BAS_NAG': 8, 'BAS_D': 13, 'Age': 29, 'AMB': 1}\n",
      "INFO:root:{'performance': 32, 'e_LT_F': 37, 'e_ERN': 2, 'WBSI': 19, 'WASH': 34, 'T-CTR': 28, 'Sex': 24, 'STAND': 31, 'STAI-T': 35, 'STAI-S Diff': 16, 'SES': 22, 'RRQ': 14, 'REW': 18, 'PUN': 17, 'PS': 23, 'PRED': 30, 'OT': 12, 'ORD': 9, 'OB_PERF': 4, 'OBSESS': 26, 'NEU': 7, 'IUS-P': 27, 'IUS-I': 11, 'INDEC_F': 20, 'Handness': 25, 'HOARD': 33, 'HARM': 36, 'G_SE': 21, 'DASS-21 Stress': 15, 'DASS-21 Dep': 5, 'CHECK': 10, 'BIS': 6, 'BAS_PRZY': 3, 'BAS_NAG': 8, 'BAS_D': 13, 'Age': 29, 'AMB': 1}\n",
      "INFO:root:{'performance': 37, 'e_LT_F': 34, 'e_ERN': 29, 'WBSI': 25, 'WASH': 27, 'T-CTR': 23, 'Sex': 17, 'STAND': 28, 'STAI-T': 2, 'STAI-S Diff': 33, 'SES': 4, 'RRQ': 11, 'REW': 20, 'PUN': 16, 'PS': 19, 'PRED': 24, 'OT': 13, 'ORD': 8, 'OB_PERF': 1, 'OBSESS': 22, 'NEU': 21, 'IUS-P': 18, 'IUS-I': 6, 'INDEC_F': 7, 'Handness': 36, 'HOARD': 35, 'HARM': 31, 'G_SE': 26, 'DASS-21 Stress': 3, 'DASS-21 Dep': 10, 'CHECK': 30, 'BIS': 5, 'BAS_PRZY': 9, 'BAS_NAG': 14, 'BAS_D': 12, 'Age': 32, 'AMB': 15}\n",
      "INFO:root:{'performance': 5, 'e_LT_F': 36, 'e_ERN': 3, 'WBSI': 16, 'WASH': 33, 'T-CTR': 7, 'Sex': 19, 'STAND': 37, 'STAI-T': 30, 'STAI-S Diff': 11, 'SES': 26, 'RRQ': 25, 'REW': 15, 'PUN': 27, 'PS': 29, 'PRED': 4, 'OT': 8, 'ORD': 18, 'OB_PERF': 12, 'OBSESS': 32, 'NEU': 1, 'IUS-P': 35, 'IUS-I': 20, 'INDEC_F': 24, 'Handness': 2, 'HOARD': 13, 'HARM': 21, 'G_SE': 14, 'DASS-21 Stress': 31, 'DASS-21 Dep': 34, 'CHECK': 10, 'BIS': 9, 'BAS_PRZY': 6, 'BAS_NAG': 22, 'BAS_D': 28, 'Age': 23, 'AMB': 17}\n",
      "INFO:root:{'performance': 37, 'e_LT_F': 31, 'e_ERN': 21, 'WBSI': 25, 'WASH': 27, 'T-CTR': 22, 'Sex': 17, 'STAND': 29, 'STAI-T': 3, 'STAI-S Diff': 33, 'SES': 8, 'RRQ': 9, 'REW': 24, 'PUN': 18, 'PS': 19, 'PRED': 26, 'OT': 15, 'ORD': 4, 'OB_PERF': 1, 'OBSESS': 23, 'NEU': 20, 'IUS-P': 16, 'IUS-I': 5, 'INDEC_F': 7, 'Handness': 36, 'HOARD': 35, 'HARM': 34, 'G_SE': 28, 'DASS-21 Stress': 10, 'DASS-21 Dep': 13, 'CHECK': 30, 'BIS': 6, 'BAS_PRZY': 2, 'BAS_NAG': 14, 'BAS_D': 12, 'Age': 32, 'AMB': 11}\n",
      "INFO:root:{'performance': 28, 'e_LT_F': 37, 'e_ERN': 5, 'WBSI': 14, 'WASH': 31, 'T-CTR': 19, 'Sex': 30, 'STAND': 33, 'STAI-T': 36, 'STAI-S Diff': 20, 'SES': 25, 'RRQ': 21, 'REW': 18, 'PUN': 11, 'PS': 17, 'PRED': 32, 'OT': 13, 'ORD': 9, 'OB_PERF': 6, 'OBSESS': 15, 'NEU': 1, 'IUS-P': 26, 'IUS-I': 8, 'INDEC_F': 22, 'Handness': 27, 'HOARD': 35, 'HARM': 34, 'G_SE': 23, 'DASS-21 Stress': 24, 'DASS-21 Dep': 3, 'CHECK': 10, 'BIS': 2, 'BAS_PRZY': 4, 'BAS_NAG': 12, 'BAS_D': 16, 'Age': 29, 'AMB': 7}\n"
     ]
    },
    {
     "name": "stdout",
     "output_type": "stream",
     "text": [
      "Measure: calculate_nodes_predictability  Level: 0.7499999999999998   sample: 0   : similarity: 0.9765291607396873\n",
      "Measure: degree_centrality  Level: 0.7499999999999998   sample: 0   : similarity: 0.2000948316737791\n",
      "Measure: closeness_centrality  Level: 0.7499999999999998   sample: 0   : similarity: 0.2117117117117118\n",
      "Measure: current_flow_closeness_centrality  Level: 0.7499999999999998   sample: 0   : similarity: 0.8131816026552869\n",
      "Measure: betweenness_centrality  Level: 0.7499999999999998   sample: 0   : similarity: -0.02726410621147463\n",
      "Measure: current_flow_betweenness_centrality  Level: 0.7499999999999998   sample: 0   : similarity: 0.7183499288762449\n",
      "Measure: newman_betweenness_centrality  Level: 0.7499999999999998   sample: 0   : similarity: 0.16334755808440019\n",
      "X len inside samples: 194\n"
     ]
    },
    {
     "name": "stderr",
     "output_type": "stream",
     "text": [
      "[Parallel(n_jobs=10)]: Using backend ThreadingBackend with 10 concurrent workers.\n",
      "[Parallel(n_jobs=10)]: Done  30 tasks      | elapsed:    0.4s\n",
      "[Parallel(n_jobs=10)]: Done 180 tasks      | elapsed:    2.1s\n",
      "[Parallel(n_jobs=10)]: Done 430 tasks      | elapsed:    5.6s\n",
      "[Parallel(n_jobs=10)]: Done 780 tasks      | elapsed:   10.0s\n",
      "[Parallel(n_jobs=10)]: Done 1000 out of 1000 | elapsed:   12.9s finished\n",
      "INFO:root:{'performance': 37, 'e_LT_F': 34, 'e_ERN': 33, 'WBSI': 14, 'WASH': 25, 'T-CTR': 17, 'Sex': 30, 'STAND': 26, 'STAI-T': 1, 'STAI-S Diff': 32, 'SES': 2, 'RRQ': 10, 'REW': 16, 'PUN': 3, 'PS': 24, 'PRED': 21, 'OT': 8, 'ORD': 20, 'OB_PERF': 13, 'OBSESS': 12, 'NEU': 27, 'IUS-P': 18, 'IUS-I': 6, 'INDEC_F': 9, 'Handness': 35, 'HOARD': 28, 'HARM': 29, 'G_SE': 23, 'DASS-21 Stress': 7, 'DASS-21 Dep': 4, 'CHECK': 31, 'BIS': 5, 'BAS_PRZY': 19, 'BAS_NAG': 22, 'BAS_D': 15, 'Age': 36, 'AMB': 11}\n",
      "INFO:root:{'performance': 37, 'e_LT_F': 36, 'e_ERN': 35, 'WBSI': 15, 'WASH': 2, 'T-CTR': 20, 'Sex': 1, 'STAND': 6, 'STAI-T': 25, 'STAI-S Diff': 24, 'SES': 4, 'RRQ': 18, 'REW': 27, 'PUN': 19, 'PS': 8, 'PRED': 31, 'OT': 10, 'ORD': 26, 'OB_PERF': 12, 'OBSESS': 7, 'NEU': 22, 'IUS-P': 34, 'IUS-I': 13, 'INDEC_F': 16, 'Handness': 29, 'HOARD': 9, 'HARM': 32, 'G_SE': 11, 'DASS-21 Stress': 30, 'DASS-21 Dep': 17, 'CHECK': 28, 'BIS': 14, 'BAS_PRZY': 21, 'BAS_NAG': 5, 'BAS_D': 3, 'Age': 33, 'AMB': 23}\n",
      "INFO:root:{'performance': 37, 'e_LT_F': 36, 'e_ERN': 35, 'WBSI': 19, 'WASH': 2, 'T-CTR': 26, 'Sex': 1, 'STAND': 10, 'STAI-T': 27, 'STAI-S Diff': 31, 'SES': 6, 'RRQ': 20, 'REW': 30, 'PUN': 17, 'PS': 13, 'PRED': 28, 'OT': 8, 'ORD': 22, 'OB_PERF': 15, 'OBSESS': 7, 'NEU': 18, 'IUS-P': 34, 'IUS-I': 9, 'INDEC_F': 11, 'Handness': 23, 'HOARD': 12, 'HARM': 33, 'G_SE': 4, 'DASS-21 Stress': 32, 'DASS-21 Dep': 25, 'CHECK': 24, 'BIS': 21, 'BAS_PRZY': 14, 'BAS_NAG': 3, 'BAS_D': 5, 'Age': 29, 'AMB': 16}\n",
      "INFO:root:{'performance': 37, 'e_LT_F': 34, 'e_ERN': 35, 'WBSI': 22, 'WASH': 13, 'T-CTR': 16, 'Sex': 5, 'STAND': 14, 'STAI-T': 4, 'STAI-S Diff': 33, 'SES': 2, 'RRQ': 23, 'REW': 28, 'PUN': 10, 'PS': 19, 'PRED': 9, 'OT': 1, 'ORD': 29, 'OB_PERF': 6, 'OBSESS': 3, 'NEU': 32, 'IUS-P': 27, 'IUS-I': 18, 'INDEC_F': 20, 'Handness': 36, 'HOARD': 26, 'HARM': 30, 'G_SE': 21, 'DASS-21 Stress': 25, 'DASS-21 Dep': 11, 'CHECK': 24, 'BIS': 17, 'BAS_PRZY': 15, 'BAS_NAG': 8, 'BAS_D': 12, 'Age': 31, 'AMB': 7}\n",
      "INFO:root:{'performance': 37, 'e_LT_F': 31, 'e_ERN': 30, 'WBSI': 8, 'WASH': 10, 'T-CTR': 32, 'Sex': 4, 'STAND': 17, 'STAI-T': 24, 'STAI-S Diff': 3, 'SES': 25, 'RRQ': 7, 'REW': 27, 'PUN': 12, 'PS': 11, 'PRED': 36, 'OT': 33, 'ORD': 26, 'OB_PERF': 9, 'OBSESS': 16, 'NEU': 1, 'IUS-P': 34, 'IUS-I': 6, 'INDEC_F': 35, 'Handness': 2, 'HOARD': 5, 'HARM': 23, 'G_SE': 20, 'DASS-21 Stress': 18, 'DASS-21 Dep': 29, 'CHECK': 22, 'BIS': 21, 'BAS_PRZY': 19, 'BAS_NAG': 28, 'BAS_D': 15, 'Age': 14, 'AMB': 13}\n",
      "INFO:root:{'performance': 37, 'e_LT_F': 30, 'e_ERN': 33, 'WBSI': 24, 'WASH': 5, 'T-CTR': 16, 'Sex': 1, 'STAND': 15, 'STAI-T': 8, 'STAI-S Diff': 35, 'SES': 4, 'RRQ': 27, 'REW': 25, 'PUN': 14, 'PS': 22, 'PRED': 11, 'OT': 3, 'ORD': 26, 'OB_PERF': 7, 'OBSESS': 2, 'NEU': 34, 'IUS-P': 28, 'IUS-I': 13, 'INDEC_F': 23, 'Handness': 36, 'HOARD': 10, 'HARM': 32, 'G_SE': 19, 'DASS-21 Stress': 29, 'DASS-21 Dep': 20, 'CHECK': 21, 'BIS': 18, 'BAS_PRZY': 17, 'BAS_NAG': 6, 'BAS_D': 12, 'Age': 31, 'AMB': 9}\n",
      "INFO:root:{'performance': 37, 'e_LT_F': 36, 'e_ERN': 30, 'WBSI': 14, 'WASH': 3, 'T-CTR': 24, 'Sex': 1, 'STAND': 7, 'STAI-T': 23, 'STAI-S Diff': 25, 'SES': 6, 'RRQ': 15, 'REW': 28, 'PUN': 17, 'PS': 12, 'PRED': 29, 'OT': 20, 'ORD': 22, 'OB_PERF': 13, 'OBSESS': 4, 'NEU': 19, 'IUS-P': 35, 'IUS-I': 8, 'INDEC_F': 21, 'Handness': 33, 'HOARD': 2, 'HARM': 32, 'G_SE': 11, 'DASS-21 Stress': 34, 'DASS-21 Dep': 27, 'CHECK': 26, 'BIS': 10, 'BAS_PRZY': 16, 'BAS_NAG': 9, 'BAS_D': 5, 'Age': 31, 'AMB': 18}\n"
     ]
    },
    {
     "name": "stdout",
     "output_type": "stream",
     "text": [
      "Measure: calculate_nodes_predictability  Level: 0.7499999999999998   sample: 1   : similarity: 0.9746325272641064\n",
      "Measure: degree_centrality  Level: 0.7499999999999998   sample: 1   : similarity: 0.6401137980085349\n",
      "Measure: closeness_centrality  Level: 0.7499999999999998   sample: 1   : similarity: 0.5924608819345663\n",
      "Measure: current_flow_closeness_centrality  Level: 0.7499999999999998   sample: 1   : similarity: 0.8212422949265055\n",
      "Measure: betweenness_centrality  Level: 0.7499999999999998   sample: 1   : similarity: 0.09080132764343292\n",
      "Measure: current_flow_betweenness_centrality  Level: 0.7499999999999998   sample: 1   : similarity: 0.7271218587008064\n",
      "Measure: newman_betweenness_centrality  Level: 0.7499999999999998   sample: 1   : similarity: 0.6225699383594122\n",
      "X len before samples: 181\n",
      "X len inside samples: 181\n"
     ]
    },
    {
     "name": "stderr",
     "output_type": "stream",
     "text": [
      "[Parallel(n_jobs=10)]: Using backend ThreadingBackend with 10 concurrent workers.\n",
      "[Parallel(n_jobs=10)]: Done  30 tasks      | elapsed:    0.7s\n",
      "[Parallel(n_jobs=10)]: Done 180 tasks      | elapsed:    3.9s\n",
      "[Parallel(n_jobs=10)]: Done 430 tasks      | elapsed:    9.2s\n",
      "[Parallel(n_jobs=10)]: Done 780 tasks      | elapsed:   17.0s\n",
      "[Parallel(n_jobs=10)]: Done 1000 out of 1000 | elapsed:   22.0s finished\n",
      "INFO:root:{'performance': 34, 'e_LT_F': 31, 'e_ERN': 30, 'WBSI': 16, 'WASH': 27, 'T-CTR': 19, 'Sex': 28, 'STAND': 25, 'STAI-T': 1, 'STAI-S Diff': 36, 'SES': 3, 'RRQ': 14, 'REW': 13, 'PUN': 4, 'PS': 24, 'PRED': 21, 'OT': 9, 'ORD': 22, 'OB_PERF': 15, 'OBSESS': 11, 'NEU': 26, 'IUS-P': 10, 'IUS-I': 6, 'INDEC_F': 7, 'Handness': 35, 'HOARD': 29, 'HARM': 32, 'G_SE': 23, 'DASS-21 Stress': 8, 'DASS-21 Dep': 5, 'CHECK': 33, 'BIS': 2, 'BAS_PRZY': 20, 'BAS_NAG': 18, 'BAS_D': 17, 'Age': 37, 'AMB': 12}\n",
      "INFO:root:{'performance': 9, 'e_LT_F': 21, 'e_ERN': 34, 'WBSI': 29, 'WASH': 23, 'T-CTR': 11, 'Sex': 1, 'STAND': 28, 'STAI-T': 18, 'STAI-S Diff': 14, 'SES': 16, 'RRQ': 26, 'REW': 3, 'PUN': 24, 'PS': 36, 'PRED': 7, 'OT': 25, 'ORD': 19, 'OB_PERF': 15, 'OBSESS': 10, 'NEU': 32, 'IUS-P': 2, 'IUS-I': 5, 'INDEC_F': 12, 'Handness': 17, 'HOARD': 31, 'HARM': 37, 'G_SE': 4, 'DASS-21 Stress': 35, 'DASS-21 Dep': 20, 'CHECK': 33, 'BIS': 6, 'BAS_PRZY': 8, 'BAS_NAG': 13, 'BAS_D': 30, 'Age': 22, 'AMB': 27}\n",
      "INFO:root:{'performance': 9, 'e_LT_F': 21, 'e_ERN': 33, 'WBSI': 29, 'WASH': 23, 'T-CTR': 11, 'Sex': 1, 'STAND': 28, 'STAI-T': 18, 'STAI-S Diff': 14, 'SES': 16, 'RRQ': 26, 'REW': 3, 'PUN': 24, 'PS': 35, 'PRED': 7, 'OT': 25, 'ORD': 19, 'OB_PERF': 15, 'OBSESS': 10, 'NEU': 32, 'IUS-P': 2, 'IUS-I': 5, 'INDEC_F': 12, 'Handness': 17, 'HOARD': 31, 'HARM': 37, 'G_SE': 4, 'DASS-21 Stress': 36, 'DASS-21 Dep': 20, 'CHECK': 34, 'BIS': 6, 'BAS_PRZY': 8, 'BAS_NAG': 13, 'BAS_D': 30, 'Age': 22, 'AMB': 27}\n",
      "INFO:root:{'performance': 21, 'e_LT_F': 29, 'e_ERN': 31, 'WBSI': 14, 'WASH': 28, 'T-CTR': 19, 'Sex': 13, 'STAND': 25, 'STAI-T': 2, 'STAI-S Diff': 26, 'SES': 5, 'RRQ': 18, 'REW': 4, 'PUN': 16, 'PS': 30, 'PRED': 9, 'OT': 17, 'ORD': 15, 'OB_PERF': 11, 'OBSESS': 6, 'NEU': 35, 'IUS-P': 12, 'IUS-I': 7, 'INDEC_F': 20, 'Handness': 37, 'HOARD': 33, 'HARM': 32, 'G_SE': 22, 'DASS-21 Stress': 24, 'DASS-21 Dep': 3, 'CHECK': 36, 'BIS': 1, 'BAS_PRZY': 8, 'BAS_NAG': 10, 'BAS_D': 23, 'Age': 34, 'AMB': 27}\n",
      "INFO:root:{'performance': 16, 'e_LT_F': 12, 'e_ERN': 10, 'WBSI': 13, 'WASH': 17, 'T-CTR': 21, 'Sex': 6, 'STAND': 25, 'STAI-T': 32, 'STAI-S Diff': 18, 'SES': 29, 'RRQ': 24, 'REW': 8, 'PUN': 20, 'PS': 31, 'PRED': 4, 'OT': 37, 'ORD': 34, 'OB_PERF': 35, 'OBSESS': 11, 'NEU': 5, 'IUS-P': 3, 'IUS-I': 9, 'INDEC_F': 23, 'Handness': 1, 'HOARD': 22, 'HARM': 33, 'G_SE': 2, 'DASS-21 Stress': 7, 'DASS-21 Dep': 14, 'CHECK': 28, 'BIS': 30, 'BAS_PRZY': 19, 'BAS_NAG': 27, 'BAS_D': 36, 'Age': 15, 'AMB': 26}\n",
      "INFO:root:{'performance': 24, 'e_LT_F': 22, 'e_ERN': 28, 'WBSI': 15, 'WASH': 21, 'T-CTR': 16, 'Sex': 14, 'STAND': 23, 'STAI-T': 1, 'STAI-S Diff': 29, 'SES': 10, 'RRQ': 20, 'REW': 3, 'PUN': 19, 'PS': 25, 'PRED': 7, 'OT': 17, 'ORD': 4, 'OB_PERF': 9, 'OBSESS': 5, 'NEU': 32, 'IUS-P': 12, 'IUS-I': 11, 'INDEC_F': 18, 'Handness': 37, 'HOARD': 33, 'HARM': 31, 'G_SE': 26, 'DASS-21 Stress': 36, 'DASS-21 Dep': 6, 'CHECK': 34, 'BIS': 2, 'BAS_PRZY': 8, 'BAS_NAG': 13, 'BAS_D': 27, 'Age': 35, 'AMB': 30}\n",
      "INFO:root:{'performance': 9, 'e_LT_F': 25, 'e_ERN': 28, 'WBSI': 32, 'WASH': 22, 'T-CTR': 13, 'Sex': 1, 'STAND': 24, 'STAI-T': 20, 'STAI-S Diff': 18, 'SES': 14, 'RRQ': 29, 'REW': 2, 'PUN': 19, 'PS': 34, 'PRED': 12, 'OT': 27, 'ORD': 17, 'OB_PERF': 10, 'OBSESS': 4, 'NEU': 31, 'IUS-P': 3, 'IUS-I': 6, 'INDEC_F': 8, 'Handness': 16, 'HOARD': 33, 'HARM': 37, 'G_SE': 5, 'DASS-21 Stress': 36, 'DASS-21 Dep': 23, 'CHECK': 35, 'BIS': 7, 'BAS_PRZY': 11, 'BAS_NAG': 15, 'BAS_D': 26, 'Age': 21, 'AMB': 30}\n"
     ]
    },
    {
     "name": "stdout",
     "output_type": "stream",
     "text": [
      "Measure: calculate_nodes_predictability  Level: 0.6999999999999997   sample: 0   : similarity: 0.9807965860597441\n",
      "Measure: degree_centrality  Level: 0.6999999999999997   sample: 0   : similarity: 0.20459933617828363\n",
      "Measure: closeness_centrality  Level: 0.6999999999999997   sample: 0   : similarity: 0.11379800853485064\n",
      "Measure: current_flow_closeness_centrality  Level: 0.6999999999999997   sample: 0   : similarity: 0.7584163110478901\n",
      "Measure: betweenness_centrality  Level: 0.6999999999999997   sample: 0   : similarity: 0.08440018966334759\n",
      "Measure: current_flow_betweenness_centrality  Level: 0.6999999999999997   sample: 0   : similarity: 0.6932195353247986\n",
      "Measure: newman_betweenness_centrality  Level: 0.6999999999999997   sample: 0   : similarity: 0.29848269321953547\n",
      "X len inside samples: 181\n"
     ]
    },
    {
     "name": "stderr",
     "output_type": "stream",
     "text": [
      "[Parallel(n_jobs=10)]: Using backend ThreadingBackend with 10 concurrent workers.\n",
      "[Parallel(n_jobs=10)]: Done  30 tasks      | elapsed:    0.7s\n",
      "[Parallel(n_jobs=10)]: Done 180 tasks      | elapsed:    3.8s\n",
      "[Parallel(n_jobs=10)]: Done 430 tasks      | elapsed:    9.4s\n",
      "[Parallel(n_jobs=10)]: Done 780 tasks      | elapsed:   16.9s\n",
      "[Parallel(n_jobs=10)]: Done 1000 out of 1000 | elapsed:   21.1s finished\n",
      "INFO:root:{'performance': 34, 'e_LT_F': 33, 'e_ERN': 31, 'WBSI': 18, 'WASH': 27, 'T-CTR': 16, 'Sex': 28, 'STAND': 25, 'STAI-T': 1, 'STAI-S Diff': 37, 'SES': 2, 'RRQ': 8, 'REW': 17, 'PUN': 4, 'PS': 23, 'PRED': 19, 'OT': 9, 'ORD': 15, 'OB_PERF': 14, 'OBSESS': 11, 'NEU': 24, 'IUS-P': 13, 'IUS-I': 6, 'INDEC_F': 12, 'Handness': 35, 'HOARD': 30, 'HARM': 29, 'G_SE': 26, 'DASS-21 Stress': 7, 'DASS-21 Dep': 5, 'CHECK': 32, 'BIS': 3, 'BAS_PRZY': 22, 'BAS_NAG': 21, 'BAS_D': 20, 'Age': 36, 'AMB': 10}\n",
      "INFO:root:{'performance': 11, 'e_LT_F': 10, 'e_ERN': 23, 'WBSI': 36, 'WASH': 20, 'T-CTR': 29, 'Sex': 1, 'STAND': 28, 'STAI-T': 25, 'STAI-S Diff': 22, 'SES': 9, 'RRQ': 2, 'REW': 21, 'PUN': 37, 'PS': 18, 'PRED': 33, 'OT': 32, 'ORD': 12, 'OB_PERF': 30, 'OBSESS': 3, 'NEU': 4, 'IUS-P': 31, 'IUS-I': 6, 'INDEC_F': 17, 'Handness': 24, 'HOARD': 16, 'HARM': 14, 'G_SE': 26, 'DASS-21 Stress': 15, 'DASS-21 Dep': 7, 'CHECK': 13, 'BIS': 8, 'BAS_PRZY': 5, 'BAS_NAG': 19, 'BAS_D': 34, 'Age': 35, 'AMB': 27}\n",
      "INFO:root:{'performance': 11, 'e_LT_F': 10, 'e_ERN': 23, 'WBSI': 36, 'WASH': 20, 'T-CTR': 29, 'Sex': 1, 'STAND': 28, 'STAI-T': 25, 'STAI-S Diff': 22, 'SES': 9, 'RRQ': 2, 'REW': 21, 'PUN': 37, 'PS': 18, 'PRED': 33, 'OT': 32, 'ORD': 12, 'OB_PERF': 30, 'OBSESS': 3, 'NEU': 4, 'IUS-P': 31, 'IUS-I': 6, 'INDEC_F': 17, 'Handness': 24, 'HOARD': 16, 'HARM': 14, 'G_SE': 26, 'DASS-21 Stress': 15, 'DASS-21 Dep': 7, 'CHECK': 13, 'BIS': 8, 'BAS_PRZY': 5, 'BAS_NAG': 19, 'BAS_D': 34, 'Age': 35, 'AMB': 27}\n",
      "INFO:root:{'performance': 25, 'e_LT_F': 33, 'e_ERN': 34, 'WBSI': 27, 'WASH': 29, 'T-CTR': 30, 'Sex': 5, 'STAND': 32, 'STAI-T': 2, 'STAI-S Diff': 35, 'SES': 1, 'RRQ': 20, 'REW': 24, 'PUN': 13, 'PS': 12, 'PRED': 4, 'OT': 11, 'ORD': 16, 'OB_PERF': 6, 'OBSESS': 8, 'NEU': 26, 'IUS-P': 15, 'IUS-I': 18, 'INDEC_F': 14, 'Handness': 36, 'HOARD': 23, 'HARM': 22, 'G_SE': 31, 'DASS-21 Stress': 10, 'DASS-21 Dep': 7, 'CHECK': 28, 'BIS': 9, 'BAS_PRZY': 3, 'BAS_NAG': 21, 'BAS_D': 17, 'Age': 37, 'AMB': 19}\n",
      "INFO:root:{'performance': 29, 'e_LT_F': 2, 'e_ERN': 9, 'WBSI': 30, 'WASH': 10, 'T-CTR': 14, 'Sex': 28, 'STAND': 5, 'STAI-T': 34, 'STAI-S Diff': 7, 'SES': 22, 'RRQ': 8, 'REW': 16, 'PUN': 37, 'PS': 24, 'PRED': 32, 'OT': 27, 'ORD': 12, 'OB_PERF': 33, 'OBSESS': 6, 'NEU': 19, 'IUS-P': 18, 'IUS-I': 3, 'INDEC_F': 23, 'Handness': 17, 'HOARD': 26, 'HARM': 1, 'G_SE': 20, 'DASS-21 Stress': 11, 'DASS-21 Dep': 4, 'CHECK': 13, 'BIS': 31, 'BAS_PRZY': 35, 'BAS_NAG': 25, 'BAS_D': 36, 'Age': 21, 'AMB': 15}\n",
      "INFO:root:{'performance': 26, 'e_LT_F': 31, 'e_ERN': 30, 'WBSI': 28, 'WASH': 27, 'T-CTR': 33, 'Sex': 5, 'STAND': 34, 'STAI-T': 6, 'STAI-S Diff': 36, 'SES': 2, 'RRQ': 15, 'REW': 19, 'PUN': 17, 'PS': 8, 'PRED': 4, 'OT': 9, 'ORD': 16, 'OB_PERF': 7, 'OBSESS': 3, 'NEU': 23, 'IUS-P': 14, 'IUS-I': 21, 'INDEC_F': 10, 'Handness': 35, 'HOARD': 22, 'HARM': 24, 'G_SE': 32, 'DASS-21 Stress': 12, 'DASS-21 Dep': 13, 'CHECK': 29, 'BIS': 11, 'BAS_PRZY': 1, 'BAS_NAG': 18, 'BAS_D': 20, 'Age': 37, 'AMB': 25}\n",
      "INFO:root:{'performance': 11, 'e_LT_F': 20, 'e_ERN': 31, 'WBSI': 35, 'WASH': 21, 'T-CTR': 25, 'Sex': 1, 'STAND': 23, 'STAI-T': 24, 'STAI-S Diff': 14, 'SES': 8, 'RRQ': 3, 'REW': 17, 'PUN': 37, 'PS': 16, 'PRED': 32, 'OT': 33, 'ORD': 15, 'OB_PERF': 26, 'OBSESS': 2, 'NEU': 4, 'IUS-P': 30, 'IUS-I': 7, 'INDEC_F': 19, 'Handness': 29, 'HOARD': 28, 'HARM': 18, 'G_SE': 27, 'DASS-21 Stress': 9, 'DASS-21 Dep': 10, 'CHECK': 12, 'BIS': 5, 'BAS_PRZY': 6, 'BAS_NAG': 13, 'BAS_D': 34, 'Age': 36, 'AMB': 22}\n"
     ]
    },
    {
     "name": "stdout",
     "output_type": "stream",
     "text": [
      "Measure: calculate_nodes_predictability  Level: 0.6999999999999997   sample: 1   : similarity: 0.9765291607396873\n",
      "Measure: degree_centrality  Level: 0.6999999999999997   sample: 1   : similarity: 0.06353722143195825\n",
      "Measure: closeness_centrality  Level: 0.6999999999999997   sample: 1   : similarity: 0.018018018018018\n",
      "Measure: current_flow_closeness_centrality  Level: 0.6999999999999997   sample: 1   : similarity: 0.8748221906116646\n",
      "Measure: betweenness_centrality  Level: 0.6999999999999997   sample: 1   : similarity: -0.08321479374110957\n",
      "Measure: current_flow_betweenness_centrality  Level: 0.6999999999999997   sample: 1   : similarity: 0.7818871503082032\n",
      "Measure: newman_betweenness_centrality  Level: 0.6999999999999997   sample: 1   : similarity: 0.04694167852062591\n",
      "X len before samples: 168\n",
      "X len inside samples: 168\n"
     ]
    },
    {
     "name": "stderr",
     "output_type": "stream",
     "text": [
      "[Parallel(n_jobs=10)]: Using backend ThreadingBackend with 10 concurrent workers.\n",
      "[Parallel(n_jobs=10)]: Done  30 tasks      | elapsed:    0.7s\n",
      "[Parallel(n_jobs=10)]: Done 180 tasks      | elapsed:    4.0s\n",
      "[Parallel(n_jobs=10)]: Done 430 tasks      | elapsed:    9.5s\n",
      "[Parallel(n_jobs=10)]: Done 780 tasks      | elapsed:   17.2s\n",
      "[Parallel(n_jobs=10)]: Done 1000 out of 1000 | elapsed:   21.7s finished\n",
      "INFO:root:{'performance': 36, 'e_LT_F': 32, 'e_ERN': 29, 'WBSI': 18, 'WASH': 27, 'T-CTR': 11, 'Sex': 30, 'STAND': 28, 'STAI-T': 1, 'STAI-S Diff': 37, 'SES': 3, 'RRQ': 14, 'REW': 20, 'PUN': 4, 'PS': 24, 'PRED': 19, 'OT': 7, 'ORD': 22, 'OB_PERF': 13, 'OBSESS': 12, 'NEU': 26, 'IUS-P': 16, 'IUS-I': 8, 'INDEC_F': 9, 'Handness': 34, 'HOARD': 25, 'HARM': 31, 'G_SE': 23, 'DASS-21 Stress': 6, 'DASS-21 Dep': 5, 'CHECK': 33, 'BIS': 2, 'BAS_PRZY': 17, 'BAS_NAG': 21, 'BAS_D': 15, 'Age': 35, 'AMB': 10}\n",
      "INFO:root:{'performance': 30, 'e_LT_F': 35, 'e_ERN': 28, 'WBSI': 27, 'WASH': 8, 'T-CTR': 13, 'Sex': 3, 'STAND': 14, 'STAI-T': 26, 'STAI-S Diff': 33, 'SES': 11, 'RRQ': 29, 'REW': 23, 'PUN': 36, 'PS': 17, 'PRED': 9, 'OT': 10, 'ORD': 7, 'OB_PERF': 15, 'OBSESS': 20, 'NEU': 6, 'IUS-P': 34, 'IUS-I': 25, 'INDEC_F': 22, 'Handness': 31, 'HOARD': 16, 'HARM': 37, 'G_SE': 4, 'DASS-21 Stress': 18, 'DASS-21 Dep': 24, 'CHECK': 32, 'BIS': 5, 'BAS_PRZY': 1, 'BAS_NAG': 21, 'BAS_D': 2, 'Age': 12, 'AMB': 19}\n",
      "INFO:root:{'performance': 29, 'e_LT_F': 36, 'e_ERN': 33, 'WBSI': 26, 'WASH': 8, 'T-CTR': 13, 'Sex': 3, 'STAND': 14, 'STAI-T': 24, 'STAI-S Diff': 35, 'SES': 11, 'RRQ': 28, 'REW': 25, 'PUN': 34, 'PS': 17, 'PRED': 9, 'OT': 10, 'ORD': 7, 'OB_PERF': 15, 'OBSESS': 20, 'NEU': 6, 'IUS-P': 32, 'IUS-I': 27, 'INDEC_F': 22, 'Handness': 30, 'HOARD': 16, 'HARM': 37, 'G_SE': 4, 'DASS-21 Stress': 18, 'DASS-21 Dep': 23, 'CHECK': 31, 'BIS': 5, 'BAS_PRZY': 1, 'BAS_NAG': 21, 'BAS_D': 2, 'Age': 12, 'AMB': 19}\n",
      "INFO:root:{'performance': 36, 'e_LT_F': 37, 'e_ERN': 33, 'WBSI': 17, 'WASH': 29, 'T-CTR': 22, 'Sex': 9, 'STAND': 23, 'STAI-T': 3, 'STAI-S Diff': 35, 'SES': 2, 'RRQ': 10, 'REW': 28, 'PUN': 16, 'PS': 27, 'PRED': 13, 'OT': 7, 'ORD': 6, 'OB_PERF': 11, 'OBSESS': 24, 'NEU': 19, 'IUS-P': 31, 'IUS-I': 20, 'INDEC_F': 21, 'Handness': 32, 'HOARD': 25, 'HARM': 26, 'G_SE': 8, 'DASS-21 Stress': 14, 'DASS-21 Dep': 5, 'CHECK': 30, 'BIS': 1, 'BAS_PRZY': 4, 'BAS_NAG': 15, 'BAS_D': 12, 'Age': 34, 'AMB': 18}\n",
      "INFO:root:{'performance': 5, 'e_LT_F': 6, 'e_ERN': 7, 'WBSI': 37, 'WASH': 3, 'T-CTR': 19, 'Sex': 8, 'STAND': 20, 'STAI-T': 36, 'STAI-S Diff': 27, 'SES': 29, 'RRQ': 34, 'REW': 18, 'PUN': 13, 'PS': 9, 'PRED': 4, 'OT': 2, 'ORD': 22, 'OB_PERF': 17, 'OBSESS': 25, 'NEU': 10, 'IUS-P': 33, 'IUS-I': 23, 'INDEC_F': 24, 'Handness': 35, 'HOARD': 12, 'HARM': 15, 'G_SE': 14, 'DASS-21 Stress': 28, 'DASS-21 Dep': 31, 'CHECK': 30, 'BIS': 32, 'BAS_PRZY': 11, 'BAS_NAG': 26, 'BAS_D': 16, 'Age': 1, 'AMB': 21}\n",
      "INFO:root:{'performance': 37, 'e_LT_F': 36, 'e_ERN': 25, 'WBSI': 15, 'WASH': 28, 'T-CTR': 14, 'Sex': 8, 'STAND': 21, 'STAI-T': 3, 'STAI-S Diff': 35, 'SES': 2, 'RRQ': 9, 'REW': 33, 'PUN': 27, 'PS': 26, 'PRED': 10, 'OT': 6, 'ORD': 4, 'OB_PERF': 12, 'OBSESS': 23, 'NEU': 16, 'IUS-P': 32, 'IUS-I': 20, 'INDEC_F': 19, 'Handness': 30, 'HOARD': 24, 'HARM': 31, 'G_SE': 7, 'DASS-21 Stress': 22, 'DASS-21 Dep': 11, 'CHECK': 29, 'BIS': 1, 'BAS_PRZY': 5, 'BAS_NAG': 17, 'BAS_D': 13, 'Age': 34, 'AMB': 18}\n",
      "INFO:root:{'performance': 33, 'e_LT_F': 30, 'e_ERN': 28, 'WBSI': 27, 'WASH': 11, 'T-CTR': 12, 'Sex': 6, 'STAND': 16, 'STAI-T': 29, 'STAI-S Diff': 25, 'SES': 8, 'RRQ': 24, 'REW': 26, 'PUN': 36, 'PS': 18, 'PRED': 4, 'OT': 2, 'ORD': 10, 'OB_PERF': 14, 'OBSESS': 19, 'NEU': 9, 'IUS-P': 35, 'IUS-I': 23, 'INDEC_F': 17, 'Handness': 31, 'HOARD': 20, 'HARM': 37, 'G_SE': 3, 'DASS-21 Stress': 15, 'DASS-21 Dep': 22, 'CHECK': 34, 'BIS': 1, 'BAS_PRZY': 7, 'BAS_NAG': 32, 'BAS_D': 5, 'Age': 13, 'AMB': 21}\n"
     ]
    },
    {
     "name": "stdout",
     "output_type": "stream",
     "text": [
      "Measure: calculate_nodes_predictability  Level: 0.6499999999999997   sample: 0   : similarity: 0.9758179231863443\n",
      "Measure: degree_centrality  Level: 0.6499999999999997   sample: 0   : similarity: 0.6266002844950215\n",
      "Measure: closeness_centrality  Level: 0.6499999999999997   sample: 0   : similarity: 0.6228070175438598\n",
      "Measure: current_flow_closeness_centrality  Level: 0.6499999999999997   sample: 0   : similarity: 0.7731152204836418\n",
      "Measure: betweenness_centrality  Level: 0.6499999999999997   sample: 0   : similarity: 0.22783309625414896\n",
      "Measure: current_flow_betweenness_centrality  Level: 0.6499999999999997   sample: 0   : similarity: 0.6877667140825036\n",
      "Measure: newman_betweenness_centrality  Level: 0.6499999999999997   sample: 0   : similarity: 0.5403034613560931\n",
      "X len inside samples: 168\n"
     ]
    },
    {
     "name": "stderr",
     "output_type": "stream",
     "text": [
      "[Parallel(n_jobs=10)]: Using backend ThreadingBackend with 10 concurrent workers.\n",
      "[Parallel(n_jobs=10)]: Done  30 tasks      | elapsed:    0.8s\n",
      "[Parallel(n_jobs=10)]: Done 180 tasks      | elapsed:    3.4s\n",
      "[Parallel(n_jobs=10)]: Done 430 tasks      | elapsed:    7.8s\n",
      "[Parallel(n_jobs=10)]: Done 780 tasks      | elapsed:   14.3s\n",
      "[Parallel(n_jobs=10)]: Done 1000 out of 1000 | elapsed:   18.1s finished\n",
      "INFO:root:{'performance': 37, 'e_LT_F': 31, 'e_ERN': 29, 'WBSI': 16, 'WASH': 26, 'T-CTR': 18, 'Sex': 30, 'STAND': 24, 'STAI-T': 1, 'STAI-S Diff': 35, 'SES': 2, 'RRQ': 10, 'REW': 15, 'PUN': 3, 'PS': 23, 'PRED': 20, 'OT': 6, 'ORD': 21, 'OB_PERF': 14, 'OBSESS': 11, 'NEU': 25, 'IUS-P': 13, 'IUS-I': 9, 'INDEC_F': 12, 'Handness': 34, 'HOARD': 28, 'HARM': 32, 'G_SE': 27, 'DASS-21 Stress': 5, 'DASS-21 Dep': 8, 'CHECK': 33, 'BIS': 4, 'BAS_PRZY': 17, 'BAS_NAG': 22, 'BAS_D': 19, 'Age': 36, 'AMB': 7}\n",
      "INFO:root:{'performance': 35, 'e_LT_F': 34, 'e_ERN': 13, 'WBSI': 24, 'WASH': 23, 'T-CTR': 18, 'Sex': 4, 'STAND': 14, 'STAI-T': 16, 'STAI-S Diff': 27, 'SES': 29, 'RRQ': 8, 'REW': 1, 'PUN': 20, 'PS': 10, 'PRED': 30, 'OT': 2, 'ORD': 17, 'OB_PERF': 26, 'OBSESS': 11, 'NEU': 9, 'IUS-P': 15, 'IUS-I': 37, 'INDEC_F': 25, 'Handness': 31, 'HOARD': 7, 'HARM': 33, 'G_SE': 12, 'DASS-21 Stress': 32, 'DASS-21 Dep': 28, 'CHECK': 36, 'BIS': 5, 'BAS_PRZY': 6, 'BAS_NAG': 19, 'BAS_D': 21, 'Age': 22, 'AMB': 3}\n",
      "INFO:root:{'performance': 36, 'e_LT_F': 31, 'e_ERN': 13, 'WBSI': 24, 'WASH': 23, 'T-CTR': 18, 'Sex': 4, 'STAND': 14, 'STAI-T': 16, 'STAI-S Diff': 27, 'SES': 29, 'RRQ': 8, 'REW': 1, 'PUN': 20, 'PS': 10, 'PRED': 30, 'OT': 2, 'ORD': 17, 'OB_PERF': 26, 'OBSESS': 11, 'NEU': 9, 'IUS-P': 15, 'IUS-I': 37, 'INDEC_F': 25, 'Handness': 32, 'HOARD': 7, 'HARM': 34, 'G_SE': 12, 'DASS-21 Stress': 33, 'DASS-21 Dep': 28, 'CHECK': 35, 'BIS': 5, 'BAS_PRZY': 6, 'BAS_NAG': 19, 'BAS_D': 21, 'Age': 22, 'AMB': 3}\n",
      "INFO:root:{'performance': 36, 'e_LT_F': 35, 'e_ERN': 30, 'WBSI': 19, 'WASH': 26, 'T-CTR': 15, 'Sex': 13, 'STAND': 23, 'STAI-T': 1, 'STAI-S Diff': 37, 'SES': 17, 'RRQ': 7, 'REW': 14, 'PUN': 10, 'PS': 3, 'PRED': 18, 'OT': 4, 'ORD': 6, 'OB_PERF': 8, 'OBSESS': 16, 'NEU': 31, 'IUS-P': 11, 'IUS-I': 22, 'INDEC_F': 21, 'Handness': 34, 'HOARD': 27, 'HARM': 29, 'G_SE': 28, 'DASS-21 Stress': 25, 'DASS-21 Dep': 12, 'CHECK': 32, 'BIS': 2, 'BAS_PRZY': 5, 'BAS_NAG': 9, 'BAS_D': 20, 'Age': 33, 'AMB': 24}\n",
      "INFO:root:{'performance': 21, 'e_LT_F': 8, 'e_ERN': 7, 'WBSI': 32, 'WASH': 16, 'T-CTR': 34, 'Sex': 10, 'STAND': 13, 'STAI-T': 18, 'STAI-S Diff': 9, 'SES': 12, 'RRQ': 27, 'REW': 4, 'PUN': 30, 'PS': 35, 'PRED': 31, 'OT': 5, 'ORD': 33, 'OB_PERF': 26, 'OBSESS': 25, 'NEU': 1, 'IUS-P': 24, 'IUS-I': 37, 'INDEC_F': 19, 'Handness': 15, 'HOARD': 3, 'HARM': 36, 'G_SE': 6, 'DASS-21 Stress': 11, 'DASS-21 Dep': 29, 'CHECK': 23, 'BIS': 14, 'BAS_PRZY': 28, 'BAS_NAG': 20, 'BAS_D': 22, 'Age': 17, 'AMB': 2}\n",
      "INFO:root:{'performance': 35, 'e_LT_F': 36, 'e_ERN': 21, 'WBSI': 22, 'WASH': 26, 'T-CTR': 10, 'Sex': 11, 'STAND': 20, 'STAI-T': 1, 'STAI-S Diff': 37, 'SES': 19, 'RRQ': 7, 'REW': 14, 'PUN': 15, 'PS': 2, 'PRED': 17, 'OT': 5, 'ORD': 4, 'OB_PERF': 16, 'OBSESS': 13, 'NEU': 32, 'IUS-P': 9, 'IUS-I': 25, 'INDEC_F': 27, 'Handness': 33, 'HOARD': 18, 'HARM': 30, 'G_SE': 28, 'DASS-21 Stress': 29, 'DASS-21 Dep': 12, 'CHECK': 34, 'BIS': 3, 'BAS_PRZY': 6, 'BAS_NAG': 8, 'BAS_D': 24, 'Age': 31, 'AMB': 23}\n",
      "INFO:root:{'performance': 32, 'e_LT_F': 35, 'e_ERN': 20, 'WBSI': 28, 'WASH': 27, 'T-CTR': 16, 'Sex': 7, 'STAND': 19, 'STAI-T': 17, 'STAI-S Diff': 23, 'SES': 30, 'RRQ': 12, 'REW': 5, 'PUN': 14, 'PS': 10, 'PRED': 25, 'OT': 1, 'ORD': 6, 'OB_PERF': 24, 'OBSESS': 9, 'NEU': 11, 'IUS-P': 18, 'IUS-I': 37, 'INDEC_F': 26, 'Handness': 33, 'HOARD': 2, 'HARM': 31, 'G_SE': 15, 'DASS-21 Stress': 34, 'DASS-21 Dep': 29, 'CHECK': 36, 'BIS': 8, 'BAS_PRZY': 3, 'BAS_NAG': 21, 'BAS_D': 22, 'Age': 13, 'AMB': 4}\n"
     ]
    },
    {
     "name": "stdout",
     "output_type": "stream",
     "text": [
      "Measure: calculate_nodes_predictability  Level: 0.6499999999999997   sample: 1   : similarity: 0.9770033191085824\n",
      "Measure: degree_centrality  Level: 0.6499999999999997   sample: 1   : similarity: 0.4516358463726886\n",
      "Measure: closeness_centrality  Level: 0.6499999999999997   sample: 1   : similarity: 0.4798482693219537\n",
      "Measure: current_flow_closeness_centrality  Level: 0.6499999999999997   sample: 1   : similarity: 0.8539592223802752\n",
      "Measure: betweenness_centrality  Level: 0.6499999999999997   sample: 1   : similarity: 0.027975343764817445\n",
      "Measure: current_flow_betweenness_centrality  Level: 0.6499999999999997   sample: 1   : similarity: 0.7965860597439548\n",
      "Measure: newman_betweenness_centrality  Level: 0.6499999999999997   sample: 1   : similarity: 0.44073020388809864\n",
      "X len before samples: 155\n",
      "X len inside samples: 155\n"
     ]
    },
    {
     "name": "stderr",
     "output_type": "stream",
     "text": [
      "[Parallel(n_jobs=10)]: Using backend ThreadingBackend with 10 concurrent workers.\n",
      "[Parallel(n_jobs=10)]: Done  30 tasks      | elapsed:    0.7s\n",
      "[Parallel(n_jobs=10)]: Done 180 tasks      | elapsed:    3.7s\n",
      "[Parallel(n_jobs=10)]: Done 430 tasks      | elapsed:    8.5s\n",
      "[Parallel(n_jobs=10)]: Done 780 tasks      | elapsed:   15.7s\n"
     ]
    },
    {
     "ename": "KeyboardInterrupt",
     "evalue": "",
     "output_type": "error",
     "traceback": [
      "\u001b[0;31m---------------------------------------------------------------------------\u001b[0m",
      "\u001b[0;31mKeyboardInterrupt\u001b[0m                         Traceback (most recent call last)",
      "Cell \u001b[0;32mIn[27], line 5\u001b[0m\n\u001b[1;32m      1\u001b[0m logging\u001b[38;5;241m.\u001b[39mgetLogger()\u001b[38;5;241m.\u001b[39msetLevel(logging\u001b[38;5;241m.\u001b[39mINFO)\n\u001b[1;32m      3\u001b[0m \u001b[38;5;28;01mfor\u001b[39;00m index, (dataset_train, dataset_test) \u001b[38;5;129;01min\u001b[39;00m \u001b[38;5;28menumerate\u001b[39m(\u001b[38;5;28mzip\u001b[39m(datasets, test_datasets)):\n\u001b[0;32m----> 5\u001b[0m     df_ranked \u001b[38;5;241m=\u001b[39m \u001b[43mbootstrap_network_measures\u001b[49m\u001b[43m(\u001b[49m\n\u001b[1;32m      6\u001b[0m \u001b[43m        \u001b[49m\u001b[43mX\u001b[49m\u001b[43m \u001b[49m\u001b[38;5;241;43m=\u001b[39;49m\u001b[43m \u001b[49m\u001b[43mdataset_train\u001b[49m\u001b[43m,\u001b[49m\n\u001b[1;32m      7\u001b[0m \u001b[43m        \u001b[49m\u001b[43mmeasures\u001b[49m\u001b[43m \u001b[49m\u001b[38;5;241;43m=\u001b[39;49m\u001b[43m \u001b[49m\u001b[43m[\u001b[49m\n\u001b[1;32m      8\u001b[0m \u001b[43m            \u001b[49m\u001b[43m(\u001b[49m\u001b[43mcalculate_nodes_predictability\u001b[49m\u001b[43m,\u001b[49m\u001b[43m \u001b[49m\u001b[43m{\u001b[49m\u001b[38;5;124;43m'\u001b[39;49m\u001b[38;5;124;43mX\u001b[39;49m\u001b[38;5;124;43m'\u001b[39;49m\u001b[43m:\u001b[49m\u001b[43m \u001b[49m\u001b[43mdataset_test\u001b[49m\u001b[43m}\u001b[49m\u001b[43m)\u001b[49m\u001b[43m,\u001b[49m\u001b[43m \u001b[49m\n\u001b[1;32m      9\u001b[0m \u001b[43m            \u001b[49m\u001b[43m(\u001b[49m\u001b[43mnx\u001b[49m\u001b[38;5;241;43m.\u001b[39;49m\u001b[43mdegree_centrality\u001b[49m\u001b[43m,\u001b[49m\u001b[43m \u001b[49m\u001b[43m{\u001b[49m\u001b[43m}\u001b[49m\u001b[43m)\u001b[49m\u001b[43m,\u001b[49m\n\u001b[1;32m     10\u001b[0m \u001b[43m            \u001b[49m\u001b[43m(\u001b[49m\u001b[43mnx\u001b[49m\u001b[38;5;241;43m.\u001b[39;49m\u001b[43mcloseness_centrality\u001b[49m\u001b[43m,\u001b[49m\u001b[43m \u001b[49m\u001b[43m{\u001b[49m\u001b[43m}\u001b[49m\u001b[43m)\u001b[49m\u001b[43m,\u001b[49m\n\u001b[1;32m     11\u001b[0m \u001b[43m            \u001b[49m\u001b[43m(\u001b[49m\u001b[43mnx\u001b[49m\u001b[38;5;241;43m.\u001b[39;49m\u001b[43mcurrent_flow_closeness_centrality\u001b[49m\u001b[43m,\u001b[49m\u001b[43m \u001b[49m\u001b[43m{\u001b[49m\u001b[38;5;124;43m'\u001b[39;49m\u001b[38;5;124;43mweight\u001b[39;49m\u001b[38;5;124;43m'\u001b[39;49m\u001b[43m:\u001b[49m\u001b[43m \u001b[49m\u001b[38;5;124;43m'\u001b[39;49m\u001b[38;5;124;43mweight\u001b[39;49m\u001b[38;5;124;43m'\u001b[39;49m\u001b[43m}\u001b[49m\u001b[43m)\u001b[49m\u001b[43m,\u001b[49m\n\u001b[1;32m     12\u001b[0m \u001b[43m            \u001b[49m\u001b[43m(\u001b[49m\u001b[43mnx\u001b[49m\u001b[38;5;241;43m.\u001b[39;49m\u001b[43mbetweenness_centrality\u001b[49m\u001b[43m,\u001b[49m\u001b[43m \u001b[49m\u001b[43m{\u001b[49m\u001b[38;5;124;43m'\u001b[39;49m\u001b[38;5;124;43mweight\u001b[39;49m\u001b[38;5;124;43m'\u001b[39;49m\u001b[43m:\u001b[49m\u001b[43m \u001b[49m\u001b[38;5;124;43m'\u001b[39;49m\u001b[38;5;124;43mweight\u001b[39;49m\u001b[38;5;124;43m'\u001b[39;49m\u001b[43m}\u001b[49m\u001b[43m)\u001b[49m\u001b[43m,\u001b[49m\n\u001b[1;32m     13\u001b[0m \u001b[43m            \u001b[49m\u001b[43m(\u001b[49m\u001b[43mnx\u001b[49m\u001b[38;5;241;43m.\u001b[39;49m\u001b[43mcurrent_flow_betweenness_centrality\u001b[49m\u001b[43m,\u001b[49m\u001b[43m \u001b[49m\u001b[43m{\u001b[49m\u001b[38;5;124;43m'\u001b[39;49m\u001b[38;5;124;43mweight\u001b[39;49m\u001b[38;5;124;43m'\u001b[39;49m\u001b[43m:\u001b[49m\u001b[43m \u001b[49m\u001b[38;5;124;43m'\u001b[39;49m\u001b[38;5;124;43mweight\u001b[39;49m\u001b[38;5;124;43m'\u001b[39;49m\u001b[43m}\u001b[49m\u001b[43m)\u001b[49m\u001b[43m,\u001b[49m\n\u001b[1;32m     14\u001b[0m \u001b[43m            \u001b[49m\u001b[43m(\u001b[49m\u001b[43mnx\u001b[49m\u001b[38;5;241;43m.\u001b[39;49m\u001b[43mload_centrality\u001b[49m\u001b[43m,\u001b[49m\u001b[43m \u001b[49m\u001b[43m{\u001b[49m\u001b[43m}\u001b[49m\u001b[43m)\u001b[49m\n\u001b[1;32m     15\u001b[0m \u001b[43m        \u001b[49m\u001b[43m]\u001b[49m\u001b[43m,\u001b[49m\n\u001b[1;32m     16\u001b[0m \u001b[43m        \u001b[49m\u001b[43mN\u001b[49m\u001b[38;5;241;43m=\u001b[39;49m\u001b[38;5;241;43m2\u001b[39;49m\u001b[43m,\u001b[49m\n\u001b[1;32m     17\u001b[0m \u001b[43m        \u001b[49m\u001b[43mlevels\u001b[49m\u001b[38;5;241;43m=\u001b[39;49m\u001b[43mnp\u001b[49m\u001b[38;5;241;43m.\u001b[39;49m\u001b[43marange\u001b[49m\u001b[43m(\u001b[49m\u001b[38;5;241;43m.95\u001b[39;49m\u001b[43m,\u001b[49m\u001b[43m \u001b[49m\u001b[38;5;241;43m0.25\u001b[39;49m\u001b[43m,\u001b[49m\u001b[43m \u001b[49m\u001b[38;5;241;43m-\u001b[39;49m\u001b[38;5;241;43m0.05\u001b[39;49m\u001b[43m)\u001b[49m\n\u001b[1;32m     18\u001b[0m \n\u001b[1;32m     19\u001b[0m \u001b[43m    \u001b[49m\u001b[43m)\u001b[49m\n\u001b[1;32m     20\u001b[0m     \u001b[38;5;66;03m# df_ranked.to_pickle(f'data/network_analysis/stability_estimates/network_measures_ranked_bootstrapped_{index}_pred_test.pkl')\u001b[39;00m\n",
      "Cell \u001b[0;32mIn[26], line 31\u001b[0m, in \u001b[0;36mbootstrap_network_measures\u001b[0;34m(X, model, measures, N, levels)\u001b[0m\n\u001b[1;32m     29\u001b[0m bootstrap_X \u001b[38;5;241m=\u001b[39m resample(X, n_samples\u001b[38;5;241m=\u001b[39mn, replace\u001b[38;5;241m=\u001b[39m\u001b[38;5;28;01mTrue\u001b[39;00m)\n\u001b[1;32m     30\u001b[0m \u001b[38;5;28mprint\u001b[39m(\u001b[38;5;124mf\u001b[39m\u001b[38;5;124m'\u001b[39m\u001b[38;5;124mX len inside samples: \u001b[39m\u001b[38;5;132;01m{\u001b[39;00m\u001b[38;5;28mlen\u001b[39m(bootstrap_X)\u001b[38;5;132;01m}\u001b[39;00m\u001b[38;5;124m'\u001b[39m)\n\u001b[0;32m---> 31\u001b[0m G_, _ \u001b[38;5;241m=\u001b[39m \u001b[43mestimate_graph\u001b[49m\u001b[43m(\u001b[49m\u001b[43mbootstrap_X\u001b[49m\u001b[43m)\u001b[49m\n\u001b[1;32m     33\u001b[0m \u001b[38;5;28;01mfor\u001b[39;00m index, network_measure \u001b[38;5;129;01min\u001b[39;00m \u001b[38;5;28menumerate\u001b[39m(measures): \n\u001b[1;32m     34\u001b[0m     measure, measure_parameters \u001b[38;5;241m=\u001b[39m network_measure\n",
      "Cell \u001b[0;32mIn[4], line 2\u001b[0m, in \u001b[0;36mestimate_graph\u001b[0;34m(X, n_trials, score_metric, cv, threshold, alphas)\u001b[0m\n\u001b[1;32m      1\u001b[0m \u001b[38;5;28;01mdef\u001b[39;00m \u001b[38;5;21mestimate_graph\u001b[39m(X, n_trials\u001b[38;5;241m=\u001b[39m\u001b[38;5;241m1000\u001b[39m, score_metric\u001b[38;5;241m=\u001b[39m\u001b[38;5;124m\"\u001b[39m\u001b[38;5;124mlog_likelihood\u001b[39m\u001b[38;5;124m\"\u001b[39m, cv\u001b[38;5;241m=\u001b[39m\u001b[38;5;241m3\u001b[39m, threshold\u001b[38;5;241m=\u001b[39m\u001b[38;5;241m0.65\u001b[39m, alphas\u001b[38;5;241m=\u001b[39mnp\u001b[38;5;241m.\u001b[39mlinspace(\u001b[38;5;241m0.01\u001b[39m, \u001b[38;5;241m0.1\u001b[39m, \u001b[38;5;241m20\u001b[39m)):\n\u001b[0;32m----> 2\u001b[0m     precision_matrix_df \u001b[38;5;241m=\u001b[39m \u001b[43mlearn_graph_structure_adaptive_average_sklearn\u001b[49m\u001b[43m(\u001b[49m\n\u001b[1;32m      3\u001b[0m \u001b[43m            \u001b[49m\u001b[43mX\u001b[49m\u001b[43m,\u001b[49m\u001b[43m \u001b[49m\n\u001b[1;32m      4\u001b[0m \u001b[43m            \u001b[49m\u001b[43mpenalization\u001b[49m\u001b[38;5;241;43m=\u001b[39;49m\u001b[38;5;124;43m'\u001b[39;49m\u001b[38;5;124;43mrandom\u001b[39;49m\u001b[38;5;124;43m'\u001b[39;49m\u001b[43m,\u001b[49m\n\u001b[1;32m      5\u001b[0m \u001b[43m            \u001b[49m\u001b[43mn_trials\u001b[49m\u001b[38;5;241;43m=\u001b[39;49m\u001b[43mn_trials\u001b[49m\u001b[43m,\u001b[49m\n\u001b[1;32m      6\u001b[0m \u001b[43m            \u001b[49m\u001b[43mscore_metric\u001b[49m\u001b[38;5;241;43m=\u001b[39;49m\u001b[43mscore_metric\u001b[49m\u001b[43m,\u001b[49m\n\u001b[1;32m      7\u001b[0m \u001b[43m            \u001b[49m\u001b[43mcv\u001b[49m\u001b[38;5;241;43m=\u001b[39;49m\u001b[43mcv\u001b[49m\u001b[43m,\u001b[49m\n\u001b[1;32m      8\u001b[0m \u001b[43m            \u001b[49m\u001b[43mlam\u001b[49m\u001b[38;5;241;43m=\u001b[39;49m\u001b[38;5;28;43;01mNone\u001b[39;49;00m\u001b[43m,\u001b[49m\n\u001b[1;32m      9\u001b[0m \u001b[43m            \u001b[49m\u001b[43malphas\u001b[49m\u001b[38;5;241;43m=\u001b[39;49m\u001b[43malphas\u001b[49m\u001b[43m,\u001b[49m\n\u001b[1;32m     10\u001b[0m \u001b[43m            \u001b[49m\u001b[43mthreshold\u001b[49m\u001b[38;5;241;43m=\u001b[39;49m\u001b[43mthreshold\u001b[49m\u001b[43m,\u001b[49m\n\u001b[1;32m     11\u001b[0m \u001b[43m    \u001b[49m\u001b[43m)\u001b[49m\n\u001b[1;32m     13\u001b[0m     this_links \u001b[38;5;241m=\u001b[39m get_links(precision_matrix_df)\n\u001b[1;32m     14\u001b[0m     this_links[\u001b[38;5;124m'\u001b[39m\u001b[38;5;124mweight\u001b[39m\u001b[38;5;124m'\u001b[39m] \u001b[38;5;241m=\u001b[39m this_links[\u001b[38;5;124m'\u001b[39m\u001b[38;5;124mweight\u001b[39m\u001b[38;5;124m'\u001b[39m]\u001b[38;5;241m.\u001b[39mabs()\n",
      "Cell \u001b[0;32mIn[3], line 9\u001b[0m, in \u001b[0;36mlearn_graph_structure_adaptive_average_sklearn\u001b[0;34m(df, n_trials, penalization, score_metric, cv, lam, threshold, alphas)\u001b[0m\n\u001b[1;32m      6\u001b[0m X \u001b[38;5;241m-\u001b[39m\u001b[38;5;241m=\u001b[39m X\u001b[38;5;241m.\u001b[39mmean(axis\u001b[38;5;241m=\u001b[39m\u001b[38;5;241m0\u001b[39m)\n\u001b[1;32m      7\u001b[0m X \u001b[38;5;241m/\u001b[39m\u001b[38;5;241m=\u001b[39m X\u001b[38;5;241m.\u001b[39mstd(axis\u001b[38;5;241m=\u001b[39m\u001b[38;5;241m0\u001b[39m)\n\u001b[0;32m----> 9\u001b[0m prec_adaptive \u001b[38;5;241m=\u001b[39m \u001b[43madaptive_model_average_sklearn\u001b[49m\u001b[43m(\u001b[49m\n\u001b[1;32m     10\u001b[0m \u001b[43m    \u001b[49m\u001b[43mX\u001b[49m\u001b[43m,\u001b[49m\u001b[43m \u001b[49m\n\u001b[1;32m     11\u001b[0m \u001b[43m    \u001b[49m\u001b[43mpenalization\u001b[49m\u001b[38;5;241;43m=\u001b[39;49m\u001b[38;5;124;43m'\u001b[39;49m\u001b[38;5;124;43mrandom\u001b[39;49m\u001b[38;5;124;43m'\u001b[39;49m\u001b[43m,\u001b[49m\n\u001b[1;32m     12\u001b[0m \u001b[43m    \u001b[49m\u001b[43mmethod\u001b[49m\u001b[38;5;241;43m=\u001b[39;49m\u001b[38;5;124;43m'\u001b[39;49m\u001b[38;5;124;43mbinary\u001b[39;49m\u001b[38;5;124;43m'\u001b[39;49m\u001b[43m,\u001b[49m\u001b[43m \u001b[49m\n\u001b[1;32m     13\u001b[0m \u001b[43m    \u001b[49m\u001b[43mn_trials\u001b[49m\u001b[38;5;241;43m=\u001b[39;49m\u001b[43mn_trials\u001b[49m\u001b[43m,\u001b[49m\u001b[43m \u001b[49m\n\u001b[1;32m     14\u001b[0m \u001b[43m    \u001b[49m\u001b[43mmetric\u001b[49m\u001b[38;5;241;43m=\u001b[39;49m\u001b[43mscore_metric\u001b[49m\u001b[43m,\u001b[49m\n\u001b[1;32m     15\u001b[0m \u001b[43m    \u001b[49m\u001b[43msupport_thresh\u001b[49m\u001b[38;5;241;43m=\u001b[39;49m\u001b[43mthreshold\u001b[49m\u001b[43m,\u001b[49m\n\u001b[1;32m     16\u001b[0m \u001b[43m    \u001b[49m\u001b[43mcv\u001b[49m\u001b[38;5;241;43m=\u001b[39;49m\u001b[43mcv\u001b[49m\u001b[43m,\u001b[49m\n\u001b[1;32m     17\u001b[0m \u001b[43m    \u001b[49m\u001b[43mlam\u001b[49m\u001b[38;5;241;43m=\u001b[39;49m\u001b[43mlam\u001b[49m\u001b[43m,\u001b[49m\n\u001b[1;32m     18\u001b[0m \u001b[43m    \u001b[49m\u001b[43malphas\u001b[49m\u001b[38;5;241;43m=\u001b[39;49m\u001b[43malphas\u001b[49m\u001b[43m,\u001b[49m\n\u001b[1;32m     19\u001b[0m \u001b[43m\u001b[49m\u001b[43m)\u001b[49m\n\u001b[1;32m     21\u001b[0m precision_matrix_df \u001b[38;5;241m=\u001b[39m pd\u001b[38;5;241m.\u001b[39mDataFrame(prec_adaptive, columns \u001b[38;5;241m=\u001b[39m df\u001b[38;5;241m.\u001b[39mcolumns, index \u001b[38;5;241m=\u001b[39m df\u001b[38;5;241m.\u001b[39mcolumns)\n\u001b[1;32m     23\u001b[0m \u001b[38;5;28;01mreturn\u001b[39;00m precision_matrix_df\n",
      "Cell \u001b[0;32mIn[2], line 30\u001b[0m, in \u001b[0;36madaptive_model_average_sklearn\u001b[0;34m(X, method, penalization, n_trials, metric, support_thresh, cv, lam, alphas)\u001b[0m\n\u001b[1;32m     17\u001b[0m     lam \u001b[38;5;241m=\u001b[39m lam\n\u001b[1;32m     19\u001b[0m model \u001b[38;5;241m=\u001b[39m AdaptiveGraphicalLasso(\n\u001b[1;32m     20\u001b[0m     estimator\u001b[38;5;241m=\u001b[39mModelAverage(\n\u001b[1;32m     21\u001b[0m         n_trials\u001b[38;5;241m=\u001b[39mn_trials, \n\u001b[0;32m   (...)\u001b[0m\n\u001b[1;32m     28\u001b[0m     method\u001b[38;5;241m=\u001b[39mmethod,\n\u001b[1;32m     29\u001b[0m )\n\u001b[0;32m---> 30\u001b[0m \u001b[43mmodel\u001b[49m\u001b[38;5;241;43m.\u001b[39;49m\u001b[43mfit\u001b[49m\u001b[43m(\u001b[49m\u001b[43mX\u001b[49m\u001b[43m)\u001b[49m\n\u001b[1;32m     31\u001b[0m lam_norm_ \u001b[38;5;241m=\u001b[39m np\u001b[38;5;241m.\u001b[39mlinalg\u001b[38;5;241m.\u001b[39mnorm(model\u001b[38;5;241m.\u001b[39mestimator_\u001b[38;5;241m.\u001b[39mlam_)\n\u001b[1;32m     32\u001b[0m \u001b[38;5;28;01mreturn\u001b[39;00m model\u001b[38;5;241m.\u001b[39mestimator_\u001b[38;5;241m.\u001b[39mprecision_\n",
      "File \u001b[0;32m~/Work/skggm-test/venv/lib/python3.8/site-packages/inverse_covariance/adaptive_graph_lasso.py:100\u001b[0m, in \u001b[0;36mAdaptiveGraphicalLasso.fit\u001b[0;34m(self, X, y)\u001b[0m\n\u001b[1;32m     97\u001b[0m n_samples_, n_features_ \u001b[38;5;241m=\u001b[39m X\u001b[38;5;241m.\u001b[39mshape\n\u001b[1;32m     99\u001b[0m \u001b[38;5;66;03m# perform first estimate\u001b[39;00m\n\u001b[0;32m--> 100\u001b[0m \u001b[43mestimator\u001b[49m\u001b[38;5;241;43m.\u001b[39;49m\u001b[43mfit\u001b[49m\u001b[43m(\u001b[49m\u001b[43mX\u001b[49m\u001b[43m)\u001b[49m\n\u001b[1;32m    102\u001b[0m \u001b[38;5;28;01mif\u001b[39;00m \u001b[38;5;28mself\u001b[39m\u001b[38;5;241m.\u001b[39mmethod \u001b[38;5;241m==\u001b[39m \u001b[38;5;124m\"\u001b[39m\u001b[38;5;124mbinary\u001b[39m\u001b[38;5;124m\"\u001b[39m:\n\u001b[1;32m    103\u001b[0m     \u001b[38;5;66;03m# generate weights\u001b[39;00m\n\u001b[1;32m    104\u001b[0m     \u001b[38;5;28mself\u001b[39m\u001b[38;5;241m.\u001b[39mlam_ \u001b[38;5;241m=\u001b[39m \u001b[38;5;28mself\u001b[39m\u001b[38;5;241m.\u001b[39m_binary_weights(estimator)\n",
      "File \u001b[0;32m~/Work/skggm-test/venv/lib/python3.8/site-packages/inverse_covariance/model_average.py:375\u001b[0m, in \u001b[0;36mModelAverage.fit\u001b[0;34m(self, X, y)\u001b[0m\n\u001b[1;32m    372\u001b[0m indexed_param_grid \u001b[38;5;241m=\u001b[39m [(nn,) \u001b[38;5;28;01mfor\u001b[39;00m nn \u001b[38;5;129;01min\u001b[39;00m \u001b[38;5;28mrange\u001b[39m(\u001b[38;5;28mself\u001b[39m\u001b[38;5;241m.\u001b[39mn_trials)]\n\u001b[1;32m    374\u001b[0m \u001b[38;5;28;01mif\u001b[39;00m \u001b[38;5;28mself\u001b[39m\u001b[38;5;241m.\u001b[39msc \u001b[38;5;129;01mis\u001b[39;00m \u001b[38;5;28;01mNone\u001b[39;00m:\n\u001b[0;32m--> 375\u001b[0m     results \u001b[38;5;241m=\u001b[39m \u001b[43m_cpu_map\u001b[49m\u001b[43m(\u001b[49m\n\u001b[1;32m    376\u001b[0m \u001b[43m        \u001b[49m\u001b[43mpartial\u001b[49m\u001b[43m(\u001b[49m\u001b[43mfit_fun\u001b[49m\u001b[43m,\u001b[49m\u001b[43m \u001b[49m\u001b[43mX\u001b[49m\u001b[38;5;241;43m=\u001b[39;49m\u001b[43mX\u001b[49m\u001b[43m,\u001b[49m\u001b[43m \u001b[49m\u001b[43mprng\u001b[49m\u001b[38;5;241;43m=\u001b[39;49m\u001b[38;5;28;43mself\u001b[39;49m\u001b[38;5;241;43m.\u001b[39;49m\u001b[43m_prng\u001b[49m\u001b[43m)\u001b[49m\u001b[43m,\u001b[49m\n\u001b[1;32m    377\u001b[0m \u001b[43m        \u001b[49m\u001b[43mindexed_param_grid\u001b[49m\u001b[43m,\u001b[49m\n\u001b[1;32m    378\u001b[0m \u001b[43m        \u001b[49m\u001b[43mn_jobs\u001b[49m\u001b[38;5;241;43m=\u001b[39;49m\u001b[38;5;28;43mself\u001b[39;49m\u001b[38;5;241;43m.\u001b[39;49m\u001b[43mn_jobs\u001b[49m\u001b[43m,\u001b[49m\n\u001b[1;32m    379\u001b[0m \u001b[43m    \u001b[49m\u001b[43m)\u001b[49m\n\u001b[1;32m    380\u001b[0m \u001b[38;5;28;01melse\u001b[39;00m:\n\u001b[1;32m    381\u001b[0m     X_bc \u001b[38;5;241m=\u001b[39m \u001b[38;5;28mself\u001b[39m\u001b[38;5;241m.\u001b[39msc\u001b[38;5;241m.\u001b[39mbroadcast(X)\n",
      "File \u001b[0;32m~/Work/skggm-test/venv/lib/python3.8/site-packages/inverse_covariance/model_average.py:149\u001b[0m, in \u001b[0;36m_cpu_map\u001b[0;34m(fun, param_grid, n_jobs, verbose)\u001b[0m\n\u001b[1;32m    148\u001b[0m \u001b[38;5;28;01mdef\u001b[39;00m \u001b[38;5;21m_cpu_map\u001b[39m(fun, param_grid, n_jobs, verbose\u001b[38;5;241m=\u001b[39m\u001b[38;5;28;01mTrue\u001b[39;00m):\n\u001b[0;32m--> 149\u001b[0m     \u001b[38;5;28;01mreturn\u001b[39;00m \u001b[43mParallel\u001b[49m\u001b[43m(\u001b[49m\n\u001b[1;32m    150\u001b[0m \u001b[43m        \u001b[49m\u001b[43mn_jobs\u001b[49m\u001b[38;5;241;43m=\u001b[39;49m\u001b[43mn_jobs\u001b[49m\u001b[43m,\u001b[49m\n\u001b[1;32m    151\u001b[0m \u001b[43m        \u001b[49m\u001b[43mverbose\u001b[49m\u001b[38;5;241;43m=\u001b[39;49m\u001b[43mverbose\u001b[49m\u001b[43m,\u001b[49m\n\u001b[1;32m    152\u001b[0m \u001b[43m        \u001b[49m\u001b[43mbackend\u001b[49m\u001b[38;5;241;43m=\u001b[39;49m\u001b[38;5;124;43m\"\u001b[39;49m\u001b[38;5;124;43mthreading\u001b[39;49m\u001b[38;5;124;43m\"\u001b[39;49m\u001b[43m,\u001b[49m\u001b[43m  \u001b[49m\u001b[38;5;66;43;03m# any sklearn backend should work here\u001b[39;49;00m\n\u001b[1;32m    153\u001b[0m \u001b[43m    \u001b[49m\u001b[43m)\u001b[49m\u001b[43m(\u001b[49m\u001b[43mdelayed\u001b[49m\u001b[43m(\u001b[49m\u001b[43mfun\u001b[49m\u001b[43m)\u001b[49m\u001b[43m(\u001b[49m\u001b[43mparams\u001b[49m\u001b[43m)\u001b[49m\u001b[43m \u001b[49m\u001b[38;5;28;43;01mfor\u001b[39;49;00m\u001b[43m \u001b[49m\u001b[43mparams\u001b[49m\u001b[43m \u001b[49m\u001b[38;5;129;43;01min\u001b[39;49;00m\u001b[43m \u001b[49m\u001b[43mparam_grid\u001b[49m\u001b[43m)\u001b[49m\n",
      "File \u001b[0;32m~/Work/skggm-test/venv/lib/python3.8/site-packages/joblib/parallel.py:1098\u001b[0m, in \u001b[0;36mParallel.__call__\u001b[0;34m(self, iterable)\u001b[0m\n\u001b[1;32m   1095\u001b[0m     \u001b[38;5;28mself\u001b[39m\u001b[38;5;241m.\u001b[39m_iterating \u001b[38;5;241m=\u001b[39m \u001b[38;5;28;01mFalse\u001b[39;00m\n\u001b[1;32m   1097\u001b[0m \u001b[38;5;28;01mwith\u001b[39;00m \u001b[38;5;28mself\u001b[39m\u001b[38;5;241m.\u001b[39m_backend\u001b[38;5;241m.\u001b[39mretrieval_context():\n\u001b[0;32m-> 1098\u001b[0m     \u001b[38;5;28;43mself\u001b[39;49m\u001b[38;5;241;43m.\u001b[39;49m\u001b[43mretrieve\u001b[49m\u001b[43m(\u001b[49m\u001b[43m)\u001b[49m\n\u001b[1;32m   1099\u001b[0m \u001b[38;5;66;03m# Make sure that we get a last message telling us we are done\u001b[39;00m\n\u001b[1;32m   1100\u001b[0m elapsed_time \u001b[38;5;241m=\u001b[39m time\u001b[38;5;241m.\u001b[39mtime() \u001b[38;5;241m-\u001b[39m \u001b[38;5;28mself\u001b[39m\u001b[38;5;241m.\u001b[39m_start_time\n",
      "File \u001b[0;32m~/Work/skggm-test/venv/lib/python3.8/site-packages/joblib/parallel.py:975\u001b[0m, in \u001b[0;36mParallel.retrieve\u001b[0;34m(self)\u001b[0m\n\u001b[1;32m    973\u001b[0m \u001b[38;5;28;01mtry\u001b[39;00m:\n\u001b[1;32m    974\u001b[0m     \u001b[38;5;28;01mif\u001b[39;00m \u001b[38;5;28mgetattr\u001b[39m(\u001b[38;5;28mself\u001b[39m\u001b[38;5;241m.\u001b[39m_backend, \u001b[38;5;124m'\u001b[39m\u001b[38;5;124msupports_timeout\u001b[39m\u001b[38;5;124m'\u001b[39m, \u001b[38;5;28;01mFalse\u001b[39;00m):\n\u001b[0;32m--> 975\u001b[0m         \u001b[38;5;28mself\u001b[39m\u001b[38;5;241m.\u001b[39m_output\u001b[38;5;241m.\u001b[39mextend(\u001b[43mjob\u001b[49m\u001b[38;5;241;43m.\u001b[39;49m\u001b[43mget\u001b[49m\u001b[43m(\u001b[49m\u001b[43mtimeout\u001b[49m\u001b[38;5;241;43m=\u001b[39;49m\u001b[38;5;28;43mself\u001b[39;49m\u001b[38;5;241;43m.\u001b[39;49m\u001b[43mtimeout\u001b[49m\u001b[43m)\u001b[49m)\n\u001b[1;32m    976\u001b[0m     \u001b[38;5;28;01melse\u001b[39;00m:\n\u001b[1;32m    977\u001b[0m         \u001b[38;5;28mself\u001b[39m\u001b[38;5;241m.\u001b[39m_output\u001b[38;5;241m.\u001b[39mextend(job\u001b[38;5;241m.\u001b[39mget())\n",
      "File \u001b[0;32m/usr/lib/python3.8/multiprocessing/pool.py:765\u001b[0m, in \u001b[0;36mApplyResult.get\u001b[0;34m(self, timeout)\u001b[0m\n\u001b[1;32m    764\u001b[0m \u001b[38;5;28;01mdef\u001b[39;00m \u001b[38;5;21mget\u001b[39m(\u001b[38;5;28mself\u001b[39m, timeout\u001b[38;5;241m=\u001b[39m\u001b[38;5;28;01mNone\u001b[39;00m):\n\u001b[0;32m--> 765\u001b[0m     \u001b[38;5;28;43mself\u001b[39;49m\u001b[38;5;241;43m.\u001b[39;49m\u001b[43mwait\u001b[49m\u001b[43m(\u001b[49m\u001b[43mtimeout\u001b[49m\u001b[43m)\u001b[49m\n\u001b[1;32m    766\u001b[0m     \u001b[38;5;28;01mif\u001b[39;00m \u001b[38;5;129;01mnot\u001b[39;00m \u001b[38;5;28mself\u001b[39m\u001b[38;5;241m.\u001b[39mready():\n\u001b[1;32m    767\u001b[0m         \u001b[38;5;28;01mraise\u001b[39;00m \u001b[38;5;167;01mTimeoutError\u001b[39;00m\n",
      "File \u001b[0;32m/usr/lib/python3.8/multiprocessing/pool.py:762\u001b[0m, in \u001b[0;36mApplyResult.wait\u001b[0;34m(self, timeout)\u001b[0m\n\u001b[1;32m    761\u001b[0m \u001b[38;5;28;01mdef\u001b[39;00m \u001b[38;5;21mwait\u001b[39m(\u001b[38;5;28mself\u001b[39m, timeout\u001b[38;5;241m=\u001b[39m\u001b[38;5;28;01mNone\u001b[39;00m):\n\u001b[0;32m--> 762\u001b[0m     \u001b[38;5;28;43mself\u001b[39;49m\u001b[38;5;241;43m.\u001b[39;49m\u001b[43m_event\u001b[49m\u001b[38;5;241;43m.\u001b[39;49m\u001b[43mwait\u001b[49m\u001b[43m(\u001b[49m\u001b[43mtimeout\u001b[49m\u001b[43m)\u001b[49m\n",
      "File \u001b[0;32m/usr/lib/python3.8/threading.py:558\u001b[0m, in \u001b[0;36mEvent.wait\u001b[0;34m(self, timeout)\u001b[0m\n\u001b[1;32m    556\u001b[0m signaled \u001b[38;5;241m=\u001b[39m \u001b[38;5;28mself\u001b[39m\u001b[38;5;241m.\u001b[39m_flag\n\u001b[1;32m    557\u001b[0m \u001b[38;5;28;01mif\u001b[39;00m \u001b[38;5;129;01mnot\u001b[39;00m signaled:\n\u001b[0;32m--> 558\u001b[0m     signaled \u001b[38;5;241m=\u001b[39m \u001b[38;5;28;43mself\u001b[39;49m\u001b[38;5;241;43m.\u001b[39;49m\u001b[43m_cond\u001b[49m\u001b[38;5;241;43m.\u001b[39;49m\u001b[43mwait\u001b[49m\u001b[43m(\u001b[49m\u001b[43mtimeout\u001b[49m\u001b[43m)\u001b[49m\n\u001b[1;32m    559\u001b[0m \u001b[38;5;28;01mreturn\u001b[39;00m signaled\n",
      "File \u001b[0;32m/usr/lib/python3.8/threading.py:302\u001b[0m, in \u001b[0;36mCondition.wait\u001b[0;34m(self, timeout)\u001b[0m\n\u001b[1;32m    300\u001b[0m \u001b[38;5;28;01mtry\u001b[39;00m:    \u001b[38;5;66;03m# restore state no matter what (e.g., KeyboardInterrupt)\u001b[39;00m\n\u001b[1;32m    301\u001b[0m     \u001b[38;5;28;01mif\u001b[39;00m timeout \u001b[38;5;129;01mis\u001b[39;00m \u001b[38;5;28;01mNone\u001b[39;00m:\n\u001b[0;32m--> 302\u001b[0m         \u001b[43mwaiter\u001b[49m\u001b[38;5;241;43m.\u001b[39;49m\u001b[43macquire\u001b[49m\u001b[43m(\u001b[49m\u001b[43m)\u001b[49m\n\u001b[1;32m    303\u001b[0m         gotit \u001b[38;5;241m=\u001b[39m \u001b[38;5;28;01mTrue\u001b[39;00m\n\u001b[1;32m    304\u001b[0m     \u001b[38;5;28;01melse\u001b[39;00m:\n",
      "\u001b[0;31mKeyboardInterrupt\u001b[0m: "
     ]
    }
   ],
   "source": [
    "logging.getLogger().setLevel(logging.INFO)\n",
    "\n",
    "for index, (dataset_train, dataset_test) in enumerate(zip(datasets, test_datasets)):\n",
    "\n",
    "    df_ranked = bootstrap_network_measures(\n",
    "        X = dataset_train,\n",
    "        measures = [\n",
    "            (calculate_nodes_predictability, {'X': dataset_test}), \n",
    "            (nx.degree_centrality, {}),\n",
    "            (nx.closeness_centrality, {}),\n",
    "            (nx.current_flow_closeness_centrality, {'weight': 'weight'}),\n",
    "            (nx.betweenness_centrality, {'weight': 'weight'}),\n",
    "            (nx.current_flow_betweenness_centrality, {'weight': 'weight'}),\n",
    "            (nx.load_centrality, {})\n",
    "        ],\n",
    "        N=2,\n",
    "        levels=np.arange(.95, 0.25, -0.05)\n",
    "\n",
    "    )\n",
    "    # df_ranked.to_pickle(f'data/network_analysis/stability_estimates/network_measures_ranked_bootstrapped_{index}_pred_test.pkl')"
   ]
  },
  {
   "cell_type": "code",
   "execution_count": null,
   "id": "388e3049-a535-43a4-b0b1-2a00c193f4fd",
   "metadata": {},
   "outputs": [],
   "source": []
  }
 ],
 "metadata": {
  "kernelspec": {
   "display_name": "skggmtest",
   "language": "python",
   "name": "skggmtest"
  },
  "language_info": {
   "codemirror_mode": {
    "name": "ipython",
    "version": 3
   },
   "file_extension": ".py",
   "mimetype": "text/x-python",
   "name": "python",
   "nbconvert_exporter": "python",
   "pygments_lexer": "ipython3",
   "version": "3.8.10"
  }
 },
 "nbformat": 4,
 "nbformat_minor": 5
}
